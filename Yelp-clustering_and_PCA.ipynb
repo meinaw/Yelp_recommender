{
 "cells": [
  {
   "cell_type": "markdown",
   "metadata": {},
   "source": [
    "# Yelp Data Challenge - Clustering and PCA\n",
    "Meina Wang\n",
    "\n",
    "Mar 2018"
   ]
  },
  {
   "cell_type": "code",
   "execution_count": 1,
   "metadata": {},
   "outputs": [],
   "source": [
    "import pandas as pd\n",
    "import numpy as np\n",
    "import matplotlib.pyplot as plt\n",
    "% matplotlib inline\n",
    "plt.style.use(\"ggplot\")"
   ]
  },
  {
   "cell_type": "code",
   "execution_count": 2,
   "metadata": {},
   "outputs": [],
   "source": [
    "df = pd.read_csv('dataset/last_1_years_restaurant_reviews.csv')"
   ]
  },
  {
   "cell_type": "code",
   "execution_count": 3,
   "metadata": {},
   "outputs": [
    {
     "data": {
      "text/html": [
       "<div>\n",
       "<style scoped>\n",
       "    .dataframe tbody tr th:only-of-type {\n",
       "        vertical-align: middle;\n",
       "    }\n",
       "\n",
       "    .dataframe tbody tr th {\n",
       "        vertical-align: top;\n",
       "    }\n",
       "\n",
       "    .dataframe thead th {\n",
       "        text-align: right;\n",
       "    }\n",
       "</style>\n",
       "<table border=\"1\" class=\"dataframe\">\n",
       "  <thead>\n",
       "    <tr style=\"text-align: right;\">\n",
       "      <th></th>\n",
       "      <th>business_id</th>\n",
       "      <th>name</th>\n",
       "      <th>categories</th>\n",
       "      <th>avg_stars</th>\n",
       "      <th>cool</th>\n",
       "      <th>date</th>\n",
       "      <th>funny</th>\n",
       "      <th>review_id</th>\n",
       "      <th>stars</th>\n",
       "      <th>text</th>\n",
       "      <th>useful</th>\n",
       "      <th>user_id</th>\n",
       "    </tr>\n",
       "  </thead>\n",
       "  <tbody>\n",
       "    <tr>\n",
       "      <th>0</th>\n",
       "      <td>--9e1ONYQuAa-CB_Rrw7Tw</td>\n",
       "      <td>Delmonico Steakhouse</td>\n",
       "      <td>[Cajun/Creole, Steakhouses, Restaurants]</td>\n",
       "      <td>4.0</td>\n",
       "      <td>0</td>\n",
       "      <td>2017-02-14</td>\n",
       "      <td>0</td>\n",
       "      <td>Xp3ppynEvVu1KxDHQ3ae8w</td>\n",
       "      <td>5</td>\n",
       "      <td>Delmonico Steakhouse is a steakhouse owned by ...</td>\n",
       "      <td>0</td>\n",
       "      <td>KC8H7qTZVPIEnanw9fG43g</td>\n",
       "    </tr>\n",
       "    <tr>\n",
       "      <th>1</th>\n",
       "      <td>--9e1ONYQuAa-CB_Rrw7Tw</td>\n",
       "      <td>Delmonico Steakhouse</td>\n",
       "      <td>[Cajun/Creole, Steakhouses, Restaurants]</td>\n",
       "      <td>4.0</td>\n",
       "      <td>1</td>\n",
       "      <td>2017-05-28</td>\n",
       "      <td>0</td>\n",
       "      <td>LEzphAnz0vKE32PUCbjLgQ</td>\n",
       "      <td>4</td>\n",
       "      <td>One of the top steak places I've had in Vegas ...</td>\n",
       "      <td>2</td>\n",
       "      <td>3RTesI_MAwct13LWm4rhLw</td>\n",
       "    </tr>\n",
       "    <tr>\n",
       "      <th>2</th>\n",
       "      <td>--9e1ONYQuAa-CB_Rrw7Tw</td>\n",
       "      <td>Delmonico Steakhouse</td>\n",
       "      <td>[Cajun/Creole, Steakhouses, Restaurants]</td>\n",
       "      <td>4.0</td>\n",
       "      <td>0</td>\n",
       "      <td>2017-08-25</td>\n",
       "      <td>0</td>\n",
       "      <td>4e-cxYVdlIu2ZDxVJqUfOQ</td>\n",
       "      <td>5</td>\n",
       "      <td>This place is superb from the customer service...</td>\n",
       "      <td>0</td>\n",
       "      <td>EAOt1UQhJD0GG3l_jv7rWA</td>\n",
       "    </tr>\n",
       "    <tr>\n",
       "      <th>3</th>\n",
       "      <td>--9e1ONYQuAa-CB_Rrw7Tw</td>\n",
       "      <td>Delmonico Steakhouse</td>\n",
       "      <td>[Cajun/Creole, Steakhouses, Restaurants]</td>\n",
       "      <td>4.0</td>\n",
       "      <td>1</td>\n",
       "      <td>2017-02-12</td>\n",
       "      <td>1</td>\n",
       "      <td>heZd0W3HuPJxZBrCYD3wDw</td>\n",
       "      <td>2</td>\n",
       "      <td>Lousy steak. \\n\\nThe service was great - Todd,...</td>\n",
       "      <td>3</td>\n",
       "      <td>OtKA03ALQQ1CBhtaJod_Jw</td>\n",
       "    </tr>\n",
       "    <tr>\n",
       "      <th>4</th>\n",
       "      <td>--9e1ONYQuAa-CB_Rrw7Tw</td>\n",
       "      <td>Delmonico Steakhouse</td>\n",
       "      <td>[Cajun/Creole, Steakhouses, Restaurants]</td>\n",
       "      <td>4.0</td>\n",
       "      <td>0</td>\n",
       "      <td>2017-12-10</td>\n",
       "      <td>0</td>\n",
       "      <td>exzXjy7Y2ICX_BEVTDWpJA</td>\n",
       "      <td>5</td>\n",
       "      <td>I got the filet mignon with seared foigras and...</td>\n",
       "      <td>0</td>\n",
       "      <td>Ymtd4cQypep_QZJ-qJsHuA</td>\n",
       "    </tr>\n",
       "  </tbody>\n",
       "</table>\n",
       "</div>"
      ],
      "text/plain": [
       "              business_id                  name  \\\n",
       "0  --9e1ONYQuAa-CB_Rrw7Tw  Delmonico Steakhouse   \n",
       "1  --9e1ONYQuAa-CB_Rrw7Tw  Delmonico Steakhouse   \n",
       "2  --9e1ONYQuAa-CB_Rrw7Tw  Delmonico Steakhouse   \n",
       "3  --9e1ONYQuAa-CB_Rrw7Tw  Delmonico Steakhouse   \n",
       "4  --9e1ONYQuAa-CB_Rrw7Tw  Delmonico Steakhouse   \n",
       "\n",
       "                                 categories  avg_stars  cool        date  \\\n",
       "0  [Cajun/Creole, Steakhouses, Restaurants]        4.0     0  2017-02-14   \n",
       "1  [Cajun/Creole, Steakhouses, Restaurants]        4.0     1  2017-05-28   \n",
       "2  [Cajun/Creole, Steakhouses, Restaurants]        4.0     0  2017-08-25   \n",
       "3  [Cajun/Creole, Steakhouses, Restaurants]        4.0     1  2017-02-12   \n",
       "4  [Cajun/Creole, Steakhouses, Restaurants]        4.0     0  2017-12-10   \n",
       "\n",
       "   funny               review_id  stars  \\\n",
       "0      0  Xp3ppynEvVu1KxDHQ3ae8w      5   \n",
       "1      0  LEzphAnz0vKE32PUCbjLgQ      4   \n",
       "2      0  4e-cxYVdlIu2ZDxVJqUfOQ      5   \n",
       "3      1  heZd0W3HuPJxZBrCYD3wDw      2   \n",
       "4      0  exzXjy7Y2ICX_BEVTDWpJA      5   \n",
       "\n",
       "                                                text  useful  \\\n",
       "0  Delmonico Steakhouse is a steakhouse owned by ...       0   \n",
       "1  One of the top steak places I've had in Vegas ...       2   \n",
       "2  This place is superb from the customer service...       0   \n",
       "3  Lousy steak. \\n\\nThe service was great - Todd,...       3   \n",
       "4  I got the filet mignon with seared foigras and...       0   \n",
       "\n",
       "                  user_id  \n",
       "0  KC8H7qTZVPIEnanw9fG43g  \n",
       "1  3RTesI_MAwct13LWm4rhLw  \n",
       "2  EAOt1UQhJD0GG3l_jv7rWA  \n",
       "3  OtKA03ALQQ1CBhtaJod_Jw  \n",
       "4  Ymtd4cQypep_QZJ-qJsHuA  "
      ]
     },
     "execution_count": 3,
     "metadata": {},
     "output_type": "execute_result"
    }
   ],
   "source": [
    "df.head()"
   ]
  },
  {
   "cell_type": "markdown",
   "metadata": {},
   "source": [
    "## 1. Cluster the review text data for all the restaurants"
   ]
  },
  {
   "cell_type": "markdown",
   "metadata": {},
   "source": [
    "### Define feature variables - text of the review"
   ]
  },
  {
   "cell_type": "code",
   "execution_count": 4,
   "metadata": {},
   "outputs": [],
   "source": [
    "# Take the values of the column that contains review text data, save to a variable named \"documents\"\n",
    "documents = df['text'].values"
   ]
  },
  {
   "cell_type": "markdown",
   "metadata": {},
   "source": [
    "### Define target variable - rating"
   ]
  },
  {
   "cell_type": "code",
   "execution_count": 5,
   "metadata": {},
   "outputs": [],
   "source": [
    "# Make a column and take the values, save to a variable named \"target\"\n",
    "df['favorable'] = (df['stars'] > 4)\n",
    "target = df['favorable'].values"
   ]
  },
  {
   "cell_type": "code",
   "execution_count": 6,
   "metadata": {},
   "outputs": [
    {
     "data": {
      "text/plain": [
       "0.49041002371746206"
      ]
     },
     "execution_count": 6,
     "metadata": {},
     "output_type": "execute_result"
    }
   ],
   "source": [
    "target.mean()"
   ]
  },
  {
   "cell_type": "markdown",
   "metadata": {},
   "source": [
    "### Create training dataset and test dataset"
   ]
  },
  {
   "cell_type": "code",
   "execution_count": 7,
   "metadata": {},
   "outputs": [
    {
     "name": "stderr",
     "output_type": "stream",
     "text": [
      "/Users/meinawang/anaconda2/lib/python2.7/site-packages/sklearn/cross_validation.py:41: DeprecationWarning: This module was deprecated in version 0.18 in favor of the model_selection module into which all the refactored classes and functions are moved. Also note that the interface of the new CV iterators are different from that of this module. This module will be removed in 0.20.\n",
      "  \"This module will be removed in 0.20.\", DeprecationWarning)\n"
     ]
    }
   ],
   "source": [
    "from sklearn.cross_validation import train_test_split"
   ]
  },
  {
   "cell_type": "code",
   "execution_count": 8,
   "metadata": {},
   "outputs": [],
   "source": [
    "documents_train, documents_test, target_train, target_test = train_test_split(\n",
    "    documents,\n",
    "    target,\n",
    "    test_size = 0.3,\n",
    "    random_state = 7\n",
    ")"
   ]
  },
  {
   "cell_type": "markdown",
   "metadata": {},
   "source": [
    "### Get NLP representation of the documents\n",
    "\n",
    "#### Fit TfidfVectorizer with training data only, then tranform all the data to tf-idf"
   ]
  },
  {
   "cell_type": "code",
   "execution_count": 9,
   "metadata": {},
   "outputs": [],
   "source": [
    "from sklearn.feature_extraction.text import TfidfVectorizer"
   ]
  },
  {
   "cell_type": "code",
   "execution_count": 10,
   "metadata": {},
   "outputs": [],
   "source": [
    "# Create TfidfVectorizer, choose max_features\n",
    "vectorizer = TfidfVectorizer(stop_words='english', max_features=5000)"
   ]
  },
  {
   "cell_type": "code",
   "execution_count": 11,
   "metadata": {},
   "outputs": [],
   "source": [
    "# Train the model with training data\n",
    "vectors_train = vectorizer.fit_transform(documents_train).toarray()"
   ]
  },
  {
   "cell_type": "code",
   "execution_count": 12,
   "metadata": {},
   "outputs": [],
   "source": [
    "# Get the vocab of tfidf\n",
    "words = vectorizer.get_feature_names()"
   ]
  },
  {
   "cell_type": "code",
   "execution_count": 13,
   "metadata": {},
   "outputs": [],
   "source": [
    "# Use the trained model to transform all the reviews\n",
    "vectors_documents = vectorizer.transform(documents).toarray()"
   ]
  },
  {
   "cell_type": "markdown",
   "metadata": {},
   "source": [
    "### Cluster reviews with KMeans"
   ]
  },
  {
   "cell_type": "markdown",
   "metadata": {},
   "source": [
    "#### Fit k-means clustering with the training vectors and apply it on all the data"
   ]
  },
  {
   "cell_type": "code",
   "execution_count": 14,
   "metadata": {},
   "outputs": [
    {
     "data": {
      "text/plain": [
       "KMeans(algorithm='auto', copy_x=True, init='k-means++', max_iter=300,\n",
       "    n_clusters=8, n_init=10, n_jobs=1, precompute_distances='auto',\n",
       "    random_state=42, tol=0.0001, verbose=0)"
      ]
     },
     "execution_count": 14,
     "metadata": {},
     "output_type": "execute_result"
    }
   ],
   "source": [
    "from sklearn.cluster import KMeans\n",
    "kmeans = KMeans(random_state=42) # default n_clusters = 8\n",
    "kmeans.fit(vectors_train)"
   ]
  },
  {
   "cell_type": "markdown",
   "metadata": {},
   "source": [
    "#### Make predictions on all data"
   ]
  },
  {
   "cell_type": "code",
   "execution_count": 15,
   "metadata": {},
   "outputs": [],
   "source": [
    "assigned_cluster = kmeans.predict(vectors_documents)"
   ]
  },
  {
   "cell_type": "code",
   "execution_count": 16,
   "metadata": {},
   "outputs": [
    {
     "name": "stdout",
     "output_type": "stream",
     "text": [
      "[0 0 4 ... 6 6 0]\n"
     ]
    }
   ],
   "source": [
    "print assigned_cluster"
   ]
  },
  {
   "cell_type": "markdown",
   "metadata": {},
   "source": [
    "#### Inspect the centroids\n",
    "Print out the centroids of the Kmeans clustering."
   ]
  },
  {
   "cell_type": "code",
   "execution_count": 17,
   "metadata": {},
   "outputs": [
    {
     "name": "stdout",
     "output_type": "stream",
     "text": [
      "[[ 1.75576451e-03  1.23254775e-04  1.70663184e-04 ...  7.48527422e-04\n",
      "   1.25524531e-04  4.85477851e-04]\n",
      " [ 1.73576566e-03 -1.02186055e-17  2.83105420e-04 ...  4.01777446e-04\n",
      "   7.32492374e-05  1.01421188e-04]\n",
      " [ 1.72873858e-03  7.85323813e-05  1.48827726e-04 ...  7.68178974e-04\n",
      "   2.18822761e-04  1.02217040e-03]\n",
      " ...\n",
      " [ 3.52728662e-03  1.60250561e-04  6.70462259e-04 ...  3.12978808e-03\n",
      "   1.30562759e-04  3.28387652e-04]\n",
      " [ 2.42713448e-03 -4.35036122e-18  1.36818824e-04 ...  7.61202689e-04\n",
      "   1.66805038e-04  2.23270837e-04]\n",
      " [ 2.52446756e-03  3.02060448e-04  1.85210220e-04 ...  7.06779883e-04\n",
      "   5.21831477e-05  2.03249454e-03]]\n"
     ]
    }
   ],
   "source": [
    "print kmeans.cluster_centers_"
   ]
  },
  {
   "cell_type": "markdown",
   "metadata": {},
   "source": [
    "Above shown are just vectors.  To make any sense of them, I map these vectors back into our 'word space'.  \n",
    "\n",
    "Each feature/dimension of the centroid vector as representing the \"average\" review or the average occurances of words for that cluster."
   ]
  },
  {
   "cell_type": "markdown",
   "metadata": {},
   "source": [
    "#### Find the top 10 features for each cluster.\n",
    "For topics we are only really interested in the most present words, i.e. features/dimensions with the greatest representation in the centroid.  Print out the top ten words for each centroid.\n",
    "\n",
    "* Sort each centroid vector to find the top 10 features\n",
    "* Go back to your vectorizer object to find out what words each of these features corresponds to.\n"
   ]
  },
  {
   "cell_type": "code",
   "execution_count": 18,
   "metadata": {},
   "outputs": [],
   "source": [
    "n = 10\n",
    "top_centroids = kmeans.cluster_centers_.argsort()[:,-1:-n:-1]"
   ]
  },
  {
   "cell_type": "code",
   "execution_count": 19,
   "metadata": {},
   "outputs": [
    {
     "name": "stdout",
     "output_type": "stream",
     "text": [
      "top features for each cluster:\n",
      "(0, u'good,food,place,vegas,best,service,like,delicious,really')\n",
      "(1, u'sushi,rolls,place,roll,ayce,good,great,fresh,service')\n",
      "(2, u'chicken,good,rice,fried,food,place,ordered,thai,ramen')\n",
      "(3, u'pizza,crust,good,place,great,cheese,slice,order,best')\n",
      "(4, u'great,food,service,place,amazing,good,friendly,definitely,staff')\n",
      "(5, u'order,food,minutes,time,service,just,came,didn,said')\n",
      "(6, u'tacos,taco,asada,carne,good,food,pastor,place,salsa')\n",
      "(7, u'burger,fries,burgers,good,place,cheese,shake,food,great')\n"
     ]
    }
   ],
   "source": [
    "print \"top features for each cluster:\"\n",
    "for num, centroid in enumerate(top_centroids):\n",
    "    print (num,\",\".join(words[i] for i in centroid))"
   ]
  },
  {
   "cell_type": "markdown",
   "metadata": {},
   "source": [
    "#### Try different k\n",
    "Try set k to a different number, how would the top features change?"
   ]
  },
  {
   "cell_type": "code",
   "execution_count": 20,
   "metadata": {},
   "outputs": [
    {
     "data": {
      "text/plain": [
       "KMeans(algorithm='auto', copy_x=True, init='k-means++', max_iter=300,\n",
       "    n_clusters=6, n_init=10, n_jobs=1, precompute_distances='auto',\n",
       "    random_state=42, tol=0.0001, verbose=0)"
      ]
     },
     "execution_count": 20,
     "metadata": {},
     "output_type": "execute_result"
    }
   ],
   "source": [
    "kmeans = KMeans(n_clusters=6, random_state=42)\n",
    "kmeans.fit(vectors_train)"
   ]
  },
  {
   "cell_type": "code",
   "execution_count": 21,
   "metadata": {},
   "outputs": [],
   "source": [
    "assigned_cluster = kmeans.predict(vectors_documents)"
   ]
  },
  {
   "cell_type": "code",
   "execution_count": 22,
   "metadata": {},
   "outputs": [
    {
     "name": "stdout",
     "output_type": "stream",
     "text": [
      "top features for each cluster:\n",
      "(0, u'pizza,crust,good,place,great,cheese,slice,order,ordered')\n",
      "(1, u'great,food,service,place,good,amazing,definitely,friendly,atmosphere')\n",
      "(2, u'food,order,time,service,minutes,just,came,didn,like')\n",
      "(3, u'burger,fries,burgers,good,place,cheese,shake,food,great')\n",
      "(4, u'place,food,best,amazing,vegas,love,service,sushi,delicious')\n",
      "(5, u'good,food,chicken,like,place,really,ordered,just,service')\n"
     ]
    }
   ],
   "source": [
    "n = 10\n",
    "top_centroids = kmeans.cluster_centers_.argsort()[:,-1:-n:-1]\n",
    "print \"top features for each cluster:\"\n",
    "for num, centroid in enumerate(top_centroids):\n",
    "    print (num,\",\".join(words[i] for i in centroid))"
   ]
  },
  {
   "cell_type": "markdown",
   "metadata": {},
   "source": [
    "#### Print out the rating and review of a random sample of the reviews assigned to each cluster to get a sense of the cluster."
   ]
  },
  {
   "cell_type": "code",
   "execution_count": 23,
   "metadata": {},
   "outputs": [
    {
     "data": {
      "text/plain": [
       "array([0, 1, 2, 3, 4, 5], dtype=int32)"
      ]
     },
     "execution_count": 23,
     "metadata": {},
     "output_type": "execute_result"
    }
   ],
   "source": [
    "np.unique(assigned_cluster)"
   ]
  },
  {
   "cell_type": "code",
   "execution_count": 24,
   "metadata": {},
   "outputs": [
    {
     "name": "stdout",
     "output_type": "stream",
     "text": [
      "==========\n",
      "Cluster 0:\n",
      "5 I popped into Pisa Pizza tonight for a quick slice and I have to say I was pleasantly surprised. Im usually a NY style thin crust kinda girl, but their dough is just tooooooooo good !! Great location on the strip. I will definitely stop by here again !\n",
      "5 It was a delicious meal! Went here after hiking to one of the many peaks of red rock. We ordered a large meat pizza for four and we took 4 1/2 slices home. Pizza was definitely worth the price! The only downside was that we had to use the restroom next door. But I think this place gets more of a delivery and or takeout kind of place :) but definitely recommend this place to anyone who wants yummy pizza!\n",
      "\n",
      "==========\n",
      "Cluster 1:\n",
      "5 Even though this spot is relatively new, I wouldn't hesitate to call it one of the city's finest. Everything is fresh and delicious as well as reasonably priced. The staff is very friendly and helpful, and some of the views from the outside patio are great. The service was excellent. Can't wait to make a return trip.\n",
      "5 This place is great!!\n",
      "The food is delicious and the presentations are beautiful. The atmosphere is amazing, right across from Bellagio fountain. Great view! The staff is super professional and courteous.\n",
      "\n",
      "==========\n",
      "Cluster 2:\n",
      "4 Consistency in here is off. Come early to beat the line but sometimes they aren't ready for your order. I like veggies (it's on the menu) and they don't always have them made. When they do its on point. \n",
      "Same ingredients just customer service sets each location.\n",
      "1 I live right down the street and go often that the regular employees recognize me. Today I went for a quick dinner for my family during rush hour. Had some newer employees ring up my card and said they couldn't take it cuz it wasn't reading. I told them they have had to punch it in before and never had an issue. The supervisor on shift said he has no authorization to do anything and they can't help me at all. Had to go down the street to get food and waste my time.\n",
      "\n",
      "==========\n",
      "Cluster 3:\n",
      "5 I love coming into Rachel's Kitchen and whenever I come in Tatiana always provides excellent service! She's attentive and has a beautiful personality! Not to mention the salads and the vegan burger are mouth-watering!! The sweet potato fries are to die for as well :)\n",
      "5 Definitely a different type of burger joint! Fusion between Japanese cuisine and burgers makes for a very interesting combination and then even more interesting selection on the menu. If you're looking for traditional burger I'd go somewhere else, this place has gourmet burgers you would've never dreamt of. We had a great meal, two very unique burger selections left your mouth drooling. The best thing about the food is combining it with a nice cold Japanese beer. The atmosphere is pretty cool too.\n",
      "\n",
      "==========\n",
      "Cluster 4:\n",
      "3 This place is nice and conveniently located on the Southwest side of Las Vegas. I ordered the pork belly moco and it was delicious! I definitely recommend it.\n",
      "I also ordered the almond joy milk tea with boba... that on the other hand I would not recommend. It has a very artificial taste and was very sweet.\n",
      "I would go back for the food though!\n",
      "5 Food is always good and fresh-the main thing here is FRESH! The menu always change and has a great verity of fresh produce. Now the COFFEE is probably the best I have ever tried( and I travel all over at least 4 times a month), their almond milk is to die for!\n",
      "\n",
      "==========\n",
      "Cluster 5:\n",
      "1 We just moved here from California, so we are trying out all the italian places to find one we like. This one came highly recommended by some local friends. Perhaps other locations would be better?\n",
      "\n",
      "Before reading this, please understand, we are a low salt intake family. So when we say it has no salt or seasoning, it means literally none.\n",
      "\n",
      "It was tasteless. Utterly bereft of seasoning. My calzone, which was supposed to be mushrooms, basil, tomato, and cheese had literally no basil in it. Not fresh, not even dry. No salt, no pepper, no seasoning AT ALL.  They just threw in the stuff and basically steam cooked it.The mushrooms and tomatoes were undercooked. The calzone was about 7 inches tall because they didnt cook it right. (hense the fillings being steamed.)\n",
      "\n",
      "I would have sent it back, but we realized it wasn't just my meal that was tasteless. My husbands pizza was mediocre at best, with, again, practically flavorless sauce. \n",
      "\n",
      "Our childs \"mac n cheese\" was just some bland gross cheese sauce poured over pasta. I am pretty sure the cheese sauce was pre packaged glop. Velveta mac n cheese has more flavor... I would say velveta has too much salt, but seriously, did they put ANY salt, pepper or seasoning of any kind in the cheese sauce? If you want to make mac n cheese the easy way, just give us the pre packaged stuff and admit it.\n",
      "\n",
      "It was so flavorless that I thought they were feeding us nursing home food. But I think even THAT would have some Italian seasoning. Honestly, does your chef even know how to cook Italian?\n",
      "\n",
      "The bread was tastey, hard to mess up bread. I ate the bread and the calzone crust with gusto.\n",
      "\n",
      " The server was excellent. Friendly and prompt. We did not complain about our meal in the restaurant because we didnt want the server to get any possible backlash. Also because we knew the lack of seasoning must be a chronic issue.\n",
      "5 Go here! Not the hala guys! They  actually use the the vertical grills to cook the meat. Much more variety and that red sauce \"like fire\" love it.\n",
      "\n"
     ]
    },
    {
     "name": "stderr",
     "output_type": "stream",
     "text": [
      "/Users/meinawang/anaconda2/lib/python2.7/site-packages/ipykernel_launcher.py:7: DeprecationWarning: \n",
      ".ix is deprecated. Please use\n",
      ".loc for label based indexing or\n",
      ".iloc for positional indexing\n",
      "\n",
      "See the documentation here:\n",
      "http://pandas.pydata.org/pandas-docs/stable/indexing.html#ix-indexer-is-deprecated\n",
      "  import sys\n"
     ]
    }
   ],
   "source": [
    "for i in range(kmeans.n_clusters):\n",
    "    cluster = np.arange(0, vectors_documents.shape[0])[assigned_cluster==i]\n",
    "    sample_reviews = np.random.choice(cluster, 2, replace=False)\n",
    "    print \"=\" * 10\n",
    "    print \"Cluster %d:\" % i\n",
    "    for review_index in sample_reviews:\n",
    "        print df.ix[review_index]['stars'],\n",
    "        print df.ix[review_index]['text']\n",
    "    print"
   ]
  },
  {
   "cell_type": "markdown",
   "metadata": {},
   "source": [
    "## 2. Cluster all the reviews of the most reviewed restaurant\n",
    "Find the most reviewed restaurant and analyze its reviews"
   ]
  },
  {
   "cell_type": "code",
   "execution_count": 25,
   "metadata": {},
   "outputs": [],
   "source": [
    "# Find the business who got most reviews, get your filtered df, name it df_top_restaurant\n",
    "most_reviewed_restaurant = df['business_id'].value_counts().index[0]"
   ]
  },
  {
   "cell_type": "code",
   "execution_count": 26,
   "metadata": {},
   "outputs": [],
   "source": [
    "df_top_restaurant = df[df['business_id'] == most_reviewed_restaurant].copy().reset_index()"
   ]
  },
  {
   "cell_type": "code",
   "execution_count": 27,
   "metadata": {},
   "outputs": [
    {
     "data": {
      "text/html": [
       "<div>\n",
       "<style scoped>\n",
       "    .dataframe tbody tr th:only-of-type {\n",
       "        vertical-align: middle;\n",
       "    }\n",
       "\n",
       "    .dataframe tbody tr th {\n",
       "        vertical-align: top;\n",
       "    }\n",
       "\n",
       "    .dataframe thead th {\n",
       "        text-align: right;\n",
       "    }\n",
       "</style>\n",
       "<table border=\"1\" class=\"dataframe\">\n",
       "  <thead>\n",
       "    <tr style=\"text-align: right;\">\n",
       "      <th></th>\n",
       "      <th>index</th>\n",
       "      <th>business_id</th>\n",
       "      <th>name</th>\n",
       "      <th>categories</th>\n",
       "      <th>avg_stars</th>\n",
       "      <th>cool</th>\n",
       "      <th>date</th>\n",
       "      <th>funny</th>\n",
       "      <th>review_id</th>\n",
       "      <th>stars</th>\n",
       "      <th>text</th>\n",
       "      <th>useful</th>\n",
       "      <th>user_id</th>\n",
       "      <th>favorable</th>\n",
       "    </tr>\n",
       "  </thead>\n",
       "  <tbody>\n",
       "    <tr>\n",
       "      <th>0</th>\n",
       "      <td>74377</td>\n",
       "      <td>RESDUcs7fIiihp38-d6_6g</td>\n",
       "      <td>Bacchanal Buffet</td>\n",
       "      <td>[Sandwiches, Buffets, Restaurants, Breakfast &amp;...</td>\n",
       "      <td>4.0</td>\n",
       "      <td>0</td>\n",
       "      <td>2017-07-02</td>\n",
       "      <td>0</td>\n",
       "      <td>Xci8QJaDOB7OazJIP9U0Cw</td>\n",
       "      <td>5</td>\n",
       "      <td>I'm staying at Caesar's Palace for 4th of July...</td>\n",
       "      <td>0</td>\n",
       "      <td>J90_7u_8vPYa03GMohNxAA</td>\n",
       "      <td>True</td>\n",
       "    </tr>\n",
       "    <tr>\n",
       "      <th>1</th>\n",
       "      <td>74378</td>\n",
       "      <td>RESDUcs7fIiihp38-d6_6g</td>\n",
       "      <td>Bacchanal Buffet</td>\n",
       "      <td>[Sandwiches, Buffets, Restaurants, Breakfast &amp;...</td>\n",
       "      <td>4.0</td>\n",
       "      <td>0</td>\n",
       "      <td>2017-04-17</td>\n",
       "      <td>0</td>\n",
       "      <td>Cvu2u-qIT1VNMywoV21ziA</td>\n",
       "      <td>5</td>\n",
       "      <td>Really loved this place! We heard great things...</td>\n",
       "      <td>0</td>\n",
       "      <td>i05OLRVJCeN3ZD1dIM2mrQ</td>\n",
       "      <td>True</td>\n",
       "    </tr>\n",
       "    <tr>\n",
       "      <th>2</th>\n",
       "      <td>74379</td>\n",
       "      <td>RESDUcs7fIiihp38-d6_6g</td>\n",
       "      <td>Bacchanal Buffet</td>\n",
       "      <td>[Sandwiches, Buffets, Restaurants, Breakfast &amp;...</td>\n",
       "      <td>4.0</td>\n",
       "      <td>0</td>\n",
       "      <td>2017-11-21</td>\n",
       "      <td>0</td>\n",
       "      <td>HwslccNX5sAKrw_rU7h5BQ</td>\n",
       "      <td>3</td>\n",
       "      <td>Very long wait. Once you pay you still have to...</td>\n",
       "      <td>0</td>\n",
       "      <td>vI1b3YI2NYYQzxKkhPx-kg</td>\n",
       "      <td>False</td>\n",
       "    </tr>\n",
       "    <tr>\n",
       "      <th>3</th>\n",
       "      <td>74380</td>\n",
       "      <td>RESDUcs7fIiihp38-d6_6g</td>\n",
       "      <td>Bacchanal Buffet</td>\n",
       "      <td>[Sandwiches, Buffets, Restaurants, Breakfast &amp;...</td>\n",
       "      <td>4.0</td>\n",
       "      <td>0</td>\n",
       "      <td>2017-07-01</td>\n",
       "      <td>0</td>\n",
       "      <td>Zy45ehOLmbOfv8OVpaJzGw</td>\n",
       "      <td>5</td>\n",
       "      <td>Everything I ate was delicious, dim sum, chick...</td>\n",
       "      <td>0</td>\n",
       "      <td>tj4f7dbf803UjDejrs7eiQ</td>\n",
       "      <td>True</td>\n",
       "    </tr>\n",
       "    <tr>\n",
       "      <th>4</th>\n",
       "      <td>74381</td>\n",
       "      <td>RESDUcs7fIiihp38-d6_6g</td>\n",
       "      <td>Bacchanal Buffet</td>\n",
       "      <td>[Sandwiches, Buffets, Restaurants, Breakfast &amp;...</td>\n",
       "      <td>4.0</td>\n",
       "      <td>0</td>\n",
       "      <td>2017-08-06</td>\n",
       "      <td>1</td>\n",
       "      <td>0jb9KV2ESl0W6mHrYk02rw</td>\n",
       "      <td>2</td>\n",
       "      <td>Not sure what the hype is about here. I have d...</td>\n",
       "      <td>0</td>\n",
       "      <td>kEGXZcG2i4IcE3A_FdMI_Q</td>\n",
       "      <td>False</td>\n",
       "    </tr>\n",
       "    <tr>\n",
       "      <th>5</th>\n",
       "      <td>74382</td>\n",
       "      <td>RESDUcs7fIiihp38-d6_6g</td>\n",
       "      <td>Bacchanal Buffet</td>\n",
       "      <td>[Sandwiches, Buffets, Restaurants, Breakfast &amp;...</td>\n",
       "      <td>4.0</td>\n",
       "      <td>0</td>\n",
       "      <td>2017-11-20</td>\n",
       "      <td>0</td>\n",
       "      <td>TIDiONXhflr4qCZXBfFMtA</td>\n",
       "      <td>1</td>\n",
       "      <td>The worst buffet I have ever had. The worst th...</td>\n",
       "      <td>0</td>\n",
       "      <td>RQhAok-F4jGkBzC4ZTxNgw</td>\n",
       "      <td>False</td>\n",
       "    </tr>\n",
       "    <tr>\n",
       "      <th>6</th>\n",
       "      <td>74383</td>\n",
       "      <td>RESDUcs7fIiihp38-d6_6g</td>\n",
       "      <td>Bacchanal Buffet</td>\n",
       "      <td>[Sandwiches, Buffets, Restaurants, Breakfast &amp;...</td>\n",
       "      <td>4.0</td>\n",
       "      <td>1</td>\n",
       "      <td>2017-05-31</td>\n",
       "      <td>0</td>\n",
       "      <td>1WRuzYwsnjMlcx2sBCJ3Pw</td>\n",
       "      <td>4</td>\n",
       "      <td>Heard lines were pretty long here and we were ...</td>\n",
       "      <td>1</td>\n",
       "      <td>3RTesI_MAwct13LWm4rhLw</td>\n",
       "      <td>False</td>\n",
       "    </tr>\n",
       "    <tr>\n",
       "      <th>7</th>\n",
       "      <td>74384</td>\n",
       "      <td>RESDUcs7fIiihp38-d6_6g</td>\n",
       "      <td>Bacchanal Buffet</td>\n",
       "      <td>[Sandwiches, Buffets, Restaurants, Breakfast &amp;...</td>\n",
       "      <td>4.0</td>\n",
       "      <td>0</td>\n",
       "      <td>2017-07-03</td>\n",
       "      <td>0</td>\n",
       "      <td>jOQSuLlaU2KOGHIDVvNeNQ</td>\n",
       "      <td>4</td>\n",
       "      <td>I've been here about 4 times now and I feel li...</td>\n",
       "      <td>1</td>\n",
       "      <td>ZajIvvSDcS7f1gsUcvJYiA</td>\n",
       "      <td>False</td>\n",
       "    </tr>\n",
       "    <tr>\n",
       "      <th>8</th>\n",
       "      <td>74385</td>\n",
       "      <td>RESDUcs7fIiihp38-d6_6g</td>\n",
       "      <td>Bacchanal Buffet</td>\n",
       "      <td>[Sandwiches, Buffets, Restaurants, Breakfast &amp;...</td>\n",
       "      <td>4.0</td>\n",
       "      <td>0</td>\n",
       "      <td>2017-03-22</td>\n",
       "      <td>0</td>\n",
       "      <td>p1IkUuRTFOnI3I27b1Sl1w</td>\n",
       "      <td>4</td>\n",
       "      <td>Didn't realize the wife and I been here twice....</td>\n",
       "      <td>0</td>\n",
       "      <td>V78AWd95_6_gEr8zq9z5AA</td>\n",
       "      <td>False</td>\n",
       "    </tr>\n",
       "    <tr>\n",
       "      <th>9</th>\n",
       "      <td>74386</td>\n",
       "      <td>RESDUcs7fIiihp38-d6_6g</td>\n",
       "      <td>Bacchanal Buffet</td>\n",
       "      <td>[Sandwiches, Buffets, Restaurants, Breakfast &amp;...</td>\n",
       "      <td>4.0</td>\n",
       "      <td>0</td>\n",
       "      <td>2017-11-25</td>\n",
       "      <td>0</td>\n",
       "      <td>4j3Poe0yXiryR0vZbS8QbQ</td>\n",
       "      <td>1</td>\n",
       "      <td>I am honestly giving this Buffet a 1 star just...</td>\n",
       "      <td>0</td>\n",
       "      <td>MpMcjmLeCF1ODE13FPkjoA</td>\n",
       "      <td>False</td>\n",
       "    </tr>\n",
       "    <tr>\n",
       "      <th>10</th>\n",
       "      <td>74387</td>\n",
       "      <td>RESDUcs7fIiihp38-d6_6g</td>\n",
       "      <td>Bacchanal Buffet</td>\n",
       "      <td>[Sandwiches, Buffets, Restaurants, Breakfast &amp;...</td>\n",
       "      <td>4.0</td>\n",
       "      <td>0</td>\n",
       "      <td>2017-09-12</td>\n",
       "      <td>0</td>\n",
       "      <td>ASm1DR82UIcfD_-Fgv9rHw</td>\n",
       "      <td>2</td>\n",
       "      <td>THIS PLACE IS NOT WORTH $65 save your money an...</td>\n",
       "      <td>0</td>\n",
       "      <td>-KTK0XcXo94GRD4aFoc0cg</td>\n",
       "      <td>False</td>\n",
       "    </tr>\n",
       "    <tr>\n",
       "      <th>11</th>\n",
       "      <td>74388</td>\n",
       "      <td>RESDUcs7fIiihp38-d6_6g</td>\n",
       "      <td>Bacchanal Buffet</td>\n",
       "      <td>[Sandwiches, Buffets, Restaurants, Breakfast &amp;...</td>\n",
       "      <td>4.0</td>\n",
       "      <td>0</td>\n",
       "      <td>2017-06-03</td>\n",
       "      <td>0</td>\n",
       "      <td>KWlsZrHpydxTnPPzJqJQRQ</td>\n",
       "      <td>5</td>\n",
       "      <td>QUALITY is the word here, pretty much better q...</td>\n",
       "      <td>0</td>\n",
       "      <td>jHKfg6Q5ZbpH_9LOHVjUkQ</td>\n",
       "      <td>True</td>\n",
       "    </tr>\n",
       "    <tr>\n",
       "      <th>12</th>\n",
       "      <td>74389</td>\n",
       "      <td>RESDUcs7fIiihp38-d6_6g</td>\n",
       "      <td>Bacchanal Buffet</td>\n",
       "      <td>[Sandwiches, Buffets, Restaurants, Breakfast &amp;...</td>\n",
       "      <td>4.0</td>\n",
       "      <td>0</td>\n",
       "      <td>2017-07-04</td>\n",
       "      <td>0</td>\n",
       "      <td>3krHp0wBPgVFSuR3UFiLrQ</td>\n",
       "      <td>2</td>\n",
       "      <td>Hubby and I visited Vegas during independence ...</td>\n",
       "      <td>0</td>\n",
       "      <td>DwFidt3afROOHsmkqTnXSA</td>\n",
       "      <td>False</td>\n",
       "    </tr>\n",
       "    <tr>\n",
       "      <th>13</th>\n",
       "      <td>74390</td>\n",
       "      <td>RESDUcs7fIiihp38-d6_6g</td>\n",
       "      <td>Bacchanal Buffet</td>\n",
       "      <td>[Sandwiches, Buffets, Restaurants, Breakfast &amp;...</td>\n",
       "      <td>4.0</td>\n",
       "      <td>0</td>\n",
       "      <td>2017-10-20</td>\n",
       "      <td>0</td>\n",
       "      <td>X8mlNrngXsKXyd9eP5Nk3g</td>\n",
       "      <td>5</td>\n",
       "      <td>Awesome Buffett!! We walked in with a party of...</td>\n",
       "      <td>0</td>\n",
       "      <td>ywia6oWdjxMl2aRlXw3MEg</td>\n",
       "      <td>True</td>\n",
       "    </tr>\n",
       "    <tr>\n",
       "      <th>14</th>\n",
       "      <td>74391</td>\n",
       "      <td>RESDUcs7fIiihp38-d6_6g</td>\n",
       "      <td>Bacchanal Buffet</td>\n",
       "      <td>[Sandwiches, Buffets, Restaurants, Breakfast &amp;...</td>\n",
       "      <td>4.0</td>\n",
       "      <td>0</td>\n",
       "      <td>2017-07-08</td>\n",
       "      <td>0</td>\n",
       "      <td>oMi5yJx_jMMjKsV5vav30w</td>\n",
       "      <td>2</td>\n",
       "      <td>There is not even one item on the buffet that ...</td>\n",
       "      <td>0</td>\n",
       "      <td>3cusv5iTGSonhQRIewnqXw</td>\n",
       "      <td>False</td>\n",
       "    </tr>\n",
       "    <tr>\n",
       "      <th>15</th>\n",
       "      <td>74392</td>\n",
       "      <td>RESDUcs7fIiihp38-d6_6g</td>\n",
       "      <td>Bacchanal Buffet</td>\n",
       "      <td>[Sandwiches, Buffets, Restaurants, Breakfast &amp;...</td>\n",
       "      <td>4.0</td>\n",
       "      <td>0</td>\n",
       "      <td>2017-10-12</td>\n",
       "      <td>1</td>\n",
       "      <td>9qRp7AY4ww58OFXbbLXltw</td>\n",
       "      <td>5</td>\n",
       "      <td>Best Buffet in Vegas! Sets itself apart from t...</td>\n",
       "      <td>1</td>\n",
       "      <td>vXgo2kXJJV2c97dNonAzqw</td>\n",
       "      <td>True</td>\n",
       "    </tr>\n",
       "    <tr>\n",
       "      <th>16</th>\n",
       "      <td>74393</td>\n",
       "      <td>RESDUcs7fIiihp38-d6_6g</td>\n",
       "      <td>Bacchanal Buffet</td>\n",
       "      <td>[Sandwiches, Buffets, Restaurants, Breakfast &amp;...</td>\n",
       "      <td>4.0</td>\n",
       "      <td>0</td>\n",
       "      <td>2017-06-11</td>\n",
       "      <td>0</td>\n",
       "      <td>10bMOHIE7BLjEpGpVSodUg</td>\n",
       "      <td>1</td>\n",
       "      <td>Cashier named MARTA was extremely rude with th...</td>\n",
       "      <td>1</td>\n",
       "      <td>K5jYQS1dJsWvCQX2OrLXBw</td>\n",
       "      <td>False</td>\n",
       "    </tr>\n",
       "    <tr>\n",
       "      <th>17</th>\n",
       "      <td>74394</td>\n",
       "      <td>RESDUcs7fIiihp38-d6_6g</td>\n",
       "      <td>Bacchanal Buffet</td>\n",
       "      <td>[Sandwiches, Buffets, Restaurants, Breakfast &amp;...</td>\n",
       "      <td>4.0</td>\n",
       "      <td>0</td>\n",
       "      <td>2017-11-13</td>\n",
       "      <td>0</td>\n",
       "      <td>pM_EJY2BFVuQMO73V1QRPQ</td>\n",
       "      <td>5</td>\n",
       "      <td>I don't frequent buffets but came here with so...</td>\n",
       "      <td>0</td>\n",
       "      <td>XD_JGWx8yjntSOw-yDyr3g</td>\n",
       "      <td>True</td>\n",
       "    </tr>\n",
       "    <tr>\n",
       "      <th>18</th>\n",
       "      <td>74395</td>\n",
       "      <td>RESDUcs7fIiihp38-d6_6g</td>\n",
       "      <td>Bacchanal Buffet</td>\n",
       "      <td>[Sandwiches, Buffets, Restaurants, Breakfast &amp;...</td>\n",
       "      <td>4.0</td>\n",
       "      <td>0</td>\n",
       "      <td>2017-06-10</td>\n",
       "      <td>0</td>\n",
       "      <td>Z1CDZt4UsDu8MzMWoXeDFw</td>\n",
       "      <td>2</td>\n",
       "      <td>Not worth it. The flavor is bland and there wa...</td>\n",
       "      <td>0</td>\n",
       "      <td>KM272ChoRWl9Jvmv2N08ZQ</td>\n",
       "      <td>False</td>\n",
       "    </tr>\n",
       "    <tr>\n",
       "      <th>19</th>\n",
       "      <td>74396</td>\n",
       "      <td>RESDUcs7fIiihp38-d6_6g</td>\n",
       "      <td>Bacchanal Buffet</td>\n",
       "      <td>[Sandwiches, Buffets, Restaurants, Breakfast &amp;...</td>\n",
       "      <td>4.0</td>\n",
       "      <td>0</td>\n",
       "      <td>2017-12-09</td>\n",
       "      <td>0</td>\n",
       "      <td>YARvyW3Wha5-LSSXltC8Vg</td>\n",
       "      <td>3</td>\n",
       "      <td>OVERRATED! Definitely not worth $60, would be ...</td>\n",
       "      <td>0</td>\n",
       "      <td>r_-Rs5DouaJPqePiZOIgiw</td>\n",
       "      <td>False</td>\n",
       "    </tr>\n",
       "    <tr>\n",
       "      <th>20</th>\n",
       "      <td>74397</td>\n",
       "      <td>RESDUcs7fIiihp38-d6_6g</td>\n",
       "      <td>Bacchanal Buffet</td>\n",
       "      <td>[Sandwiches, Buffets, Restaurants, Breakfast &amp;...</td>\n",
       "      <td>4.0</td>\n",
       "      <td>0</td>\n",
       "      <td>2017-06-24</td>\n",
       "      <td>0</td>\n",
       "      <td>FEn_rvojr5fg__UVq0rYFw</td>\n",
       "      <td>4</td>\n",
       "      <td>Best buffet ever! I went here for brunch. Seri...</td>\n",
       "      <td>2</td>\n",
       "      <td>KIyDifnT2JprVspkUH4IEg</td>\n",
       "      <td>False</td>\n",
       "    </tr>\n",
       "    <tr>\n",
       "      <th>21</th>\n",
       "      <td>74398</td>\n",
       "      <td>RESDUcs7fIiihp38-d6_6g</td>\n",
       "      <td>Bacchanal Buffet</td>\n",
       "      <td>[Sandwiches, Buffets, Restaurants, Breakfast &amp;...</td>\n",
       "      <td>4.0</td>\n",
       "      <td>0</td>\n",
       "      <td>2017-06-15</td>\n",
       "      <td>0</td>\n",
       "      <td>oxIA5EemV27FLOigWUDk1A</td>\n",
       "      <td>4</td>\n",
       "      <td>This is our first buffet ever and we went big!...</td>\n",
       "      <td>0</td>\n",
       "      <td>PW_ZGLoYi5tSetIX4qhKRg</td>\n",
       "      <td>False</td>\n",
       "    </tr>\n",
       "    <tr>\n",
       "      <th>22</th>\n",
       "      <td>74399</td>\n",
       "      <td>RESDUcs7fIiihp38-d6_6g</td>\n",
       "      <td>Bacchanal Buffet</td>\n",
       "      <td>[Sandwiches, Buffets, Restaurants, Breakfast &amp;...</td>\n",
       "      <td>4.0</td>\n",
       "      <td>0</td>\n",
       "      <td>2017-07-14</td>\n",
       "      <td>0</td>\n",
       "      <td>69W8wdZYGPxne83ol1SR_w</td>\n",
       "      <td>4</td>\n",
       "      <td>Be prepared to wait. I mean really WAIT to be ...</td>\n",
       "      <td>0</td>\n",
       "      <td>DG14N8K5Unaci_7oOKIKMA</td>\n",
       "      <td>False</td>\n",
       "    </tr>\n",
       "    <tr>\n",
       "      <th>23</th>\n",
       "      <td>74400</td>\n",
       "      <td>RESDUcs7fIiihp38-d6_6g</td>\n",
       "      <td>Bacchanal Buffet</td>\n",
       "      <td>[Sandwiches, Buffets, Restaurants, Breakfast &amp;...</td>\n",
       "      <td>4.0</td>\n",
       "      <td>0</td>\n",
       "      <td>2017-04-18</td>\n",
       "      <td>0</td>\n",
       "      <td>Essc2efpWWzpiHZuwjw5SA</td>\n",
       "      <td>2</td>\n",
       "      <td>Bacchanal for breakfast. \\n\\nDisappointing buf...</td>\n",
       "      <td>2</td>\n",
       "      <td>fyCxBOJq0MhVaF5d1GhXgQ</td>\n",
       "      <td>False</td>\n",
       "    </tr>\n",
       "    <tr>\n",
       "      <th>24</th>\n",
       "      <td>74401</td>\n",
       "      <td>RESDUcs7fIiihp38-d6_6g</td>\n",
       "      <td>Bacchanal Buffet</td>\n",
       "      <td>[Sandwiches, Buffets, Restaurants, Breakfast &amp;...</td>\n",
       "      <td>4.0</td>\n",
       "      <td>0</td>\n",
       "      <td>2017-06-11</td>\n",
       "      <td>0</td>\n",
       "      <td>-Y2kaizt2wCo4I2wiGSiqg</td>\n",
       "      <td>1</td>\n",
       "      <td>This review is strictly for server named Marib...</td>\n",
       "      <td>1</td>\n",
       "      <td>s8253e6YG43EAJOxHlgG6Q</td>\n",
       "      <td>False</td>\n",
       "    </tr>\n",
       "    <tr>\n",
       "      <th>25</th>\n",
       "      <td>74402</td>\n",
       "      <td>RESDUcs7fIiihp38-d6_6g</td>\n",
       "      <td>Bacchanal Buffet</td>\n",
       "      <td>[Sandwiches, Buffets, Restaurants, Breakfast &amp;...</td>\n",
       "      <td>4.0</td>\n",
       "      <td>0</td>\n",
       "      <td>2017-11-12</td>\n",
       "      <td>0</td>\n",
       "      <td>92qFfukjf02OLAMBUZshsA</td>\n",
       "      <td>5</td>\n",
       "      <td>Lives up to the hype.  Loved the red velvet pa...</td>\n",
       "      <td>0</td>\n",
       "      <td>_UmuTsKJ7cM75Ekzckt6uQ</td>\n",
       "      <td>True</td>\n",
       "    </tr>\n",
       "    <tr>\n",
       "      <th>26</th>\n",
       "      <td>74403</td>\n",
       "      <td>RESDUcs7fIiihp38-d6_6g</td>\n",
       "      <td>Bacchanal Buffet</td>\n",
       "      <td>[Sandwiches, Buffets, Restaurants, Breakfast &amp;...</td>\n",
       "      <td>4.0</td>\n",
       "      <td>0</td>\n",
       "      <td>2017-07-17</td>\n",
       "      <td>0</td>\n",
       "      <td>Kwr0gKaLovCkcCqgA2o1bg</td>\n",
       "      <td>5</td>\n",
       "      <td>This was probably the most kick ass buffet wit...</td>\n",
       "      <td>0</td>\n",
       "      <td>0_O2U4iivZ5McJrR9yWV6w</td>\n",
       "      <td>True</td>\n",
       "    </tr>\n",
       "    <tr>\n",
       "      <th>27</th>\n",
       "      <td>74404</td>\n",
       "      <td>RESDUcs7fIiihp38-d6_6g</td>\n",
       "      <td>Bacchanal Buffet</td>\n",
       "      <td>[Sandwiches, Buffets, Restaurants, Breakfast &amp;...</td>\n",
       "      <td>4.0</td>\n",
       "      <td>0</td>\n",
       "      <td>2017-04-22</td>\n",
       "      <td>0</td>\n",
       "      <td>c4JKrPd0SWLPJw0hbeZo-w</td>\n",
       "      <td>2</td>\n",
       "      <td>I ate here 3 years ago and I gave them 5 stars...</td>\n",
       "      <td>2</td>\n",
       "      <td>7vp1L_FfwBDDRL_haRb-ow</td>\n",
       "      <td>False</td>\n",
       "    </tr>\n",
       "    <tr>\n",
       "      <th>28</th>\n",
       "      <td>74405</td>\n",
       "      <td>RESDUcs7fIiihp38-d6_6g</td>\n",
       "      <td>Bacchanal Buffet</td>\n",
       "      <td>[Sandwiches, Buffets, Restaurants, Breakfast &amp;...</td>\n",
       "      <td>4.0</td>\n",
       "      <td>0</td>\n",
       "      <td>2017-04-04</td>\n",
       "      <td>0</td>\n",
       "      <td>o5yqYhGuprexSKa7fwTljw</td>\n",
       "      <td>4</td>\n",
       "      <td>The buffet here is like no other.  I usually d...</td>\n",
       "      <td>0</td>\n",
       "      <td>vBfNgh26Sge8jIL373UDxQ</td>\n",
       "      <td>False</td>\n",
       "    </tr>\n",
       "    <tr>\n",
       "      <th>29</th>\n",
       "      <td>74406</td>\n",
       "      <td>RESDUcs7fIiihp38-d6_6g</td>\n",
       "      <td>Bacchanal Buffet</td>\n",
       "      <td>[Sandwiches, Buffets, Restaurants, Breakfast &amp;...</td>\n",
       "      <td>4.0</td>\n",
       "      <td>0</td>\n",
       "      <td>2017-11-06</td>\n",
       "      <td>0</td>\n",
       "      <td>0ROZ8i_3HLgtm_eV99Rqeg</td>\n",
       "      <td>5</td>\n",
       "      <td>Quality buffet! Worth every penny. We went aro...</td>\n",
       "      <td>0</td>\n",
       "      <td>T6m7XxBMp4t99ovVRtG8ng</td>\n",
       "      <td>True</td>\n",
       "    </tr>\n",
       "    <tr>\n",
       "      <th>...</th>\n",
       "      <td>...</td>\n",
       "      <td>...</td>\n",
       "      <td>...</td>\n",
       "      <td>...</td>\n",
       "      <td>...</td>\n",
       "      <td>...</td>\n",
       "      <td>...</td>\n",
       "      <td>...</td>\n",
       "      <td>...</td>\n",
       "      <td>...</td>\n",
       "      <td>...</td>\n",
       "      <td>...</td>\n",
       "      <td>...</td>\n",
       "      <td>...</td>\n",
       "    </tr>\n",
       "    <tr>\n",
       "      <th>1263</th>\n",
       "      <td>75640</td>\n",
       "      <td>RESDUcs7fIiihp38-d6_6g</td>\n",
       "      <td>Bacchanal Buffet</td>\n",
       "      <td>[Sandwiches, Buffets, Restaurants, Breakfast &amp;...</td>\n",
       "      <td>4.0</td>\n",
       "      <td>0</td>\n",
       "      <td>2017-11-02</td>\n",
       "      <td>0</td>\n",
       "      <td>5HBW7GNzbNCs5HGZRzEPCg</td>\n",
       "      <td>1</td>\n",
       "      <td>Came to this buffet highly recommended by mult...</td>\n",
       "      <td>0</td>\n",
       "      <td>EOh98d9c_WNfMgSViWL-Hw</td>\n",
       "      <td>False</td>\n",
       "    </tr>\n",
       "    <tr>\n",
       "      <th>1264</th>\n",
       "      <td>75641</td>\n",
       "      <td>RESDUcs7fIiihp38-d6_6g</td>\n",
       "      <td>Bacchanal Buffet</td>\n",
       "      <td>[Sandwiches, Buffets, Restaurants, Breakfast &amp;...</td>\n",
       "      <td>4.0</td>\n",
       "      <td>0</td>\n",
       "      <td>2017-06-02</td>\n",
       "      <td>0</td>\n",
       "      <td>gN--wFAQepop20XYo6238g</td>\n",
       "      <td>3</td>\n",
       "      <td>I'm only giving this 3 stars...because for how...</td>\n",
       "      <td>0</td>\n",
       "      <td>TuNaYk7izh6xQPDCK9tiMg</td>\n",
       "      <td>False</td>\n",
       "    </tr>\n",
       "    <tr>\n",
       "      <th>1265</th>\n",
       "      <td>75642</td>\n",
       "      <td>RESDUcs7fIiihp38-d6_6g</td>\n",
       "      <td>Bacchanal Buffet</td>\n",
       "      <td>[Sandwiches, Buffets, Restaurants, Breakfast &amp;...</td>\n",
       "      <td>4.0</td>\n",
       "      <td>2</td>\n",
       "      <td>2017-05-21</td>\n",
       "      <td>0</td>\n",
       "      <td>gtcLwYXdzLGI1SieaIh4nA</td>\n",
       "      <td>5</td>\n",
       "      <td>Awesome buffet. $59 with tax.  Colossal shrimp...</td>\n",
       "      <td>1</td>\n",
       "      <td>eYhXVb8DX_DhOqF9-1thaw</td>\n",
       "      <td>True</td>\n",
       "    </tr>\n",
       "    <tr>\n",
       "      <th>1266</th>\n",
       "      <td>75643</td>\n",
       "      <td>RESDUcs7fIiihp38-d6_6g</td>\n",
       "      <td>Bacchanal Buffet</td>\n",
       "      <td>[Sandwiches, Buffets, Restaurants, Breakfast &amp;...</td>\n",
       "      <td>4.0</td>\n",
       "      <td>1</td>\n",
       "      <td>2017-03-27</td>\n",
       "      <td>0</td>\n",
       "      <td>W7FYXXlqbquYG6B36ZvO7A</td>\n",
       "      <td>5</td>\n",
       "      <td>Best buffet we've ever had. Lots of variety. F...</td>\n",
       "      <td>1</td>\n",
       "      <td>KssjVpy61nAajUaq2YjhNw</td>\n",
       "      <td>True</td>\n",
       "    </tr>\n",
       "    <tr>\n",
       "      <th>1267</th>\n",
       "      <td>75644</td>\n",
       "      <td>RESDUcs7fIiihp38-d6_6g</td>\n",
       "      <td>Bacchanal Buffet</td>\n",
       "      <td>[Sandwiches, Buffets, Restaurants, Breakfast &amp;...</td>\n",
       "      <td>4.0</td>\n",
       "      <td>0</td>\n",
       "      <td>2017-04-29</td>\n",
       "      <td>0</td>\n",
       "      <td>L_oXLK35VnQKtBu1C3NWTw</td>\n",
       "      <td>5</td>\n",
       "      <td>You will not regret paying the  money for eati...</td>\n",
       "      <td>0</td>\n",
       "      <td>tQpZZecwm_L8YfbCal_GDg</td>\n",
       "      <td>True</td>\n",
       "    </tr>\n",
       "    <tr>\n",
       "      <th>1268</th>\n",
       "      <td>75645</td>\n",
       "      <td>RESDUcs7fIiihp38-d6_6g</td>\n",
       "      <td>Bacchanal Buffet</td>\n",
       "      <td>[Sandwiches, Buffets, Restaurants, Breakfast &amp;...</td>\n",
       "      <td>4.0</td>\n",
       "      <td>0</td>\n",
       "      <td>2017-05-08</td>\n",
       "      <td>0</td>\n",
       "      <td>-tFiuPAGYilBNQKhDUcnmg</td>\n",
       "      <td>4</td>\n",
       "      <td>i left my heart at Bacchanal Buffet! :)  inspi...</td>\n",
       "      <td>0</td>\n",
       "      <td>dfG9-3iK4JlInFnjtzwhSQ</td>\n",
       "      <td>False</td>\n",
       "    </tr>\n",
       "    <tr>\n",
       "      <th>1269</th>\n",
       "      <td>75646</td>\n",
       "      <td>RESDUcs7fIiihp38-d6_6g</td>\n",
       "      <td>Bacchanal Buffet</td>\n",
       "      <td>[Sandwiches, Buffets, Restaurants, Breakfast &amp;...</td>\n",
       "      <td>4.0</td>\n",
       "      <td>0</td>\n",
       "      <td>2017-10-04</td>\n",
       "      <td>0</td>\n",
       "      <td>VfbU7f1TZgy0LYXv5WgkMQ</td>\n",
       "      <td>2</td>\n",
       "      <td>I went here on Sunday 10/1/17 around 6:54 pm, ...</td>\n",
       "      <td>0</td>\n",
       "      <td>Wii5lde-rTpfJKcHC1ksmg</td>\n",
       "      <td>False</td>\n",
       "    </tr>\n",
       "    <tr>\n",
       "      <th>1270</th>\n",
       "      <td>75647</td>\n",
       "      <td>RESDUcs7fIiihp38-d6_6g</td>\n",
       "      <td>Bacchanal Buffet</td>\n",
       "      <td>[Sandwiches, Buffets, Restaurants, Breakfast &amp;...</td>\n",
       "      <td>4.0</td>\n",
       "      <td>0</td>\n",
       "      <td>2017-06-28</td>\n",
       "      <td>0</td>\n",
       "      <td>JL6cWiIp3u1OUHHI8O8e8w</td>\n",
       "      <td>1</td>\n",
       "      <td>Just went there this week and what a let down....</td>\n",
       "      <td>0</td>\n",
       "      <td>Hcbh4X8g8vVxllJC2Q3p8g</td>\n",
       "      <td>False</td>\n",
       "    </tr>\n",
       "    <tr>\n",
       "      <th>1271</th>\n",
       "      <td>75648</td>\n",
       "      <td>RESDUcs7fIiihp38-d6_6g</td>\n",
       "      <td>Bacchanal Buffet</td>\n",
       "      <td>[Sandwiches, Buffets, Restaurants, Breakfast &amp;...</td>\n",
       "      <td>4.0</td>\n",
       "      <td>3</td>\n",
       "      <td>2017-06-27</td>\n",
       "      <td>0</td>\n",
       "      <td>x5H48vzfCRyEnswxtOZzIw</td>\n",
       "      <td>4</td>\n",
       "      <td>I don't think I've ever eaten as much in my li...</td>\n",
       "      <td>4</td>\n",
       "      <td>qt-TXVSzK1EUXtyu9Cb_VA</td>\n",
       "      <td>False</td>\n",
       "    </tr>\n",
       "    <tr>\n",
       "      <th>1272</th>\n",
       "      <td>75649</td>\n",
       "      <td>RESDUcs7fIiihp38-d6_6g</td>\n",
       "      <td>Bacchanal Buffet</td>\n",
       "      <td>[Sandwiches, Buffets, Restaurants, Breakfast &amp;...</td>\n",
       "      <td>4.0</td>\n",
       "      <td>0</td>\n",
       "      <td>2017-08-17</td>\n",
       "      <td>0</td>\n",
       "      <td>WegXYu8-H5DR-YGXrkHcew</td>\n",
       "      <td>4</td>\n",
       "      <td>Just want to be clear the only reason why this...</td>\n",
       "      <td>0</td>\n",
       "      <td>y_iPt5xoVzeoR77Mi_kLHw</td>\n",
       "      <td>False</td>\n",
       "    </tr>\n",
       "    <tr>\n",
       "      <th>1273</th>\n",
       "      <td>75650</td>\n",
       "      <td>RESDUcs7fIiihp38-d6_6g</td>\n",
       "      <td>Bacchanal Buffet</td>\n",
       "      <td>[Sandwiches, Buffets, Restaurants, Breakfast &amp;...</td>\n",
       "      <td>4.0</td>\n",
       "      <td>0</td>\n",
       "      <td>2017-04-15</td>\n",
       "      <td>0</td>\n",
       "      <td>kQAtu4CD3d4pBHsUsxw7qg</td>\n",
       "      <td>4</td>\n",
       "      <td>This is the second time I have come here. I'm ...</td>\n",
       "      <td>0</td>\n",
       "      <td>5-7sMRiwbdyhDeuGDr0tJQ</td>\n",
       "      <td>False</td>\n",
       "    </tr>\n",
       "    <tr>\n",
       "      <th>1274</th>\n",
       "      <td>75651</td>\n",
       "      <td>RESDUcs7fIiihp38-d6_6g</td>\n",
       "      <td>Bacchanal Buffet</td>\n",
       "      <td>[Sandwiches, Buffets, Restaurants, Breakfast &amp;...</td>\n",
       "      <td>4.0</td>\n",
       "      <td>0</td>\n",
       "      <td>2017-11-17</td>\n",
       "      <td>0</td>\n",
       "      <td>52pM1NUZmPXZz47kAJaMaA</td>\n",
       "      <td>5</td>\n",
       "      <td>This is the gold standard of buffets in Las Ve...</td>\n",
       "      <td>2</td>\n",
       "      <td>xBLNxu1PQWCggsPpxMkhwA</td>\n",
       "      <td>True</td>\n",
       "    </tr>\n",
       "    <tr>\n",
       "      <th>1275</th>\n",
       "      <td>75652</td>\n",
       "      <td>RESDUcs7fIiihp38-d6_6g</td>\n",
       "      <td>Bacchanal Buffet</td>\n",
       "      <td>[Sandwiches, Buffets, Restaurants, Breakfast &amp;...</td>\n",
       "      <td>4.0</td>\n",
       "      <td>0</td>\n",
       "      <td>2017-05-26</td>\n",
       "      <td>0</td>\n",
       "      <td>Pi_Bf_QPp24i9IpXBKEOkg</td>\n",
       "      <td>5</td>\n",
       "      <td>Was the best buffet I have ever been to. Had h...</td>\n",
       "      <td>0</td>\n",
       "      <td>9Q8plz2fPHFxJXPUt6hKoA</td>\n",
       "      <td>True</td>\n",
       "    </tr>\n",
       "    <tr>\n",
       "      <th>1276</th>\n",
       "      <td>75653</td>\n",
       "      <td>RESDUcs7fIiihp38-d6_6g</td>\n",
       "      <td>Bacchanal Buffet</td>\n",
       "      <td>[Sandwiches, Buffets, Restaurants, Breakfast &amp;...</td>\n",
       "      <td>4.0</td>\n",
       "      <td>0</td>\n",
       "      <td>2017-11-12</td>\n",
       "      <td>0</td>\n",
       "      <td>pjsO69d40Rw6CbK16NlEGg</td>\n",
       "      <td>5</td>\n",
       "      <td>Came here for brunch with my mom and it was de...</td>\n",
       "      <td>0</td>\n",
       "      <td>jB0FTBVl_Rdn2RA2gWrc-g</td>\n",
       "      <td>True</td>\n",
       "    </tr>\n",
       "    <tr>\n",
       "      <th>1277</th>\n",
       "      <td>75654</td>\n",
       "      <td>RESDUcs7fIiihp38-d6_6g</td>\n",
       "      <td>Bacchanal Buffet</td>\n",
       "      <td>[Sandwiches, Buffets, Restaurants, Breakfast &amp;...</td>\n",
       "      <td>4.0</td>\n",
       "      <td>0</td>\n",
       "      <td>2017-03-06</td>\n",
       "      <td>0</td>\n",
       "      <td>ythjq5dAFYas9MBV6fhyKw</td>\n",
       "      <td>5</td>\n",
       "      <td>This buffet is real quality! Prime rib is my f...</td>\n",
       "      <td>0</td>\n",
       "      <td>F046ab7kCjcELLQfqob6uw</td>\n",
       "      <td>True</td>\n",
       "    </tr>\n",
       "    <tr>\n",
       "      <th>1278</th>\n",
       "      <td>75655</td>\n",
       "      <td>RESDUcs7fIiihp38-d6_6g</td>\n",
       "      <td>Bacchanal Buffet</td>\n",
       "      <td>[Sandwiches, Buffets, Restaurants, Breakfast &amp;...</td>\n",
       "      <td>4.0</td>\n",
       "      <td>0</td>\n",
       "      <td>2017-09-28</td>\n",
       "      <td>0</td>\n",
       "      <td>16wruY-hDgwpE0gdsGPq7Q</td>\n",
       "      <td>4</td>\n",
       "      <td>Since my sisters and I only decided to try one...</td>\n",
       "      <td>0</td>\n",
       "      <td>Gn6pI-4OFX3UxzPbl3X5VA</td>\n",
       "      <td>False</td>\n",
       "    </tr>\n",
       "    <tr>\n",
       "      <th>1279</th>\n",
       "      <td>75656</td>\n",
       "      <td>RESDUcs7fIiihp38-d6_6g</td>\n",
       "      <td>Bacchanal Buffet</td>\n",
       "      <td>[Sandwiches, Buffets, Restaurants, Breakfast &amp;...</td>\n",
       "      <td>4.0</td>\n",
       "      <td>0</td>\n",
       "      <td>2017-06-05</td>\n",
       "      <td>0</td>\n",
       "      <td>jOUS0ArbYXkITB5EXhyYDg</td>\n",
       "      <td>2</td>\n",
       "      <td>Don't be fooled by the ratings.  Most of the f...</td>\n",
       "      <td>0</td>\n",
       "      <td>G2b5F3s1AvSzuhCTDqJQmQ</td>\n",
       "      <td>False</td>\n",
       "    </tr>\n",
       "    <tr>\n",
       "      <th>1280</th>\n",
       "      <td>75657</td>\n",
       "      <td>RESDUcs7fIiihp38-d6_6g</td>\n",
       "      <td>Bacchanal Buffet</td>\n",
       "      <td>[Sandwiches, Buffets, Restaurants, Breakfast &amp;...</td>\n",
       "      <td>4.0</td>\n",
       "      <td>0</td>\n",
       "      <td>2017-06-27</td>\n",
       "      <td>0</td>\n",
       "      <td>eyW0nxZbhodH84iPBVYI0w</td>\n",
       "      <td>1</td>\n",
       "      <td>So I went to the Bacchanal Buffet to try some ...</td>\n",
       "      <td>0</td>\n",
       "      <td>thyfJoEA-DCAEbQ-RkKQlQ</td>\n",
       "      <td>False</td>\n",
       "    </tr>\n",
       "    <tr>\n",
       "      <th>1281</th>\n",
       "      <td>75658</td>\n",
       "      <td>RESDUcs7fIiihp38-d6_6g</td>\n",
       "      <td>Bacchanal Buffet</td>\n",
       "      <td>[Sandwiches, Buffets, Restaurants, Breakfast &amp;...</td>\n",
       "      <td>4.0</td>\n",
       "      <td>0</td>\n",
       "      <td>2017-06-18</td>\n",
       "      <td>0</td>\n",
       "      <td>nnmcNHGLa6TTZ4KP7ZrU7A</td>\n",
       "      <td>1</td>\n",
       "      <td>Food is subpar. There's a line to get to pay, ...</td>\n",
       "      <td>0</td>\n",
       "      <td>KIbfAG_JrTEPt6aQXcnQJg</td>\n",
       "      <td>False</td>\n",
       "    </tr>\n",
       "    <tr>\n",
       "      <th>1282</th>\n",
       "      <td>75659</td>\n",
       "      <td>RESDUcs7fIiihp38-d6_6g</td>\n",
       "      <td>Bacchanal Buffet</td>\n",
       "      <td>[Sandwiches, Buffets, Restaurants, Breakfast &amp;...</td>\n",
       "      <td>4.0</td>\n",
       "      <td>1</td>\n",
       "      <td>2017-09-07</td>\n",
       "      <td>1</td>\n",
       "      <td>BYEFOZ5LQnJc8fZXf8fjeA</td>\n",
       "      <td>5</td>\n",
       "      <td>Visited again for dinner 9/6/17. Once again, I...</td>\n",
       "      <td>1</td>\n",
       "      <td>jNg3LYLY0BlXOlBvANAXNw</td>\n",
       "      <td>True</td>\n",
       "    </tr>\n",
       "    <tr>\n",
       "      <th>1283</th>\n",
       "      <td>75660</td>\n",
       "      <td>RESDUcs7fIiihp38-d6_6g</td>\n",
       "      <td>Bacchanal Buffet</td>\n",
       "      <td>[Sandwiches, Buffets, Restaurants, Breakfast &amp;...</td>\n",
       "      <td>4.0</td>\n",
       "      <td>0</td>\n",
       "      <td>2017-03-13</td>\n",
       "      <td>0</td>\n",
       "      <td>_-tAHyiQdTBmCMAeHvsHfw</td>\n",
       "      <td>2</td>\n",
       "      <td>As far as buffets go, this one was good. That'...</td>\n",
       "      <td>0</td>\n",
       "      <td>j5PYLJ_JFpADEI2Ec-v7Ew</td>\n",
       "      <td>False</td>\n",
       "    </tr>\n",
       "    <tr>\n",
       "      <th>1284</th>\n",
       "      <td>75661</td>\n",
       "      <td>RESDUcs7fIiihp38-d6_6g</td>\n",
       "      <td>Bacchanal Buffet</td>\n",
       "      <td>[Sandwiches, Buffets, Restaurants, Breakfast &amp;...</td>\n",
       "      <td>4.0</td>\n",
       "      <td>0</td>\n",
       "      <td>2017-09-05</td>\n",
       "      <td>0</td>\n",
       "      <td>I1usaP9D4LAUprOuyzyuIg</td>\n",
       "      <td>3</td>\n",
       "      <td>I could keep this really short and it would ge...</td>\n",
       "      <td>0</td>\n",
       "      <td>c5kZzOnWFOOsJWj5s6L36A</td>\n",
       "      <td>False</td>\n",
       "    </tr>\n",
       "    <tr>\n",
       "      <th>1285</th>\n",
       "      <td>75662</td>\n",
       "      <td>RESDUcs7fIiihp38-d6_6g</td>\n",
       "      <td>Bacchanal Buffet</td>\n",
       "      <td>[Sandwiches, Buffets, Restaurants, Breakfast &amp;...</td>\n",
       "      <td>4.0</td>\n",
       "      <td>3</td>\n",
       "      <td>2017-08-08</td>\n",
       "      <td>0</td>\n",
       "      <td>u_92ULrSYU_LixKlMSNJ9Q</td>\n",
       "      <td>5</td>\n",
       "      <td>Hands down the best buffet I've been to! There...</td>\n",
       "      <td>4</td>\n",
       "      <td>Il5rEF1q73uT-kzGoXIy_w</td>\n",
       "      <td>True</td>\n",
       "    </tr>\n",
       "    <tr>\n",
       "      <th>1286</th>\n",
       "      <td>75663</td>\n",
       "      <td>RESDUcs7fIiihp38-d6_6g</td>\n",
       "      <td>Bacchanal Buffet</td>\n",
       "      <td>[Sandwiches, Buffets, Restaurants, Breakfast &amp;...</td>\n",
       "      <td>4.0</td>\n",
       "      <td>0</td>\n",
       "      <td>2017-12-05</td>\n",
       "      <td>0</td>\n",
       "      <td>rOHqCn-6r0Zf8ltWMrDKTQ</td>\n",
       "      <td>3</td>\n",
       "      <td>Big disappointment.  I read plenty of reviews ...</td>\n",
       "      <td>0</td>\n",
       "      <td>VbpUN4KnH6SNsX2NkBmxEg</td>\n",
       "      <td>False</td>\n",
       "    </tr>\n",
       "    <tr>\n",
       "      <th>1287</th>\n",
       "      <td>75664</td>\n",
       "      <td>RESDUcs7fIiihp38-d6_6g</td>\n",
       "      <td>Bacchanal Buffet</td>\n",
       "      <td>[Sandwiches, Buffets, Restaurants, Breakfast &amp;...</td>\n",
       "      <td>4.0</td>\n",
       "      <td>0</td>\n",
       "      <td>2017-06-07</td>\n",
       "      <td>0</td>\n",
       "      <td>knnQfM1DUqgtPpH-rHWNUg</td>\n",
       "      <td>3</td>\n",
       "      <td>Pro: Alot of food\\nCon: Long wait after wait a...</td>\n",
       "      <td>0</td>\n",
       "      <td>3cHR8o8sh32YxHGwm-OkqA</td>\n",
       "      <td>False</td>\n",
       "    </tr>\n",
       "    <tr>\n",
       "      <th>1288</th>\n",
       "      <td>75665</td>\n",
       "      <td>RESDUcs7fIiihp38-d6_6g</td>\n",
       "      <td>Bacchanal Buffet</td>\n",
       "      <td>[Sandwiches, Buffets, Restaurants, Breakfast &amp;...</td>\n",
       "      <td>4.0</td>\n",
       "      <td>0</td>\n",
       "      <td>2017-08-16</td>\n",
       "      <td>0</td>\n",
       "      <td>YtVK7JafZ5uzU-YP_2K7VA</td>\n",
       "      <td>5</td>\n",
       "      <td>Best Gelato in Vegas!!\\nAnd all the food is am...</td>\n",
       "      <td>0</td>\n",
       "      <td>JCGnDEs7L7U0zNJrLbrrzw</td>\n",
       "      <td>True</td>\n",
       "    </tr>\n",
       "    <tr>\n",
       "      <th>1289</th>\n",
       "      <td>75666</td>\n",
       "      <td>RESDUcs7fIiihp38-d6_6g</td>\n",
       "      <td>Bacchanal Buffet</td>\n",
       "      <td>[Sandwiches, Buffets, Restaurants, Breakfast &amp;...</td>\n",
       "      <td>4.0</td>\n",
       "      <td>0</td>\n",
       "      <td>2017-12-01</td>\n",
       "      <td>0</td>\n",
       "      <td>Fxz85rxv4qPfNrtB2fMHHg</td>\n",
       "      <td>5</td>\n",
       "      <td>On vacation in Las Vegas, NV staying at Caesar...</td>\n",
       "      <td>1</td>\n",
       "      <td>8z4esMxnrIJFL_7MSjQksA</td>\n",
       "      <td>True</td>\n",
       "    </tr>\n",
       "    <tr>\n",
       "      <th>1290</th>\n",
       "      <td>75667</td>\n",
       "      <td>RESDUcs7fIiihp38-d6_6g</td>\n",
       "      <td>Bacchanal Buffet</td>\n",
       "      <td>[Sandwiches, Buffets, Restaurants, Breakfast &amp;...</td>\n",
       "      <td>4.0</td>\n",
       "      <td>0</td>\n",
       "      <td>2017-02-28</td>\n",
       "      <td>0</td>\n",
       "      <td>CDdZrtVWpzpwWhpOIrkQDQ</td>\n",
       "      <td>4</td>\n",
       "      <td>For $55/person, I'm not totally convinced it's...</td>\n",
       "      <td>0</td>\n",
       "      <td>t6uAOJHnui8zl2-PJ9m_Jw</td>\n",
       "      <td>False</td>\n",
       "    </tr>\n",
       "    <tr>\n",
       "      <th>1291</th>\n",
       "      <td>75668</td>\n",
       "      <td>RESDUcs7fIiihp38-d6_6g</td>\n",
       "      <td>Bacchanal Buffet</td>\n",
       "      <td>[Sandwiches, Buffets, Restaurants, Breakfast &amp;...</td>\n",
       "      <td>4.0</td>\n",
       "      <td>1</td>\n",
       "      <td>2017-12-10</td>\n",
       "      <td>0</td>\n",
       "      <td>YLXpSz1Vd1ZVTqTNK1A-RQ</td>\n",
       "      <td>5</td>\n",
       "      <td>Patty was an excellent server. All good was fr...</td>\n",
       "      <td>1</td>\n",
       "      <td>L5_8oviH2I6ltKqH517unA</td>\n",
       "      <td>True</td>\n",
       "    </tr>\n",
       "    <tr>\n",
       "      <th>1292</th>\n",
       "      <td>75669</td>\n",
       "      <td>RESDUcs7fIiihp38-d6_6g</td>\n",
       "      <td>Bacchanal Buffet</td>\n",
       "      <td>[Sandwiches, Buffets, Restaurants, Breakfast &amp;...</td>\n",
       "      <td>4.0</td>\n",
       "      <td>0</td>\n",
       "      <td>2017-07-31</td>\n",
       "      <td>0</td>\n",
       "      <td>Pgsk3FRut9usu_e84e0dhg</td>\n",
       "      <td>5</td>\n",
       "      <td>This place is always on those \"Top Vegas Buffe...</td>\n",
       "      <td>0</td>\n",
       "      <td>mLPNZKUoogj71t5hEqHU8A</td>\n",
       "      <td>True</td>\n",
       "    </tr>\n",
       "  </tbody>\n",
       "</table>\n",
       "<p>1293 rows × 14 columns</p>\n",
       "</div>"
      ],
      "text/plain": [
       "      index             business_id              name  \\\n",
       "0     74377  RESDUcs7fIiihp38-d6_6g  Bacchanal Buffet   \n",
       "1     74378  RESDUcs7fIiihp38-d6_6g  Bacchanal Buffet   \n",
       "2     74379  RESDUcs7fIiihp38-d6_6g  Bacchanal Buffet   \n",
       "3     74380  RESDUcs7fIiihp38-d6_6g  Bacchanal Buffet   \n",
       "4     74381  RESDUcs7fIiihp38-d6_6g  Bacchanal Buffet   \n",
       "5     74382  RESDUcs7fIiihp38-d6_6g  Bacchanal Buffet   \n",
       "6     74383  RESDUcs7fIiihp38-d6_6g  Bacchanal Buffet   \n",
       "7     74384  RESDUcs7fIiihp38-d6_6g  Bacchanal Buffet   \n",
       "8     74385  RESDUcs7fIiihp38-d6_6g  Bacchanal Buffet   \n",
       "9     74386  RESDUcs7fIiihp38-d6_6g  Bacchanal Buffet   \n",
       "10    74387  RESDUcs7fIiihp38-d6_6g  Bacchanal Buffet   \n",
       "11    74388  RESDUcs7fIiihp38-d6_6g  Bacchanal Buffet   \n",
       "12    74389  RESDUcs7fIiihp38-d6_6g  Bacchanal Buffet   \n",
       "13    74390  RESDUcs7fIiihp38-d6_6g  Bacchanal Buffet   \n",
       "14    74391  RESDUcs7fIiihp38-d6_6g  Bacchanal Buffet   \n",
       "15    74392  RESDUcs7fIiihp38-d6_6g  Bacchanal Buffet   \n",
       "16    74393  RESDUcs7fIiihp38-d6_6g  Bacchanal Buffet   \n",
       "17    74394  RESDUcs7fIiihp38-d6_6g  Bacchanal Buffet   \n",
       "18    74395  RESDUcs7fIiihp38-d6_6g  Bacchanal Buffet   \n",
       "19    74396  RESDUcs7fIiihp38-d6_6g  Bacchanal Buffet   \n",
       "20    74397  RESDUcs7fIiihp38-d6_6g  Bacchanal Buffet   \n",
       "21    74398  RESDUcs7fIiihp38-d6_6g  Bacchanal Buffet   \n",
       "22    74399  RESDUcs7fIiihp38-d6_6g  Bacchanal Buffet   \n",
       "23    74400  RESDUcs7fIiihp38-d6_6g  Bacchanal Buffet   \n",
       "24    74401  RESDUcs7fIiihp38-d6_6g  Bacchanal Buffet   \n",
       "25    74402  RESDUcs7fIiihp38-d6_6g  Bacchanal Buffet   \n",
       "26    74403  RESDUcs7fIiihp38-d6_6g  Bacchanal Buffet   \n",
       "27    74404  RESDUcs7fIiihp38-d6_6g  Bacchanal Buffet   \n",
       "28    74405  RESDUcs7fIiihp38-d6_6g  Bacchanal Buffet   \n",
       "29    74406  RESDUcs7fIiihp38-d6_6g  Bacchanal Buffet   \n",
       "...     ...                     ...               ...   \n",
       "1263  75640  RESDUcs7fIiihp38-d6_6g  Bacchanal Buffet   \n",
       "1264  75641  RESDUcs7fIiihp38-d6_6g  Bacchanal Buffet   \n",
       "1265  75642  RESDUcs7fIiihp38-d6_6g  Bacchanal Buffet   \n",
       "1266  75643  RESDUcs7fIiihp38-d6_6g  Bacchanal Buffet   \n",
       "1267  75644  RESDUcs7fIiihp38-d6_6g  Bacchanal Buffet   \n",
       "1268  75645  RESDUcs7fIiihp38-d6_6g  Bacchanal Buffet   \n",
       "1269  75646  RESDUcs7fIiihp38-d6_6g  Bacchanal Buffet   \n",
       "1270  75647  RESDUcs7fIiihp38-d6_6g  Bacchanal Buffet   \n",
       "1271  75648  RESDUcs7fIiihp38-d6_6g  Bacchanal Buffet   \n",
       "1272  75649  RESDUcs7fIiihp38-d6_6g  Bacchanal Buffet   \n",
       "1273  75650  RESDUcs7fIiihp38-d6_6g  Bacchanal Buffet   \n",
       "1274  75651  RESDUcs7fIiihp38-d6_6g  Bacchanal Buffet   \n",
       "1275  75652  RESDUcs7fIiihp38-d6_6g  Bacchanal Buffet   \n",
       "1276  75653  RESDUcs7fIiihp38-d6_6g  Bacchanal Buffet   \n",
       "1277  75654  RESDUcs7fIiihp38-d6_6g  Bacchanal Buffet   \n",
       "1278  75655  RESDUcs7fIiihp38-d6_6g  Bacchanal Buffet   \n",
       "1279  75656  RESDUcs7fIiihp38-d6_6g  Bacchanal Buffet   \n",
       "1280  75657  RESDUcs7fIiihp38-d6_6g  Bacchanal Buffet   \n",
       "1281  75658  RESDUcs7fIiihp38-d6_6g  Bacchanal Buffet   \n",
       "1282  75659  RESDUcs7fIiihp38-d6_6g  Bacchanal Buffet   \n",
       "1283  75660  RESDUcs7fIiihp38-d6_6g  Bacchanal Buffet   \n",
       "1284  75661  RESDUcs7fIiihp38-d6_6g  Bacchanal Buffet   \n",
       "1285  75662  RESDUcs7fIiihp38-d6_6g  Bacchanal Buffet   \n",
       "1286  75663  RESDUcs7fIiihp38-d6_6g  Bacchanal Buffet   \n",
       "1287  75664  RESDUcs7fIiihp38-d6_6g  Bacchanal Buffet   \n",
       "1288  75665  RESDUcs7fIiihp38-d6_6g  Bacchanal Buffet   \n",
       "1289  75666  RESDUcs7fIiihp38-d6_6g  Bacchanal Buffet   \n",
       "1290  75667  RESDUcs7fIiihp38-d6_6g  Bacchanal Buffet   \n",
       "1291  75668  RESDUcs7fIiihp38-d6_6g  Bacchanal Buffet   \n",
       "1292  75669  RESDUcs7fIiihp38-d6_6g  Bacchanal Buffet   \n",
       "\n",
       "                                             categories  avg_stars  cool  \\\n",
       "0     [Sandwiches, Buffets, Restaurants, Breakfast &...        4.0     0   \n",
       "1     [Sandwiches, Buffets, Restaurants, Breakfast &...        4.0     0   \n",
       "2     [Sandwiches, Buffets, Restaurants, Breakfast &...        4.0     0   \n",
       "3     [Sandwiches, Buffets, Restaurants, Breakfast &...        4.0     0   \n",
       "4     [Sandwiches, Buffets, Restaurants, Breakfast &...        4.0     0   \n",
       "5     [Sandwiches, Buffets, Restaurants, Breakfast &...        4.0     0   \n",
       "6     [Sandwiches, Buffets, Restaurants, Breakfast &...        4.0     1   \n",
       "7     [Sandwiches, Buffets, Restaurants, Breakfast &...        4.0     0   \n",
       "8     [Sandwiches, Buffets, Restaurants, Breakfast &...        4.0     0   \n",
       "9     [Sandwiches, Buffets, Restaurants, Breakfast &...        4.0     0   \n",
       "10    [Sandwiches, Buffets, Restaurants, Breakfast &...        4.0     0   \n",
       "11    [Sandwiches, Buffets, Restaurants, Breakfast &...        4.0     0   \n",
       "12    [Sandwiches, Buffets, Restaurants, Breakfast &...        4.0     0   \n",
       "13    [Sandwiches, Buffets, Restaurants, Breakfast &...        4.0     0   \n",
       "14    [Sandwiches, Buffets, Restaurants, Breakfast &...        4.0     0   \n",
       "15    [Sandwiches, Buffets, Restaurants, Breakfast &...        4.0     0   \n",
       "16    [Sandwiches, Buffets, Restaurants, Breakfast &...        4.0     0   \n",
       "17    [Sandwiches, Buffets, Restaurants, Breakfast &...        4.0     0   \n",
       "18    [Sandwiches, Buffets, Restaurants, Breakfast &...        4.0     0   \n",
       "19    [Sandwiches, Buffets, Restaurants, Breakfast &...        4.0     0   \n",
       "20    [Sandwiches, Buffets, Restaurants, Breakfast &...        4.0     0   \n",
       "21    [Sandwiches, Buffets, Restaurants, Breakfast &...        4.0     0   \n",
       "22    [Sandwiches, Buffets, Restaurants, Breakfast &...        4.0     0   \n",
       "23    [Sandwiches, Buffets, Restaurants, Breakfast &...        4.0     0   \n",
       "24    [Sandwiches, Buffets, Restaurants, Breakfast &...        4.0     0   \n",
       "25    [Sandwiches, Buffets, Restaurants, Breakfast &...        4.0     0   \n",
       "26    [Sandwiches, Buffets, Restaurants, Breakfast &...        4.0     0   \n",
       "27    [Sandwiches, Buffets, Restaurants, Breakfast &...        4.0     0   \n",
       "28    [Sandwiches, Buffets, Restaurants, Breakfast &...        4.0     0   \n",
       "29    [Sandwiches, Buffets, Restaurants, Breakfast &...        4.0     0   \n",
       "...                                                 ...        ...   ...   \n",
       "1263  [Sandwiches, Buffets, Restaurants, Breakfast &...        4.0     0   \n",
       "1264  [Sandwiches, Buffets, Restaurants, Breakfast &...        4.0     0   \n",
       "1265  [Sandwiches, Buffets, Restaurants, Breakfast &...        4.0     2   \n",
       "1266  [Sandwiches, Buffets, Restaurants, Breakfast &...        4.0     1   \n",
       "1267  [Sandwiches, Buffets, Restaurants, Breakfast &...        4.0     0   \n",
       "1268  [Sandwiches, Buffets, Restaurants, Breakfast &...        4.0     0   \n",
       "1269  [Sandwiches, Buffets, Restaurants, Breakfast &...        4.0     0   \n",
       "1270  [Sandwiches, Buffets, Restaurants, Breakfast &...        4.0     0   \n",
       "1271  [Sandwiches, Buffets, Restaurants, Breakfast &...        4.0     3   \n",
       "1272  [Sandwiches, Buffets, Restaurants, Breakfast &...        4.0     0   \n",
       "1273  [Sandwiches, Buffets, Restaurants, Breakfast &...        4.0     0   \n",
       "1274  [Sandwiches, Buffets, Restaurants, Breakfast &...        4.0     0   \n",
       "1275  [Sandwiches, Buffets, Restaurants, Breakfast &...        4.0     0   \n",
       "1276  [Sandwiches, Buffets, Restaurants, Breakfast &...        4.0     0   \n",
       "1277  [Sandwiches, Buffets, Restaurants, Breakfast &...        4.0     0   \n",
       "1278  [Sandwiches, Buffets, Restaurants, Breakfast &...        4.0     0   \n",
       "1279  [Sandwiches, Buffets, Restaurants, Breakfast &...        4.0     0   \n",
       "1280  [Sandwiches, Buffets, Restaurants, Breakfast &...        4.0     0   \n",
       "1281  [Sandwiches, Buffets, Restaurants, Breakfast &...        4.0     0   \n",
       "1282  [Sandwiches, Buffets, Restaurants, Breakfast &...        4.0     1   \n",
       "1283  [Sandwiches, Buffets, Restaurants, Breakfast &...        4.0     0   \n",
       "1284  [Sandwiches, Buffets, Restaurants, Breakfast &...        4.0     0   \n",
       "1285  [Sandwiches, Buffets, Restaurants, Breakfast &...        4.0     3   \n",
       "1286  [Sandwiches, Buffets, Restaurants, Breakfast &...        4.0     0   \n",
       "1287  [Sandwiches, Buffets, Restaurants, Breakfast &...        4.0     0   \n",
       "1288  [Sandwiches, Buffets, Restaurants, Breakfast &...        4.0     0   \n",
       "1289  [Sandwiches, Buffets, Restaurants, Breakfast &...        4.0     0   \n",
       "1290  [Sandwiches, Buffets, Restaurants, Breakfast &...        4.0     0   \n",
       "1291  [Sandwiches, Buffets, Restaurants, Breakfast &...        4.0     1   \n",
       "1292  [Sandwiches, Buffets, Restaurants, Breakfast &...        4.0     0   \n",
       "\n",
       "            date  funny               review_id  stars  \\\n",
       "0     2017-07-02      0  Xci8QJaDOB7OazJIP9U0Cw      5   \n",
       "1     2017-04-17      0  Cvu2u-qIT1VNMywoV21ziA      5   \n",
       "2     2017-11-21      0  HwslccNX5sAKrw_rU7h5BQ      3   \n",
       "3     2017-07-01      0  Zy45ehOLmbOfv8OVpaJzGw      5   \n",
       "4     2017-08-06      1  0jb9KV2ESl0W6mHrYk02rw      2   \n",
       "5     2017-11-20      0  TIDiONXhflr4qCZXBfFMtA      1   \n",
       "6     2017-05-31      0  1WRuzYwsnjMlcx2sBCJ3Pw      4   \n",
       "7     2017-07-03      0  jOQSuLlaU2KOGHIDVvNeNQ      4   \n",
       "8     2017-03-22      0  p1IkUuRTFOnI3I27b1Sl1w      4   \n",
       "9     2017-11-25      0  4j3Poe0yXiryR0vZbS8QbQ      1   \n",
       "10    2017-09-12      0  ASm1DR82UIcfD_-Fgv9rHw      2   \n",
       "11    2017-06-03      0  KWlsZrHpydxTnPPzJqJQRQ      5   \n",
       "12    2017-07-04      0  3krHp0wBPgVFSuR3UFiLrQ      2   \n",
       "13    2017-10-20      0  X8mlNrngXsKXyd9eP5Nk3g      5   \n",
       "14    2017-07-08      0  oMi5yJx_jMMjKsV5vav30w      2   \n",
       "15    2017-10-12      1  9qRp7AY4ww58OFXbbLXltw      5   \n",
       "16    2017-06-11      0  10bMOHIE7BLjEpGpVSodUg      1   \n",
       "17    2017-11-13      0  pM_EJY2BFVuQMO73V1QRPQ      5   \n",
       "18    2017-06-10      0  Z1CDZt4UsDu8MzMWoXeDFw      2   \n",
       "19    2017-12-09      0  YARvyW3Wha5-LSSXltC8Vg      3   \n",
       "20    2017-06-24      0  FEn_rvojr5fg__UVq0rYFw      4   \n",
       "21    2017-06-15      0  oxIA5EemV27FLOigWUDk1A      4   \n",
       "22    2017-07-14      0  69W8wdZYGPxne83ol1SR_w      4   \n",
       "23    2017-04-18      0  Essc2efpWWzpiHZuwjw5SA      2   \n",
       "24    2017-06-11      0  -Y2kaizt2wCo4I2wiGSiqg      1   \n",
       "25    2017-11-12      0  92qFfukjf02OLAMBUZshsA      5   \n",
       "26    2017-07-17      0  Kwr0gKaLovCkcCqgA2o1bg      5   \n",
       "27    2017-04-22      0  c4JKrPd0SWLPJw0hbeZo-w      2   \n",
       "28    2017-04-04      0  o5yqYhGuprexSKa7fwTljw      4   \n",
       "29    2017-11-06      0  0ROZ8i_3HLgtm_eV99Rqeg      5   \n",
       "...          ...    ...                     ...    ...   \n",
       "1263  2017-11-02      0  5HBW7GNzbNCs5HGZRzEPCg      1   \n",
       "1264  2017-06-02      0  gN--wFAQepop20XYo6238g      3   \n",
       "1265  2017-05-21      0  gtcLwYXdzLGI1SieaIh4nA      5   \n",
       "1266  2017-03-27      0  W7FYXXlqbquYG6B36ZvO7A      5   \n",
       "1267  2017-04-29      0  L_oXLK35VnQKtBu1C3NWTw      5   \n",
       "1268  2017-05-08      0  -tFiuPAGYilBNQKhDUcnmg      4   \n",
       "1269  2017-10-04      0  VfbU7f1TZgy0LYXv5WgkMQ      2   \n",
       "1270  2017-06-28      0  JL6cWiIp3u1OUHHI8O8e8w      1   \n",
       "1271  2017-06-27      0  x5H48vzfCRyEnswxtOZzIw      4   \n",
       "1272  2017-08-17      0  WegXYu8-H5DR-YGXrkHcew      4   \n",
       "1273  2017-04-15      0  kQAtu4CD3d4pBHsUsxw7qg      4   \n",
       "1274  2017-11-17      0  52pM1NUZmPXZz47kAJaMaA      5   \n",
       "1275  2017-05-26      0  Pi_Bf_QPp24i9IpXBKEOkg      5   \n",
       "1276  2017-11-12      0  pjsO69d40Rw6CbK16NlEGg      5   \n",
       "1277  2017-03-06      0  ythjq5dAFYas9MBV6fhyKw      5   \n",
       "1278  2017-09-28      0  16wruY-hDgwpE0gdsGPq7Q      4   \n",
       "1279  2017-06-05      0  jOUS0ArbYXkITB5EXhyYDg      2   \n",
       "1280  2017-06-27      0  eyW0nxZbhodH84iPBVYI0w      1   \n",
       "1281  2017-06-18      0  nnmcNHGLa6TTZ4KP7ZrU7A      1   \n",
       "1282  2017-09-07      1  BYEFOZ5LQnJc8fZXf8fjeA      5   \n",
       "1283  2017-03-13      0  _-tAHyiQdTBmCMAeHvsHfw      2   \n",
       "1284  2017-09-05      0  I1usaP9D4LAUprOuyzyuIg      3   \n",
       "1285  2017-08-08      0  u_92ULrSYU_LixKlMSNJ9Q      5   \n",
       "1286  2017-12-05      0  rOHqCn-6r0Zf8ltWMrDKTQ      3   \n",
       "1287  2017-06-07      0  knnQfM1DUqgtPpH-rHWNUg      3   \n",
       "1288  2017-08-16      0  YtVK7JafZ5uzU-YP_2K7VA      5   \n",
       "1289  2017-12-01      0  Fxz85rxv4qPfNrtB2fMHHg      5   \n",
       "1290  2017-02-28      0  CDdZrtVWpzpwWhpOIrkQDQ      4   \n",
       "1291  2017-12-10      0  YLXpSz1Vd1ZVTqTNK1A-RQ      5   \n",
       "1292  2017-07-31      0  Pgsk3FRut9usu_e84e0dhg      5   \n",
       "\n",
       "                                                   text  useful  \\\n",
       "0     I'm staying at Caesar's Palace for 4th of July...       0   \n",
       "1     Really loved this place! We heard great things...       0   \n",
       "2     Very long wait. Once you pay you still have to...       0   \n",
       "3     Everything I ate was delicious, dim sum, chick...       0   \n",
       "4     Not sure what the hype is about here. I have d...       0   \n",
       "5     The worst buffet I have ever had. The worst th...       0   \n",
       "6     Heard lines were pretty long here and we were ...       1   \n",
       "7     I've been here about 4 times now and I feel li...       1   \n",
       "8     Didn't realize the wife and I been here twice....       0   \n",
       "9     I am honestly giving this Buffet a 1 star just...       0   \n",
       "10    THIS PLACE IS NOT WORTH $65 save your money an...       0   \n",
       "11    QUALITY is the word here, pretty much better q...       0   \n",
       "12    Hubby and I visited Vegas during independence ...       0   \n",
       "13    Awesome Buffett!! We walked in with a party of...       0   \n",
       "14    There is not even one item on the buffet that ...       0   \n",
       "15    Best Buffet in Vegas! Sets itself apart from t...       1   \n",
       "16    Cashier named MARTA was extremely rude with th...       1   \n",
       "17    I don't frequent buffets but came here with so...       0   \n",
       "18    Not worth it. The flavor is bland and there wa...       0   \n",
       "19    OVERRATED! Definitely not worth $60, would be ...       0   \n",
       "20    Best buffet ever! I went here for brunch. Seri...       2   \n",
       "21    This is our first buffet ever and we went big!...       0   \n",
       "22    Be prepared to wait. I mean really WAIT to be ...       0   \n",
       "23    Bacchanal for breakfast. \\n\\nDisappointing buf...       2   \n",
       "24    This review is strictly for server named Marib...       1   \n",
       "25    Lives up to the hype.  Loved the red velvet pa...       0   \n",
       "26    This was probably the most kick ass buffet wit...       0   \n",
       "27    I ate here 3 years ago and I gave them 5 stars...       2   \n",
       "28    The buffet here is like no other.  I usually d...       0   \n",
       "29    Quality buffet! Worth every penny. We went aro...       0   \n",
       "...                                                 ...     ...   \n",
       "1263  Came to this buffet highly recommended by mult...       0   \n",
       "1264  I'm only giving this 3 stars...because for how...       0   \n",
       "1265  Awesome buffet. $59 with tax.  Colossal shrimp...       1   \n",
       "1266  Best buffet we've ever had. Lots of variety. F...       1   \n",
       "1267  You will not regret paying the  money for eati...       0   \n",
       "1268  i left my heart at Bacchanal Buffet! :)  inspi...       0   \n",
       "1269  I went here on Sunday 10/1/17 around 6:54 pm, ...       0   \n",
       "1270  Just went there this week and what a let down....       0   \n",
       "1271  I don't think I've ever eaten as much in my li...       4   \n",
       "1272  Just want to be clear the only reason why this...       0   \n",
       "1273  This is the second time I have come here. I'm ...       0   \n",
       "1274  This is the gold standard of buffets in Las Ve...       2   \n",
       "1275  Was the best buffet I have ever been to. Had h...       0   \n",
       "1276  Came here for brunch with my mom and it was de...       0   \n",
       "1277  This buffet is real quality! Prime rib is my f...       0   \n",
       "1278  Since my sisters and I only decided to try one...       0   \n",
       "1279  Don't be fooled by the ratings.  Most of the f...       0   \n",
       "1280  So I went to the Bacchanal Buffet to try some ...       0   \n",
       "1281  Food is subpar. There's a line to get to pay, ...       0   \n",
       "1282  Visited again for dinner 9/6/17. Once again, I...       1   \n",
       "1283  As far as buffets go, this one was good. That'...       0   \n",
       "1284  I could keep this really short and it would ge...       0   \n",
       "1285  Hands down the best buffet I've been to! There...       4   \n",
       "1286  Big disappointment.  I read plenty of reviews ...       0   \n",
       "1287  Pro: Alot of food\\nCon: Long wait after wait a...       0   \n",
       "1288  Best Gelato in Vegas!!\\nAnd all the food is am...       0   \n",
       "1289  On vacation in Las Vegas, NV staying at Caesar...       1   \n",
       "1290  For $55/person, I'm not totally convinced it's...       0   \n",
       "1291  Patty was an excellent server. All good was fr...       1   \n",
       "1292  This place is always on those \"Top Vegas Buffe...       0   \n",
       "\n",
       "                     user_id  favorable  \n",
       "0     J90_7u_8vPYa03GMohNxAA       True  \n",
       "1     i05OLRVJCeN3ZD1dIM2mrQ       True  \n",
       "2     vI1b3YI2NYYQzxKkhPx-kg      False  \n",
       "3     tj4f7dbf803UjDejrs7eiQ       True  \n",
       "4     kEGXZcG2i4IcE3A_FdMI_Q      False  \n",
       "5     RQhAok-F4jGkBzC4ZTxNgw      False  \n",
       "6     3RTesI_MAwct13LWm4rhLw      False  \n",
       "7     ZajIvvSDcS7f1gsUcvJYiA      False  \n",
       "8     V78AWd95_6_gEr8zq9z5AA      False  \n",
       "9     MpMcjmLeCF1ODE13FPkjoA      False  \n",
       "10    -KTK0XcXo94GRD4aFoc0cg      False  \n",
       "11    jHKfg6Q5ZbpH_9LOHVjUkQ       True  \n",
       "12    DwFidt3afROOHsmkqTnXSA      False  \n",
       "13    ywia6oWdjxMl2aRlXw3MEg       True  \n",
       "14    3cusv5iTGSonhQRIewnqXw      False  \n",
       "15    vXgo2kXJJV2c97dNonAzqw       True  \n",
       "16    K5jYQS1dJsWvCQX2OrLXBw      False  \n",
       "17    XD_JGWx8yjntSOw-yDyr3g       True  \n",
       "18    KM272ChoRWl9Jvmv2N08ZQ      False  \n",
       "19    r_-Rs5DouaJPqePiZOIgiw      False  \n",
       "20    KIyDifnT2JprVspkUH4IEg      False  \n",
       "21    PW_ZGLoYi5tSetIX4qhKRg      False  \n",
       "22    DG14N8K5Unaci_7oOKIKMA      False  \n",
       "23    fyCxBOJq0MhVaF5d1GhXgQ      False  \n",
       "24    s8253e6YG43EAJOxHlgG6Q      False  \n",
       "25    _UmuTsKJ7cM75Ekzckt6uQ       True  \n",
       "26    0_O2U4iivZ5McJrR9yWV6w       True  \n",
       "27    7vp1L_FfwBDDRL_haRb-ow      False  \n",
       "28    vBfNgh26Sge8jIL373UDxQ      False  \n",
       "29    T6m7XxBMp4t99ovVRtG8ng       True  \n",
       "...                      ...        ...  \n",
       "1263  EOh98d9c_WNfMgSViWL-Hw      False  \n",
       "1264  TuNaYk7izh6xQPDCK9tiMg      False  \n",
       "1265  eYhXVb8DX_DhOqF9-1thaw       True  \n",
       "1266  KssjVpy61nAajUaq2YjhNw       True  \n",
       "1267  tQpZZecwm_L8YfbCal_GDg       True  \n",
       "1268  dfG9-3iK4JlInFnjtzwhSQ      False  \n",
       "1269  Wii5lde-rTpfJKcHC1ksmg      False  \n",
       "1270  Hcbh4X8g8vVxllJC2Q3p8g      False  \n",
       "1271  qt-TXVSzK1EUXtyu9Cb_VA      False  \n",
       "1272  y_iPt5xoVzeoR77Mi_kLHw      False  \n",
       "1273  5-7sMRiwbdyhDeuGDr0tJQ      False  \n",
       "1274  xBLNxu1PQWCggsPpxMkhwA       True  \n",
       "1275  9Q8plz2fPHFxJXPUt6hKoA       True  \n",
       "1276  jB0FTBVl_Rdn2RA2gWrc-g       True  \n",
       "1277  F046ab7kCjcELLQfqob6uw       True  \n",
       "1278  Gn6pI-4OFX3UxzPbl3X5VA      False  \n",
       "1279  G2b5F3s1AvSzuhCTDqJQmQ      False  \n",
       "1280  thyfJoEA-DCAEbQ-RkKQlQ      False  \n",
       "1281  KIbfAG_JrTEPt6aQXcnQJg      False  \n",
       "1282  jNg3LYLY0BlXOlBvANAXNw       True  \n",
       "1283  j5PYLJ_JFpADEI2Ec-v7Ew      False  \n",
       "1284  c5kZzOnWFOOsJWj5s6L36A      False  \n",
       "1285  Il5rEF1q73uT-kzGoXIy_w       True  \n",
       "1286  VbpUN4KnH6SNsX2NkBmxEg      False  \n",
       "1287  3cHR8o8sh32YxHGwm-OkqA      False  \n",
       "1288  JCGnDEs7L7U0zNJrLbrrzw       True  \n",
       "1289  8z4esMxnrIJFL_7MSjQksA       True  \n",
       "1290  t6uAOJHnui8zl2-PJ9m_Jw      False  \n",
       "1291  L5_8oviH2I6ltKqH517unA       True  \n",
       "1292  mLPNZKUoogj71t5hEqHU8A       True  \n",
       "\n",
       "[1293 rows x 14 columns]"
      ]
     },
     "execution_count": 27,
     "metadata": {},
     "output_type": "execute_result"
    }
   ],
   "source": [
    "df_top_restaurant"
   ]
  },
  {
   "cell_type": "markdown",
   "metadata": {},
   "source": [
    "### Vectorize the text feature"
   ]
  },
  {
   "cell_type": "code",
   "execution_count": 28,
   "metadata": {},
   "outputs": [
    {
     "data": {
      "text/plain": [
       "(1293,)"
      ]
     },
     "execution_count": 28,
     "metadata": {},
     "output_type": "execute_result"
    }
   ],
   "source": [
    "# Take the values of the column that contains review text data, save to a variable named \"documents_top_restaurant\"\n",
    "documents_top_restaurant = df_top_restaurant['text'].values\n",
    "documents_top_restaurant.shape"
   ]
  },
  {
   "cell_type": "markdown",
   "metadata": {},
   "source": [
    "### Define target variable - rating"
   ]
  },
  {
   "cell_type": "code",
   "execution_count": 29,
   "metadata": {},
   "outputs": [
    {
     "data": {
      "text/plain": [
       "(1293,)"
      ]
     },
     "execution_count": 29,
     "metadata": {},
     "output_type": "execute_result"
    }
   ],
   "source": [
    "target_top_restaurant = (df_top_restaurant['stars'] > 4).astype(int).values\n",
    "target_top_restaurant.shape"
   ]
  },
  {
   "cell_type": "markdown",
   "metadata": {},
   "source": [
    "#### Check the statistic of the target variable"
   ]
  },
  {
   "cell_type": "code",
   "execution_count": 32,
   "metadata": {},
   "outputs": [
    {
     "name": "stdout",
     "output_type": "stream",
     "text": [
      "statistics of the target variable\n",
      "mean value: 0.381284\n",
      "standard deviation value: 0.485702\n"
     ]
    }
   ],
   "source": [
    "print('statistics of the target variable')\n",
    "print('mean value: %f' % (np.mean(target_top_restaurant)))\n",
    "print('standard deviation value: %f' % (np.std(target_top_restaurant)))"
   ]
  },
  {
   "cell_type": "markdown",
   "metadata": {},
   "source": [
    "### Create training dataset and test dataset"
   ]
  },
  {
   "cell_type": "code",
   "execution_count": 33,
   "metadata": {},
   "outputs": [],
   "source": [
    "# documents_top_restaurant is X, target_top_restaurant is y\n",
    "x_train, x_test, y_train, y_test = train_test_split(documents_top_restaurant, target_top_restaurant, \n",
    "                                                    test_size=0.4, random_state=7)"
   ]
  },
  {
   "cell_type": "markdown",
   "metadata": {},
   "source": [
    "### Get NLP representation of the documents"
   ]
  },
  {
   "cell_type": "code",
   "execution_count": 81,
   "metadata": {},
   "outputs": [],
   "source": [
    "# Create TfidfVectorizer, and name it vectorizer\n",
    "vectorizer_top = TfidfVectorizer(stop_words = 'english', max_features = 1000)"
   ]
  },
  {
   "cell_type": "code",
   "execution_count": 82,
   "metadata": {},
   "outputs": [],
   "source": [
    "# Train the model with training data\n",
    "train_vector_top = vectorizer_top.fit_transform(x_train).toarray()"
   ]
  },
  {
   "cell_type": "code",
   "execution_count": 83,
   "metadata": {},
   "outputs": [],
   "source": [
    "# Get the vocab of tfidf\n",
    "vocab_top = vectorizer_top.get_feature_names()"
   ]
  },
  {
   "cell_type": "code",
   "execution_count": 84,
   "metadata": {},
   "outputs": [],
   "source": [
    "# Use the trained model to transform the test data\n",
    "test_vector_top = vectorizer_top.fit_transform(x_test).toarray()"
   ]
  },
  {
   "cell_type": "code",
   "execution_count": 85,
   "metadata": {},
   "outputs": [],
   "source": [
    "# Use the trained model to transform all the data\n",
    "doc_vector_top = vectorizer_top.transform(documents_top_restaurant).toarray()"
   ]
  },
  {
   "cell_type": "code",
   "execution_count": 86,
   "metadata": {},
   "outputs": [
    {
     "data": {
      "text/plain": [
       "(1293, 1000)"
      ]
     },
     "execution_count": 86,
     "metadata": {},
     "output_type": "execute_result"
    }
   ],
   "source": [
    "doc_vector_top.shape"
   ]
  },
  {
   "cell_type": "markdown",
   "metadata": {},
   "source": [
    "### Cluster reviews with KMeans"
   ]
  },
  {
   "cell_type": "markdown",
   "metadata": {},
   "source": [
    "#### Fit k-means clustering on the training vectors and make predictions on all data"
   ]
  },
  {
   "cell_type": "code",
   "execution_count": 87,
   "metadata": {},
   "outputs": [
    {
     "data": {
      "text/plain": [
       "KMeans(algorithm='auto', copy_x=True, init='k-means++', max_iter=300,\n",
       "    n_clusters=8, n_init=10, n_jobs=1, precompute_distances='auto',\n",
       "    random_state=42, tol=0.0001, verbose=0)"
      ]
     },
     "execution_count": 87,
     "metadata": {},
     "output_type": "execute_result"
    }
   ],
   "source": [
    "kmeans = KMeans(random_state=42)\n",
    "kmeans.fit(train_vector_top)"
   ]
  },
  {
   "cell_type": "markdown",
   "metadata": {},
   "source": [
    "#### Make predictions on all data"
   ]
  },
  {
   "cell_type": "code",
   "execution_count": 88,
   "metadata": {},
   "outputs": [],
   "source": [
    "target_labels = kmeans.predict(doc_vector_top)"
   ]
  },
  {
   "cell_type": "markdown",
   "metadata": {},
   "source": [
    "#### Inspect the centroids"
   ]
  },
  {
   "cell_type": "code",
   "execution_count": 89,
   "metadata": {},
   "outputs": [
    {
     "name": "stdout",
     "output_type": "stream",
     "text": [
      "[[ 2.64255511e-03  2.28483444e-02  1.46102675e-03 ...  9.87489463e-03\n",
      "  -1.95156391e-18  1.14452710e-02]\n",
      " [ 1.95245605e-03  5.64182699e-03  1.58324309e-03 ...  6.51665653e-03\n",
      "   3.53657323e-03  2.80436517e-03]\n",
      " [-5.20417043e-18  5.61136559e-03  4.99725035e-03 ...  2.47746724e-03\n",
      "  -1.73472348e-18  3.77602458e-03]\n",
      " ...\n",
      " [ 8.44180933e-03  2.60532287e-02  3.57979627e-03 ...  4.73810376e-03\n",
      "   3.31242587e-03  1.90685997e-03]\n",
      " [ 2.71963045e-03  9.17085094e-03  4.33680869e-19 ... -1.73472348e-18\n",
      "  -1.51788304e-18  7.31098717e-03]\n",
      " [-3.90312782e-18  5.90730081e-03  4.33680869e-19 ...  2.11100932e-02\n",
      "  -8.67361738e-19  8.33592412e-03]]\n"
     ]
    }
   ],
   "source": [
    "print kmeans.cluster_centers_"
   ]
  },
  {
   "cell_type": "markdown",
   "metadata": {},
   "source": [
    "#### Find the top 10 features for each cluster."
   ]
  },
  {
   "cell_type": "code",
   "execution_count": 90,
   "metadata": {},
   "outputs": [],
   "source": [
    "n = 10\n",
    "top_centroids = kmeans.cluster_centers_.argsort()[:,-1:-n:-1]\n"
   ]
  },
  {
   "cell_type": "code",
   "execution_count": 91,
   "metadata": {},
   "outputs": [
    {
     "name": "stdout",
     "output_type": "stream",
     "text": [
      "(0, u'closes,beware,birthday,chives,atmosphere,comes,bargain,accompanying,broccolini')\n",
      "(1, u'accompanying,carson,alot,atmosphere,annoying,carpaccio,changed,ayce,cleared')\n",
      "(2, u'95,cleared,accompanying,beignets,atmosphere,baguette,according,burning,clients')\n",
      "(3, u'backed,atmosphere,casinos,carving,2x,accompanying,accommodating,angus,businesses')\n",
      "(4, u'ayce,accompanying,alot,bear,atmosphere,benihana,cafe,appealing,best')\n",
      "(5, u'beware,atmosphere,baba,accompanying,birthday,chives,blackened,burgers,comes')\n",
      "(6, u'br\\xfbl\\xe9e,3rd,atmosphere,accompanying,2x,apologies,burgers,casinos,comes')\n",
      "(7, u'bite,accompanying,95,atmosphere,carpaccio,br\\xfbl\\xe9e,carving,backed,38')\n"
     ]
    }
   ],
   "source": [
    "for num, centroid in enumerate(top_centroids):\n",
    "    print (num,\",\".join(words[i] for i in centroid))"
   ]
  },
  {
   "cell_type": "markdown",
   "metadata": {},
   "source": [
    "#### Print out the rating and review of a random sample of the reviews assigned to each cluster to get a sense of the cluster."
   ]
  },
  {
   "cell_type": "code",
   "execution_count": 92,
   "metadata": {},
   "outputs": [
    {
     "name": "stdout",
     "output_type": "stream",
     "text": [
      "==========\n",
      "Cluster 0:\n",
      "1 I will preface this review with the fact that I am Italian and I am from Long Island, N.Y (roll your eyes, but the fact remains I know great authentic Italian food)..\n",
      "\n",
      "Ordered delivery from this establishment this evening via EAT24. I have been dying to try it.. as authentic Italian cuisine is obviously up my alley, especially on days when I don't feel like cooking. Ordered a margherita pizza, calamari, and tiramisu. I figured the old standbys should give me a sense of quality with this place.\n",
      "\n",
      "Delivery was 20 minutes earlier than the EAT24 app estimated. Great!  Everything should be hot then. Wrong!  Pizza and calamari were stone cold. Tiramisu was so-so.\n",
      "\n",
      "I'm half dressed (Hello! Hence delivery), so I couldn't really run after the delivery guy.  I immediately put the tiramisu in the fridge and heat my oven to 500 degrees, in hopes of saving the pizza. While the oven was going, I attempted to place the pizza on my pizza stone and it was such a project because of how soggy it was. Still, I hoped that I could save it in the oven.\n",
      "\n",
      "I start eating the calamari, which was edible and probably my favorite part next to the complimentary rustic bread (that's where your 1 star came from, thumbs up on the bread and tapanade). $13\n",
      "\n",
      "When the pizza came out, it was even worse than when I put it in. I gave up and just ate it because I was so hungry. Flavor was \"eh\" on top of it. I make a better margherita pizza at home. I'm so disappointed and I was most looking forward to this pizza, I wanted to love it so much. $11\n",
      "\n",
      "Tiramisu pictures from being served in the restaurant (posted by other Yelpers) show a nice, huge piece of my favorite dessert. That's why I ordered it at $6 a slice. My slice is the tinest piece of cake I have ever had from a restaurant. \n",
      "\n",
      "With tip, I paid an even $40 for utter disappointment all the way around. But here's my tip for YOU, Prosecco.. if the quality of your food cannot be upheld, and the integrity of your product is at stake during the delivery process, DON'T OFFER THE SERVICE.\n",
      "5 Great staff, the friendliest employees. This place is really managed well. The lunch buffet is $6!!! What a deal. I'm vegan and the only thing I could eat in the buffet was the mandarin salad. Then the staff offered to make me the veggie harvest pizza... vegan style!!! It was loaded with yummy veggies and the sauce tasted great! They even put the whole pizza in a box for me to take home. Wonderful staff, fun atmosphere, and delicious food! 100% recommend\n",
      "\n",
      "==========\n",
      "Cluster 1:\n",
      "5 Great food and service combined with a great beer selection.  You cannot beat their happy hour specials!!!\n",
      "4 Great Thai food, good atmosphere, our go to for thai. I ordered take out for the whole family, everyone loved it. I love the seafood soup.\n",
      "\n",
      "==========\n",
      "Cluster 2:\n",
      "3 Cafe Breizh is a small cafe with a limited non bakery menu. During our visit there was only one person taking orders which added to the wait time. We ordered a plain croissant and the La Norvegienne Galette. After placing the order at the counter we received a number and seated ourselves. Seating comfort could be improved with cushioned chairs. \n",
      "The Gallette was delivered after a short wait but not the croissant which I thought was strange since the Galette was made to order and the croissant was off the shelf and not even warmed up. After several minutes I returned to the counter and asked about the croissant and was told it would be right out. I don't if they forgot or what? \n",
      "The croissant was good but nothing special. However, the Galette with smoked salmon, sauteed vegetables (carrots, onions and celery) topped with creme chive was delicious. The salmon was juicy and nicely smoked and the vegetables were tender.\n",
      "I would award four stars if the service was improved.\n",
      "1 Avoid like the plague. \n",
      "\n",
      "I was staying at a hotel Saturday night and saw someone walk in front of the light of my peephole and then four (4) menus slid under my door. I opened the door and a moron in a red jacket was walking away; I told him to take back his menu and he ignored me. I told him again and he said, \"If you don't like it, throw it on the floor\" and kept walking complaining about his job. If they're using tactics like that to sell what appears to be substandard products then that speaks volumes about the business itself. \n",
      "\n",
      "Avoid.\n",
      "\n",
      "==========\n",
      "Cluster 3:\n",
      "5 Service: excellent! Brandon and bar staff were on point. Calamari: delightful. Light and the aioli was perfect! Turkey burger: I used to compare turkey burgers to that of Holsteins but now this is the winner. So MOIST but still with a nice crunch from the straws. We love beer so the choices are decent. But I'll be honest, been waiting for a decent spot since container park opened and everything has always been mediocre...but THE PERCH we'd come back for.\n",
      "2 Really cool vibes at this place. They have many unique options on the menu that make it hard to choose from.\n",
      "Service was excellent, no complaints there . \n",
      "I had the queen maggie. Which is \"stuffed\" French toast. Anytime I see this on menus I always order it and I was highly disappointed. So much so that I read all the yelp reviews on it. It is sliced cream cheese. Which I've never seen before. Not fluffy or whipped or soft. It didn't seem very stuffed but more so like an undercooked grilled cheese. To make an accurate comparison it was like slices of French toast with thick mozzarella slices in the middle. I've never had stuffed French toast with unmelted cream cheese, so that was a first. And not very tasteful. So I switched with my boyfriend who ordered Colins bossburger. I didn't like it at first because all burgers are cooked medium well, and we agreed but should have asked for medium. The patty itself was dry and had no flavor. After getting halfway through I remembered that it was supposed to come with sauce, so I reminded our server and she brought us a side of burger sauce. This definitely made the burger. It added flavor and moisture and just made everything taste better. We upgraded our fries to garlic fries and they were delicious! Definitely have a prominent garlic flavor. Overall, not sure if I'll be back. But the portions were very big so it made my Groupon very worth it!\n",
      "\n",
      "==========\n",
      "Cluster 4:\n",
      "1 FAR FROM AUTHENTIC. THIS PLACE NEEDS A LOT OF WORK. The food was bland and the beer was lukewarm. Definitely wouldn't recommend this place.\n",
      "5 We don't frequent chain restaurants as much any more due to the plethora of options here in Las Vegas. The commercials for crab fest, however, have owned my soul for a couple weeks now. Hunny decided that we'd visit this restaurant for our date night. SO glad we did! We were seated right away. Our server, Sydney, was amazing! She had awesome recommendations! Definitely try the signature drink and the appetizer! Everything was super yum! We will be back before the end of Crabfest!\n",
      "\n",
      "==========\n",
      "Cluster 5:\n",
      "5 Atmosphere, & service were excellent.  We had Shotgun Sausage & Peppers for appetizer, and it wad wonderful. My husband had Lasagna,  and he said it was the best he'd had in years (including mine). I had Scarface Shrimp Scampi - light and delicate with perfectly cooked shrimp. The whole meal was perfect.\n",
      "5 Excellent, just had a British Party for about 35 of us. Food was very good.\n",
      "Decor is nice, very new and spotlessly clean!\n",
      "Good stocked bar, they were just not used to a large group hitting the bar at once!\n",
      "\n"
     ]
    },
    {
     "ename": "ValueError",
     "evalue": "a must be non-empty",
     "output_type": "error",
     "traceback": [
      "\u001b[0;31m---------------------------------------------------------------------------\u001b[0m",
      "\u001b[0;31mValueError\u001b[0m                                Traceback (most recent call last)",
      "\u001b[0;32m<ipython-input-92-b41bd36a9a26>\u001b[0m in \u001b[0;36m<module>\u001b[0;34m()\u001b[0m\n\u001b[1;32m      1\u001b[0m \u001b[0;32mfor\u001b[0m \u001b[0mi\u001b[0m \u001b[0;32min\u001b[0m \u001b[0mrange\u001b[0m\u001b[0;34m(\u001b[0m\u001b[0mkmeans\u001b[0m\u001b[0;34m.\u001b[0m\u001b[0mn_clusters\u001b[0m\u001b[0;34m)\u001b[0m\u001b[0;34m:\u001b[0m\u001b[0;34m\u001b[0m\u001b[0m\n\u001b[1;32m      2\u001b[0m     \u001b[0mcluster\u001b[0m \u001b[0;34m=\u001b[0m \u001b[0mnp\u001b[0m\u001b[0;34m.\u001b[0m\u001b[0marange\u001b[0m\u001b[0;34m(\u001b[0m\u001b[0;36m0\u001b[0m\u001b[0;34m,\u001b[0m \u001b[0mvectors_documents\u001b[0m\u001b[0;34m.\u001b[0m\u001b[0mshape\u001b[0m\u001b[0;34m[\u001b[0m\u001b[0;36m0\u001b[0m\u001b[0;34m]\u001b[0m\u001b[0;34m)\u001b[0m\u001b[0;34m[\u001b[0m\u001b[0massigned_cluster\u001b[0m\u001b[0;34m==\u001b[0m\u001b[0mi\u001b[0m\u001b[0;34m]\u001b[0m\u001b[0;34m\u001b[0m\u001b[0m\n\u001b[0;32m----> 3\u001b[0;31m     \u001b[0msample_reviews\u001b[0m \u001b[0;34m=\u001b[0m \u001b[0mnp\u001b[0m\u001b[0;34m.\u001b[0m\u001b[0mrandom\u001b[0m\u001b[0;34m.\u001b[0m\u001b[0mchoice\u001b[0m\u001b[0;34m(\u001b[0m\u001b[0mcluster\u001b[0m\u001b[0;34m,\u001b[0m \u001b[0;36m2\u001b[0m\u001b[0;34m,\u001b[0m \u001b[0mreplace\u001b[0m\u001b[0;34m=\u001b[0m\u001b[0mFalse\u001b[0m\u001b[0;34m)\u001b[0m\u001b[0;34m\u001b[0m\u001b[0m\n\u001b[0m\u001b[1;32m      4\u001b[0m     \u001b[0;32mprint\u001b[0m \u001b[0;34m\"=\"\u001b[0m \u001b[0;34m*\u001b[0m \u001b[0;36m10\u001b[0m\u001b[0;34m\u001b[0m\u001b[0m\n\u001b[1;32m      5\u001b[0m     \u001b[0;32mprint\u001b[0m \u001b[0;34m\"Cluster %d:\"\u001b[0m \u001b[0;34m%\u001b[0m \u001b[0mi\u001b[0m\u001b[0;34m\u001b[0m\u001b[0m\n",
      "\u001b[0;32mmtrand.pyx\u001b[0m in \u001b[0;36mmtrand.RandomState.choice\u001b[0;34m()\u001b[0m\n",
      "\u001b[0;31mValueError\u001b[0m: a must be non-empty"
     ]
    }
   ],
   "source": [
    "for i in range(kmeans.n_clusters):\n",
    "    cluster = np.arange(0, vectors_documents.shape[0])[assigned_cluster==i]\n",
    "    sample_reviews = np.random.choice(cluster, 2, replace=False)\n",
    "    print \"=\" * 10\n",
    "    print \"Cluster %d:\" % i\n",
    "    for review_index in sample_reviews:\n",
    "        print df.ix[review_index]['stars'],\n",
    "        print df.ix[review_index]['text']\n",
    "    print"
   ]
  },
  {
   "cell_type": "markdown",
   "metadata": {},
   "source": [
    "## 3. Use PCA to reduce dimensionality"
   ]
  },
  {
   "cell_type": "markdown",
   "metadata": {},
   "source": [
    "### Stardardize features"
   ]
  },
  {
   "cell_type": "code",
   "execution_count": 93,
   "metadata": {},
   "outputs": [],
   "source": [
    "from sklearn.preprocessing import StandardScaler\n",
    "\n",
    "scaler = StandardScaler()\n",
    "\n",
    "X_train_scaled = scaler.fit_transform(train_vector_top)\n",
    "X_test_scaled = scaler.transform(test_vector_top)"
   ]
  },
  {
   "cell_type": "markdown",
   "metadata": {},
   "source": [
    "### Use PCA to transform data (train and test) and get princial components"
   ]
  },
  {
   "cell_type": "code",
   "execution_count": 94,
   "metadata": {},
   "outputs": [],
   "source": [
    "from sklearn.decomposition import PCA\n",
    "\n",
    "n_components = 50\n",
    "\n",
    "pca = PCA(n_components)\n",
    "\n",
    "X_train_pca = pca.fit_transform(X_train_scaled)\n",
    "\n",
    "X_test_pca = pca.transform(X_test_scaled)\n"
   ]
  },
  {
   "cell_type": "code",
   "execution_count": 95,
   "metadata": {},
   "outputs": [
    {
     "data": {
      "text/plain": [
       "((775, 50), (518, 50))"
      ]
     },
     "execution_count": 95,
     "metadata": {},
     "output_type": "execute_result"
    }
   ],
   "source": [
    "X_train_pca.shape, X_test_pca.shape"
   ]
  },
  {
   "cell_type": "code",
   "execution_count": 96,
   "metadata": {},
   "outputs": [
    {
     "data": {
      "text/plain": [
       "(50, 1000)"
      ]
     },
     "execution_count": 96,
     "metadata": {},
     "output_type": "execute_result"
    }
   ],
   "source": [
    "pca.components_.shape"
   ]
  },
  {
   "cell_type": "markdown",
   "metadata": {},
   "source": [
    "### See how much (and how much percentage of) variance the principal components explain"
   ]
  },
  {
   "cell_type": "code",
   "execution_count": 97,
   "metadata": {},
   "outputs": [
    {
     "name": "stdout",
     "output_type": "stream",
     "text": [
      "[9.61904229 7.11942111 5.68737593 5.34229125 4.97062013 4.86384864\n",
      " 4.81239028 4.71340081 4.6796114  4.58085673]\n"
     ]
    }
   ],
   "source": [
    "print pca.explained_variance_[:10]"
   ]
  },
  {
   "cell_type": "code",
   "execution_count": 98,
   "metadata": {},
   "outputs": [
    {
     "name": "stdout",
     "output_type": "stream",
     "text": [
      "[0.00960663 0.00711023 0.00568004 0.0053354  0.00496421 0.00485757\n",
      " 0.00480618 0.00470732 0.00467357 0.00457495]\n"
     ]
    }
   ],
   "source": [
    "print pca.explained_variance_ratio_[:10]"
   ]
  },
  {
   "cell_type": "markdown",
   "metadata": {},
   "source": [
    "### Plot proportion of variance explained with top principal components"
   ]
  },
  {
   "cell_type": "code",
   "execution_count": 99,
   "metadata": {},
   "outputs": [
    {
     "data": {
      "image/png": "[encoded data removed]",
      "text/plain": [
       "<matplotlib.figure.Figure at 0x10e98e810>"
      ]
     },
     "metadata": {},
     "output_type": "display_data"
    }
   ],
   "source": [
    "n_col_to_display = 20\n",
    "\n",
    "pca_range = np.arange(n_col_to_display) + 1\n",
    "pca_names = ['PCA_%s' % i for i in pca_range]\n",
    "\n",
    "plt.figure(figsize=(10, 10))\n",
    "plt.bar(pca_range, pca.explained_variance_[:n_col_to_display], align='center')\n",
    "xticks = plt.xticks(pca_range, pca_names, rotation=90)\n",
    "plt.ylabel('Variance Explained')\n",
    "plt.show()"
   ]
  },
  {
   "cell_type": "markdown",
   "metadata": {},
   "source": [
    "## Classifying positive/negative review with PCA preprocessing"
   ]
  },
  {
   "cell_type": "code",
   "execution_count": 100,
   "metadata": {},
   "outputs": [
    {
     "data": {
      "text/plain": [
       "((775, 1000), (775,))"
      ]
     },
     "execution_count": 100,
     "metadata": {},
     "output_type": "execute_result"
    }
   ],
   "source": [
    "X_train_scaled.shape, y_train.shape"
   ]
  },
  {
   "cell_type": "code",
   "execution_count": 101,
   "metadata": {},
   "outputs": [
    {
     "data": {
      "text/plain": [
       "((775, 50), (775,))"
      ]
     },
     "execution_count": 101,
     "metadata": {},
     "output_type": "execute_result"
    }
   ],
   "source": [
    "X_train_pca.shape, y_train.shape"
   ]
  },
  {
   "cell_type": "markdown",
   "metadata": {},
   "source": [
    "### Logistic Regression Classifier\n",
    "#### Build a Logistic Regression Classifier, train with standardized tf-idf vectors"
   ]
  },
  {
   "cell_type": "code",
   "execution_count": 102,
   "metadata": {},
   "outputs": [
    {
     "data": {
      "text/plain": [
       "LogisticRegression(C=1.0, class_weight=None, dual=False, fit_intercept=True,\n",
       "          intercept_scaling=1, max_iter=100, multi_class='ovr', n_jobs=1,\n",
       "          penalty='l2', random_state=42, solver='liblinear', tol=0.0001,\n",
       "          verbose=0, warm_start=False)"
      ]
     },
     "execution_count": 102,
     "metadata": {},
     "output_type": "execute_result"
    }
   ],
   "source": [
    "from sklearn.linear_model import LogisticRegression\n",
    "\n",
    "model_lrc = LogisticRegression(random_state=42)\n",
    "\n",
    "model_lrc.fit(X_train_scaled, y_train)"
   ]
  },
  {
   "cell_type": "code",
   "execution_count": 103,
   "metadata": {},
   "outputs": [
    {
     "data": {
      "text/plain": [
       "1.0"
      ]
     },
     "execution_count": 103,
     "metadata": {},
     "output_type": "execute_result"
    }
   ],
   "source": [
    "model_lrc.score(X_train_scaled, y_train)"
   ]
  },
  {
   "cell_type": "code",
   "execution_count": 104,
   "metadata": {
    "scrolled": true
   },
   "outputs": [
    {
     "data": {
      "text/plain": [
       "0.5675675675675675"
      ]
     },
     "execution_count": 104,
     "metadata": {},
     "output_type": "execute_result"
    }
   ],
   "source": [
    "model_lrc.score(X_test_scaled, y_test)"
   ]
  },
  {
   "cell_type": "markdown",
   "metadata": {},
   "source": [
    "Very overfitting!"
   ]
  },
  {
   "cell_type": "markdown",
   "metadata": {},
   "source": [
    "#### Use (Stardardized + PCA) tf-idf vectors as features"
   ]
  },
  {
   "cell_type": "code",
   "execution_count": 105,
   "metadata": {},
   "outputs": [
    {
     "data": {
      "text/plain": [
       "LogisticRegression(C=1.0, class_weight=None, dual=False, fit_intercept=True,\n",
       "          intercept_scaling=1, max_iter=100, multi_class='ovr', n_jobs=1,\n",
       "          penalty='l2', random_state=42, solver='liblinear', tol=0.0001,\n",
       "          verbose=0, warm_start=False)"
      ]
     },
     "execution_count": 105,
     "metadata": {},
     "output_type": "execute_result"
    }
   ],
   "source": [
    "from sklearn.linear_model import LogisticRegression\n",
    "\n",
    "model_lrc_pca = LogisticRegression(random_state=42)\n",
    "\n",
    "model_lrc_pca.fit(X_train_pca, y_train)"
   ]
  },
  {
   "cell_type": "code",
   "execution_count": 106,
   "metadata": {},
   "outputs": [
    {
     "data": {
      "text/plain": [
       "0.7948387096774193"
      ]
     },
     "execution_count": 106,
     "metadata": {},
     "output_type": "execute_result"
    }
   ],
   "source": [
    "model_lrc_pca.score(X_train_pca, y_train)"
   ]
  },
  {
   "cell_type": "code",
   "execution_count": 107,
   "metadata": {},
   "outputs": [
    {
     "data": {
      "text/plain": [
       "0.6486486486486487"
      ]
     },
     "execution_count": 107,
     "metadata": {},
     "output_type": "execute_result"
    }
   ],
   "source": [
    "model_lrc_pca.score(X_test_pca, y_test)"
   ]
  },
  {
   "cell_type": "markdown",
   "metadata": {},
   "source": [
    "By comparing the results from PCA and non-PCA, we can see that the Stardardized + PCA has much reduced the overfitting probelm."
   ]
  },
  {
   "cell_type": "markdown",
   "metadata": {},
   "source": [
    "#### Plot the coefficients against principal components\n"
   ]
  },
  {
   "cell_type": "code",
   "execution_count": 108,
   "metadata": {},
   "outputs": [
    {
     "data": {
      "text/html": [
       "<div>\n",
       "<style scoped>\n",
       "    .dataframe tbody tr th:only-of-type {\n",
       "        vertical-align: middle;\n",
       "    }\n",
       "\n",
       "    .dataframe tbody tr th {\n",
       "        vertical-align: top;\n",
       "    }\n",
       "\n",
       "    .dataframe thead th {\n",
       "        text-align: right;\n",
       "    }\n",
       "</style>\n",
       "<table border=\"1\" class=\"dataframe\">\n",
       "  <thead>\n",
       "    <tr style=\"text-align: right;\">\n",
       "      <th></th>\n",
       "      <th>PCs</th>\n",
       "      <th>coeff</th>\n",
       "    </tr>\n",
       "  </thead>\n",
       "  <tbody>\n",
       "    <tr>\n",
       "      <th>43</th>\n",
       "      <td>PC_44</td>\n",
       "      <td>0.418505</td>\n",
       "    </tr>\n",
       "    <tr>\n",
       "      <th>34</th>\n",
       "      <td>PC_35</td>\n",
       "      <td>0.205765</td>\n",
       "    </tr>\n",
       "    <tr>\n",
       "      <th>7</th>\n",
       "      <td>PC_8</td>\n",
       "      <td>0.198779</td>\n",
       "    </tr>\n",
       "    <tr>\n",
       "      <th>0</th>\n",
       "      <td>PC_1</td>\n",
       "      <td>0.173456</td>\n",
       "    </tr>\n",
       "    <tr>\n",
       "      <th>32</th>\n",
       "      <td>PC_33</td>\n",
       "      <td>0.141039</td>\n",
       "    </tr>\n",
       "    <tr>\n",
       "      <th>45</th>\n",
       "      <td>PC_46</td>\n",
       "      <td>0.121657</td>\n",
       "    </tr>\n",
       "    <tr>\n",
       "      <th>3</th>\n",
       "      <td>PC_4</td>\n",
       "      <td>0.103782</td>\n",
       "    </tr>\n",
       "    <tr>\n",
       "      <th>19</th>\n",
       "      <td>PC_20</td>\n",
       "      <td>0.092693</td>\n",
       "    </tr>\n",
       "    <tr>\n",
       "      <th>33</th>\n",
       "      <td>PC_34</td>\n",
       "      <td>0.087564</td>\n",
       "    </tr>\n",
       "    <tr>\n",
       "      <th>44</th>\n",
       "      <td>PC_45</td>\n",
       "      <td>0.079570</td>\n",
       "    </tr>\n",
       "    <tr>\n",
       "      <th>12</th>\n",
       "      <td>PC_13</td>\n",
       "      <td>0.072997</td>\n",
       "    </tr>\n",
       "    <tr>\n",
       "      <th>11</th>\n",
       "      <td>PC_12</td>\n",
       "      <td>0.071614</td>\n",
       "    </tr>\n",
       "    <tr>\n",
       "      <th>41</th>\n",
       "      <td>PC_42</td>\n",
       "      <td>0.065356</td>\n",
       "    </tr>\n",
       "    <tr>\n",
       "      <th>14</th>\n",
       "      <td>PC_15</td>\n",
       "      <td>0.063188</td>\n",
       "    </tr>\n",
       "    <tr>\n",
       "      <th>23</th>\n",
       "      <td>PC_24</td>\n",
       "      <td>0.062996</td>\n",
       "    </tr>\n",
       "    <tr>\n",
       "      <th>16</th>\n",
       "      <td>PC_17</td>\n",
       "      <td>0.041068</td>\n",
       "    </tr>\n",
       "    <tr>\n",
       "      <th>2</th>\n",
       "      <td>PC_3</td>\n",
       "      <td>0.034746</td>\n",
       "    </tr>\n",
       "    <tr>\n",
       "      <th>13</th>\n",
       "      <td>PC_14</td>\n",
       "      <td>0.021434</td>\n",
       "    </tr>\n",
       "    <tr>\n",
       "      <th>1</th>\n",
       "      <td>PC_2</td>\n",
       "      <td>0.009491</td>\n",
       "    </tr>\n",
       "    <tr>\n",
       "      <th>5</th>\n",
       "      <td>PC_6</td>\n",
       "      <td>-0.008504</td>\n",
       "    </tr>\n",
       "    <tr>\n",
       "      <th>4</th>\n",
       "      <td>PC_5</td>\n",
       "      <td>-0.020793</td>\n",
       "    </tr>\n",
       "    <tr>\n",
       "      <th>42</th>\n",
       "      <td>PC_43</td>\n",
       "      <td>-0.021670</td>\n",
       "    </tr>\n",
       "    <tr>\n",
       "      <th>47</th>\n",
       "      <td>PC_48</td>\n",
       "      <td>-0.021902</td>\n",
       "    </tr>\n",
       "    <tr>\n",
       "      <th>15</th>\n",
       "      <td>PC_16</td>\n",
       "      <td>-0.028996</td>\n",
       "    </tr>\n",
       "    <tr>\n",
       "      <th>24</th>\n",
       "      <td>PC_25</td>\n",
       "      <td>-0.046483</td>\n",
       "    </tr>\n",
       "    <tr>\n",
       "      <th>25</th>\n",
       "      <td>PC_26</td>\n",
       "      <td>-0.056465</td>\n",
       "    </tr>\n",
       "    <tr>\n",
       "      <th>30</th>\n",
       "      <td>PC_31</td>\n",
       "      <td>-0.074354</td>\n",
       "    </tr>\n",
       "    <tr>\n",
       "      <th>38</th>\n",
       "      <td>PC_39</td>\n",
       "      <td>-0.076733</td>\n",
       "    </tr>\n",
       "    <tr>\n",
       "      <th>48</th>\n",
       "      <td>PC_49</td>\n",
       "      <td>-0.090502</td>\n",
       "    </tr>\n",
       "    <tr>\n",
       "      <th>22</th>\n",
       "      <td>PC_23</td>\n",
       "      <td>-0.090674</td>\n",
       "    </tr>\n",
       "    <tr>\n",
       "      <th>8</th>\n",
       "      <td>PC_9</td>\n",
       "      <td>-0.095079</td>\n",
       "    </tr>\n",
       "    <tr>\n",
       "      <th>37</th>\n",
       "      <td>PC_38</td>\n",
       "      <td>-0.097284</td>\n",
       "    </tr>\n",
       "    <tr>\n",
       "      <th>9</th>\n",
       "      <td>PC_10</td>\n",
       "      <td>-0.100758</td>\n",
       "    </tr>\n",
       "    <tr>\n",
       "      <th>10</th>\n",
       "      <td>PC_11</td>\n",
       "      <td>-0.103182</td>\n",
       "    </tr>\n",
       "    <tr>\n",
       "      <th>39</th>\n",
       "      <td>PC_40</td>\n",
       "      <td>-0.103946</td>\n",
       "    </tr>\n",
       "    <tr>\n",
       "      <th>46</th>\n",
       "      <td>PC_47</td>\n",
       "      <td>-0.110249</td>\n",
       "    </tr>\n",
       "    <tr>\n",
       "      <th>40</th>\n",
       "      <td>PC_41</td>\n",
       "      <td>-0.110784</td>\n",
       "    </tr>\n",
       "    <tr>\n",
       "      <th>6</th>\n",
       "      <td>PC_7</td>\n",
       "      <td>-0.120267</td>\n",
       "    </tr>\n",
       "    <tr>\n",
       "      <th>27</th>\n",
       "      <td>PC_28</td>\n",
       "      <td>-0.129600</td>\n",
       "    </tr>\n",
       "    <tr>\n",
       "      <th>36</th>\n",
       "      <td>PC_37</td>\n",
       "      <td>-0.140970</td>\n",
       "    </tr>\n",
       "    <tr>\n",
       "      <th>31</th>\n",
       "      <td>PC_32</td>\n",
       "      <td>-0.160915</td>\n",
       "    </tr>\n",
       "    <tr>\n",
       "      <th>49</th>\n",
       "      <td>PC_50</td>\n",
       "      <td>-0.173442</td>\n",
       "    </tr>\n",
       "    <tr>\n",
       "      <th>29</th>\n",
       "      <td>PC_30</td>\n",
       "      <td>-0.174885</td>\n",
       "    </tr>\n",
       "    <tr>\n",
       "      <th>35</th>\n",
       "      <td>PC_36</td>\n",
       "      <td>-0.179282</td>\n",
       "    </tr>\n",
       "    <tr>\n",
       "      <th>17</th>\n",
       "      <td>PC_18</td>\n",
       "      <td>-0.179952</td>\n",
       "    </tr>\n",
       "    <tr>\n",
       "      <th>28</th>\n",
       "      <td>PC_29</td>\n",
       "      <td>-0.199302</td>\n",
       "    </tr>\n",
       "    <tr>\n",
       "      <th>21</th>\n",
       "      <td>PC_22</td>\n",
       "      <td>-0.200864</td>\n",
       "    </tr>\n",
       "    <tr>\n",
       "      <th>20</th>\n",
       "      <td>PC_21</td>\n",
       "      <td>-0.210320</td>\n",
       "    </tr>\n",
       "    <tr>\n",
       "      <th>18</th>\n",
       "      <td>PC_19</td>\n",
       "      <td>-0.231258</td>\n",
       "    </tr>\n",
       "    <tr>\n",
       "      <th>26</th>\n",
       "      <td>PC_27</td>\n",
       "      <td>-0.274202</td>\n",
       "    </tr>\n",
       "  </tbody>\n",
       "</table>\n",
       "</div>"
      ],
      "text/plain": [
       "      PCs     coeff\n",
       "43  PC_44  0.418505\n",
       "34  PC_35  0.205765\n",
       "7    PC_8  0.198779\n",
       "0    PC_1  0.173456\n",
       "32  PC_33  0.141039\n",
       "45  PC_46  0.121657\n",
       "3    PC_4  0.103782\n",
       "19  PC_20  0.092693\n",
       "33  PC_34  0.087564\n",
       "44  PC_45  0.079570\n",
       "12  PC_13  0.072997\n",
       "11  PC_12  0.071614\n",
       "41  PC_42  0.065356\n",
       "14  PC_15  0.063188\n",
       "23  PC_24  0.062996\n",
       "16  PC_17  0.041068\n",
       "2    PC_3  0.034746\n",
       "13  PC_14  0.021434\n",
       "1    PC_2  0.009491\n",
       "5    PC_6 -0.008504\n",
       "4    PC_5 -0.020793\n",
       "42  PC_43 -0.021670\n",
       "47  PC_48 -0.021902\n",
       "15  PC_16 -0.028996\n",
       "24  PC_25 -0.046483\n",
       "25  PC_26 -0.056465\n",
       "30  PC_31 -0.074354\n",
       "38  PC_39 -0.076733\n",
       "48  PC_49 -0.090502\n",
       "22  PC_23 -0.090674\n",
       "8    PC_9 -0.095079\n",
       "37  PC_38 -0.097284\n",
       "9   PC_10 -0.100758\n",
       "10  PC_11 -0.103182\n",
       "39  PC_40 -0.103946\n",
       "46  PC_47 -0.110249\n",
       "40  PC_41 -0.110784\n",
       "6    PC_7 -0.120267\n",
       "27  PC_28 -0.129600\n",
       "36  PC_37 -0.140970\n",
       "31  PC_32 -0.160915\n",
       "49  PC_50 -0.173442\n",
       "29  PC_30 -0.174885\n",
       "35  PC_36 -0.179282\n",
       "17  PC_18 -0.179952\n",
       "28  PC_29 -0.199302\n",
       "21  PC_22 -0.200864\n",
       "20  PC_21 -0.210320\n",
       "18  PC_19 -0.231258\n",
       "26  PC_27 -0.274202"
      ]
     },
     "execution_count": 108,
     "metadata": {},
     "output_type": "execute_result"
    }
   ],
   "source": [
    "pca_range = np.arange(pca.n_components_) + 1\n",
    "pca_names = ['PC_%s' % i for i in pca_range]\n",
    "\n",
    "df_coeffs = pd.DataFrame(list(zip(pca_names, model_lrc.coef_.flatten()))).sort_values(by=[1], ascending=False)\n",
    "df_coeffs.columns = ['PCs', 'coeff']\n",
    "df_coeffs"
   ]
  },
  {
   "cell_type": "code",
   "execution_count": 109,
   "metadata": {},
   "outputs": [
    {
     "data": {
      "image/png": "[encoded data removed]",
      "text/plain": [
       "<matplotlib.figure.Figure at 0x10e98e0d0>"
      ]
     },
     "metadata": {},
     "output_type": "display_data"
    }
   ],
   "source": [
    "ax = df_coeffs.plot.barh(figsize=(10, 10))\n",
    "t = np.arange(pca.n_components_)\n",
    "ax.set_yticks(t)\n",
    "ax.set_yticklabels(df_coeffs['PCs'])\n",
    "plt.show()"
   ]
  },
  {
   "cell_type": "markdown",
   "metadata": {},
   "source": [
    "## For each cluster, which restaurant can best represent (\"define\") its cluster?"
   ]
  },
  {
   "cell_type": "markdown",
   "metadata": {},
   "source": [
    "Here I define the \"best\" representation of a cluster as the value point that is closest to its cluster center, i.e. the distance between the point and the cluster center is the smallest.  That point is defined as the most representative of its cluster."
   ]
  },
  {
   "cell_type": "code",
   "execution_count": 119,
   "metadata": {},
   "outputs": [
    {
     "name": "stdout",
     "output_type": "stream",
     "text": [
      "Cluster 0: Best represent Restaurant Delmonico Steakhouse\n",
      "Cluster 1: Best represent Restaurant Bavette's Steakhouse & Bar\n",
      "Cluster 2: Best represent Restaurant Michael Mina\n",
      "Cluster 3: Best represent Restaurant Sin City Thai Restaurant\n",
      "Cluster 4: Best represent Restaurant Fresh Buffet\n",
      "Cluster 5: Best represent Restaurant Smashburger\n",
      "Cluster 6: Best represent Restaurant Ichi Ramen House\n",
      "Cluster 7: Best represent Restaurant Woo Chun Korean BBQ\n"
     ]
    }
   ],
   "source": [
    "restaurant = df.name.unique()\n",
    "best_rep = kmeans.cluster_centers_.argsort()[:, -1] \n",
    "# argsort orders from small to big, -1 is used to select the one with highest weight in the centroid vector.\n",
    "for i, rep in enumerate(best_rep):\n",
    "    print \"Cluster %i: Best represent Restaurant %s\" % (i, restaurant[i] )"
   ]
  }
 ],
 "metadata": {
  "anaconda-cloud": {},
  "kernelspec": {
   "display_name": "Python 2",
   "language": "python",
   "name": "python2"
  },
  "language_info": {
   "codemirror_mode": {
    "name": "ipython",
    "version": 2
   },
   "file_extension": ".py",
   "mimetype": "text/x-python",
   "name": "python",
   "nbconvert_exporter": "python",
   "pygments_lexer": "ipython2",
   "version": "2.7.14"
  }
 },
 "nbformat": 4,
 "nbformat_minor": 1
}
