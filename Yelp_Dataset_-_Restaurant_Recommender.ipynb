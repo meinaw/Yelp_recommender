{
 "cells": [
  {
   "cell_type": "markdown",
   "metadata": {},
   "source": [
    "# Yelp Data Challenge - Restaurant Recommender\n",
    "\n",
    "BitTiger DS501\n",
    "\n",
    "Nov 2017"
   ]
  },
  {
   "cell_type": "code",
   "execution_count": 1,
   "metadata": {
    "collapsed": false
   },
   "outputs": [],
   "source": [
    "import pandas as pd\n",
    "import numpy as np\n",
    "import matplotlib.pyplot as plt\n",
    "% matplotlib inline\n",
    "plt.style.use(\"ggplot\")"
   ]
  },
  {
   "cell_type": "code",
   "execution_count": 2,
   "metadata": {
    "collapsed": true
   },
   "outputs": [],
   "source": [
    "df = pd.read_csv('dataset/last_1_years_restaurant_reviews.csv')"
   ]
  },
  {
   "cell_type": "code",
   "execution_count": 3,
   "metadata": {
    "collapsed": false
   },
   "outputs": [
    {
     "data": {
      "text/html": [
       "<div>\n",
       "<table border=\"1\" class=\"dataframe\">\n",
       "  <thead>\n",
       "    <tr style=\"text-align: right;\">\n",
       "      <th></th>\n",
       "      <th>business_id</th>\n",
       "      <th>name</th>\n",
       "      <th>categories</th>\n",
       "      <th>avg_stars</th>\n",
       "      <th>cool</th>\n",
       "      <th>date</th>\n",
       "      <th>funny</th>\n",
       "      <th>review_id</th>\n",
       "      <th>stars</th>\n",
       "      <th>text</th>\n",
       "      <th>useful</th>\n",
       "      <th>user_id</th>\n",
       "    </tr>\n",
       "  </thead>\n",
       "  <tbody>\n",
       "    <tr>\n",
       "      <th>0</th>\n",
       "      <td>--9e1ONYQuAa-CB_Rrw7Tw</td>\n",
       "      <td>Delmonico Steakhouse</td>\n",
       "      <td>[Cajun/Creole, Steakhouses, Restaurants]</td>\n",
       "      <td>4.0</td>\n",
       "      <td>0</td>\n",
       "      <td>2017-02-14</td>\n",
       "      <td>0</td>\n",
       "      <td>Xp3ppynEvVu1KxDHQ3ae8w</td>\n",
       "      <td>5</td>\n",
       "      <td>Delmonico Steakhouse is a steakhouse owned by ...</td>\n",
       "      <td>0</td>\n",
       "      <td>KC8H7qTZVPIEnanw9fG43g</td>\n",
       "    </tr>\n",
       "    <tr>\n",
       "      <th>1</th>\n",
       "      <td>--9e1ONYQuAa-CB_Rrw7Tw</td>\n",
       "      <td>Delmonico Steakhouse</td>\n",
       "      <td>[Cajun/Creole, Steakhouses, Restaurants]</td>\n",
       "      <td>4.0</td>\n",
       "      <td>1</td>\n",
       "      <td>2017-05-28</td>\n",
       "      <td>0</td>\n",
       "      <td>LEzphAnz0vKE32PUCbjLgQ</td>\n",
       "      <td>4</td>\n",
       "      <td>One of the top steak places I've had in Vegas ...</td>\n",
       "      <td>2</td>\n",
       "      <td>3RTesI_MAwct13LWm4rhLw</td>\n",
       "    </tr>\n",
       "    <tr>\n",
       "      <th>2</th>\n",
       "      <td>--9e1ONYQuAa-CB_Rrw7Tw</td>\n",
       "      <td>Delmonico Steakhouse</td>\n",
       "      <td>[Cajun/Creole, Steakhouses, Restaurants]</td>\n",
       "      <td>4.0</td>\n",
       "      <td>0</td>\n",
       "      <td>2017-08-25</td>\n",
       "      <td>0</td>\n",
       "      <td>4e-cxYVdlIu2ZDxVJqUfOQ</td>\n",
       "      <td>5</td>\n",
       "      <td>This place is superb from the customer service...</td>\n",
       "      <td>0</td>\n",
       "      <td>EAOt1UQhJD0GG3l_jv7rWA</td>\n",
       "    </tr>\n",
       "    <tr>\n",
       "      <th>3</th>\n",
       "      <td>--9e1ONYQuAa-CB_Rrw7Tw</td>\n",
       "      <td>Delmonico Steakhouse</td>\n",
       "      <td>[Cajun/Creole, Steakhouses, Restaurants]</td>\n",
       "      <td>4.0</td>\n",
       "      <td>1</td>\n",
       "      <td>2017-02-12</td>\n",
       "      <td>1</td>\n",
       "      <td>heZd0W3HuPJxZBrCYD3wDw</td>\n",
       "      <td>2</td>\n",
       "      <td>Lousy steak. \\n\\nThe service was great - Todd,...</td>\n",
       "      <td>3</td>\n",
       "      <td>OtKA03ALQQ1CBhtaJod_Jw</td>\n",
       "    </tr>\n",
       "    <tr>\n",
       "      <th>4</th>\n",
       "      <td>--9e1ONYQuAa-CB_Rrw7Tw</td>\n",
       "      <td>Delmonico Steakhouse</td>\n",
       "      <td>[Cajun/Creole, Steakhouses, Restaurants]</td>\n",
       "      <td>4.0</td>\n",
       "      <td>0</td>\n",
       "      <td>2017-12-10</td>\n",
       "      <td>0</td>\n",
       "      <td>exzXjy7Y2ICX_BEVTDWpJA</td>\n",
       "      <td>5</td>\n",
       "      <td>I got the filet mignon with seared foigras and...</td>\n",
       "      <td>0</td>\n",
       "      <td>Ymtd4cQypep_QZJ-qJsHuA</td>\n",
       "    </tr>\n",
       "  </tbody>\n",
       "</table>\n",
       "</div>"
      ],
      "text/plain": [
       "              business_id                  name  \\\n",
       "0  --9e1ONYQuAa-CB_Rrw7Tw  Delmonico Steakhouse   \n",
       "1  --9e1ONYQuAa-CB_Rrw7Tw  Delmonico Steakhouse   \n",
       "2  --9e1ONYQuAa-CB_Rrw7Tw  Delmonico Steakhouse   \n",
       "3  --9e1ONYQuAa-CB_Rrw7Tw  Delmonico Steakhouse   \n",
       "4  --9e1ONYQuAa-CB_Rrw7Tw  Delmonico Steakhouse   \n",
       "\n",
       "                                 categories  avg_stars  cool        date  \\\n",
       "0  [Cajun/Creole, Steakhouses, Restaurants]        4.0     0  2017-02-14   \n",
       "1  [Cajun/Creole, Steakhouses, Restaurants]        4.0     1  2017-05-28   \n",
       "2  [Cajun/Creole, Steakhouses, Restaurants]        4.0     0  2017-08-25   \n",
       "3  [Cajun/Creole, Steakhouses, Restaurants]        4.0     1  2017-02-12   \n",
       "4  [Cajun/Creole, Steakhouses, Restaurants]        4.0     0  2017-12-10   \n",
       "\n",
       "   funny               review_id  stars  \\\n",
       "0      0  Xp3ppynEvVu1KxDHQ3ae8w      5   \n",
       "1      0  LEzphAnz0vKE32PUCbjLgQ      4   \n",
       "2      0  4e-cxYVdlIu2ZDxVJqUfOQ      5   \n",
       "3      1  heZd0W3HuPJxZBrCYD3wDw      2   \n",
       "4      0  exzXjy7Y2ICX_BEVTDWpJA      5   \n",
       "\n",
       "                                                text  useful  \\\n",
       "0  Delmonico Steakhouse is a steakhouse owned by ...       0   \n",
       "1  One of the top steak places I've had in Vegas ...       2   \n",
       "2  This place is superb from the customer service...       0   \n",
       "3  Lousy steak. \\n\\nThe service was great - Todd,...       3   \n",
       "4  I got the filet mignon with seared foigras and...       0   \n",
       "\n",
       "                  user_id  \n",
       "0  KC8H7qTZVPIEnanw9fG43g  \n",
       "1  3RTesI_MAwct13LWm4rhLw  \n",
       "2  EAOt1UQhJD0GG3l_jv7rWA  \n",
       "3  OtKA03ALQQ1CBhtaJod_Jw  \n",
       "4  Ymtd4cQypep_QZJ-qJsHuA  "
      ]
     },
     "execution_count": 3,
     "metadata": {},
     "output_type": "execute_result"
    }
   ],
   "source": [
    "df.head()"
   ]
  },
  {
   "cell_type": "markdown",
   "metadata": {},
   "source": [
    "## 1. Clean data and get rating data "
   ]
  },
  {
   "cell_type": "markdown",
   "metadata": {},
   "source": [
    "#### Select relevant columns in the original dataframe"
   ]
  },
  {
   "cell_type": "code",
   "execution_count": 4,
   "metadata": {
    "collapsed": false
   },
   "outputs": [
    {
     "data": {
      "text/html": [
       "<div>\n",
       "<table border=\"1\" class=\"dataframe\">\n",
       "  <thead>\n",
       "    <tr style=\"text-align: right;\">\n",
       "      <th></th>\n",
       "      <th>business_id</th>\n",
       "      <th>user_id</th>\n",
       "      <th>stars</th>\n",
       "    </tr>\n",
       "  </thead>\n",
       "  <tbody>\n",
       "    <tr>\n",
       "      <th>0</th>\n",
       "      <td>--9e1ONYQuAa-CB_Rrw7Tw</td>\n",
       "      <td>KC8H7qTZVPIEnanw9fG43g</td>\n",
       "      <td>5</td>\n",
       "    </tr>\n",
       "    <tr>\n",
       "      <th>1</th>\n",
       "      <td>--9e1ONYQuAa-CB_Rrw7Tw</td>\n",
       "      <td>3RTesI_MAwct13LWm4rhLw</td>\n",
       "      <td>4</td>\n",
       "    </tr>\n",
       "    <tr>\n",
       "      <th>2</th>\n",
       "      <td>--9e1ONYQuAa-CB_Rrw7Tw</td>\n",
       "      <td>EAOt1UQhJD0GG3l_jv7rWA</td>\n",
       "      <td>5</td>\n",
       "    </tr>\n",
       "    <tr>\n",
       "      <th>3</th>\n",
       "      <td>--9e1ONYQuAa-CB_Rrw7Tw</td>\n",
       "      <td>OtKA03ALQQ1CBhtaJod_Jw</td>\n",
       "      <td>2</td>\n",
       "    </tr>\n",
       "    <tr>\n",
       "      <th>4</th>\n",
       "      <td>--9e1ONYQuAa-CB_Rrw7Tw</td>\n",
       "      <td>Ymtd4cQypep_QZJ-qJsHuA</td>\n",
       "      <td>5</td>\n",
       "    </tr>\n",
       "  </tbody>\n",
       "</table>\n",
       "</div>"
      ],
      "text/plain": [
       "              business_id                 user_id  stars\n",
       "0  --9e1ONYQuAa-CB_Rrw7Tw  KC8H7qTZVPIEnanw9fG43g      5\n",
       "1  --9e1ONYQuAa-CB_Rrw7Tw  3RTesI_MAwct13LWm4rhLw      4\n",
       "2  --9e1ONYQuAa-CB_Rrw7Tw  EAOt1UQhJD0GG3l_jv7rWA      5\n",
       "3  --9e1ONYQuAa-CB_Rrw7Tw  OtKA03ALQQ1CBhtaJod_Jw      2\n",
       "4  --9e1ONYQuAa-CB_Rrw7Tw  Ymtd4cQypep_QZJ-qJsHuA      5"
      ]
     },
     "execution_count": 4,
     "metadata": {},
     "output_type": "execute_result"
    }
   ],
   "source": [
    "# Get business_id, user_id, stars for recommender\n",
    "\n",
    "df_rec = df[['business_id', 'user_id', 'stars']]\n",
    "df_rec.head()"
   ]
  },
  {
   "cell_type": "code",
   "execution_count": 5,
   "metadata": {
    "collapsed": false
   },
   "outputs": [
    {
     "data": {
      "text/plain": [
       "5    83329\n",
       "4    33537\n",
       "1    22348\n",
       "3    17546\n",
       "2    13157\n",
       "Name: stars, dtype: int64"
      ]
     },
     "execution_count": 5,
     "metadata": {},
     "output_type": "execute_result"
    }
   ],
   "source": [
    "df_rec['stars'].value_counts()"
   ]
  },
  {
   "cell_type": "code",
   "execution_count": 6,
   "metadata": {
    "collapsed": false
   },
   "outputs": [
    {
     "data": {
      "text/plain": [
       "169917"
      ]
     },
     "execution_count": 6,
     "metadata": {},
     "output_type": "execute_result"
    }
   ],
   "source": [
    "df_user_count = df_rec['user_id'].value_counts()\n",
    "df_user_count.head()\n",
    "df_user_count.sum()"
   ]
  },
  {
   "cell_type": "code",
   "execution_count": 7,
   "metadata": {
    "collapsed": false
   },
   "outputs": [
    {
     "data": {
      "text/plain": [
       "Index([u'bLbSNkLggFnqwNNzzq-Ijw', u'JaqcCU3nxReTW2cBLHounA',\n",
       "       u'YE54kKTuqJJPNYWIKIpOEQ', u'keBv05MsMFBd0Hu98vXThQ',\n",
       "       u'P0rGN5mDue55uIiAzkrRlw', u'U4INQZOPSUaj8hMjLlZ3KA',\n",
       "       u'bvzwsK8u5i0Kvvyfy7aT1Q', u'OXSJCjKtvZPf-YPDCXcWZg',\n",
       "       u'8dxkcmAXY4ttrVFD1GhbdQ', u'sCelgwFoaNLMC_A7Y8usCw',\n",
       "       ...\n",
       "       u'Wh5DF9NfhhQzgGNIyhxDAA', u'DTL1ZIqnXlxE5gwWWLi8qw',\n",
       "       u'EXLQpXJDGmcN-7_douwqZw', u'Rpqj6raY0tgxQuyu16NG2Q',\n",
       "       u'Md5L1KjZfxTgVgq_Ions5A', u'uV74b2fN1xBkQVPHaY51CQ',\n",
       "       u'aWJRNycIBB9rXqUniSAA9w', u'7KYnhbHu1Rr2HzFhFLGXxg',\n",
       "       u'ekfX9Zb5VPYCIG-DAvQSWg', u'GIaCC4TfsHufCa66YW57Pg'],\n",
       "      dtype='object', length=92274)"
      ]
     },
     "execution_count": 7,
     "metadata": {},
     "output_type": "execute_result"
    }
   ],
   "source": [
    "df_user_count.index"
   ]
  },
  {
   "cell_type": "code",
   "execution_count": 8,
   "metadata": {
    "collapsed": false
   },
   "outputs": [
    {
     "data": {
      "text/plain": [
       "count    92274.000000\n",
       "mean         1.841440\n",
       "std          2.670796\n",
       "min          1.000000\n",
       "25%          1.000000\n",
       "50%          1.000000\n",
       "75%          2.000000\n",
       "max        156.000000\n",
       "Name: user_id, dtype: float64"
      ]
     },
     "execution_count": 8,
     "metadata": {},
     "output_type": "execute_result"
    }
   ],
   "source": [
    "df_user_count.describe()"
   ]
  },
  {
   "cell_type": "code",
   "execution_count": 9,
   "metadata": {
    "collapsed": false
   },
   "outputs": [
    {
     "data": {
      "text/plain": [
       "63971"
      ]
     },
     "execution_count": 9,
     "metadata": {},
     "output_type": "execute_result"
    }
   ],
   "source": [
    "len([value for value in df_user_count if value == 1])"
   ]
  },
  {
   "cell_type": "code",
   "execution_count": 10,
   "metadata": {
    "collapsed": false
   },
   "outputs": [
    {
     "data": {
      "image/png": "[encoded data removed]",
      "text/plain": [
       "<matplotlib.figure.Figure at 0x1253152d0>"
      ]
     },
     "metadata": {},
     "output_type": "display_data"
    }
   ],
   "source": [
    "df_user_count.hist()\n",
    "plt.show()"
   ]
  },
  {
   "cell_type": "markdown",
   "metadata": {},
   "source": [
    "We can see the data is highly skewed - most people give only a few reviews.  So we take log transform to data."
   ]
  },
  {
   "cell_type": "code",
   "execution_count": 11,
   "metadata": {
    "collapsed": false
   },
   "outputs": [
    {
     "data": {
      "image/png": "[encoded data removed]",
      "text/plain": [
       "<matplotlib.figure.Figure at 0x102611d10>"
      ]
     },
     "metadata": {},
     "output_type": "display_data"
    }
   ],
   "source": [
    "df_user_count.apply(np.log).hist()\n",
    "plt.show()"
   ]
  },
  {
   "cell_type": "markdown",
   "metadata": {},
   "source": [
    "#### There are many users that haven't given many reviews, exclude these users from the item-item similarity recommender\n",
    "\n",
    "**Q**: How do we recommend to these users anyways?"
   ]
  },
  {
   "cell_type": "code",
   "execution_count": 12,
   "metadata": {
    "collapsed": false
   },
   "outputs": [
    {
     "data": {
      "text/plain": [
       "bLbSNkLggFnqwNNzzq-Ijw    156\n",
       "JaqcCU3nxReTW2cBLHounA    100\n",
       "YE54kKTuqJJPNYWIKIpOEQ     86\n",
       "keBv05MsMFBd0Hu98vXThQ     82\n",
       "P0rGN5mDue55uIiAzkrRlw     82\n",
       "Name: user_id, dtype: int64"
      ]
     },
     "execution_count": 12,
     "metadata": {},
     "output_type": "execute_result"
    }
   ],
   "source": [
    "# To be implemented\n",
    "# users comment over 3 times\n",
    "df_users = df_user_count[df_user_count > 3]\n",
    "df_users.head()"
   ]
  },
  {
   "cell_type": "code",
   "execution_count": 13,
   "metadata": {
    "collapsed": false
   },
   "outputs": [
    {
     "data": {
      "text/html": [
       "<div>\n",
       "<table border=\"1\" class=\"dataframe\">\n",
       "  <thead>\n",
       "    <tr style=\"text-align: right;\">\n",
       "      <th></th>\n",
       "      <th>business_id</th>\n",
       "      <th>stars</th>\n",
       "    </tr>\n",
       "    <tr>\n",
       "      <th>user_id</th>\n",
       "      <th></th>\n",
       "      <th></th>\n",
       "    </tr>\n",
       "  </thead>\n",
       "  <tbody>\n",
       "    <tr>\n",
       "      <th>KC8H7qTZVPIEnanw9fG43g</th>\n",
       "      <td>--9e1ONYQuAa-CB_Rrw7Tw</td>\n",
       "      <td>5</td>\n",
       "    </tr>\n",
       "    <tr>\n",
       "      <th>3RTesI_MAwct13LWm4rhLw</th>\n",
       "      <td>--9e1ONYQuAa-CB_Rrw7Tw</td>\n",
       "      <td>4</td>\n",
       "    </tr>\n",
       "    <tr>\n",
       "      <th>EAOt1UQhJD0GG3l_jv7rWA</th>\n",
       "      <td>--9e1ONYQuAa-CB_Rrw7Tw</td>\n",
       "      <td>5</td>\n",
       "    </tr>\n",
       "    <tr>\n",
       "      <th>OtKA03ALQQ1CBhtaJod_Jw</th>\n",
       "      <td>--9e1ONYQuAa-CB_Rrw7Tw</td>\n",
       "      <td>2</td>\n",
       "    </tr>\n",
       "    <tr>\n",
       "      <th>Ymtd4cQypep_QZJ-qJsHuA</th>\n",
       "      <td>--9e1ONYQuAa-CB_Rrw7Tw</td>\n",
       "      <td>5</td>\n",
       "    </tr>\n",
       "  </tbody>\n",
       "</table>\n",
       "</div>"
      ],
      "text/plain": [
       "                                   business_id  stars\n",
       "user_id                                              \n",
       "KC8H7qTZVPIEnanw9fG43g  --9e1ONYQuAa-CB_Rrw7Tw      5\n",
       "3RTesI_MAwct13LWm4rhLw  --9e1ONYQuAa-CB_Rrw7Tw      4\n",
       "EAOt1UQhJD0GG3l_jv7rWA  --9e1ONYQuAa-CB_Rrw7Tw      5\n",
       "OtKA03ALQQ1CBhtaJod_Jw  --9e1ONYQuAa-CB_Rrw7Tw      2\n",
       "Ymtd4cQypep_QZJ-qJsHuA  --9e1ONYQuAa-CB_Rrw7Tw      5"
      ]
     },
     "execution_count": 13,
     "metadata": {},
     "output_type": "execute_result"
    }
   ],
   "source": [
    "df_rec.set_index('user_id').head()"
   ]
  },
  {
   "cell_type": "code",
   "execution_count": 14,
   "metadata": {
    "collapsed": false
   },
   "outputs": [
    {
     "data": {
      "text/html": [
       "<div>\n",
       "<table border=\"1\" class=\"dataframe\">\n",
       "  <thead>\n",
       "    <tr style=\"text-align: right;\">\n",
       "      <th></th>\n",
       "      <th>business_id</th>\n",
       "      <th>stars</th>\n",
       "    </tr>\n",
       "    <tr>\n",
       "      <th>user_id</th>\n",
       "      <th></th>\n",
       "      <th></th>\n",
       "    </tr>\n",
       "  </thead>\n",
       "  <tbody>\n",
       "    <tr>\n",
       "      <th>bLbSNkLggFnqwNNzzq-Ijw</th>\n",
       "      <td>-WLrZPzjKfrftLWaCi1QZQ</td>\n",
       "      <td>4</td>\n",
       "    </tr>\n",
       "    <tr>\n",
       "      <th>bLbSNkLggFnqwNNzzq-Ijw</th>\n",
       "      <td>0G83H_zoum-Q4bWU2olTqQ</td>\n",
       "      <td>4</td>\n",
       "    </tr>\n",
       "    <tr>\n",
       "      <th>bLbSNkLggFnqwNNzzq-Ijw</th>\n",
       "      <td>0i9S0BejjRv0ZDwdO9XymA</td>\n",
       "      <td>3</td>\n",
       "    </tr>\n",
       "    <tr>\n",
       "      <th>bLbSNkLggFnqwNNzzq-Ijw</th>\n",
       "      <td>0wW9PasC8pw8SY7rlY3ZKw</td>\n",
       "      <td>4</td>\n",
       "    </tr>\n",
       "    <tr>\n",
       "      <th>bLbSNkLggFnqwNNzzq-Ijw</th>\n",
       "      <td>1CaM8eIvl41l4f3V-V-cAw</td>\n",
       "      <td>4</td>\n",
       "    </tr>\n",
       "  </tbody>\n",
       "</table>\n",
       "</div>"
      ],
      "text/plain": [
       "                                   business_id  stars\n",
       "user_id                                              \n",
       "bLbSNkLggFnqwNNzzq-Ijw  -WLrZPzjKfrftLWaCi1QZQ      4\n",
       "bLbSNkLggFnqwNNzzq-Ijw  0G83H_zoum-Q4bWU2olTqQ      4\n",
       "bLbSNkLggFnqwNNzzq-Ijw  0i9S0BejjRv0ZDwdO9XymA      3\n",
       "bLbSNkLggFnqwNNzzq-Ijw  0wW9PasC8pw8SY7rlY3ZKw      4\n",
       "bLbSNkLggFnqwNNzzq-Ijw  1CaM8eIvl41l4f3V-V-cAw      4"
      ]
     },
     "execution_count": 14,
     "metadata": {},
     "output_type": "execute_result"
    }
   ],
   "source": [
    "df_rec.set_index('user_id').loc[df_users.index].head()"
   ]
  },
  {
   "cell_type": "code",
   "execution_count": 15,
   "metadata": {
    "collapsed": true
   },
   "outputs": [],
   "source": [
    "df_rec_users = df_rec.set_index('user_id').loc[df_users.index].reset_index()"
   ]
  },
  {
   "cell_type": "code",
   "execution_count": 16,
   "metadata": {
    "collapsed": false
   },
   "outputs": [
    {
     "data": {
      "text/html": [
       "<div>\n",
       "<table border=\"1\" class=\"dataframe\">\n",
       "  <thead>\n",
       "    <tr style=\"text-align: right;\">\n",
       "      <th></th>\n",
       "      <th>user_id</th>\n",
       "      <th>business_id</th>\n",
       "      <th>stars</th>\n",
       "    </tr>\n",
       "  </thead>\n",
       "  <tbody>\n",
       "    <tr>\n",
       "      <th>0</th>\n",
       "      <td>bLbSNkLggFnqwNNzzq-Ijw</td>\n",
       "      <td>-WLrZPzjKfrftLWaCi1QZQ</td>\n",
       "      <td>4</td>\n",
       "    </tr>\n",
       "    <tr>\n",
       "      <th>1</th>\n",
       "      <td>bLbSNkLggFnqwNNzzq-Ijw</td>\n",
       "      <td>0G83H_zoum-Q4bWU2olTqQ</td>\n",
       "      <td>4</td>\n",
       "    </tr>\n",
       "    <tr>\n",
       "      <th>2</th>\n",
       "      <td>bLbSNkLggFnqwNNzzq-Ijw</td>\n",
       "      <td>0i9S0BejjRv0ZDwdO9XymA</td>\n",
       "      <td>3</td>\n",
       "    </tr>\n",
       "    <tr>\n",
       "      <th>3</th>\n",
       "      <td>bLbSNkLggFnqwNNzzq-Ijw</td>\n",
       "      <td>0wW9PasC8pw8SY7rlY3ZKw</td>\n",
       "      <td>4</td>\n",
       "    </tr>\n",
       "    <tr>\n",
       "      <th>4</th>\n",
       "      <td>bLbSNkLggFnqwNNzzq-Ijw</td>\n",
       "      <td>1CaM8eIvl41l4f3V-V-cAw</td>\n",
       "      <td>4</td>\n",
       "    </tr>\n",
       "  </tbody>\n",
       "</table>\n",
       "</div>"
      ],
      "text/plain": [
       "                  user_id             business_id  stars\n",
       "0  bLbSNkLggFnqwNNzzq-Ijw  -WLrZPzjKfrftLWaCi1QZQ      4\n",
       "1  bLbSNkLggFnqwNNzzq-Ijw  0G83H_zoum-Q4bWU2olTqQ      4\n",
       "2  bLbSNkLggFnqwNNzzq-Ijw  0i9S0BejjRv0ZDwdO9XymA      3\n",
       "3  bLbSNkLggFnqwNNzzq-Ijw  0wW9PasC8pw8SY7rlY3ZKw      4\n",
       "4  bLbSNkLggFnqwNNzzq-Ijw  1CaM8eIvl41l4f3V-V-cAw      4"
      ]
     },
     "execution_count": 16,
     "metadata": {},
     "output_type": "execute_result"
    }
   ],
   "source": [
    "df_rec_users.head()"
   ]
  },
  {
   "cell_type": "markdown",
   "metadata": {},
   "source": [
    "#### Create utility matrix from records"
   ]
  },
  {
   "cell_type": "code",
   "execution_count": 17,
   "metadata": {
    "collapsed": true
   },
   "outputs": [],
   "source": [
    "# To be implemented\n",
    "df_utility = pd.pivot_table(data=df_rec_users,\n",
    "                            values='stars', # fill with stars\n",
    "                            index='user_id', # rows\n",
    "                            columns='business_id', # columns\n",
    "                            fill_value=0) # fill missings"
   ]
  },
  {
   "cell_type": "code",
   "execution_count": 18,
   "metadata": {
    "collapsed": false
   },
   "outputs": [
    {
     "data": {
      "text/html": [
       "<div>\n",
       "<table border=\"1\" class=\"dataframe\">\n",
       "  <thead>\n",
       "    <tr style=\"text-align: right;\">\n",
       "      <th>business_id</th>\n",
       "      <th>--9e1ONYQuAa-CB_Rrw7Tw</th>\n",
       "      <th>-1m9o3vGRA8IBPNvNqKLmA</th>\n",
       "      <th>-3zffZUHoY8bQjGfPSoBKQ</th>\n",
       "      <th>-8R_-EkGpUhBk55K9Dd4mg</th>\n",
       "      <th>-9YyInW1wapzdNZrhQJ9dg</th>\n",
       "      <th>-AD5PiuJHgdUcAK-Vxao2A</th>\n",
       "      <th>-ADtl9bLp8wNqYX1k3KuxA</th>\n",
       "      <th>-Bf8BQ3yMk8U2f45r2DRKw</th>\n",
       "      <th>-Bv-HHUs8aHzDrdWcZHn8w</th>\n",
       "      <th>-C8sSrFqaCxp51pyo-fQLQ</th>\n",
       "      <th>...</th>\n",
       "      <th>zhB2gbdNbaFwo2nWEArtLA</th>\n",
       "      <th>zjvnqTjBp56NhMp1GrlO5g</th>\n",
       "      <th>zmltWmTpoBt5sCU-5Kzj-Q</th>\n",
       "      <th>znWHLW1pt19HzW1VY6KfCA</th>\n",
       "      <th>zp-K5s3pGTWuuaVBWo6WZA</th>\n",
       "      <th>zpoZ6WyQUYff18-z4ZU1mA</th>\n",
       "      <th>zsQk990PubOHjr1YcLkQFw</th>\n",
       "      <th>zttcrQP4MxNS5X5itzStXg</th>\n",
       "      <th>zuwba6QEBIDZT0tJZmNhdQ</th>\n",
       "      <th>zwNC-Ow4eIMan2__bS9-rg</th>\n",
       "    </tr>\n",
       "    <tr>\n",
       "      <th>user_id</th>\n",
       "      <th></th>\n",
       "      <th></th>\n",
       "      <th></th>\n",
       "      <th></th>\n",
       "      <th></th>\n",
       "      <th></th>\n",
       "      <th></th>\n",
       "      <th></th>\n",
       "      <th></th>\n",
       "      <th></th>\n",
       "      <th></th>\n",
       "      <th></th>\n",
       "      <th></th>\n",
       "      <th></th>\n",
       "      <th></th>\n",
       "      <th></th>\n",
       "      <th></th>\n",
       "      <th></th>\n",
       "      <th></th>\n",
       "      <th></th>\n",
       "      <th></th>\n",
       "    </tr>\n",
       "  </thead>\n",
       "  <tbody>\n",
       "    <tr>\n",
       "      <th>--ZNfWKj1VyVElRx6-g1fg</th>\n",
       "      <td>0</td>\n",
       "      <td>0</td>\n",
       "      <td>0</td>\n",
       "      <td>0</td>\n",
       "      <td>0</td>\n",
       "      <td>0</td>\n",
       "      <td>0</td>\n",
       "      <td>0</td>\n",
       "      <td>0</td>\n",
       "      <td>0</td>\n",
       "      <td>...</td>\n",
       "      <td>0</td>\n",
       "      <td>0</td>\n",
       "      <td>0</td>\n",
       "      <td>0</td>\n",
       "      <td>0</td>\n",
       "      <td>0</td>\n",
       "      <td>0</td>\n",
       "      <td>0</td>\n",
       "      <td>0</td>\n",
       "      <td>0</td>\n",
       "    </tr>\n",
       "    <tr>\n",
       "      <th>--i9JYrfaKvCpI60nSyP3Q</th>\n",
       "      <td>0</td>\n",
       "      <td>0</td>\n",
       "      <td>0</td>\n",
       "      <td>0</td>\n",
       "      <td>0</td>\n",
       "      <td>0</td>\n",
       "      <td>0</td>\n",
       "      <td>0</td>\n",
       "      <td>0</td>\n",
       "      <td>0</td>\n",
       "      <td>...</td>\n",
       "      <td>0</td>\n",
       "      <td>0</td>\n",
       "      <td>0</td>\n",
       "      <td>0</td>\n",
       "      <td>0</td>\n",
       "      <td>0</td>\n",
       "      <td>0</td>\n",
       "      <td>0</td>\n",
       "      <td>0</td>\n",
       "      <td>0</td>\n",
       "    </tr>\n",
       "    <tr>\n",
       "      <th>-0D44Oa5eolEFmaIM4MbWA</th>\n",
       "      <td>0</td>\n",
       "      <td>0</td>\n",
       "      <td>0</td>\n",
       "      <td>0</td>\n",
       "      <td>0</td>\n",
       "      <td>0</td>\n",
       "      <td>0</td>\n",
       "      <td>0</td>\n",
       "      <td>0</td>\n",
       "      <td>0</td>\n",
       "      <td>...</td>\n",
       "      <td>0</td>\n",
       "      <td>0</td>\n",
       "      <td>0</td>\n",
       "      <td>0</td>\n",
       "      <td>0</td>\n",
       "      <td>0</td>\n",
       "      <td>0</td>\n",
       "      <td>0</td>\n",
       "      <td>0</td>\n",
       "      <td>0</td>\n",
       "    </tr>\n",
       "    <tr>\n",
       "      <th>-16aKjco1c0RJ7c4U-q_Kw</th>\n",
       "      <td>0</td>\n",
       "      <td>0</td>\n",
       "      <td>0</td>\n",
       "      <td>0</td>\n",
       "      <td>0</td>\n",
       "      <td>0</td>\n",
       "      <td>0</td>\n",
       "      <td>0</td>\n",
       "      <td>0</td>\n",
       "      <td>0</td>\n",
       "      <td>...</td>\n",
       "      <td>0</td>\n",
       "      <td>0</td>\n",
       "      <td>0</td>\n",
       "      <td>0</td>\n",
       "      <td>0</td>\n",
       "      <td>0</td>\n",
       "      <td>0</td>\n",
       "      <td>0</td>\n",
       "      <td>0</td>\n",
       "      <td>0</td>\n",
       "    </tr>\n",
       "    <tr>\n",
       "      <th>-1jAjdMaT7bi1GjUptJCIw</th>\n",
       "      <td>0</td>\n",
       "      <td>0</td>\n",
       "      <td>0</td>\n",
       "      <td>0</td>\n",
       "      <td>0</td>\n",
       "      <td>0</td>\n",
       "      <td>0</td>\n",
       "      <td>0</td>\n",
       "      <td>0</td>\n",
       "      <td>0</td>\n",
       "      <td>...</td>\n",
       "      <td>0</td>\n",
       "      <td>0</td>\n",
       "      <td>0</td>\n",
       "      <td>0</td>\n",
       "      <td>0</td>\n",
       "      <td>0</td>\n",
       "      <td>0</td>\n",
       "      <td>0</td>\n",
       "      <td>0</td>\n",
       "      <td>0</td>\n",
       "    </tr>\n",
       "  </tbody>\n",
       "</table>\n",
       "<p>5 rows × 3643 columns</p>\n",
       "</div>"
      ],
      "text/plain": [
       "business_id             --9e1ONYQuAa-CB_Rrw7Tw  -1m9o3vGRA8IBPNvNqKLmA  \\\n",
       "user_id                                                                  \n",
       "--ZNfWKj1VyVElRx6-g1fg                       0                       0   \n",
       "--i9JYrfaKvCpI60nSyP3Q                       0                       0   \n",
       "-0D44Oa5eolEFmaIM4MbWA                       0                       0   \n",
       "-16aKjco1c0RJ7c4U-q_Kw                       0                       0   \n",
       "-1jAjdMaT7bi1GjUptJCIw                       0                       0   \n",
       "\n",
       "business_id             -3zffZUHoY8bQjGfPSoBKQ  -8R_-EkGpUhBk55K9Dd4mg  \\\n",
       "user_id                                                                  \n",
       "--ZNfWKj1VyVElRx6-g1fg                       0                       0   \n",
       "--i9JYrfaKvCpI60nSyP3Q                       0                       0   \n",
       "-0D44Oa5eolEFmaIM4MbWA                       0                       0   \n",
       "-16aKjco1c0RJ7c4U-q_Kw                       0                       0   \n",
       "-1jAjdMaT7bi1GjUptJCIw                       0                       0   \n",
       "\n",
       "business_id             -9YyInW1wapzdNZrhQJ9dg  -AD5PiuJHgdUcAK-Vxao2A  \\\n",
       "user_id                                                                  \n",
       "--ZNfWKj1VyVElRx6-g1fg                       0                       0   \n",
       "--i9JYrfaKvCpI60nSyP3Q                       0                       0   \n",
       "-0D44Oa5eolEFmaIM4MbWA                       0                       0   \n",
       "-16aKjco1c0RJ7c4U-q_Kw                       0                       0   \n",
       "-1jAjdMaT7bi1GjUptJCIw                       0                       0   \n",
       "\n",
       "business_id             -ADtl9bLp8wNqYX1k3KuxA  -Bf8BQ3yMk8U2f45r2DRKw  \\\n",
       "user_id                                                                  \n",
       "--ZNfWKj1VyVElRx6-g1fg                       0                       0   \n",
       "--i9JYrfaKvCpI60nSyP3Q                       0                       0   \n",
       "-0D44Oa5eolEFmaIM4MbWA                       0                       0   \n",
       "-16aKjco1c0RJ7c4U-q_Kw                       0                       0   \n",
       "-1jAjdMaT7bi1GjUptJCIw                       0                       0   \n",
       "\n",
       "business_id             -Bv-HHUs8aHzDrdWcZHn8w  -C8sSrFqaCxp51pyo-fQLQ  \\\n",
       "user_id                                                                  \n",
       "--ZNfWKj1VyVElRx6-g1fg                       0                       0   \n",
       "--i9JYrfaKvCpI60nSyP3Q                       0                       0   \n",
       "-0D44Oa5eolEFmaIM4MbWA                       0                       0   \n",
       "-16aKjco1c0RJ7c4U-q_Kw                       0                       0   \n",
       "-1jAjdMaT7bi1GjUptJCIw                       0                       0   \n",
       "\n",
       "business_id                      ...            zhB2gbdNbaFwo2nWEArtLA  \\\n",
       "user_id                          ...                                     \n",
       "--ZNfWKj1VyVElRx6-g1fg           ...                                 0   \n",
       "--i9JYrfaKvCpI60nSyP3Q           ...                                 0   \n",
       "-0D44Oa5eolEFmaIM4MbWA           ...                                 0   \n",
       "-16aKjco1c0RJ7c4U-q_Kw           ...                                 0   \n",
       "-1jAjdMaT7bi1GjUptJCIw           ...                                 0   \n",
       "\n",
       "business_id             zjvnqTjBp56NhMp1GrlO5g  zmltWmTpoBt5sCU-5Kzj-Q  \\\n",
       "user_id                                                                  \n",
       "--ZNfWKj1VyVElRx6-g1fg                       0                       0   \n",
       "--i9JYrfaKvCpI60nSyP3Q                       0                       0   \n",
       "-0D44Oa5eolEFmaIM4MbWA                       0                       0   \n",
       "-16aKjco1c0RJ7c4U-q_Kw                       0                       0   \n",
       "-1jAjdMaT7bi1GjUptJCIw                       0                       0   \n",
       "\n",
       "business_id             znWHLW1pt19HzW1VY6KfCA  zp-K5s3pGTWuuaVBWo6WZA  \\\n",
       "user_id                                                                  \n",
       "--ZNfWKj1VyVElRx6-g1fg                       0                       0   \n",
       "--i9JYrfaKvCpI60nSyP3Q                       0                       0   \n",
       "-0D44Oa5eolEFmaIM4MbWA                       0                       0   \n",
       "-16aKjco1c0RJ7c4U-q_Kw                       0                       0   \n",
       "-1jAjdMaT7bi1GjUptJCIw                       0                       0   \n",
       "\n",
       "business_id             zpoZ6WyQUYff18-z4ZU1mA  zsQk990PubOHjr1YcLkQFw  \\\n",
       "user_id                                                                  \n",
       "--ZNfWKj1VyVElRx6-g1fg                       0                       0   \n",
       "--i9JYrfaKvCpI60nSyP3Q                       0                       0   \n",
       "-0D44Oa5eolEFmaIM4MbWA                       0                       0   \n",
       "-16aKjco1c0RJ7c4U-q_Kw                       0                       0   \n",
       "-1jAjdMaT7bi1GjUptJCIw                       0                       0   \n",
       "\n",
       "business_id             zttcrQP4MxNS5X5itzStXg  zuwba6QEBIDZT0tJZmNhdQ  \\\n",
       "user_id                                                                  \n",
       "--ZNfWKj1VyVElRx6-g1fg                       0                       0   \n",
       "--i9JYrfaKvCpI60nSyP3Q                       0                       0   \n",
       "-0D44Oa5eolEFmaIM4MbWA                       0                       0   \n",
       "-16aKjco1c0RJ7c4U-q_Kw                       0                       0   \n",
       "-1jAjdMaT7bi1GjUptJCIw                       0                       0   \n",
       "\n",
       "business_id             zwNC-Ow4eIMan2__bS9-rg  \n",
       "user_id                                         \n",
       "--ZNfWKj1VyVElRx6-g1fg                       0  \n",
       "--i9JYrfaKvCpI60nSyP3Q                       0  \n",
       "-0D44Oa5eolEFmaIM4MbWA                       0  \n",
       "-16aKjco1c0RJ7c4U-q_Kw                       0  \n",
       "-1jAjdMaT7bi1GjUptJCIw                       0  \n",
       "\n",
       "[5 rows x 3643 columns]"
      ]
     },
     "execution_count": 18,
     "metadata": {},
     "output_type": "execute_result"
    }
   ],
   "source": [
    "df_utility.head()"
   ]
  },
  {
   "cell_type": "markdown",
   "metadata": {},
   "source": [
    "## 2. Item-Item similarity recommender"
   ]
  },
  {
   "cell_type": "markdown",
   "metadata": {},
   "source": [
    "### Let's reuse the ItemItemRecommender class derived from previous exercise\n",
    "\n",
    "Hint: we need to make modification to accommodate the dense numpy array"
   ]
  },
  {
   "cell_type": "code",
   "execution_count": 19,
   "metadata": {
    "collapsed": false
   },
   "outputs": [
    {
     "name": "stderr",
     "output_type": "stream",
     "text": [
      "[INFO] graphlab.cython.cy_server: GraphLab Create v2.1 started. Logging: /tmp/graphlab_server_1522448020.log\n"
     ]
    },
    {
     "name": "stdout",
     "output_type": "stream",
     "text": [
      "This non-commercial license of GraphLab Create for academic use is assigned to mnawang@ucdavis.edu and will expire on April 11, 2018.\n"
     ]
    }
   ],
   "source": [
    "# To be implemented\n",
    "import graphlab\n",
    "sf_rec = graphlab.SFrame(df_rec)\n",
    "\n",
    "sf_rec_users = graphlab.SFrame(df_rec_users)\n"
   ]
  },
  {
   "cell_type": "code",
   "execution_count": 20,
   "metadata": {
    "collapsed": false
   },
   "outputs": [
    {
     "data": {
      "text/html": [
       "<div style=\"max-height:1000px;max-width:1500px;overflow:auto;\"><table frame=\"box\" rules=\"cols\">\n",
       "    <tr>\n",
       "        <th style=\"padding-left: 1em; padding-right: 1em; text-align: center\">user_id</th>\n",
       "        <th style=\"padding-left: 1em; padding-right: 1em; text-align: center\">business_id</th>\n",
       "        <th style=\"padding-left: 1em; padding-right: 1em; text-align: center\">stars</th>\n",
       "    </tr>\n",
       "    <tr>\n",
       "        <td style=\"padding-left: 1em; padding-right: 1em; text-align: center; vertical-align: top\">bLbSNkLggFnqwNNzzq-Ijw</td>\n",
       "        <td style=\"padding-left: 1em; padding-right: 1em; text-align: center; vertical-align: top\">-WLrZPzjKfrftLWaCi1QZQ</td>\n",
       "        <td style=\"padding-left: 1em; padding-right: 1em; text-align: center; vertical-align: top\">4</td>\n",
       "    </tr>\n",
       "    <tr>\n",
       "        <td style=\"padding-left: 1em; padding-right: 1em; text-align: center; vertical-align: top\">bLbSNkLggFnqwNNzzq-Ijw</td>\n",
       "        <td style=\"padding-left: 1em; padding-right: 1em; text-align: center; vertical-align: top\">0G83H_zoum-Q4bWU2olTqQ</td>\n",
       "        <td style=\"padding-left: 1em; padding-right: 1em; text-align: center; vertical-align: top\">4</td>\n",
       "    </tr>\n",
       "    <tr>\n",
       "        <td style=\"padding-left: 1em; padding-right: 1em; text-align: center; vertical-align: top\">bLbSNkLggFnqwNNzzq-Ijw</td>\n",
       "        <td style=\"padding-left: 1em; padding-right: 1em; text-align: center; vertical-align: top\">0i9S0BejjRv0ZDwdO9XymA</td>\n",
       "        <td style=\"padding-left: 1em; padding-right: 1em; text-align: center; vertical-align: top\">3</td>\n",
       "    </tr>\n",
       "    <tr>\n",
       "        <td style=\"padding-left: 1em; padding-right: 1em; text-align: center; vertical-align: top\">bLbSNkLggFnqwNNzzq-Ijw</td>\n",
       "        <td style=\"padding-left: 1em; padding-right: 1em; text-align: center; vertical-align: top\">0wW9PasC8pw8SY7rlY3ZKw</td>\n",
       "        <td style=\"padding-left: 1em; padding-right: 1em; text-align: center; vertical-align: top\">4</td>\n",
       "    </tr>\n",
       "    <tr>\n",
       "        <td style=\"padding-left: 1em; padding-right: 1em; text-align: center; vertical-align: top\">bLbSNkLggFnqwNNzzq-Ijw</td>\n",
       "        <td style=\"padding-left: 1em; padding-right: 1em; text-align: center; vertical-align: top\">1CaM8eIvl41l4f3V-V-cAw</td>\n",
       "        <td style=\"padding-left: 1em; padding-right: 1em; text-align: center; vertical-align: top\">4</td>\n",
       "    </tr>\n",
       "    <tr>\n",
       "        <td style=\"padding-left: 1em; padding-right: 1em; text-align: center; vertical-align: top\">bLbSNkLggFnqwNNzzq-Ijw</td>\n",
       "        <td style=\"padding-left: 1em; padding-right: 1em; text-align: center; vertical-align: top\">2QznyHGF0PuiYkrl5RU66A</td>\n",
       "        <td style=\"padding-left: 1em; padding-right: 1em; text-align: center; vertical-align: top\">4</td>\n",
       "    </tr>\n",
       "    <tr>\n",
       "        <td style=\"padding-left: 1em; padding-right: 1em; text-align: center; vertical-align: top\">bLbSNkLggFnqwNNzzq-Ijw</td>\n",
       "        <td style=\"padding-left: 1em; padding-right: 1em; text-align: center; vertical-align: top\">2WiMyg8-DoXQ8_R5qFc2iQ</td>\n",
       "        <td style=\"padding-left: 1em; padding-right: 1em; text-align: center; vertical-align: top\">3</td>\n",
       "    </tr>\n",
       "    <tr>\n",
       "        <td style=\"padding-left: 1em; padding-right: 1em; text-align: center; vertical-align: top\">bLbSNkLggFnqwNNzzq-Ijw</td>\n",
       "        <td style=\"padding-left: 1em; padding-right: 1em; text-align: center; vertical-align: top\">2vr2yGIzSehe_ITFamNpyw</td>\n",
       "        <td style=\"padding-left: 1em; padding-right: 1em; text-align: center; vertical-align: top\">3</td>\n",
       "    </tr>\n",
       "    <tr>\n",
       "        <td style=\"padding-left: 1em; padding-right: 1em; text-align: center; vertical-align: top\">bLbSNkLggFnqwNNzzq-Ijw</td>\n",
       "        <td style=\"padding-left: 1em; padding-right: 1em; text-align: center; vertical-align: top\">30TxDt2V8G7FWXsKaEKA9A</td>\n",
       "        <td style=\"padding-left: 1em; padding-right: 1em; text-align: center; vertical-align: top\">4</td>\n",
       "    </tr>\n",
       "    <tr>\n",
       "        <td style=\"padding-left: 1em; padding-right: 1em; text-align: center; vertical-align: top\">bLbSNkLggFnqwNNzzq-Ijw</td>\n",
       "        <td style=\"padding-left: 1em; padding-right: 1em; text-align: center; vertical-align: top\">3281FKql3HVOzSVxymjJRg</td>\n",
       "        <td style=\"padding-left: 1em; padding-right: 1em; text-align: center; vertical-align: top\">4</td>\n",
       "    </tr>\n",
       "</table>\n",
       "[59867 rows x 3 columns]<br/>Note: Only the head of the SFrame is printed.<br/>You can use print_rows(num_rows=m, num_columns=n) to print more rows and columns.\n",
       "</div>"
      ],
      "text/plain": [
       "Columns:\n",
       "\tuser_id\tstr\n",
       "\tbusiness_id\tstr\n",
       "\tstars\tint\n",
       "\n",
       "Rows: 59867\n",
       "\n",
       "Data:\n",
       "+------------------------+------------------------+-------+\n",
       "|        user_id         |      business_id       | stars |\n",
       "+------------------------+------------------------+-------+\n",
       "| bLbSNkLggFnqwNNzzq-Ijw | -WLrZPzjKfrftLWaCi1QZQ |   4   |\n",
       "| bLbSNkLggFnqwNNzzq-Ijw | 0G83H_zoum-Q4bWU2olTqQ |   4   |\n",
       "| bLbSNkLggFnqwNNzzq-Ijw | 0i9S0BejjRv0ZDwdO9XymA |   3   |\n",
       "| bLbSNkLggFnqwNNzzq-Ijw | 0wW9PasC8pw8SY7rlY3ZKw |   4   |\n",
       "| bLbSNkLggFnqwNNzzq-Ijw | 1CaM8eIvl41l4f3V-V-cAw |   4   |\n",
       "| bLbSNkLggFnqwNNzzq-Ijw | 2QznyHGF0PuiYkrl5RU66A |   4   |\n",
       "| bLbSNkLggFnqwNNzzq-Ijw | 2WiMyg8-DoXQ8_R5qFc2iQ |   3   |\n",
       "| bLbSNkLggFnqwNNzzq-Ijw | 2vr2yGIzSehe_ITFamNpyw |   3   |\n",
       "| bLbSNkLggFnqwNNzzq-Ijw | 30TxDt2V8G7FWXsKaEKA9A |   4   |\n",
       "| bLbSNkLggFnqwNNzzq-Ijw | 3281FKql3HVOzSVxymjJRg |   4   |\n",
       "+------------------------+------------------------+-------+\n",
       "[59867 rows x 3 columns]\n",
       "Note: Only the head of the SFrame is printed.\n",
       "You can use print_rows(num_rows=m, num_columns=n) to print more rows and columns."
      ]
     },
     "execution_count": 20,
     "metadata": {},
     "output_type": "execute_result"
    }
   ],
   "source": [
    "sf_rec_users"
   ]
  },
  {
   "cell_type": "code",
   "execution_count": 21,
   "metadata": {
    "collapsed": false
   },
   "outputs": [
    {
     "data": {
      "text/html": [
       "<pre>Recsys training: model = item_similarity</pre>"
      ],
      "text/plain": [
       "Recsys training: model = item_similarity"
      ]
     },
     "metadata": {},
     "output_type": "display_data"
    },
    {
     "data": {
      "text/html": [
       "<pre>Preparing data set.</pre>"
      ],
      "text/plain": [
       "Preparing data set."
      ]
     },
     "metadata": {},
     "output_type": "display_data"
    },
    {
     "data": {
      "text/html": [
       "<pre>    Data has 59867 observations with 8134 users and 3643 items.</pre>"
      ],
      "text/plain": [
       "    Data has 59867 observations with 8134 users and 3643 items."
      ]
     },
     "metadata": {},
     "output_type": "display_data"
    },
    {
     "data": {
      "text/html": [
       "<pre>    Data prepared in: 0.078378s</pre>"
      ],
      "text/plain": [
       "    Data prepared in: 0.078378s"
      ]
     },
     "metadata": {},
     "output_type": "display_data"
    },
    {
     "data": {
      "text/html": [
       "<pre>Training model from provided data.</pre>"
      ],
      "text/plain": [
       "Training model from provided data."
      ]
     },
     "metadata": {},
     "output_type": "display_data"
    },
    {
     "data": {
      "text/html": [
       "<pre>Gathering per-item and per-user statistics.</pre>"
      ],
      "text/plain": [
       "Gathering per-item and per-user statistics."
      ]
     },
     "metadata": {},
     "output_type": "display_data"
    },
    {
     "data": {
      "text/html": [
       "<pre>+--------------------------------+------------+</pre>"
      ],
      "text/plain": [
       "+--------------------------------+------------+"
      ]
     },
     "metadata": {},
     "output_type": "display_data"
    },
    {
     "data": {
      "text/html": [
       "<pre>| Elapsed Time (Item Statistics) | % Complete |</pre>"
      ],
      "text/plain": [
       "| Elapsed Time (Item Statistics) | % Complete |"
      ]
     },
     "metadata": {},
     "output_type": "display_data"
    },
    {
     "data": {
      "text/html": [
       "<pre>+--------------------------------+------------+</pre>"
      ],
      "text/plain": [
       "+--------------------------------+------------+"
      ]
     },
     "metadata": {},
     "output_type": "display_data"
    },
    {
     "data": {
      "text/html": [
       "<pre>| 1.772ms                        | 12.25      |</pre>"
      ],
      "text/plain": [
       "| 1.772ms                        | 12.25      |"
      ]
     },
     "metadata": {},
     "output_type": "display_data"
    },
    {
     "data": {
      "text/html": [
       "<pre>| 3.377ms                        | 100        |</pre>"
      ],
      "text/plain": [
       "| 3.377ms                        | 100        |"
      ]
     },
     "metadata": {},
     "output_type": "display_data"
    },
    {
     "data": {
      "text/html": [
       "<pre>+--------------------------------+------------+</pre>"
      ],
      "text/plain": [
       "+--------------------------------+------------+"
      ]
     },
     "metadata": {},
     "output_type": "display_data"
    },
    {
     "data": {
      "text/html": [
       "<pre>Setting up lookup tables.</pre>"
      ],
      "text/plain": [
       "Setting up lookup tables."
      ]
     },
     "metadata": {},
     "output_type": "display_data"
    },
    {
     "data": {
      "text/html": [
       "<pre>Processing data in one pass using dense lookup tables.</pre>"
      ],
      "text/plain": [
       "Processing data in one pass using dense lookup tables."
      ]
     },
     "metadata": {},
     "output_type": "display_data"
    },
    {
     "data": {
      "text/html": [
       "<pre>+-------------------------------------+------------------+-----------------+</pre>"
      ],
      "text/plain": [
       "+-------------------------------------+------------------+-----------------+"
      ]
     },
     "metadata": {},
     "output_type": "display_data"
    },
    {
     "data": {
      "text/html": [
       "<pre>| Elapsed Time (Constructing Lookups) | Total % Complete | Items Processed |</pre>"
      ],
      "text/plain": [
       "| Elapsed Time (Constructing Lookups) | Total % Complete | Items Processed |"
      ]
     },
     "metadata": {},
     "output_type": "display_data"
    },
    {
     "data": {
      "text/html": [
       "<pre>+-------------------------------------+------------------+-----------------+</pre>"
      ],
      "text/plain": [
       "+-------------------------------------+------------------+-----------------+"
      ]
     },
     "metadata": {},
     "output_type": "display_data"
    },
    {
     "data": {
      "text/html": [
       "<pre>| 60.404ms                            | 0                | 0               |</pre>"
      ],
      "text/plain": [
       "| 60.404ms                            | 0                | 0               |"
      ]
     },
     "metadata": {},
     "output_type": "display_data"
    },
    {
     "data": {
      "text/html": [
       "<pre>| 135.185ms                           | 100              | 3643            |</pre>"
      ],
      "text/plain": [
       "| 135.185ms                           | 100              | 3643            |"
      ]
     },
     "metadata": {},
     "output_type": "display_data"
    },
    {
     "data": {
      "text/html": [
       "<pre>+-------------------------------------+------------------+-----------------+</pre>"
      ],
      "text/plain": [
       "+-------------------------------------+------------------+-----------------+"
      ]
     },
     "metadata": {},
     "output_type": "display_data"
    },
    {
     "data": {
      "text/html": [
       "<pre>Finalizing lookup tables.</pre>"
      ],
      "text/plain": [
       "Finalizing lookup tables."
      ]
     },
     "metadata": {},
     "output_type": "display_data"
    },
    {
     "data": {
      "text/html": [
       "<pre>Generating candidate set for working with new users.</pre>"
      ],
      "text/plain": [
       "Generating candidate set for working with new users."
      ]
     },
     "metadata": {},
     "output_type": "display_data"
    },
    {
     "data": {
      "text/html": [
       "<pre>Finished training in 1.15455s</pre>"
      ],
      "text/plain": [
       "Finished training in 1.15455s"
      ]
     },
     "metadata": {},
     "output_type": "display_data"
    }
   ],
   "source": [
    "# item-item recommender\n",
    "item_item_rec = graphlab.recommender.item_similarity_recommender.create(sf_rec_users,\n",
    "                                                                       user_id = 'user_id',\n",
    "                                                                       item_id = 'business_id',\n",
    "                                                                       target = 'stars')"
   ]
  },
  {
   "cell_type": "code",
   "execution_count": 22,
   "metadata": {
    "collapsed": true
   },
   "outputs": [],
   "source": [
    "item_item_rec_result = item_item_rec.recommend(k=4, verbose=False)"
   ]
  },
  {
   "cell_type": "code",
   "execution_count": 23,
   "metadata": {
    "collapsed": false
   },
   "outputs": [
    {
     "data": {
      "text/html": [
       "<div style=\"max-height:1000px;max-width:1500px;overflow:auto;\"><table frame=\"box\" rules=\"cols\">\n",
       "    <tr>\n",
       "        <th style=\"padding-left: 1em; padding-right: 1em; text-align: center\">user_id</th>\n",
       "        <th style=\"padding-left: 1em; padding-right: 1em; text-align: center\">business_id</th>\n",
       "        <th style=\"padding-left: 1em; padding-right: 1em; text-align: center\">score</th>\n",
       "        <th style=\"padding-left: 1em; padding-right: 1em; text-align: center\">rank</th>\n",
       "    </tr>\n",
       "    <tr>\n",
       "        <td style=\"padding-left: 1em; padding-right: 1em; text-align: center; vertical-align: top\">bLbSNkLggFnqwNNzzq-Ijw</td>\n",
       "        <td style=\"padding-left: 1em; padding-right: 1em; text-align: center; vertical-align: top\">Ef5P6C2yHAv08FPif5Rdtg</td>\n",
       "        <td style=\"padding-left: 1em; padding-right: 1em; text-align: center; vertical-align: top\">0.00521167501425</td>\n",
       "        <td style=\"padding-left: 1em; padding-right: 1em; text-align: center; vertical-align: top\">1</td>\n",
       "    </tr>\n",
       "    <tr>\n",
       "        <td style=\"padding-left: 1em; padding-right: 1em; text-align: center; vertical-align: top\">bLbSNkLggFnqwNNzzq-Ijw</td>\n",
       "        <td style=\"padding-left: 1em; padding-right: 1em; text-align: center; vertical-align: top\">33Tr0eRki1Yamzleu4GMdw</td>\n",
       "        <td style=\"padding-left: 1em; padding-right: 1em; text-align: center; vertical-align: top\">0.00450817820353</td>\n",
       "        <td style=\"padding-left: 1em; padding-right: 1em; text-align: center; vertical-align: top\">2</td>\n",
       "    </tr>\n",
       "    <tr>\n",
       "        <td style=\"padding-left: 1em; padding-right: 1em; text-align: center; vertical-align: top\">bLbSNkLggFnqwNNzzq-Ijw</td>\n",
       "        <td style=\"padding-left: 1em; padding-right: 1em; text-align: center; vertical-align: top\">_eDVVS8wwXcdllaW6nfLyg</td>\n",
       "        <td style=\"padding-left: 1em; padding-right: 1em; text-align: center; vertical-align: top\">0.004405325804</td>\n",
       "        <td style=\"padding-left: 1em; padding-right: 1em; text-align: center; vertical-align: top\">3</td>\n",
       "    </tr>\n",
       "    <tr>\n",
       "        <td style=\"padding-left: 1em; padding-right: 1em; text-align: center; vertical-align: top\">bLbSNkLggFnqwNNzzq-Ijw</td>\n",
       "        <td style=\"padding-left: 1em; padding-right: 1em; text-align: center; vertical-align: top\">CoyeXg8FBsS_d20QzNIy-A</td>\n",
       "        <td style=\"padding-left: 1em; padding-right: 1em; text-align: center; vertical-align: top\">0.00440176671896</td>\n",
       "        <td style=\"padding-left: 1em; padding-right: 1em; text-align: center; vertical-align: top\">4</td>\n",
       "    </tr>\n",
       "    <tr>\n",
       "        <td style=\"padding-left: 1em; padding-right: 1em; text-align: center; vertical-align: top\">JaqcCU3nxReTW2cBLHounA</td>\n",
       "        <td style=\"padding-left: 1em; padding-right: 1em; text-align: center; vertical-align: top\">e3PBfbtXUjMziX6XGsOMoA</td>\n",
       "        <td style=\"padding-left: 1em; padding-right: 1em; text-align: center; vertical-align: top\">0.00844675123692</td>\n",
       "        <td style=\"padding-left: 1em; padding-right: 1em; text-align: center; vertical-align: top\">1</td>\n",
       "    </tr>\n",
       "    <tr>\n",
       "        <td style=\"padding-left: 1em; padding-right: 1em; text-align: center; vertical-align: top\">JaqcCU3nxReTW2cBLHounA</td>\n",
       "        <td style=\"padding-left: 1em; padding-right: 1em; text-align: center; vertical-align: top\">_eDVVS8wwXcdllaW6nfLyg</td>\n",
       "        <td style=\"padding-left: 1em; padding-right: 1em; text-align: center; vertical-align: top\">0.00782769858837</td>\n",
       "        <td style=\"padding-left: 1em; padding-right: 1em; text-align: center; vertical-align: top\">2</td>\n",
       "    </tr>\n",
       "    <tr>\n",
       "        <td style=\"padding-left: 1em; padding-right: 1em; text-align: center; vertical-align: top\">JaqcCU3nxReTW2cBLHounA</td>\n",
       "        <td style=\"padding-left: 1em; padding-right: 1em; text-align: center; vertical-align: top\">7wHLFohwCw8l6WS-feLjeg</td>\n",
       "        <td style=\"padding-left: 1em; padding-right: 1em; text-align: center; vertical-align: top\">0.00772170186043</td>\n",
       "        <td style=\"padding-left: 1em; padding-right: 1em; text-align: center; vertical-align: top\">3</td>\n",
       "    </tr>\n",
       "    <tr>\n",
       "        <td style=\"padding-left: 1em; padding-right: 1em; text-align: center; vertical-align: top\">JaqcCU3nxReTW2cBLHounA</td>\n",
       "        <td style=\"padding-left: 1em; padding-right: 1em; text-align: center; vertical-align: top\">gOOfBSBZlffCkQ7dr7cpdw</td>\n",
       "        <td style=\"padding-left: 1em; padding-right: 1em; text-align: center; vertical-align: top\">0.00755578696728</td>\n",
       "        <td style=\"padding-left: 1em; padding-right: 1em; text-align: center; vertical-align: top\">4</td>\n",
       "    </tr>\n",
       "    <tr>\n",
       "        <td style=\"padding-left: 1em; padding-right: 1em; text-align: center; vertical-align: top\">YE54kKTuqJJPNYWIKIpOEQ</td>\n",
       "        <td style=\"padding-left: 1em; padding-right: 1em; text-align: center; vertical-align: top\">iFCz-xI7CV98fcaB4Chh3g</td>\n",
       "        <td style=\"padding-left: 1em; padding-right: 1em; text-align: center; vertical-align: top\">0.00912879164829</td>\n",
       "        <td style=\"padding-left: 1em; padding-right: 1em; text-align: center; vertical-align: top\">1</td>\n",
       "    </tr>\n",
       "    <tr>\n",
       "        <td style=\"padding-left: 1em; padding-right: 1em; text-align: center; vertical-align: top\">YE54kKTuqJJPNYWIKIpOEQ</td>\n",
       "        <td style=\"padding-left: 1em; padding-right: 1em; text-align: center; vertical-align: top\">jaSowNITPRRCYpPb3_pjdA</td>\n",
       "        <td style=\"padding-left: 1em; padding-right: 1em; text-align: center; vertical-align: top\">0.00742893232856</td>\n",
       "        <td style=\"padding-left: 1em; padding-right: 1em; text-align: center; vertical-align: top\">2</td>\n",
       "    </tr>\n",
       "</table>\n",
       "[10 rows x 4 columns]<br/>\n",
       "</div>"
      ],
      "text/plain": [
       "Columns:\n",
       "\tuser_id\tstr\n",
       "\tbusiness_id\tstr\n",
       "\tscore\tfloat\n",
       "\trank\tint\n",
       "\n",
       "Rows: 10\n",
       "\n",
       "Data:\n",
       "+------------------------+------------------------+------------------+------+\n",
       "|        user_id         |      business_id       |      score       | rank |\n",
       "+------------------------+------------------------+------------------+------+\n",
       "| bLbSNkLggFnqwNNzzq-Ijw | Ef5P6C2yHAv08FPif5Rdtg | 0.00521167501425 |  1   |\n",
       "| bLbSNkLggFnqwNNzzq-Ijw | 33Tr0eRki1Yamzleu4GMdw | 0.00450817820353 |  2   |\n",
       "| bLbSNkLggFnqwNNzzq-Ijw | _eDVVS8wwXcdllaW6nfLyg |  0.004405325804  |  3   |\n",
       "| bLbSNkLggFnqwNNzzq-Ijw | CoyeXg8FBsS_d20QzNIy-A | 0.00440176671896 |  4   |\n",
       "| JaqcCU3nxReTW2cBLHounA | e3PBfbtXUjMziX6XGsOMoA | 0.00844675123692 |  1   |\n",
       "| JaqcCU3nxReTW2cBLHounA | _eDVVS8wwXcdllaW6nfLyg | 0.00782769858837 |  2   |\n",
       "| JaqcCU3nxReTW2cBLHounA | 7wHLFohwCw8l6WS-feLjeg | 0.00772170186043 |  3   |\n",
       "| JaqcCU3nxReTW2cBLHounA | gOOfBSBZlffCkQ7dr7cpdw | 0.00755578696728 |  4   |\n",
       "| YE54kKTuqJJPNYWIKIpOEQ | iFCz-xI7CV98fcaB4Chh3g | 0.00912879164829 |  1   |\n",
       "| YE54kKTuqJJPNYWIKIpOEQ | jaSowNITPRRCYpPb3_pjdA | 0.00742893232856 |  2   |\n",
       "+------------------------+------------------------+------------------+------+\n",
       "[10 rows x 4 columns]"
      ]
     },
     "execution_count": 23,
     "metadata": {},
     "output_type": "execute_result"
    }
   ],
   "source": [
    "item_item_rec_result.head()"
   ]
  },
  {
   "cell_type": "markdown",
   "metadata": {},
   "source": [
    "## 3. Matrix Factorization recommender\n",
    "\n",
    "Take a look at Graphlab Create examples"
   ]
  },
  {
   "cell_type": "code",
   "execution_count": 24,
   "metadata": {
    "collapsed": false
   },
   "outputs": [
    {
     "data": {
      "text/html": [
       "<pre>Recsys training: model = factorization_recommender</pre>"
      ],
      "text/plain": [
       "Recsys training: model = factorization_recommender"
      ]
     },
     "metadata": {},
     "output_type": "display_data"
    },
    {
     "data": {
      "text/html": [
       "<pre>Preparing data set.</pre>"
      ],
      "text/plain": [
       "Preparing data set."
      ]
     },
     "metadata": {},
     "output_type": "display_data"
    },
    {
     "data": {
      "text/html": [
       "<pre>    Data has 59867 observations with 8134 users and 3643 items.</pre>"
      ],
      "text/plain": [
       "    Data has 59867 observations with 8134 users and 3643 items."
      ]
     },
     "metadata": {},
     "output_type": "display_data"
    },
    {
     "data": {
      "text/html": [
       "<pre>    Data prepared in: 0.089258s</pre>"
      ],
      "text/plain": [
       "    Data prepared in: 0.089258s"
      ]
     },
     "metadata": {},
     "output_type": "display_data"
    },
    {
     "data": {
      "text/html": [
       "<pre>Training factorization_recommender for recommendations.</pre>"
      ],
      "text/plain": [
       "Training factorization_recommender for recommendations."
      ]
     },
     "metadata": {},
     "output_type": "display_data"
    },
    {
     "data": {
      "text/html": [
       "<pre>+------------------------------+--------------------------------------------------+----------+</pre>"
      ],
      "text/plain": [
       "+------------------------------+--------------------------------------------------+----------+"
      ]
     },
     "metadata": {},
     "output_type": "display_data"
    },
    {
     "data": {
      "text/html": [
       "<pre>| Parameter                    | Description                                      | Value    |</pre>"
      ],
      "text/plain": [
       "| Parameter                    | Description                                      | Value    |"
      ]
     },
     "metadata": {},
     "output_type": "display_data"
    },
    {
     "data": {
      "text/html": [
       "<pre>+------------------------------+--------------------------------------------------+----------+</pre>"
      ],
      "text/plain": [
       "+------------------------------+--------------------------------------------------+----------+"
      ]
     },
     "metadata": {},
     "output_type": "display_data"
    },
    {
     "data": {
      "text/html": [
       "<pre>| num_factors                  | Factor Dimension                                 | 8        |</pre>"
      ],
      "text/plain": [
       "| num_factors                  | Factor Dimension                                 | 8        |"
      ]
     },
     "metadata": {},
     "output_type": "display_data"
    },
    {
     "data": {
      "text/html": [
       "<pre>| regularization               | L2 Regularization on Factors                     | 1e-08    |</pre>"
      ],
      "text/plain": [
       "| regularization               | L2 Regularization on Factors                     | 1e-08    |"
      ]
     },
     "metadata": {},
     "output_type": "display_data"
    },
    {
     "data": {
      "text/html": [
       "<pre>| max_iterations               | Maximum Number of Iterations                     | 50       |</pre>"
      ],
      "text/plain": [
       "| max_iterations               | Maximum Number of Iterations                     | 50       |"
      ]
     },
     "metadata": {},
     "output_type": "display_data"
    },
    {
     "data": {
      "text/html": [
       "<pre>| solver                       | Solver used for training                         | als      |</pre>"
      ],
      "text/plain": [
       "| solver                       | Solver used for training                         | als      |"
      ]
     },
     "metadata": {},
     "output_type": "display_data"
    },
    {
     "data": {
      "text/html": [
       "<pre>+------------------------------+--------------------------------------------------+----------+</pre>"
      ],
      "text/plain": [
       "+------------------------------+--------------------------------------------------+----------+"
      ]
     },
     "metadata": {},
     "output_type": "display_data"
    },
    {
     "data": {
      "text/html": [
       "<pre>+---------+--------------+------------------------+</pre>"
      ],
      "text/plain": [
       "+---------+--------------+------------------------+"
      ]
     },
     "metadata": {},
     "output_type": "display_data"
    },
    {
     "data": {
      "text/html": [
       "<pre>| Iter.   | Elapsed time | RMSE                   |</pre>"
      ],
      "text/plain": [
       "| Iter.   | Elapsed time | RMSE                   |"
      ]
     },
     "metadata": {},
     "output_type": "display_data"
    },
    {
     "data": {
      "text/html": [
       "<pre>+---------+--------------+------------------------+</pre>"
      ],
      "text/plain": [
       "+---------+--------------+------------------------+"
      ]
     },
     "metadata": {},
     "output_type": "display_data"
    },
    {
     "data": {
      "text/html": [
       "<pre>| Initial | 104us        | NA                     |</pre>"
      ],
      "text/plain": [
       "| Initial | 104us        | NA                     |"
      ]
     },
     "metadata": {},
     "output_type": "display_data"
    },
    {
     "data": {
      "text/html": [
       "<pre>+---------+--------------+------------------------+</pre>"
      ],
      "text/plain": [
       "+---------+--------------+------------------------+"
      ]
     },
     "metadata": {},
     "output_type": "display_data"
    },
    {
     "data": {
      "text/html": [
       "<pre>| 0       | 42.929ms     | 0.700288               |</pre>"
      ],
      "text/plain": [
       "| 0       | 42.929ms     | 0.700288               |"
      ]
     },
     "metadata": {},
     "output_type": "display_data"
    },
    {
     "data": {
      "text/html": [
       "<pre>| 1       | 81.35ms      | 0.331165               |</pre>"
      ],
      "text/plain": [
       "| 1       | 81.35ms      | 0.331165               |"
      ]
     },
     "metadata": {},
     "output_type": "display_data"
    },
    {
     "data": {
      "text/html": [
       "<pre>| 2       | 112.697ms    | 0.289484               |</pre>"
      ],
      "text/plain": [
       "| 2       | 112.697ms    | 0.289484               |"
      ]
     },
     "metadata": {},
     "output_type": "display_data"
    },
    {
     "data": {
      "text/html": [
       "<pre>| 3       | 148.385ms    | 0.266388               |</pre>"
      ],
      "text/plain": [
       "| 3       | 148.385ms    | 0.266388               |"
      ]
     },
     "metadata": {},
     "output_type": "display_data"
    },
    {
     "data": {
      "text/html": [
       "<pre>| 4       | 182.184ms    | 0.250352               |</pre>"
      ],
      "text/plain": [
       "| 4       | 182.184ms    | 0.250352               |"
      ]
     },
     "metadata": {},
     "output_type": "display_data"
    },
    {
     "data": {
      "text/html": [
       "<pre>| 5       | 212.45ms     | 0.23812                |</pre>"
      ],
      "text/plain": [
       "| 5       | 212.45ms     | 0.23812                |"
      ]
     },
     "metadata": {},
     "output_type": "display_data"
    },
    {
     "data": {
      "text/html": [
       "<pre>| 6       | 241.758ms    | 0.22832                |</pre>"
      ],
      "text/plain": [
       "| 6       | 241.758ms    | 0.22832                |"
      ]
     },
     "metadata": {},
     "output_type": "display_data"
    },
    {
     "data": {
      "text/html": [
       "<pre>| 7       | 275.875ms    | 0.220303               |</pre>"
      ],
      "text/plain": [
       "| 7       | 275.875ms    | 0.220303               |"
      ]
     },
     "metadata": {},
     "output_type": "display_data"
    },
    {
     "data": {
      "text/html": [
       "<pre>| 8       | 307.727ms    | 0.213472               |</pre>"
      ],
      "text/plain": [
       "| 8       | 307.727ms    | 0.213472               |"
      ]
     },
     "metadata": {},
     "output_type": "display_data"
    },
    {
     "data": {
      "text/html": [
       "<pre>| 9       | 336.91ms     | 0.207512               |</pre>"
      ],
      "text/plain": [
       "| 9       | 336.91ms     | 0.207512               |"
      ]
     },
     "metadata": {},
     "output_type": "display_data"
    },
    {
     "data": {
      "text/html": [
       "<pre>| 10      | 365.854ms    | 0.202286               |</pre>"
      ],
      "text/plain": [
       "| 10      | 365.854ms    | 0.202286               |"
      ]
     },
     "metadata": {},
     "output_type": "display_data"
    },
    {
     "data": {
      "text/html": [
       "<pre>| 11      | 388.735ms    | 0.197682               |</pre>"
      ],
      "text/plain": [
       "| 11      | 388.735ms    | 0.197682               |"
      ]
     },
     "metadata": {},
     "output_type": "display_data"
    },
    {
     "data": {
      "text/html": [
       "<pre>| 12      | 416.218ms    | 0.193565               |</pre>"
      ],
      "text/plain": [
       "| 12      | 416.218ms    | 0.193565               |"
      ]
     },
     "metadata": {},
     "output_type": "display_data"
    },
    {
     "data": {
      "text/html": [
       "<pre>| 13      | 444.792ms    | 0.189845               |</pre>"
      ],
      "text/plain": [
       "| 13      | 444.792ms    | 0.189845               |"
      ]
     },
     "metadata": {},
     "output_type": "display_data"
    },
    {
     "data": {
      "text/html": [
       "<pre>| 14      | 474.465ms    | 0.186454               |</pre>"
      ],
      "text/plain": [
       "| 14      | 474.465ms    | 0.186454               |"
      ]
     },
     "metadata": {},
     "output_type": "display_data"
    },
    {
     "data": {
      "text/html": [
       "<pre>| 15      | 509.508ms    | 0.183329               |</pre>"
      ],
      "text/plain": [
       "| 15      | 509.508ms    | 0.183329               |"
      ]
     },
     "metadata": {},
     "output_type": "display_data"
    },
    {
     "data": {
      "text/html": [
       "<pre>| 16      | 543.791ms    | 0.180474               |</pre>"
      ],
      "text/plain": [
       "| 16      | 543.791ms    | 0.180474               |"
      ]
     },
     "metadata": {},
     "output_type": "display_data"
    },
    {
     "data": {
      "text/html": [
       "<pre>| 17      | 576.671ms    | 0.177827               |</pre>"
      ],
      "text/plain": [
       "| 17      | 576.671ms    | 0.177827               |"
      ]
     },
     "metadata": {},
     "output_type": "display_data"
    },
    {
     "data": {
      "text/html": [
       "<pre>| 18      | 613.303ms    | 0.175363               |</pre>"
      ],
      "text/plain": [
       "| 18      | 613.303ms    | 0.175363               |"
      ]
     },
     "metadata": {},
     "output_type": "display_data"
    },
    {
     "data": {
      "text/html": [
       "<pre>| 19      | 645.012ms    | 0.173046               |</pre>"
      ],
      "text/plain": [
       "| 19      | 645.012ms    | 0.173046               |"
      ]
     },
     "metadata": {},
     "output_type": "display_data"
    },
    {
     "data": {
      "text/html": [
       "<pre>| 20      | 677.459ms    | 0.170844               |</pre>"
      ],
      "text/plain": [
       "| 20      | 677.459ms    | 0.170844               |"
      ]
     },
     "metadata": {},
     "output_type": "display_data"
    },
    {
     "data": {
      "text/html": [
       "<pre>| 21      | 717.618ms    | 0.168779               |</pre>"
      ],
      "text/plain": [
       "| 21      | 717.618ms    | 0.168779               |"
      ]
     },
     "metadata": {},
     "output_type": "display_data"
    },
    {
     "data": {
      "text/html": [
       "<pre>| 22      | 747.236ms    | 0.166841               |</pre>"
      ],
      "text/plain": [
       "| 22      | 747.236ms    | 0.166841               |"
      ]
     },
     "metadata": {},
     "output_type": "display_data"
    },
    {
     "data": {
      "text/html": [
       "<pre>| 23      | 776.608ms    | 0.165007               |</pre>"
      ],
      "text/plain": [
       "| 23      | 776.608ms    | 0.165007               |"
      ]
     },
     "metadata": {},
     "output_type": "display_data"
    },
    {
     "data": {
      "text/html": [
       "<pre>| 24      | 807.919ms    | 0.16326                |</pre>"
      ],
      "text/plain": [
       "| 24      | 807.919ms    | 0.16326                |"
      ]
     },
     "metadata": {},
     "output_type": "display_data"
    },
    {
     "data": {
      "text/html": [
       "<pre>| 25      | 842.48ms     | 0.161565               |</pre>"
      ],
      "text/plain": [
       "| 25      | 842.48ms     | 0.161565               |"
      ]
     },
     "metadata": {},
     "output_type": "display_data"
    },
    {
     "data": {
      "text/html": [
       "<pre>| 26      | 873.977ms    | 0.159946               |</pre>"
      ],
      "text/plain": [
       "| 26      | 873.977ms    | 0.159946               |"
      ]
     },
     "metadata": {},
     "output_type": "display_data"
    },
    {
     "data": {
      "text/html": [
       "<pre>| 27      | 902.318ms    | 0.15839                |</pre>"
      ],
      "text/plain": [
       "| 27      | 902.318ms    | 0.15839                |"
      ]
     },
     "metadata": {},
     "output_type": "display_data"
    },
    {
     "data": {
      "text/html": [
       "<pre>| 28      | 925.134ms    | 0.156887               |</pre>"
      ],
      "text/plain": [
       "| 28      | 925.134ms    | 0.156887               |"
      ]
     },
     "metadata": {},
     "output_type": "display_data"
    },
    {
     "data": {
      "text/html": [
       "<pre>| 29      | 959.002ms    | 0.155435               |</pre>"
      ],
      "text/plain": [
       "| 29      | 959.002ms    | 0.155435               |"
      ]
     },
     "metadata": {},
     "output_type": "display_data"
    },
    {
     "data": {
      "text/html": [
       "<pre>| 30      | 990.978ms    | 0.154044               |</pre>"
      ],
      "text/plain": [
       "| 30      | 990.978ms    | 0.154044               |"
      ]
     },
     "metadata": {},
     "output_type": "display_data"
    },
    {
     "data": {
      "text/html": [
       "<pre>| 31      | 1.02s        | 0.152701               |</pre>"
      ],
      "text/plain": [
       "| 31      | 1.02s        | 0.152701               |"
      ]
     },
     "metadata": {},
     "output_type": "display_data"
    },
    {
     "data": {
      "text/html": [
       "<pre>| 32      | 1.05s        | 0.151416               |</pre>"
      ],
      "text/plain": [
       "| 32      | 1.05s        | 0.151416               |"
      ]
     },
     "metadata": {},
     "output_type": "display_data"
    },
    {
     "data": {
      "text/html": [
       "<pre>| 33      | 1.08s        | 0.150182               |</pre>"
      ],
      "text/plain": [
       "| 33      | 1.08s        | 0.150182               |"
      ]
     },
     "metadata": {},
     "output_type": "display_data"
    },
    {
     "data": {
      "text/html": [
       "<pre>| 34      | 1.11s        | 0.14899                |</pre>"
      ],
      "text/plain": [
       "| 34      | 1.11s        | 0.14899                |"
      ]
     },
     "metadata": {},
     "output_type": "display_data"
    },
    {
     "data": {
      "text/html": [
       "<pre>| 35      | 1.15s        | 0.147841               |</pre>"
      ],
      "text/plain": [
       "| 35      | 1.15s        | 0.147841               |"
      ]
     },
     "metadata": {},
     "output_type": "display_data"
    },
    {
     "data": {
      "text/html": [
       "<pre>| 36      | 1.19s        | 0.146726               |</pre>"
      ],
      "text/plain": [
       "| 36      | 1.19s        | 0.146726               |"
      ]
     },
     "metadata": {},
     "output_type": "display_data"
    },
    {
     "data": {
      "text/html": [
       "<pre>| 37      | 1.24s        | 0.145657               |</pre>"
      ],
      "text/plain": [
       "| 37      | 1.24s        | 0.145657               |"
      ]
     },
     "metadata": {},
     "output_type": "display_data"
    },
    {
     "data": {
      "text/html": [
       "<pre>| 38      | 1.27s        | 0.144627               |</pre>"
      ],
      "text/plain": [
       "| 38      | 1.27s        | 0.144627               |"
      ]
     },
     "metadata": {},
     "output_type": "display_data"
    },
    {
     "data": {
      "text/html": [
       "<pre>| 39      | 1.31s        | 0.143633               |</pre>"
      ],
      "text/plain": [
       "| 39      | 1.31s        | 0.143633               |"
      ]
     },
     "metadata": {},
     "output_type": "display_data"
    },
    {
     "data": {
      "text/html": [
       "<pre>| 40      | 1.36s        | 0.142668               |</pre>"
      ],
      "text/plain": [
       "| 40      | 1.36s        | 0.142668               |"
      ]
     },
     "metadata": {},
     "output_type": "display_data"
    },
    {
     "data": {
      "text/html": [
       "<pre>| 41      | 1.39s        | 0.141739               |</pre>"
      ],
      "text/plain": [
       "| 41      | 1.39s        | 0.141739               |"
      ]
     },
     "metadata": {},
     "output_type": "display_data"
    },
    {
     "data": {
      "text/html": [
       "<pre>| 42      | 1.43s        | 0.140841               |</pre>"
      ],
      "text/plain": [
       "| 42      | 1.43s        | 0.140841               |"
      ]
     },
     "metadata": {},
     "output_type": "display_data"
    },
    {
     "data": {
      "text/html": [
       "<pre>| 43      | 1.49s        | 0.139968               |</pre>"
      ],
      "text/plain": [
       "| 43      | 1.49s        | 0.139968               |"
      ]
     },
     "metadata": {},
     "output_type": "display_data"
    },
    {
     "data": {
      "text/html": [
       "<pre>| 44      | 1.53s        | 0.139123               |</pre>"
      ],
      "text/plain": [
       "| 44      | 1.53s        | 0.139123               |"
      ]
     },
     "metadata": {},
     "output_type": "display_data"
    },
    {
     "data": {
      "text/html": [
       "<pre>| 45      | 1.57s        | 0.138304               |</pre>"
      ],
      "text/plain": [
       "| 45      | 1.57s        | 0.138304               |"
      ]
     },
     "metadata": {},
     "output_type": "display_data"
    },
    {
     "data": {
      "text/html": [
       "<pre>| 46      | 1.61s        | 0.137509               |</pre>"
      ],
      "text/plain": [
       "| 46      | 1.61s        | 0.137509               |"
      ]
     },
     "metadata": {},
     "output_type": "display_data"
    },
    {
     "data": {
      "text/html": [
       "<pre>| 47      | 1.64s        | 0.136738               |</pre>"
      ],
      "text/plain": [
       "| 47      | 1.64s        | 0.136738               |"
      ]
     },
     "metadata": {},
     "output_type": "display_data"
    },
    {
     "data": {
      "text/html": [
       "<pre>| 48      | 1.67s        | 0.135988               |</pre>"
      ],
      "text/plain": [
       "| 48      | 1.67s        | 0.135988               |"
      ]
     },
     "metadata": {},
     "output_type": "display_data"
    },
    {
     "data": {
      "text/html": [
       "<pre>| 49      | 1.71s        | 0.135258               |</pre>"
      ],
      "text/plain": [
       "| 49      | 1.71s        | 0.135258               |"
      ]
     },
     "metadata": {},
     "output_type": "display_data"
    },
    {
     "data": {
      "text/html": [
       "<pre>| FINAL   | 1.71s        | 0.135258               |</pre>"
      ],
      "text/plain": [
       "| FINAL   | 1.71s        | 0.135258               |"
      ]
     },
     "metadata": {},
     "output_type": "display_data"
    },
    {
     "data": {
      "text/html": [
       "<pre>+---------+--------------+------------------------+</pre>"
      ],
      "text/plain": [
       "+---------+--------------+------------------------+"
      ]
     },
     "metadata": {},
     "output_type": "display_data"
    },
    {
     "data": {
      "text/html": [
       "<pre>Optimization Complete: Iteration limit reached.</pre>"
      ],
      "text/plain": [
       "Optimization Complete: Iteration limit reached."
      ]
     },
     "metadata": {},
     "output_type": "display_data"
    }
   ],
   "source": [
    "matrix_rec = graphlab.recommender.factorization_recommender.create(sf_rec_users, \n",
    "                                                            user_id='user_id',\n",
    "                                                            item_id='business_id',\n",
    "                                                            target='stars',\n",
    "                                                            solver='als',\n",
    "                                                            side_data_factorization=False)"
   ]
  },
  {
   "cell_type": "code",
   "execution_count": 25,
   "metadata": {
    "collapsed": true
   },
   "outputs": [],
   "source": [
    "matrix_rec_result = matrix_rec.recommend(k=4, verbose=False)"
   ]
  },
  {
   "cell_type": "code",
   "execution_count": 26,
   "metadata": {
    "collapsed": false
   },
   "outputs": [
    {
     "data": {
      "text/html": [
       "<div style=\"max-height:1000px;max-width:1500px;overflow:auto;\"><table frame=\"box\" rules=\"cols\">\n",
       "    <tr>\n",
       "        <th style=\"padding-left: 1em; padding-right: 1em; text-align: center\">user_id</th>\n",
       "        <th style=\"padding-left: 1em; padding-right: 1em; text-align: center\">business_id</th>\n",
       "        <th style=\"padding-left: 1em; padding-right: 1em; text-align: center\">score</th>\n",
       "        <th style=\"padding-left: 1em; padding-right: 1em; text-align: center\">rank</th>\n",
       "    </tr>\n",
       "    <tr>\n",
       "        <td style=\"padding-left: 1em; padding-right: 1em; text-align: center; vertical-align: top\">bLbSNkLggFnqwNNzzq-Ijw</td>\n",
       "        <td style=\"padding-left: 1em; padding-right: 1em; text-align: center; vertical-align: top\">RUsoxvu4HH0fcGW14hbPhg</td>\n",
       "        <td style=\"padding-left: 1em; padding-right: 1em; text-align: center; vertical-align: top\">15.9931679171</td>\n",
       "        <td style=\"padding-left: 1em; padding-right: 1em; text-align: center; vertical-align: top\">1</td>\n",
       "    </tr>\n",
       "    <tr>\n",
       "        <td style=\"padding-left: 1em; padding-right: 1em; text-align: center; vertical-align: top\">bLbSNkLggFnqwNNzzq-Ijw</td>\n",
       "        <td style=\"padding-left: 1em; padding-right: 1em; text-align: center; vertical-align: top\">HzGRl7ERUjPpBA_rOT3E-w</td>\n",
       "        <td style=\"padding-left: 1em; padding-right: 1em; text-align: center; vertical-align: top\">11.8415551585</td>\n",
       "        <td style=\"padding-left: 1em; padding-right: 1em; text-align: center; vertical-align: top\">2</td>\n",
       "    </tr>\n",
       "    <tr>\n",
       "        <td style=\"padding-left: 1em; padding-right: 1em; text-align: center; vertical-align: top\">bLbSNkLggFnqwNNzzq-Ijw</td>\n",
       "        <td style=\"padding-left: 1em; padding-right: 1em; text-align: center; vertical-align: top\">N-L7ISdndWsIWdK0fn29wg</td>\n",
       "        <td style=\"padding-left: 1em; padding-right: 1em; text-align: center; vertical-align: top\">11.0508175295</td>\n",
       "        <td style=\"padding-left: 1em; padding-right: 1em; text-align: center; vertical-align: top\">3</td>\n",
       "    </tr>\n",
       "    <tr>\n",
       "        <td style=\"padding-left: 1em; padding-right: 1em; text-align: center; vertical-align: top\">bLbSNkLggFnqwNNzzq-Ijw</td>\n",
       "        <td style=\"padding-left: 1em; padding-right: 1em; text-align: center; vertical-align: top\">TrN8HBHBL4-Tu7cXMDoopQ</td>\n",
       "        <td style=\"padding-left: 1em; padding-right: 1em; text-align: center; vertical-align: top\">10.9185638827</td>\n",
       "        <td style=\"padding-left: 1em; padding-right: 1em; text-align: center; vertical-align: top\">4</td>\n",
       "    </tr>\n",
       "    <tr>\n",
       "        <td style=\"padding-left: 1em; padding-right: 1em; text-align: center; vertical-align: top\">JaqcCU3nxReTW2cBLHounA</td>\n",
       "        <td style=\"padding-left: 1em; padding-right: 1em; text-align: center; vertical-align: top\">VOAO6ip7GwK4McQZbRa60g</td>\n",
       "        <td style=\"padding-left: 1em; padding-right: 1em; text-align: center; vertical-align: top\">18.553114931</td>\n",
       "        <td style=\"padding-left: 1em; padding-right: 1em; text-align: center; vertical-align: top\">1</td>\n",
       "    </tr>\n",
       "    <tr>\n",
       "        <td style=\"padding-left: 1em; padding-right: 1em; text-align: center; vertical-align: top\">JaqcCU3nxReTW2cBLHounA</td>\n",
       "        <td style=\"padding-left: 1em; padding-right: 1em; text-align: center; vertical-align: top\">Rxz2YpeLr9Ek54Lt5z6h0A</td>\n",
       "        <td style=\"padding-left: 1em; padding-right: 1em; text-align: center; vertical-align: top\">13.389845888</td>\n",
       "        <td style=\"padding-left: 1em; padding-right: 1em; text-align: center; vertical-align: top\">2</td>\n",
       "    </tr>\n",
       "    <tr>\n",
       "        <td style=\"padding-left: 1em; padding-right: 1em; text-align: center; vertical-align: top\">JaqcCU3nxReTW2cBLHounA</td>\n",
       "        <td style=\"padding-left: 1em; padding-right: 1em; text-align: center; vertical-align: top\">gsjxrwdHqKdTeNx3GeDKNQ</td>\n",
       "        <td style=\"padding-left: 1em; padding-right: 1em; text-align: center; vertical-align: top\">13.335700075</td>\n",
       "        <td style=\"padding-left: 1em; padding-right: 1em; text-align: center; vertical-align: top\">3</td>\n",
       "    </tr>\n",
       "    <tr>\n",
       "        <td style=\"padding-left: 1em; padding-right: 1em; text-align: center; vertical-align: top\">JaqcCU3nxReTW2cBLHounA</td>\n",
       "        <td style=\"padding-left: 1em; padding-right: 1em; text-align: center; vertical-align: top\">bG8OeTrW5T7pRaDgKKUNAQ</td>\n",
       "        <td style=\"padding-left: 1em; padding-right: 1em; text-align: center; vertical-align: top\">12.8748321932</td>\n",
       "        <td style=\"padding-left: 1em; padding-right: 1em; text-align: center; vertical-align: top\">4</td>\n",
       "    </tr>\n",
       "    <tr>\n",
       "        <td style=\"padding-left: 1em; padding-right: 1em; text-align: center; vertical-align: top\">YE54kKTuqJJPNYWIKIpOEQ</td>\n",
       "        <td style=\"padding-left: 1em; padding-right: 1em; text-align: center; vertical-align: top\">VOAO6ip7GwK4McQZbRa60g</td>\n",
       "        <td style=\"padding-left: 1em; padding-right: 1em; text-align: center; vertical-align: top\">29.6831932467</td>\n",
       "        <td style=\"padding-left: 1em; padding-right: 1em; text-align: center; vertical-align: top\">1</td>\n",
       "    </tr>\n",
       "    <tr>\n",
       "        <td style=\"padding-left: 1em; padding-right: 1em; text-align: center; vertical-align: top\">YE54kKTuqJJPNYWIKIpOEQ</td>\n",
       "        <td style=\"padding-left: 1em; padding-right: 1em; text-align: center; vertical-align: top\">6bgjcFOy4WHMyw62_1V9Pw</td>\n",
       "        <td style=\"padding-left: 1em; padding-right: 1em; text-align: center; vertical-align: top\">21.571275751</td>\n",
       "        <td style=\"padding-left: 1em; padding-right: 1em; text-align: center; vertical-align: top\">2</td>\n",
       "    </tr>\n",
       "</table>\n",
       "[10 rows x 4 columns]<br/>\n",
       "</div>"
      ],
      "text/plain": [
       "Columns:\n",
       "\tuser_id\tstr\n",
       "\tbusiness_id\tstr\n",
       "\tscore\tfloat\n",
       "\trank\tint\n",
       "\n",
       "Rows: 10\n",
       "\n",
       "Data:\n",
       "+------------------------+------------------------+---------------+------+\n",
       "|        user_id         |      business_id       |     score     | rank |\n",
       "+------------------------+------------------------+---------------+------+\n",
       "| bLbSNkLggFnqwNNzzq-Ijw | RUsoxvu4HH0fcGW14hbPhg | 15.9931679171 |  1   |\n",
       "| bLbSNkLggFnqwNNzzq-Ijw | HzGRl7ERUjPpBA_rOT3E-w | 11.8415551585 |  2   |\n",
       "| bLbSNkLggFnqwNNzzq-Ijw | N-L7ISdndWsIWdK0fn29wg | 11.0508175295 |  3   |\n",
       "| bLbSNkLggFnqwNNzzq-Ijw | TrN8HBHBL4-Tu7cXMDoopQ | 10.9185638827 |  4   |\n",
       "| JaqcCU3nxReTW2cBLHounA | VOAO6ip7GwK4McQZbRa60g |  18.553114931 |  1   |\n",
       "| JaqcCU3nxReTW2cBLHounA | Rxz2YpeLr9Ek54Lt5z6h0A |  13.389845888 |  2   |\n",
       "| JaqcCU3nxReTW2cBLHounA | gsjxrwdHqKdTeNx3GeDKNQ |  13.335700075 |  3   |\n",
       "| JaqcCU3nxReTW2cBLHounA | bG8OeTrW5T7pRaDgKKUNAQ | 12.8748321932 |  4   |\n",
       "| YE54kKTuqJJPNYWIKIpOEQ | VOAO6ip7GwK4McQZbRa60g | 29.6831932467 |  1   |\n",
       "| YE54kKTuqJJPNYWIKIpOEQ | 6bgjcFOy4WHMyw62_1V9Pw |  21.571275751 |  2   |\n",
       "+------------------------+------------------------+---------------+------+\n",
       "[10 rows x 4 columns]"
      ]
     },
     "execution_count": 26,
     "metadata": {},
     "output_type": "execute_result"
    }
   ],
   "source": [
    "matrix_rec_result.head()"
   ]
  },
  {
   "cell_type": "code",
   "execution_count": 27,
   "metadata": {
    "collapsed": false
   },
   "outputs": [
    {
     "data": {
      "text/plain": [
       "{'business_id': Columns:\n",
       " \tbusiness_id\tstr\n",
       " \tlinear_terms\tfloat\n",
       " \tfactors\tarray\n",
       " \n",
       " Rows: 3643\n",
       " \n",
       " Data:\n",
       " +------------------------+--------------+-------------------------------+\n",
       " |      business_id       | linear_terms |            factors            |\n",
       " +------------------------+--------------+-------------------------------+\n",
       " | -WLrZPzjKfrftLWaCi1QZQ |     0.0      | [-0.0548494234681, 0.10962... |\n",
       " | 0G83H_zoum-Q4bWU2olTqQ |     0.0      | [-0.0234339553863, -0.0872... |\n",
       " | 0i9S0BejjRv0ZDwdO9XymA |     0.0      | [-0.193892806768, -0.25042... |\n",
       " | 0wW9PasC8pw8SY7rlY3ZKw |     0.0      | [-0.0471955537796, 0.07418... |\n",
       " | 1CaM8eIvl41l4f3V-V-cAw |     0.0      | [0.10519913584, 0.14528679... |\n",
       " | 2QznyHGF0PuiYkrl5RU66A |     0.0      | [-0.00890613719821, -0.063... |\n",
       " | 2WiMyg8-DoXQ8_R5qFc2iQ |     0.0      | [0.062996044755, 0.1057540... |\n",
       " | 2vr2yGIzSehe_ITFamNpyw |     0.0      | [0.336221724749, -0.225041... |\n",
       " | 30TxDt2V8G7FWXsKaEKA9A |     0.0      | [-0.0569087639451, -0.0328... |\n",
       " | 3281FKql3HVOzSVxymjJRg |     0.0      | [0.325046658516, -0.759718... |\n",
       " +------------------------+--------------+-------------------------------+\n",
       " [3643 rows x 3 columns]\n",
       " Note: Only the head of the SFrame is printed.\n",
       " You can use print_rows(num_rows=m, num_columns=n) to print more rows and columns.,\n",
       " 'intercept': 3.886598626956423,\n",
       " 'user_id': Columns:\n",
       " \tuser_id\tstr\n",
       " \tlinear_terms\tfloat\n",
       " \tfactors\tarray\n",
       " \n",
       " Rows: 8134\n",
       " \n",
       " Data:\n",
       " +------------------------+--------------+-------------------------------+\n",
       " |        user_id         | linear_terms |            factors            |\n",
       " +------------------------+--------------+-------------------------------+\n",
       " | bLbSNkLggFnqwNNzzq-Ijw |     0.0      | [-2.13566470146, 0.0771686... |\n",
       " | JaqcCU3nxReTW2cBLHounA |     0.0      | [0.179353043437, 0.8527637... |\n",
       " | YE54kKTuqJJPNYWIKIpOEQ |     0.0      | [1.73792254925, 1.68259167... |\n",
       " | keBv05MsMFBd0Hu98vXThQ |     0.0      | [-1.63466000557, -6.036939... |\n",
       " | P0rGN5mDue55uIiAzkrRlw |     0.0      | [-1.86762309074, -1.932832... |\n",
       " | U4INQZOPSUaj8hMjLlZ3KA |     0.0      | [-3.75838422775, 1.5965961... |\n",
       " | bvzwsK8u5i0Kvvyfy7aT1Q |     0.0      | [4.07703018188, -4.5877771... |\n",
       " | OXSJCjKtvZPf-YPDCXcWZg |     0.0      | [1.64814603329, -4.5759048... |\n",
       " | 8dxkcmAXY4ttrVFD1GhbdQ |     0.0      | [0.904299557209, -2.567059... |\n",
       " | sCelgwFoaNLMC_A7Y8usCw |     0.0      | [-10.6837100983, 3.8347885... |\n",
       " +------------------------+--------------+-------------------------------+\n",
       " [8134 rows x 3 columns]\n",
       " Note: Only the head of the SFrame is printed.\n",
       " You can use print_rows(num_rows=m, num_columns=n) to print more rows and columns.}"
      ]
     },
     "execution_count": 27,
     "metadata": {},
     "output_type": "execute_result"
    }
   ],
   "source": [
    "matrix_rec['coefficients']"
   ]
  },
  {
   "cell_type": "code",
   "execution_count": null,
   "metadata": {
    "collapsed": true
   },
   "outputs": [],
   "source": []
  },
  {
   "cell_type": "markdown",
   "metadata": {},
   "source": [
    "## 4. Other recommenders (optional)\n",
    "\n",
    "What are other ways you can build a better recommender?\n",
    "\n",
    "* Other features (have you noticed there are other features in the Yelp dataset, e.g. tips, etc.?)\n",
    "* Popularity-based\n",
    "* Content-based\n",
    "* Hybrid"
   ]
  },
  {
   "cell_type": "markdown",
   "metadata": {
    "collapsed": true
   },
   "source": [
    "- __Content-based__"
   ]
  },
  {
   "cell_type": "code",
   "execution_count": 28,
   "metadata": {
    "collapsed": false
   },
   "outputs": [
    {
     "data": {
      "text/html": [
       "<div>\n",
       "<table border=\"1\" class=\"dataframe\">\n",
       "  <thead>\n",
       "    <tr style=\"text-align: right;\">\n",
       "      <th></th>\n",
       "      <th>business_id</th>\n",
       "      <th>name</th>\n",
       "      <th>categories</th>\n",
       "      <th>avg_stars</th>\n",
       "      <th>cool</th>\n",
       "      <th>date</th>\n",
       "      <th>funny</th>\n",
       "      <th>review_id</th>\n",
       "      <th>stars</th>\n",
       "      <th>text</th>\n",
       "      <th>useful</th>\n",
       "      <th>user_id</th>\n",
       "    </tr>\n",
       "  </thead>\n",
       "  <tbody>\n",
       "    <tr>\n",
       "      <th>0</th>\n",
       "      <td>--9e1ONYQuAa-CB_Rrw7Tw</td>\n",
       "      <td>Delmonico Steakhouse</td>\n",
       "      <td>[Cajun/Creole, Steakhouses, Restaurants]</td>\n",
       "      <td>4.0</td>\n",
       "      <td>0</td>\n",
       "      <td>2017-02-14</td>\n",
       "      <td>0</td>\n",
       "      <td>Xp3ppynEvVu1KxDHQ3ae8w</td>\n",
       "      <td>5</td>\n",
       "      <td>Delmonico Steakhouse is a steakhouse owned by ...</td>\n",
       "      <td>0</td>\n",
       "      <td>KC8H7qTZVPIEnanw9fG43g</td>\n",
       "    </tr>\n",
       "    <tr>\n",
       "      <th>1</th>\n",
       "      <td>--9e1ONYQuAa-CB_Rrw7Tw</td>\n",
       "      <td>Delmonico Steakhouse</td>\n",
       "      <td>[Cajun/Creole, Steakhouses, Restaurants]</td>\n",
       "      <td>4.0</td>\n",
       "      <td>1</td>\n",
       "      <td>2017-05-28</td>\n",
       "      <td>0</td>\n",
       "      <td>LEzphAnz0vKE32PUCbjLgQ</td>\n",
       "      <td>4</td>\n",
       "      <td>One of the top steak places I've had in Vegas ...</td>\n",
       "      <td>2</td>\n",
       "      <td>3RTesI_MAwct13LWm4rhLw</td>\n",
       "    </tr>\n",
       "    <tr>\n",
       "      <th>2</th>\n",
       "      <td>--9e1ONYQuAa-CB_Rrw7Tw</td>\n",
       "      <td>Delmonico Steakhouse</td>\n",
       "      <td>[Cajun/Creole, Steakhouses, Restaurants]</td>\n",
       "      <td>4.0</td>\n",
       "      <td>0</td>\n",
       "      <td>2017-08-25</td>\n",
       "      <td>0</td>\n",
       "      <td>4e-cxYVdlIu2ZDxVJqUfOQ</td>\n",
       "      <td>5</td>\n",
       "      <td>This place is superb from the customer service...</td>\n",
       "      <td>0</td>\n",
       "      <td>EAOt1UQhJD0GG3l_jv7rWA</td>\n",
       "    </tr>\n",
       "    <tr>\n",
       "      <th>3</th>\n",
       "      <td>--9e1ONYQuAa-CB_Rrw7Tw</td>\n",
       "      <td>Delmonico Steakhouse</td>\n",
       "      <td>[Cajun/Creole, Steakhouses, Restaurants]</td>\n",
       "      <td>4.0</td>\n",
       "      <td>1</td>\n",
       "      <td>2017-02-12</td>\n",
       "      <td>1</td>\n",
       "      <td>heZd0W3HuPJxZBrCYD3wDw</td>\n",
       "      <td>2</td>\n",
       "      <td>Lousy steak. \\n\\nThe service was great - Todd,...</td>\n",
       "      <td>3</td>\n",
       "      <td>OtKA03ALQQ1CBhtaJod_Jw</td>\n",
       "    </tr>\n",
       "    <tr>\n",
       "      <th>4</th>\n",
       "      <td>--9e1ONYQuAa-CB_Rrw7Tw</td>\n",
       "      <td>Delmonico Steakhouse</td>\n",
       "      <td>[Cajun/Creole, Steakhouses, Restaurants]</td>\n",
       "      <td>4.0</td>\n",
       "      <td>0</td>\n",
       "      <td>2017-12-10</td>\n",
       "      <td>0</td>\n",
       "      <td>exzXjy7Y2ICX_BEVTDWpJA</td>\n",
       "      <td>5</td>\n",
       "      <td>I got the filet mignon with seared foigras and...</td>\n",
       "      <td>0</td>\n",
       "      <td>Ymtd4cQypep_QZJ-qJsHuA</td>\n",
       "    </tr>\n",
       "  </tbody>\n",
       "</table>\n",
       "</div>"
      ],
      "text/plain": [
       "              business_id                  name  \\\n",
       "0  --9e1ONYQuAa-CB_Rrw7Tw  Delmonico Steakhouse   \n",
       "1  --9e1ONYQuAa-CB_Rrw7Tw  Delmonico Steakhouse   \n",
       "2  --9e1ONYQuAa-CB_Rrw7Tw  Delmonico Steakhouse   \n",
       "3  --9e1ONYQuAa-CB_Rrw7Tw  Delmonico Steakhouse   \n",
       "4  --9e1ONYQuAa-CB_Rrw7Tw  Delmonico Steakhouse   \n",
       "\n",
       "                                 categories  avg_stars  cool        date  \\\n",
       "0  [Cajun/Creole, Steakhouses, Restaurants]        4.0     0  2017-02-14   \n",
       "1  [Cajun/Creole, Steakhouses, Restaurants]        4.0     1  2017-05-28   \n",
       "2  [Cajun/Creole, Steakhouses, Restaurants]        4.0     0  2017-08-25   \n",
       "3  [Cajun/Creole, Steakhouses, Restaurants]        4.0     1  2017-02-12   \n",
       "4  [Cajun/Creole, Steakhouses, Restaurants]        4.0     0  2017-12-10   \n",
       "\n",
       "   funny               review_id  stars  \\\n",
       "0      0  Xp3ppynEvVu1KxDHQ3ae8w      5   \n",
       "1      0  LEzphAnz0vKE32PUCbjLgQ      4   \n",
       "2      0  4e-cxYVdlIu2ZDxVJqUfOQ      5   \n",
       "3      1  heZd0W3HuPJxZBrCYD3wDw      2   \n",
       "4      0  exzXjy7Y2ICX_BEVTDWpJA      5   \n",
       "\n",
       "                                                text  useful  \\\n",
       "0  Delmonico Steakhouse is a steakhouse owned by ...       0   \n",
       "1  One of the top steak places I've had in Vegas ...       2   \n",
       "2  This place is superb from the customer service...       0   \n",
       "3  Lousy steak. \\n\\nThe service was great - Todd,...       3   \n",
       "4  I got the filet mignon with seared foigras and...       0   \n",
       "\n",
       "                  user_id  \n",
       "0  KC8H7qTZVPIEnanw9fG43g  \n",
       "1  3RTesI_MAwct13LWm4rhLw  \n",
       "2  EAOt1UQhJD0GG3l_jv7rWA  \n",
       "3  OtKA03ALQQ1CBhtaJod_Jw  \n",
       "4  Ymtd4cQypep_QZJ-qJsHuA  "
      ]
     },
     "execution_count": 28,
     "metadata": {},
     "output_type": "execute_result"
    }
   ],
   "source": [
    "df.head()"
   ]
  },
  {
   "cell_type": "code",
   "execution_count": 30,
   "metadata": {
    "collapsed": false
   },
   "outputs": [
    {
     "data": {
      "text/html": [
       "<div>\n",
       "<table border=\"1\" class=\"dataframe\">\n",
       "  <thead>\n",
       "    <tr style=\"text-align: right;\">\n",
       "      <th></th>\n",
       "      <th>avg_stars</th>\n",
       "      <th>cool</th>\n",
       "      <th>funny</th>\n",
       "      <th>stars</th>\n",
       "      <th>useful</th>\n",
       "    </tr>\n",
       "    <tr>\n",
       "      <th>business_id</th>\n",
       "      <th></th>\n",
       "      <th></th>\n",
       "      <th></th>\n",
       "      <th></th>\n",
       "      <th></th>\n",
       "    </tr>\n",
       "  </thead>\n",
       "  <tbody>\n",
       "    <tr>\n",
       "      <th>--9e1ONYQuAa-CB_Rrw7Tw</th>\n",
       "      <td>4.0</td>\n",
       "      <td>0.613139</td>\n",
       "      <td>0.401460</td>\n",
       "      <td>4.124088</td>\n",
       "      <td>0.788321</td>\n",
       "    </tr>\n",
       "    <tr>\n",
       "      <th>-1m9o3vGRA8IBPNvNqKLmA</th>\n",
       "      <td>4.5</td>\n",
       "      <td>1.000000</td>\n",
       "      <td>0.631579</td>\n",
       "      <td>4.736842</td>\n",
       "      <td>1.315789</td>\n",
       "    </tr>\n",
       "    <tr>\n",
       "      <th>-3zffZUHoY8bQjGfPSoBKQ</th>\n",
       "      <td>4.0</td>\n",
       "      <td>0.395833</td>\n",
       "      <td>0.312500</td>\n",
       "      <td>4.208333</td>\n",
       "      <td>0.937500</td>\n",
       "    </tr>\n",
       "    <tr>\n",
       "      <th>-8R_-EkGpUhBk55K9Dd4mg</th>\n",
       "      <td>3.5</td>\n",
       "      <td>1.111111</td>\n",
       "      <td>0.925926</td>\n",
       "      <td>3.962963</td>\n",
       "      <td>1.259259</td>\n",
       "    </tr>\n",
       "    <tr>\n",
       "      <th>-9YyInW1wapzdNZrhQJ9dg</th>\n",
       "      <td>2.5</td>\n",
       "      <td>0.242424</td>\n",
       "      <td>0.121212</td>\n",
       "      <td>2.939394</td>\n",
       "      <td>0.848485</td>\n",
       "    </tr>\n",
       "  </tbody>\n",
       "</table>\n",
       "</div>"
      ],
      "text/plain": [
       "                        avg_stars      cool     funny     stars    useful\n",
       "business_id                                                              \n",
       "--9e1ONYQuAa-CB_Rrw7Tw        4.0  0.613139  0.401460  4.124088  0.788321\n",
       "-1m9o3vGRA8IBPNvNqKLmA        4.5  1.000000  0.631579  4.736842  1.315789\n",
       "-3zffZUHoY8bQjGfPSoBKQ        4.0  0.395833  0.312500  4.208333  0.937500\n",
       "-8R_-EkGpUhBk55K9Dd4mg        3.5  1.111111  0.925926  3.962963  1.259259\n",
       "-9YyInW1wapzdNZrhQJ9dg        2.5  0.242424  0.121212  2.939394  0.848485"
      ]
     },
     "execution_count": 30,
     "metadata": {},
     "output_type": "execute_result"
    }
   ],
   "source": [
    "# group the df by busniess_id\n",
    "df_business = df.groupby(['business_id']).mean()\n",
    "df_business.head()"
   ]
  },
  {
   "cell_type": "code",
   "execution_count": 31,
   "metadata": {
    "collapsed": false
   },
   "outputs": [
    {
     "data": {
      "text/plain": [
       "business_id\n",
       "--9e1ONYQuAa-CB_Rrw7Tw           [[Cajun/Creole, Steakhouses, Restaurants]]\n",
       "-1m9o3vGRA8IBPNvNqKLmA    [[African, Restaurants, Nightlife, Bars, Steak...\n",
       "-3zffZUHoY8bQjGfPSoBKQ    [[Seafood, Bars, Nightlife, American (New), Re...\n",
       "-8R_-EkGpUhBk55K9Dd4mg                                [[Thai, Restaurants]]\n",
       "-9YyInW1wapzdNZrhQJ9dg                             [[Buffets, Restaurants]]\n",
       "Name: categories, dtype: object"
      ]
     },
     "execution_count": 31,
     "metadata": {},
     "output_type": "execute_result"
    }
   ],
   "source": [
    "# categorize different groups by its category\n",
    "categories_business = df.groupby(['business_id']).categories.apply(np.unique)\n",
    "\n",
    "categories_business.head()"
   ]
  },
  {
   "cell_type": "code",
   "execution_count": 32,
   "metadata": {
    "collapsed": false
   },
   "outputs": [
    {
     "data": {
      "text/plain": [
       "business_id\n",
       "--9e1ONYQuAa-CB_Rrw7Tw               Cajun/Creole, Steakhouses, Restaurants\n",
       "-1m9o3vGRA8IBPNvNqKLmA    African, Restaurants, Nightlife, Bars, Steakho...\n",
       "-3zffZUHoY8bQjGfPSoBKQ    Seafood, Bars, Nightlife, American (New), Rest...\n",
       "-8R_-EkGpUhBk55K9Dd4mg                                    Thai, Restaurants\n",
       "-9YyInW1wapzdNZrhQJ9dg                                 Buffets, Restaurants\n",
       "Name: categories, dtype: object"
      ]
     },
     "execution_count": 32,
     "metadata": {},
     "output_type": "execute_result"
    }
   ],
   "source": [
    "# convert data to string and remove `[]`\n",
    "categories_business = categories_business.str.join('').apply(lambda x: x[1:-1])\n",
    "categories_business.head()"
   ]
  },
  {
   "cell_type": "code",
   "execution_count": 34,
   "metadata": {
    "collapsed": false
   },
   "outputs": [
    {
     "data": {
      "text/html": [
       "<div>\n",
       "<table border=\"1\" class=\"dataframe\">\n",
       "  <thead>\n",
       "    <tr style=\"text-align: right;\">\n",
       "      <th></th>\n",
       "      <th>acai</th>\n",
       "      <th>active</th>\n",
       "      <th>activities</th>\n",
       "      <th>acupuncture</th>\n",
       "      <th>adoption</th>\n",
       "      <th>adult</th>\n",
       "      <th>afghan</th>\n",
       "      <th>african</th>\n",
       "      <th>air</th>\n",
       "      <th>aircraft</th>\n",
       "      <th>...</th>\n",
       "      <th>wholesalers</th>\n",
       "      <th>window</th>\n",
       "      <th>windshield</th>\n",
       "      <th>wine</th>\n",
       "      <th>wineries</th>\n",
       "      <th>wings</th>\n",
       "      <th>women</th>\n",
       "      <th>wraps</th>\n",
       "      <th>yogurt</th>\n",
       "      <th>yourself</th>\n",
       "    </tr>\n",
       "    <tr>\n",
       "      <th>business_id</th>\n",
       "      <th></th>\n",
       "      <th></th>\n",
       "      <th></th>\n",
       "      <th></th>\n",
       "      <th></th>\n",
       "      <th></th>\n",
       "      <th></th>\n",
       "      <th></th>\n",
       "      <th></th>\n",
       "      <th></th>\n",
       "      <th></th>\n",
       "      <th></th>\n",
       "      <th></th>\n",
       "      <th></th>\n",
       "      <th></th>\n",
       "      <th></th>\n",
       "      <th></th>\n",
       "      <th></th>\n",
       "      <th></th>\n",
       "      <th></th>\n",
       "      <th></th>\n",
       "    </tr>\n",
       "  </thead>\n",
       "  <tbody>\n",
       "    <tr>\n",
       "      <th>--9e1ONYQuAa-CB_Rrw7Tw</th>\n",
       "      <td>0</td>\n",
       "      <td>0</td>\n",
       "      <td>0</td>\n",
       "      <td>0</td>\n",
       "      <td>0</td>\n",
       "      <td>0</td>\n",
       "      <td>0</td>\n",
       "      <td>0</td>\n",
       "      <td>0</td>\n",
       "      <td>0</td>\n",
       "      <td>...</td>\n",
       "      <td>0</td>\n",
       "      <td>0</td>\n",
       "      <td>0</td>\n",
       "      <td>0</td>\n",
       "      <td>0</td>\n",
       "      <td>0</td>\n",
       "      <td>0</td>\n",
       "      <td>0</td>\n",
       "      <td>0</td>\n",
       "      <td>0</td>\n",
       "    </tr>\n",
       "    <tr>\n",
       "      <th>-1m9o3vGRA8IBPNvNqKLmA</th>\n",
       "      <td>0</td>\n",
       "      <td>0</td>\n",
       "      <td>0</td>\n",
       "      <td>0</td>\n",
       "      <td>0</td>\n",
       "      <td>0</td>\n",
       "      <td>0</td>\n",
       "      <td>1</td>\n",
       "      <td>0</td>\n",
       "      <td>0</td>\n",
       "      <td>...</td>\n",
       "      <td>0</td>\n",
       "      <td>0</td>\n",
       "      <td>0</td>\n",
       "      <td>0</td>\n",
       "      <td>0</td>\n",
       "      <td>0</td>\n",
       "      <td>0</td>\n",
       "      <td>0</td>\n",
       "      <td>0</td>\n",
       "      <td>0</td>\n",
       "    </tr>\n",
       "    <tr>\n",
       "      <th>-3zffZUHoY8bQjGfPSoBKQ</th>\n",
       "      <td>0</td>\n",
       "      <td>0</td>\n",
       "      <td>0</td>\n",
       "      <td>0</td>\n",
       "      <td>0</td>\n",
       "      <td>0</td>\n",
       "      <td>0</td>\n",
       "      <td>0</td>\n",
       "      <td>0</td>\n",
       "      <td>0</td>\n",
       "      <td>...</td>\n",
       "      <td>0</td>\n",
       "      <td>0</td>\n",
       "      <td>0</td>\n",
       "      <td>0</td>\n",
       "      <td>0</td>\n",
       "      <td>0</td>\n",
       "      <td>0</td>\n",
       "      <td>0</td>\n",
       "      <td>0</td>\n",
       "      <td>0</td>\n",
       "    </tr>\n",
       "    <tr>\n",
       "      <th>-8R_-EkGpUhBk55K9Dd4mg</th>\n",
       "      <td>0</td>\n",
       "      <td>0</td>\n",
       "      <td>0</td>\n",
       "      <td>0</td>\n",
       "      <td>0</td>\n",
       "      <td>0</td>\n",
       "      <td>0</td>\n",
       "      <td>0</td>\n",
       "      <td>0</td>\n",
       "      <td>0</td>\n",
       "      <td>...</td>\n",
       "      <td>0</td>\n",
       "      <td>0</td>\n",
       "      <td>0</td>\n",
       "      <td>0</td>\n",
       "      <td>0</td>\n",
       "      <td>0</td>\n",
       "      <td>0</td>\n",
       "      <td>0</td>\n",
       "      <td>0</td>\n",
       "      <td>0</td>\n",
       "    </tr>\n",
       "    <tr>\n",
       "      <th>-9YyInW1wapzdNZrhQJ9dg</th>\n",
       "      <td>0</td>\n",
       "      <td>0</td>\n",
       "      <td>0</td>\n",
       "      <td>0</td>\n",
       "      <td>0</td>\n",
       "      <td>0</td>\n",
       "      <td>0</td>\n",
       "      <td>0</td>\n",
       "      <td>0</td>\n",
       "      <td>0</td>\n",
       "      <td>...</td>\n",
       "      <td>0</td>\n",
       "      <td>0</td>\n",
       "      <td>0</td>\n",
       "      <td>0</td>\n",
       "      <td>0</td>\n",
       "      <td>0</td>\n",
       "      <td>0</td>\n",
       "      <td>0</td>\n",
       "      <td>0</td>\n",
       "      <td>0</td>\n",
       "    </tr>\n",
       "  </tbody>\n",
       "</table>\n",
       "<p>5 rows × 451 columns</p>\n",
       "</div>"
      ],
      "text/plain": [
       "                        acai  active  activities  acupuncture  adoption  \\\n",
       "business_id                                                               \n",
       "--9e1ONYQuAa-CB_Rrw7Tw     0       0           0            0         0   \n",
       "-1m9o3vGRA8IBPNvNqKLmA     0       0           0            0         0   \n",
       "-3zffZUHoY8bQjGfPSoBKQ     0       0           0            0         0   \n",
       "-8R_-EkGpUhBk55K9Dd4mg     0       0           0            0         0   \n",
       "-9YyInW1wapzdNZrhQJ9dg     0       0           0            0         0   \n",
       "\n",
       "                        adult  afghan  african  air  aircraft    ...     \\\n",
       "business_id                                                      ...      \n",
       "--9e1ONYQuAa-CB_Rrw7Tw      0       0        0    0         0    ...      \n",
       "-1m9o3vGRA8IBPNvNqKLmA      0       0        1    0         0    ...      \n",
       "-3zffZUHoY8bQjGfPSoBKQ      0       0        0    0         0    ...      \n",
       "-8R_-EkGpUhBk55K9Dd4mg      0       0        0    0         0    ...      \n",
       "-9YyInW1wapzdNZrhQJ9dg      0       0        0    0         0    ...      \n",
       "\n",
       "                        wholesalers  window  windshield  wine  wineries  \\\n",
       "business_id                                                               \n",
       "--9e1ONYQuAa-CB_Rrw7Tw            0       0           0     0         0   \n",
       "-1m9o3vGRA8IBPNvNqKLmA            0       0           0     0         0   \n",
       "-3zffZUHoY8bQjGfPSoBKQ            0       0           0     0         0   \n",
       "-8R_-EkGpUhBk55K9Dd4mg            0       0           0     0         0   \n",
       "-9YyInW1wapzdNZrhQJ9dg            0       0           0     0         0   \n",
       "\n",
       "                        wings  women  wraps  yogurt  yourself  \n",
       "business_id                                                    \n",
       "--9e1ONYQuAa-CB_Rrw7Tw      0      0      0       0         0  \n",
       "-1m9o3vGRA8IBPNvNqKLmA      0      0      0       0         0  \n",
       "-3zffZUHoY8bQjGfPSoBKQ      0      0      0       0         0  \n",
       "-8R_-EkGpUhBk55K9Dd4mg      0      0      0       0         0  \n",
       "-9YyInW1wapzdNZrhQJ9dg      0      0      0       0         0  \n",
       "\n",
       "[5 rows x 451 columns]"
      ]
     },
     "execution_count": 34,
     "metadata": {},
     "output_type": "execute_result"
    }
   ],
   "source": [
    "# create a table with business_id and category.\n",
    "from sklearn.feature_extraction.text import CountVectorizer\n",
    "\n",
    "vectorizer = CountVectorizer()\n",
    "categories_mat = vectorizer.fit_transform(categories_business).toarray()\n",
    "categories = vectorizer.get_feature_names()\n",
    "df_categories = pd.DataFrame(categories_mat,\n",
    "                            columns=categories,\n",
    "                            index=categories_business.index)\n",
    "df_categories.head()"
   ]
  },
  {
   "cell_type": "code",
   "execution_count": 35,
   "metadata": {
    "collapsed": false
   },
   "outputs": [
    {
     "data": {
      "text/plain": [
       "(4051, 451)"
      ]
     },
     "execution_count": 35,
     "metadata": {},
     "output_type": "execute_result"
    }
   ],
   "source": [
    "df_categories.shape"
   ]
  },
  {
   "cell_type": "markdown",
   "metadata": {},
   "source": [
    "The above matrix is sparse, so we want to reduce the dimentionality first."
   ]
  },
  {
   "cell_type": "code",
   "execution_count": 36,
   "metadata": {
    "collapsed": false
   },
   "outputs": [
    {
     "name": "stdout",
     "output_type": "stream",
     "text": [
      "0.983614693345\n"
     ]
    },
    {
     "data": {
      "text/html": [
       "<div>\n",
       "<table border=\"1\" class=\"dataframe\">\n",
       "  <thead>\n",
       "    <tr style=\"text-align: right;\">\n",
       "      <th></th>\n",
       "      <th>0</th>\n",
       "      <th>1</th>\n",
       "      <th>2</th>\n",
       "      <th>3</th>\n",
       "      <th>4</th>\n",
       "      <th>5</th>\n",
       "      <th>6</th>\n",
       "      <th>7</th>\n",
       "      <th>8</th>\n",
       "      <th>9</th>\n",
       "      <th>...</th>\n",
       "      <th>190</th>\n",
       "      <th>191</th>\n",
       "      <th>192</th>\n",
       "      <th>193</th>\n",
       "      <th>194</th>\n",
       "      <th>195</th>\n",
       "      <th>196</th>\n",
       "      <th>197</th>\n",
       "      <th>198</th>\n",
       "      <th>199</th>\n",
       "    </tr>\n",
       "    <tr>\n",
       "      <th>business_id</th>\n",
       "      <th></th>\n",
       "      <th></th>\n",
       "      <th></th>\n",
       "      <th></th>\n",
       "      <th></th>\n",
       "      <th></th>\n",
       "      <th></th>\n",
       "      <th></th>\n",
       "      <th></th>\n",
       "      <th></th>\n",
       "      <th></th>\n",
       "      <th></th>\n",
       "      <th></th>\n",
       "      <th></th>\n",
       "      <th></th>\n",
       "      <th></th>\n",
       "      <th></th>\n",
       "      <th></th>\n",
       "      <th></th>\n",
       "      <th></th>\n",
       "      <th></th>\n",
       "    </tr>\n",
       "  </thead>\n",
       "  <tbody>\n",
       "    <tr>\n",
       "      <th>--9e1ONYQuAa-CB_Rrw7Tw</th>\n",
       "      <td>0.727720</td>\n",
       "      <td>0.025981</td>\n",
       "      <td>-0.436491</td>\n",
       "      <td>-0.447002</td>\n",
       "      <td>0.021092</td>\n",
       "      <td>-0.001847</td>\n",
       "      <td>-0.034623</td>\n",
       "      <td>0.124481</td>\n",
       "      <td>-0.035061</td>\n",
       "      <td>0.034659</td>\n",
       "      <td>...</td>\n",
       "      <td>-0.002238</td>\n",
       "      <td>-0.009913</td>\n",
       "      <td>-0.000238</td>\n",
       "      <td>0.006458</td>\n",
       "      <td>0.007085</td>\n",
       "      <td>-0.011393</td>\n",
       "      <td>0.006577</td>\n",
       "      <td>0.004437</td>\n",
       "      <td>0.006042</td>\n",
       "      <td>-0.000473</td>\n",
       "    </tr>\n",
       "    <tr>\n",
       "      <th>-1m9o3vGRA8IBPNvNqKLmA</th>\n",
       "      <td>1.857303</td>\n",
       "      <td>1.992566</td>\n",
       "      <td>0.566649</td>\n",
       "      <td>-0.009360</td>\n",
       "      <td>-0.116075</td>\n",
       "      <td>-0.180450</td>\n",
       "      <td>-0.143540</td>\n",
       "      <td>0.165173</td>\n",
       "      <td>0.129822</td>\n",
       "      <td>0.457680</td>\n",
       "      <td>...</td>\n",
       "      <td>0.043424</td>\n",
       "      <td>0.012475</td>\n",
       "      <td>0.016768</td>\n",
       "      <td>-0.001174</td>\n",
       "      <td>0.040178</td>\n",
       "      <td>0.032118</td>\n",
       "      <td>0.042490</td>\n",
       "      <td>0.021451</td>\n",
       "      <td>0.008370</td>\n",
       "      <td>0.045907</td>\n",
       "    </tr>\n",
       "    <tr>\n",
       "      <th>-3zffZUHoY8bQjGfPSoBKQ</th>\n",
       "      <td>1.509998</td>\n",
       "      <td>1.338844</td>\n",
       "      <td>-0.020165</td>\n",
       "      <td>0.153496</td>\n",
       "      <td>-0.042445</td>\n",
       "      <td>-0.211873</td>\n",
       "      <td>-0.140857</td>\n",
       "      <td>0.264024</td>\n",
       "      <td>0.144033</td>\n",
       "      <td>0.449828</td>\n",
       "      <td>...</td>\n",
       "      <td>0.003954</td>\n",
       "      <td>0.008450</td>\n",
       "      <td>-0.003694</td>\n",
       "      <td>-0.001051</td>\n",
       "      <td>-0.009036</td>\n",
       "      <td>-0.005358</td>\n",
       "      <td>-0.001555</td>\n",
       "      <td>0.001410</td>\n",
       "      <td>-0.002322</td>\n",
       "      <td>-0.000999</td>\n",
       "    </tr>\n",
       "    <tr>\n",
       "      <th>-8R_-EkGpUhBk55K9Dd4mg</th>\n",
       "      <td>0.701672</td>\n",
       "      <td>-0.013322</td>\n",
       "      <td>-0.428213</td>\n",
       "      <td>-0.468336</td>\n",
       "      <td>0.009372</td>\n",
       "      <td>0.040814</td>\n",
       "      <td>-0.029920</td>\n",
       "      <td>0.120198</td>\n",
       "      <td>-0.057290</td>\n",
       "      <td>0.032088</td>\n",
       "      <td>...</td>\n",
       "      <td>-0.000247</td>\n",
       "      <td>0.004093</td>\n",
       "      <td>0.000746</td>\n",
       "      <td>0.002178</td>\n",
       "      <td>-0.001583</td>\n",
       "      <td>-0.005540</td>\n",
       "      <td>0.001427</td>\n",
       "      <td>0.005087</td>\n",
       "      <td>0.004128</td>\n",
       "      <td>-0.002661</td>\n",
       "    </tr>\n",
       "    <tr>\n",
       "      <th>-9YyInW1wapzdNZrhQJ9dg</th>\n",
       "      <td>0.699882</td>\n",
       "      <td>-0.003055</td>\n",
       "      <td>-0.439044</td>\n",
       "      <td>-0.458892</td>\n",
       "      <td>0.008921</td>\n",
       "      <td>0.035714</td>\n",
       "      <td>-0.024095</td>\n",
       "      <td>0.089413</td>\n",
       "      <td>-0.038599</td>\n",
       "      <td>0.017694</td>\n",
       "      <td>...</td>\n",
       "      <td>0.002140</td>\n",
       "      <td>-0.002393</td>\n",
       "      <td>0.000042</td>\n",
       "      <td>0.002569</td>\n",
       "      <td>-0.002159</td>\n",
       "      <td>-0.004643</td>\n",
       "      <td>0.002381</td>\n",
       "      <td>0.000477</td>\n",
       "      <td>-0.001733</td>\n",
       "      <td>-0.001548</td>\n",
       "    </tr>\n",
       "  </tbody>\n",
       "</table>\n",
       "<p>5 rows × 200 columns</p>\n",
       "</div>"
      ],
      "text/plain": [
       "                             0         1         2         3         4    \\\n",
       "business_id                                                                \n",
       "--9e1ONYQuAa-CB_Rrw7Tw  0.727720  0.025981 -0.436491 -0.447002  0.021092   \n",
       "-1m9o3vGRA8IBPNvNqKLmA  1.857303  1.992566  0.566649 -0.009360 -0.116075   \n",
       "-3zffZUHoY8bQjGfPSoBKQ  1.509998  1.338844 -0.020165  0.153496 -0.042445   \n",
       "-8R_-EkGpUhBk55K9Dd4mg  0.701672 -0.013322 -0.428213 -0.468336  0.009372   \n",
       "-9YyInW1wapzdNZrhQJ9dg  0.699882 -0.003055 -0.439044 -0.458892  0.008921   \n",
       "\n",
       "                             5         6         7         8         9    \\\n",
       "business_id                                                                \n",
       "--9e1ONYQuAa-CB_Rrw7Tw -0.001847 -0.034623  0.124481 -0.035061  0.034659   \n",
       "-1m9o3vGRA8IBPNvNqKLmA -0.180450 -0.143540  0.165173  0.129822  0.457680   \n",
       "-3zffZUHoY8bQjGfPSoBKQ -0.211873 -0.140857  0.264024  0.144033  0.449828   \n",
       "-8R_-EkGpUhBk55K9Dd4mg  0.040814 -0.029920  0.120198 -0.057290  0.032088   \n",
       "-9YyInW1wapzdNZrhQJ9dg  0.035714 -0.024095  0.089413 -0.038599  0.017694   \n",
       "\n",
       "                          ...          190       191       192       193  \\\n",
       "business_id               ...                                              \n",
       "--9e1ONYQuAa-CB_Rrw7Tw    ...    -0.002238 -0.009913 -0.000238  0.006458   \n",
       "-1m9o3vGRA8IBPNvNqKLmA    ...     0.043424  0.012475  0.016768 -0.001174   \n",
       "-3zffZUHoY8bQjGfPSoBKQ    ...     0.003954  0.008450 -0.003694 -0.001051   \n",
       "-8R_-EkGpUhBk55K9Dd4mg    ...    -0.000247  0.004093  0.000746  0.002178   \n",
       "-9YyInW1wapzdNZrhQJ9dg    ...     0.002140 -0.002393  0.000042  0.002569   \n",
       "\n",
       "                             194       195       196       197       198  \\\n",
       "business_id                                                                \n",
       "--9e1ONYQuAa-CB_Rrw7Tw  0.007085 -0.011393  0.006577  0.004437  0.006042   \n",
       "-1m9o3vGRA8IBPNvNqKLmA  0.040178  0.032118  0.042490  0.021451  0.008370   \n",
       "-3zffZUHoY8bQjGfPSoBKQ -0.009036 -0.005358 -0.001555  0.001410 -0.002322   \n",
       "-8R_-EkGpUhBk55K9Dd4mg -0.001583 -0.005540  0.001427  0.005087  0.004128   \n",
       "-9YyInW1wapzdNZrhQJ9dg -0.002159 -0.004643  0.002381  0.000477 -0.001733   \n",
       "\n",
       "                             199  \n",
       "business_id                       \n",
       "--9e1ONYQuAa-CB_Rrw7Tw -0.000473  \n",
       "-1m9o3vGRA8IBPNvNqKLmA  0.045907  \n",
       "-3zffZUHoY8bQjGfPSoBKQ -0.000999  \n",
       "-8R_-EkGpUhBk55K9Dd4mg -0.002661  \n",
       "-9YyInW1wapzdNZrhQJ9dg -0.001548  \n",
       "\n",
       "[5 rows x 200 columns]"
      ]
     },
     "execution_count": 36,
     "metadata": {},
     "output_type": "execute_result"
    }
   ],
   "source": [
    "# use svd to reduce dimension\n",
    "from sklearn.decomposition import TruncatedSVD\n",
    "svd = TruncatedSVD(n_components=200, random_state=42)\n",
    "\n",
    "svd.fit(categories_mat)\n",
    "categories_svd = svd.transform(categories_mat)\n",
    "df_categories_svd = pd.DataFrame(categories_svd,\n",
    "                                 index=categories_business.index)\n",
    "\n",
    "print(svd.explained_variance_ratio_.sum()) \n",
    "# As to the result, 98% of the total variance can be explained\n",
    "df_categories_svd.head()"
   ]
  },
  {
   "cell_type": "code",
   "execution_count": 37,
   "metadata": {
    "collapsed": false
   },
   "outputs": [
    {
     "data": {
      "text/html": [
       "<div>\n",
       "<table border=\"1\" class=\"dataframe\">\n",
       "  <thead>\n",
       "    <tr style=\"text-align: right;\">\n",
       "      <th></th>\n",
       "      <th>avg_stars</th>\n",
       "      <th>cool</th>\n",
       "      <th>funny</th>\n",
       "      <th>stars</th>\n",
       "      <th>useful</th>\n",
       "      <th>0</th>\n",
       "      <th>1</th>\n",
       "      <th>2</th>\n",
       "      <th>3</th>\n",
       "      <th>4</th>\n",
       "      <th>...</th>\n",
       "      <th>190</th>\n",
       "      <th>191</th>\n",
       "      <th>192</th>\n",
       "      <th>193</th>\n",
       "      <th>194</th>\n",
       "      <th>195</th>\n",
       "      <th>196</th>\n",
       "      <th>197</th>\n",
       "      <th>198</th>\n",
       "      <th>199</th>\n",
       "    </tr>\n",
       "    <tr>\n",
       "      <th>business_id</th>\n",
       "      <th></th>\n",
       "      <th></th>\n",
       "      <th></th>\n",
       "      <th></th>\n",
       "      <th></th>\n",
       "      <th></th>\n",
       "      <th></th>\n",
       "      <th></th>\n",
       "      <th></th>\n",
       "      <th></th>\n",
       "      <th></th>\n",
       "      <th></th>\n",
       "      <th></th>\n",
       "      <th></th>\n",
       "      <th></th>\n",
       "      <th></th>\n",
       "      <th></th>\n",
       "      <th></th>\n",
       "      <th></th>\n",
       "      <th></th>\n",
       "      <th></th>\n",
       "    </tr>\n",
       "  </thead>\n",
       "  <tbody>\n",
       "    <tr>\n",
       "      <th>--9e1ONYQuAa-CB_Rrw7Tw</th>\n",
       "      <td>4.0</td>\n",
       "      <td>0.613139</td>\n",
       "      <td>0.401460</td>\n",
       "      <td>4.124088</td>\n",
       "      <td>0.788321</td>\n",
       "      <td>0.727720</td>\n",
       "      <td>0.025981</td>\n",
       "      <td>-0.436491</td>\n",
       "      <td>-0.447002</td>\n",
       "      <td>0.021092</td>\n",
       "      <td>...</td>\n",
       "      <td>-0.002238</td>\n",
       "      <td>-0.009913</td>\n",
       "      <td>-0.000238</td>\n",
       "      <td>0.006458</td>\n",
       "      <td>0.007085</td>\n",
       "      <td>-0.011393</td>\n",
       "      <td>0.006577</td>\n",
       "      <td>0.004437</td>\n",
       "      <td>0.006042</td>\n",
       "      <td>-0.000473</td>\n",
       "    </tr>\n",
       "    <tr>\n",
       "      <th>-1m9o3vGRA8IBPNvNqKLmA</th>\n",
       "      <td>4.5</td>\n",
       "      <td>1.000000</td>\n",
       "      <td>0.631579</td>\n",
       "      <td>4.736842</td>\n",
       "      <td>1.315789</td>\n",
       "      <td>1.857303</td>\n",
       "      <td>1.992566</td>\n",
       "      <td>0.566649</td>\n",
       "      <td>-0.009360</td>\n",
       "      <td>-0.116075</td>\n",
       "      <td>...</td>\n",
       "      <td>0.043424</td>\n",
       "      <td>0.012475</td>\n",
       "      <td>0.016768</td>\n",
       "      <td>-0.001174</td>\n",
       "      <td>0.040178</td>\n",
       "      <td>0.032118</td>\n",
       "      <td>0.042490</td>\n",
       "      <td>0.021451</td>\n",
       "      <td>0.008370</td>\n",
       "      <td>0.045907</td>\n",
       "    </tr>\n",
       "    <tr>\n",
       "      <th>-3zffZUHoY8bQjGfPSoBKQ</th>\n",
       "      <td>4.0</td>\n",
       "      <td>0.395833</td>\n",
       "      <td>0.312500</td>\n",
       "      <td>4.208333</td>\n",
       "      <td>0.937500</td>\n",
       "      <td>1.509998</td>\n",
       "      <td>1.338844</td>\n",
       "      <td>-0.020165</td>\n",
       "      <td>0.153496</td>\n",
       "      <td>-0.042445</td>\n",
       "      <td>...</td>\n",
       "      <td>0.003954</td>\n",
       "      <td>0.008450</td>\n",
       "      <td>-0.003694</td>\n",
       "      <td>-0.001051</td>\n",
       "      <td>-0.009036</td>\n",
       "      <td>-0.005358</td>\n",
       "      <td>-0.001555</td>\n",
       "      <td>0.001410</td>\n",
       "      <td>-0.002322</td>\n",
       "      <td>-0.000999</td>\n",
       "    </tr>\n",
       "    <tr>\n",
       "      <th>-8R_-EkGpUhBk55K9Dd4mg</th>\n",
       "      <td>3.5</td>\n",
       "      <td>1.111111</td>\n",
       "      <td>0.925926</td>\n",
       "      <td>3.962963</td>\n",
       "      <td>1.259259</td>\n",
       "      <td>0.701672</td>\n",
       "      <td>-0.013322</td>\n",
       "      <td>-0.428213</td>\n",
       "      <td>-0.468336</td>\n",
       "      <td>0.009372</td>\n",
       "      <td>...</td>\n",
       "      <td>-0.000247</td>\n",
       "      <td>0.004093</td>\n",
       "      <td>0.000746</td>\n",
       "      <td>0.002178</td>\n",
       "      <td>-0.001583</td>\n",
       "      <td>-0.005540</td>\n",
       "      <td>0.001427</td>\n",
       "      <td>0.005087</td>\n",
       "      <td>0.004128</td>\n",
       "      <td>-0.002661</td>\n",
       "    </tr>\n",
       "    <tr>\n",
       "      <th>-9YyInW1wapzdNZrhQJ9dg</th>\n",
       "      <td>2.5</td>\n",
       "      <td>0.242424</td>\n",
       "      <td>0.121212</td>\n",
       "      <td>2.939394</td>\n",
       "      <td>0.848485</td>\n",
       "      <td>0.699882</td>\n",
       "      <td>-0.003055</td>\n",
       "      <td>-0.439044</td>\n",
       "      <td>-0.458892</td>\n",
       "      <td>0.008921</td>\n",
       "      <td>...</td>\n",
       "      <td>0.002140</td>\n",
       "      <td>-0.002393</td>\n",
       "      <td>0.000042</td>\n",
       "      <td>0.002569</td>\n",
       "      <td>-0.002159</td>\n",
       "      <td>-0.004643</td>\n",
       "      <td>0.002381</td>\n",
       "      <td>0.000477</td>\n",
       "      <td>-0.001733</td>\n",
       "      <td>-0.001548</td>\n",
       "    </tr>\n",
       "  </tbody>\n",
       "</table>\n",
       "<p>5 rows × 205 columns</p>\n",
       "</div>"
      ],
      "text/plain": [
       "                        avg_stars      cool     funny     stars    useful  \\\n",
       "business_id                                                                 \n",
       "--9e1ONYQuAa-CB_Rrw7Tw        4.0  0.613139  0.401460  4.124088  0.788321   \n",
       "-1m9o3vGRA8IBPNvNqKLmA        4.5  1.000000  0.631579  4.736842  1.315789   \n",
       "-3zffZUHoY8bQjGfPSoBKQ        4.0  0.395833  0.312500  4.208333  0.937500   \n",
       "-8R_-EkGpUhBk55K9Dd4mg        3.5  1.111111  0.925926  3.962963  1.259259   \n",
       "-9YyInW1wapzdNZrhQJ9dg        2.5  0.242424  0.121212  2.939394  0.848485   \n",
       "\n",
       "                               0         1         2         3         4  \\\n",
       "business_id                                                                \n",
       "--9e1ONYQuAa-CB_Rrw7Tw  0.727720  0.025981 -0.436491 -0.447002  0.021092   \n",
       "-1m9o3vGRA8IBPNvNqKLmA  1.857303  1.992566  0.566649 -0.009360 -0.116075   \n",
       "-3zffZUHoY8bQjGfPSoBKQ  1.509998  1.338844 -0.020165  0.153496 -0.042445   \n",
       "-8R_-EkGpUhBk55K9Dd4mg  0.701672 -0.013322 -0.428213 -0.468336  0.009372   \n",
       "-9YyInW1wapzdNZrhQJ9dg  0.699882 -0.003055 -0.439044 -0.458892  0.008921   \n",
       "\n",
       "                          ...          190       191       192       193  \\\n",
       "business_id               ...                                              \n",
       "--9e1ONYQuAa-CB_Rrw7Tw    ...    -0.002238 -0.009913 -0.000238  0.006458   \n",
       "-1m9o3vGRA8IBPNvNqKLmA    ...     0.043424  0.012475  0.016768 -0.001174   \n",
       "-3zffZUHoY8bQjGfPSoBKQ    ...     0.003954  0.008450 -0.003694 -0.001051   \n",
       "-8R_-EkGpUhBk55K9Dd4mg    ...    -0.000247  0.004093  0.000746  0.002178   \n",
       "-9YyInW1wapzdNZrhQJ9dg    ...     0.002140 -0.002393  0.000042  0.002569   \n",
       "\n",
       "                             194       195       196       197       198  \\\n",
       "business_id                                                                \n",
       "--9e1ONYQuAa-CB_Rrw7Tw  0.007085 -0.011393  0.006577  0.004437  0.006042   \n",
       "-1m9o3vGRA8IBPNvNqKLmA  0.040178  0.032118  0.042490  0.021451  0.008370   \n",
       "-3zffZUHoY8bQjGfPSoBKQ -0.009036 -0.005358 -0.001555  0.001410 -0.002322   \n",
       "-8R_-EkGpUhBk55K9Dd4mg -0.001583 -0.005540  0.001427  0.005087  0.004128   \n",
       "-9YyInW1wapzdNZrhQJ9dg -0.002159 -0.004643  0.002381  0.000477 -0.001733   \n",
       "\n",
       "                             199  \n",
       "business_id                       \n",
       "--9e1ONYQuAa-CB_Rrw7Tw -0.000473  \n",
       "-1m9o3vGRA8IBPNvNqKLmA  0.045907  \n",
       "-3zffZUHoY8bQjGfPSoBKQ -0.000999  \n",
       "-8R_-EkGpUhBk55K9Dd4mg -0.002661  \n",
       "-9YyInW1wapzdNZrhQJ9dg -0.001548  \n",
       "\n",
       "[5 rows x 205 columns]"
      ]
     },
     "execution_count": 37,
     "metadata": {},
     "output_type": "execute_result"
    }
   ],
   "source": [
    "df_business_join = df_average.join(df_categories_svd)  # use join() function, '+' doesn't work\n",
    "df_business_join.head()"
   ]
  },
  {
   "cell_type": "code",
   "execution_count": 39,
   "metadata": {
    "collapsed": false
   },
   "outputs": [
    {
     "data": {
      "text/html": [
       "<div style=\"max-height:1000px;max-width:1500px;overflow:auto;\"><table frame=\"box\" rules=\"cols\">\n",
       "    <tr>\n",
       "        <th style=\"padding-left: 1em; padding-right: 1em; text-align: center\">business_id</th>\n",
       "        <th style=\"padding-left: 1em; padding-right: 1em; text-align: center\">avg_stars</th>\n",
       "        <th style=\"padding-left: 1em; padding-right: 1em; text-align: center\">cool</th>\n",
       "        <th style=\"padding-left: 1em; padding-right: 1em; text-align: center\">funny</th>\n",
       "        <th style=\"padding-left: 1em; padding-right: 1em; text-align: center\">stars</th>\n",
       "        <th style=\"padding-left: 1em; padding-right: 1em; text-align: center\">useful</th>\n",
       "    </tr>\n",
       "    <tr>\n",
       "        <td style=\"padding-left: 1em; padding-right: 1em; text-align: center; vertical-align: top\">--9e1ONYQuAa-CB_Rrw7Tw</td>\n",
       "        <td style=\"padding-left: 1em; padding-right: 1em; text-align: center; vertical-align: top\">4.0</td>\n",
       "        <td style=\"padding-left: 1em; padding-right: 1em; text-align: center; vertical-align: top\">0.613138686131</td>\n",
       "        <td style=\"padding-left: 1em; padding-right: 1em; text-align: center; vertical-align: top\">0.401459854015</td>\n",
       "        <td style=\"padding-left: 1em; padding-right: 1em; text-align: center; vertical-align: top\">4.12408759124</td>\n",
       "        <td style=\"padding-left: 1em; padding-right: 1em; text-align: center; vertical-align: top\">0.788321167883</td>\n",
       "    </tr>\n",
       "    <tr>\n",
       "        <td style=\"padding-left: 1em; padding-right: 1em; text-align: center; vertical-align: top\">-1m9o3vGRA8IBPNvNqKLmA</td>\n",
       "        <td style=\"padding-left: 1em; padding-right: 1em; text-align: center; vertical-align: top\">4.5</td>\n",
       "        <td style=\"padding-left: 1em; padding-right: 1em; text-align: center; vertical-align: top\">1.0</td>\n",
       "        <td style=\"padding-left: 1em; padding-right: 1em; text-align: center; vertical-align: top\">0.631578947368</td>\n",
       "        <td style=\"padding-left: 1em; padding-right: 1em; text-align: center; vertical-align: top\">4.73684210526</td>\n",
       "        <td style=\"padding-left: 1em; padding-right: 1em; text-align: center; vertical-align: top\">1.31578947368</td>\n",
       "    </tr>\n",
       "    <tr>\n",
       "        <td style=\"padding-left: 1em; padding-right: 1em; text-align: center; vertical-align: top\">-3zffZUHoY8bQjGfPSoBKQ</td>\n",
       "        <td style=\"padding-left: 1em; padding-right: 1em; text-align: center; vertical-align: top\">4.0</td>\n",
       "        <td style=\"padding-left: 1em; padding-right: 1em; text-align: center; vertical-align: top\">0.395833333333</td>\n",
       "        <td style=\"padding-left: 1em; padding-right: 1em; text-align: center; vertical-align: top\">0.3125</td>\n",
       "        <td style=\"padding-left: 1em; padding-right: 1em; text-align: center; vertical-align: top\">4.20833333333</td>\n",
       "        <td style=\"padding-left: 1em; padding-right: 1em; text-align: center; vertical-align: top\">0.9375</td>\n",
       "    </tr>\n",
       "    <tr>\n",
       "        <td style=\"padding-left: 1em; padding-right: 1em; text-align: center; vertical-align: top\">-8R_-EkGpUhBk55K9Dd4mg</td>\n",
       "        <td style=\"padding-left: 1em; padding-right: 1em; text-align: center; vertical-align: top\">3.5</td>\n",
       "        <td style=\"padding-left: 1em; padding-right: 1em; text-align: center; vertical-align: top\">1.11111111111</td>\n",
       "        <td style=\"padding-left: 1em; padding-right: 1em; text-align: center; vertical-align: top\">0.925925925926</td>\n",
       "        <td style=\"padding-left: 1em; padding-right: 1em; text-align: center; vertical-align: top\">3.96296296296</td>\n",
       "        <td style=\"padding-left: 1em; padding-right: 1em; text-align: center; vertical-align: top\">1.25925925926</td>\n",
       "    </tr>\n",
       "    <tr>\n",
       "        <td style=\"padding-left: 1em; padding-right: 1em; text-align: center; vertical-align: top\">-9YyInW1wapzdNZrhQJ9dg</td>\n",
       "        <td style=\"padding-left: 1em; padding-right: 1em; text-align: center; vertical-align: top\">2.5</td>\n",
       "        <td style=\"padding-left: 1em; padding-right: 1em; text-align: center; vertical-align: top\">0.242424242424</td>\n",
       "        <td style=\"padding-left: 1em; padding-right: 1em; text-align: center; vertical-align: top\">0.121212121212</td>\n",
       "        <td style=\"padding-left: 1em; padding-right: 1em; text-align: center; vertical-align: top\">2.93939393939</td>\n",
       "        <td style=\"padding-left: 1em; padding-right: 1em; text-align: center; vertical-align: top\">0.848484848485</td>\n",
       "    </tr>\n",
       "    <tr>\n",
       "        <td style=\"padding-left: 1em; padding-right: 1em; text-align: center; vertical-align: top\">-AD5PiuJHgdUcAK-Vxao2A</td>\n",
       "        <td style=\"padding-left: 1em; padding-right: 1em; text-align: center; vertical-align: top\">3.5</td>\n",
       "        <td style=\"padding-left: 1em; padding-right: 1em; text-align: center; vertical-align: top\">0.277777777778</td>\n",
       "        <td style=\"padding-left: 1em; padding-right: 1em; text-align: center; vertical-align: top\">0.0555555555556</td>\n",
       "        <td style=\"padding-left: 1em; padding-right: 1em; text-align: center; vertical-align: top\">3.94444444444</td>\n",
       "        <td style=\"padding-left: 1em; padding-right: 1em; text-align: center; vertical-align: top\">0.166666666667</td>\n",
       "    </tr>\n",
       "    <tr>\n",
       "        <td style=\"padding-left: 1em; padding-right: 1em; text-align: center; vertical-align: top\">-ADtl9bLp8wNqYX1k3KuxA</td>\n",
       "        <td style=\"padding-left: 1em; padding-right: 1em; text-align: center; vertical-align: top\">4.0</td>\n",
       "        <td style=\"padding-left: 1em; padding-right: 1em; text-align: center; vertical-align: top\">0.333333333333</td>\n",
       "        <td style=\"padding-left: 1em; padding-right: 1em; text-align: center; vertical-align: top\">0.121212121212</td>\n",
       "        <td style=\"padding-left: 1em; padding-right: 1em; text-align: center; vertical-align: top\">4.14545454545</td>\n",
       "        <td style=\"padding-left: 1em; padding-right: 1em; text-align: center; vertical-align: top\">0.642424242424</td>\n",
       "    </tr>\n",
       "    <tr>\n",
       "        <td style=\"padding-left: 1em; padding-right: 1em; text-align: center; vertical-align: top\">-AGdGGCeTS-njB_8GkUmjQ</td>\n",
       "        <td style=\"padding-left: 1em; padding-right: 1em; text-align: center; vertical-align: top\">4.0</td>\n",
       "        <td style=\"padding-left: 1em; padding-right: 1em; text-align: center; vertical-align: top\">2.0</td>\n",
       "        <td style=\"padding-left: 1em; padding-right: 1em; text-align: center; vertical-align: top\">2.0</td>\n",
       "        <td style=\"padding-left: 1em; padding-right: 1em; text-align: center; vertical-align: top\">1.0</td>\n",
       "        <td style=\"padding-left: 1em; padding-right: 1em; text-align: center; vertical-align: top\">3.0</td>\n",
       "    </tr>\n",
       "    <tr>\n",
       "        <td style=\"padding-left: 1em; padding-right: 1em; text-align: center; vertical-align: top\">-Bf8BQ3yMk8U2f45r2DRKw</td>\n",
       "        <td style=\"padding-left: 1em; padding-right: 1em; text-align: center; vertical-align: top\">4.0</td>\n",
       "        <td style=\"padding-left: 1em; padding-right: 1em; text-align: center; vertical-align: top\">0.666666666667</td>\n",
       "        <td style=\"padding-left: 1em; padding-right: 1em; text-align: center; vertical-align: top\">0.606060606061</td>\n",
       "        <td style=\"padding-left: 1em; padding-right: 1em; text-align: center; vertical-align: top\">3.48484848485</td>\n",
       "        <td style=\"padding-left: 1em; padding-right: 1em; text-align: center; vertical-align: top\">0.757575757576</td>\n",
       "    </tr>\n",
       "    <tr>\n",
       "        <td style=\"padding-left: 1em; padding-right: 1em; text-align: center; vertical-align: top\">-Bv-HHUs8aHzDrdWcZHn8w</td>\n",
       "        <td style=\"padding-left: 1em; padding-right: 1em; text-align: center; vertical-align: top\">3.0</td>\n",
       "        <td style=\"padding-left: 1em; padding-right: 1em; text-align: center; vertical-align: top\">0.321428571429</td>\n",
       "        <td style=\"padding-left: 1em; padding-right: 1em; text-align: center; vertical-align: top\">0.214285714286</td>\n",
       "        <td style=\"padding-left: 1em; padding-right: 1em; text-align: center; vertical-align: top\">3.07142857143</td>\n",
       "        <td style=\"padding-left: 1em; padding-right: 1em; text-align: center; vertical-align: top\">0.428571428571</td>\n",
       "    </tr>\n",
       "</table>\n",
       "<table frame=\"box\" rules=\"cols\">\n",
       "    <tr>\n",
       "        <th style=\"padding-left: 1em; padding-right: 1em; text-align: center\">0</th>\n",
       "        <th style=\"padding-left: 1em; padding-right: 1em; text-align: center\">1</th>\n",
       "        <th style=\"padding-left: 1em; padding-right: 1em; text-align: center\">2</th>\n",
       "        <th style=\"padding-left: 1em; padding-right: 1em; text-align: center\">3</th>\n",
       "        <th style=\"padding-left: 1em; padding-right: 1em; text-align: center\">4</th>\n",
       "        <th style=\"padding-left: 1em; padding-right: 1em; text-align: center\">5</th>\n",
       "    </tr>\n",
       "    <tr>\n",
       "        <td style=\"padding-left: 1em; padding-right: 1em; text-align: center; vertical-align: top\">0.727719914811</td>\n",
       "        <td style=\"padding-left: 1em; padding-right: 1em; text-align: center; vertical-align: top\">0.0259805873653</td>\n",
       "        <td style=\"padding-left: 1em; padding-right: 1em; text-align: center; vertical-align: top\">-0.436490705052</td>\n",
       "        <td style=\"padding-left: 1em; padding-right: 1em; text-align: center; vertical-align: top\">-0.44700238296</td>\n",
       "        <td style=\"padding-left: 1em; padding-right: 1em; text-align: center; vertical-align: top\">0.0210923992529</td>\n",
       "        <td style=\"padding-left: 1em; padding-right: 1em; text-align: center; vertical-align: top\">-0.00184653680866</td>\n",
       "    </tr>\n",
       "    <tr>\n",
       "        <td style=\"padding-left: 1em; padding-right: 1em; text-align: center; vertical-align: top\">1.85730296782</td>\n",
       "        <td style=\"padding-left: 1em; padding-right: 1em; text-align: center; vertical-align: top\">1.99256579828</td>\n",
       "        <td style=\"padding-left: 1em; padding-right: 1em; text-align: center; vertical-align: top\">0.56664888495</td>\n",
       "        <td style=\"padding-left: 1em; padding-right: 1em; text-align: center; vertical-align: top\">-0.0093595249493</td>\n",
       "        <td style=\"padding-left: 1em; padding-right: 1em; text-align: center; vertical-align: top\">-0.116075460456</td>\n",
       "        <td style=\"padding-left: 1em; padding-right: 1em; text-align: center; vertical-align: top\">-0.18044951264</td>\n",
       "    </tr>\n",
       "    <tr>\n",
       "        <td style=\"padding-left: 1em; padding-right: 1em; text-align: center; vertical-align: top\">1.50999753279</td>\n",
       "        <td style=\"padding-left: 1em; padding-right: 1em; text-align: center; vertical-align: top\">1.33884361173</td>\n",
       "        <td style=\"padding-left: 1em; padding-right: 1em; text-align: center; vertical-align: top\">-0.0201651804608</td>\n",
       "        <td style=\"padding-left: 1em; padding-right: 1em; text-align: center; vertical-align: top\">0.153495657788</td>\n",
       "        <td style=\"padding-left: 1em; padding-right: 1em; text-align: center; vertical-align: top\">-0.0424447899259</td>\n",
       "        <td style=\"padding-left: 1em; padding-right: 1em; text-align: center; vertical-align: top\">-0.211873091458</td>\n",
       "    </tr>\n",
       "    <tr>\n",
       "        <td style=\"padding-left: 1em; padding-right: 1em; text-align: center; vertical-align: top\">0.701672384145</td>\n",
       "        <td style=\"padding-left: 1em; padding-right: 1em; text-align: center; vertical-align: top\">-0.013322089252</td>\n",
       "        <td style=\"padding-left: 1em; padding-right: 1em; text-align: center; vertical-align: top\">-0.428212961183</td>\n",
       "        <td style=\"padding-left: 1em; padding-right: 1em; text-align: center; vertical-align: top\">-0.468335884732</td>\n",
       "        <td style=\"padding-left: 1em; padding-right: 1em; text-align: center; vertical-align: top\">0.009372443075</td>\n",
       "        <td style=\"padding-left: 1em; padding-right: 1em; text-align: center; vertical-align: top\">0.0408144826114</td>\n",
       "    </tr>\n",
       "    <tr>\n",
       "        <td style=\"padding-left: 1em; padding-right: 1em; text-align: center; vertical-align: top\">0.69988166844</td>\n",
       "        <td style=\"padding-left: 1em; padding-right: 1em; text-align: center; vertical-align: top\">-0.00305522030528</td>\n",
       "        <td style=\"padding-left: 1em; padding-right: 1em; text-align: center; vertical-align: top\">-0.439044430856</td>\n",
       "        <td style=\"padding-left: 1em; padding-right: 1em; text-align: center; vertical-align: top\">-0.458892009091</td>\n",
       "        <td style=\"padding-left: 1em; padding-right: 1em; text-align: center; vertical-align: top\">0.0089206570129</td>\n",
       "        <td style=\"padding-left: 1em; padding-right: 1em; text-align: center; vertical-align: top\">0.0357137972814</td>\n",
       "    </tr>\n",
       "    <tr>\n",
       "        <td style=\"padding-left: 1em; padding-right: 1em; text-align: center; vertical-align: top\">0.772191017214</td>\n",
       "        <td style=\"padding-left: 1em; padding-right: 1em; text-align: center; vertical-align: top\">-0.0422744174686</td>\n",
       "        <td style=\"padding-left: 1em; padding-right: 1em; text-align: center; vertical-align: top\">-0.47492677879</td>\n",
       "        <td style=\"padding-left: 1em; padding-right: 1em; text-align: center; vertical-align: top\">-0.378180516922</td>\n",
       "        <td style=\"padding-left: 1em; padding-right: 1em; text-align: center; vertical-align: top\">-0.144685201124</td>\n",
       "        <td style=\"padding-left: 1em; padding-right: 1em; text-align: center; vertical-align: top\">-0.160550062837</td>\n",
       "    </tr>\n",
       "    <tr>\n",
       "        <td style=\"padding-left: 1em; padding-right: 1em; text-align: center; vertical-align: top\">1.11941617783</td>\n",
       "        <td style=\"padding-left: 1em; padding-right: 1em; text-align: center; vertical-align: top\">0.642164300222</td>\n",
       "        <td style=\"padding-left: 1em; padding-right: 1em; text-align: center; vertical-align: top\">0.214325270758</td>\n",
       "        <td style=\"padding-left: 1em; padding-right: 1em; text-align: center; vertical-align: top\">-0.993733288651</td>\n",
       "        <td style=\"padding-left: 1em; padding-right: 1em; text-align: center; vertical-align: top\">-0.122292676694</td>\n",
       "        <td style=\"padding-left: 1em; padding-right: 1em; text-align: center; vertical-align: top\">0.316292919534</td>\n",
       "    </tr>\n",
       "    <tr>\n",
       "        <td style=\"padding-left: 1em; padding-right: 1em; text-align: center; vertical-align: top\">0.697406159516</td>\n",
       "        <td style=\"padding-left: 1em; padding-right: 1em; text-align: center; vertical-align: top\">-0.00762761122546</td>\n",
       "        <td style=\"padding-left: 1em; padding-right: 1em; text-align: center; vertical-align: top\">-0.42478731544</td>\n",
       "        <td style=\"padding-left: 1em; padding-right: 1em; text-align: center; vertical-align: top\">-0.465093575987</td>\n",
       "        <td style=\"padding-left: 1em; padding-right: 1em; text-align: center; vertical-align: top\">0.00543422788838</td>\n",
       "        <td style=\"padding-left: 1em; padding-right: 1em; text-align: center; vertical-align: top\">0.0312166000623</td>\n",
       "    </tr>\n",
       "    <tr>\n",
       "        <td style=\"padding-left: 1em; padding-right: 1em; text-align: center; vertical-align: top\">1.40423921878</td>\n",
       "        <td style=\"padding-left: 1em; padding-right: 1em; text-align: center; vertical-align: top\">-0.84630656044</td>\n",
       "        <td style=\"padding-left: 1em; padding-right: 1em; text-align: center; vertical-align: top\">-0.00303974436216</td>\n",
       "        <td style=\"padding-left: 1em; padding-right: 1em; text-align: center; vertical-align: top\">-0.0512841397339</td>\n",
       "        <td style=\"padding-left: 1em; padding-right: 1em; text-align: center; vertical-align: top\">-0.4562513552</td>\n",
       "        <td style=\"padding-left: 1em; padding-right: 1em; text-align: center; vertical-align: top\">-0.50018052594</td>\n",
       "    </tr>\n",
       "    <tr>\n",
       "        <td style=\"padding-left: 1em; padding-right: 1em; text-align: center; vertical-align: top\">0.772191017214</td>\n",
       "        <td style=\"padding-left: 1em; padding-right: 1em; text-align: center; vertical-align: top\">-0.0422744174686</td>\n",
       "        <td style=\"padding-left: 1em; padding-right: 1em; text-align: center; vertical-align: top\">-0.47492677879</td>\n",
       "        <td style=\"padding-left: 1em; padding-right: 1em; text-align: center; vertical-align: top\">-0.378180516922</td>\n",
       "        <td style=\"padding-left: 1em; padding-right: 1em; text-align: center; vertical-align: top\">-0.144685201124</td>\n",
       "        <td style=\"padding-left: 1em; padding-right: 1em; text-align: center; vertical-align: top\">-0.160550062837</td>\n",
       "    </tr>\n",
       "</table>\n",
       "<table frame=\"box\" rules=\"cols\">\n",
       "    <tr>\n",
       "        <th style=\"padding-left: 1em; padding-right: 1em; text-align: center\">6</th>\n",
       "        <th style=\"padding-left: 1em; padding-right: 1em; text-align: center\">7</th>\n",
       "        <th style=\"padding-left: 1em; padding-right: 1em; text-align: center\">8</th>\n",
       "        <th style=\"padding-left: 1em; padding-right: 1em; text-align: center\">9</th>\n",
       "        <th style=\"padding-left: 1em; padding-right: 1em; text-align: center\">10</th>\n",
       "        <th style=\"padding-left: 1em; padding-right: 1em; text-align: center\">11</th>\n",
       "    </tr>\n",
       "    <tr>\n",
       "        <td style=\"padding-left: 1em; padding-right: 1em; text-align: center; vertical-align: top\">-0.0346233622853</td>\n",
       "        <td style=\"padding-left: 1em; padding-right: 1em; text-align: center; vertical-align: top\">0.124480951181</td>\n",
       "        <td style=\"padding-left: 1em; padding-right: 1em; text-align: center; vertical-align: top\">-0.03506121911</td>\n",
       "        <td style=\"padding-left: 1em; padding-right: 1em; text-align: center; vertical-align: top\">0.0346592184836</td>\n",
       "        <td style=\"padding-left: 1em; padding-right: 1em; text-align: center; vertical-align: top\">-0.206106065596</td>\n",
       "        <td style=\"padding-left: 1em; padding-right: 1em; text-align: center; vertical-align: top\">0.0618818094527</td>\n",
       "    </tr>\n",
       "    <tr>\n",
       "        <td style=\"padding-left: 1em; padding-right: 1em; text-align: center; vertical-align: top\">-0.14353993614</td>\n",
       "        <td style=\"padding-left: 1em; padding-right: 1em; text-align: center; vertical-align: top\">0.165172922994</td>\n",
       "        <td style=\"padding-left: 1em; padding-right: 1em; text-align: center; vertical-align: top\">0.12982210791</td>\n",
       "        <td style=\"padding-left: 1em; padding-right: 1em; text-align: center; vertical-align: top\">0.457680382149</td>\n",
       "        <td style=\"padding-left: 1em; padding-right: 1em; text-align: center; vertical-align: top\">0.0311001570289</td>\n",
       "        <td style=\"padding-left: 1em; padding-right: 1em; text-align: center; vertical-align: top\">-0.279527843534</td>\n",
       "    </tr>\n",
       "    <tr>\n",
       "        <td style=\"padding-left: 1em; padding-right: 1em; text-align: center; vertical-align: top\">-0.140856846729</td>\n",
       "        <td style=\"padding-left: 1em; padding-right: 1em; text-align: center; vertical-align: top\">0.264023983798</td>\n",
       "        <td style=\"padding-left: 1em; padding-right: 1em; text-align: center; vertical-align: top\">0.144032656104</td>\n",
       "        <td style=\"padding-left: 1em; padding-right: 1em; text-align: center; vertical-align: top\">0.449828291191</td>\n",
       "        <td style=\"padding-left: 1em; padding-right: 1em; text-align: center; vertical-align: top\">-0.0260193717903</td>\n",
       "        <td style=\"padding-left: 1em; padding-right: 1em; text-align: center; vertical-align: top\">-0.235696296001</td>\n",
       "    </tr>\n",
       "    <tr>\n",
       "        <td style=\"padding-left: 1em; padding-right: 1em; text-align: center; vertical-align: top\">-0.0299197485714</td>\n",
       "        <td style=\"padding-left: 1em; padding-right: 1em; text-align: center; vertical-align: top\">0.120198306604</td>\n",
       "        <td style=\"padding-left: 1em; padding-right: 1em; text-align: center; vertical-align: top\">-0.0572896441148</td>\n",
       "        <td style=\"padding-left: 1em; padding-right: 1em; text-align: center; vertical-align: top\">0.032088100312</td>\n",
       "        <td style=\"padding-left: 1em; padding-right: 1em; text-align: center; vertical-align: top\">-0.194312465681</td>\n",
       "        <td style=\"padding-left: 1em; padding-right: 1em; text-align: center; vertical-align: top\">0.0773109071434</td>\n",
       "    </tr>\n",
       "    <tr>\n",
       "        <td style=\"padding-left: 1em; padding-right: 1em; text-align: center; vertical-align: top\">-0.0240951364842</td>\n",
       "        <td style=\"padding-left: 1em; padding-right: 1em; text-align: center; vertical-align: top\">0.0894132089777</td>\n",
       "        <td style=\"padding-left: 1em; padding-right: 1em; text-align: center; vertical-align: top\">-0.0385985892952</td>\n",
       "        <td style=\"padding-left: 1em; padding-right: 1em; text-align: center; vertical-align: top\">0.017694493249</td>\n",
       "        <td style=\"padding-left: 1em; padding-right: 1em; text-align: center; vertical-align: top\">-0.17011306026</td>\n",
       "        <td style=\"padding-left: 1em; padding-right: 1em; text-align: center; vertical-align: top\">0.0673594888989</td>\n",
       "    </tr>\n",
       "    <tr>\n",
       "        <td style=\"padding-left: 1em; padding-right: 1em; text-align: center; vertical-align: top\">0.0319316429159</td>\n",
       "        <td style=\"padding-left: 1em; padding-right: 1em; text-align: center; vertical-align: top\">-0.19652197056</td>\n",
       "        <td style=\"padding-left: 1em; padding-right: 1em; text-align: center; vertical-align: top\">-0.30591040197</td>\n",
       "        <td style=\"padding-left: 1em; padding-right: 1em; text-align: center; vertical-align: top\">-0.131954470702</td>\n",
       "        <td style=\"padding-left: 1em; padding-right: 1em; text-align: center; vertical-align: top\">-0.449311956413</td>\n",
       "        <td style=\"padding-left: 1em; padding-right: 1em; text-align: center; vertical-align: top\">-0.196525606339</td>\n",
       "    </tr>\n",
       "    <tr>\n",
       "        <td style=\"padding-left: 1em; padding-right: 1em; text-align: center; vertical-align: top\">-0.31136981379</td>\n",
       "        <td style=\"padding-left: 1em; padding-right: 1em; text-align: center; vertical-align: top\">0.81967444367</td>\n",
       "        <td style=\"padding-left: 1em; padding-right: 1em; text-align: center; vertical-align: top\">-1.01068341689</td>\n",
       "        <td style=\"padding-left: 1em; padding-right: 1em; text-align: center; vertical-align: top\">-0.126703441761</td>\n",
       "        <td style=\"padding-left: 1em; padding-right: 1em; text-align: center; vertical-align: top\">0.826770909304</td>\n",
       "        <td style=\"padding-left: 1em; padding-right: 1em; text-align: center; vertical-align: top\">-0.230890314259</td>\n",
       "    </tr>\n",
       "    <tr>\n",
       "        <td style=\"padding-left: 1em; padding-right: 1em; text-align: center; vertical-align: top\">-0.0304596798828</td>\n",
       "        <td style=\"padding-left: 1em; padding-right: 1em; text-align: center; vertical-align: top\">0.111387317001</td>\n",
       "        <td style=\"padding-left: 1em; padding-right: 1em; text-align: center; vertical-align: top\">-0.0621140736346</td>\n",
       "        <td style=\"padding-left: 1em; padding-right: 1em; text-align: center; vertical-align: top\">0.0258560959824</td>\n",
       "        <td style=\"padding-left: 1em; padding-right: 1em; text-align: center; vertical-align: top\">-0.144218584859</td>\n",
       "        <td style=\"padding-left: 1em; padding-right: 1em; text-align: center; vertical-align: top\">0.0637274372173</td>\n",
       "    </tr>\n",
       "    <tr>\n",
       "        <td style=\"padding-left: 1em; padding-right: 1em; text-align: center; vertical-align: top\">-0.0275330970336</td>\n",
       "        <td style=\"padding-left: 1em; padding-right: 1em; text-align: center; vertical-align: top\">-0.46415168928</td>\n",
       "        <td style=\"padding-left: 1em; padding-right: 1em; text-align: center; vertical-align: top\">-0.485965253521</td>\n",
       "        <td style=\"padding-left: 1em; padding-right: 1em; text-align: center; vertical-align: top\">-0.233921039122</td>\n",
       "        <td style=\"padding-left: 1em; padding-right: 1em; text-align: center; vertical-align: top\">-0.323372706473</td>\n",
       "        <td style=\"padding-left: 1em; padding-right: 1em; text-align: center; vertical-align: top\">-0.223338483875</td>\n",
       "    </tr>\n",
       "    <tr>\n",
       "        <td style=\"padding-left: 1em; padding-right: 1em; text-align: center; vertical-align: top\">0.0319316429159</td>\n",
       "        <td style=\"padding-left: 1em; padding-right: 1em; text-align: center; vertical-align: top\">-0.19652197056</td>\n",
       "        <td style=\"padding-left: 1em; padding-right: 1em; text-align: center; vertical-align: top\">-0.30591040197</td>\n",
       "        <td style=\"padding-left: 1em; padding-right: 1em; text-align: center; vertical-align: top\">-0.131954470702</td>\n",
       "        <td style=\"padding-left: 1em; padding-right: 1em; text-align: center; vertical-align: top\">-0.449311956413</td>\n",
       "        <td style=\"padding-left: 1em; padding-right: 1em; text-align: center; vertical-align: top\">-0.196525606339</td>\n",
       "    </tr>\n",
       "</table>\n",
       "<table frame=\"box\" rules=\"cols\">\n",
       "    <tr>\n",
       "        <th style=\"padding-left: 1em; padding-right: 1em; text-align: center\">12</th>\n",
       "        <th style=\"padding-left: 1em; padding-right: 1em; text-align: center\">13</th>\n",
       "        <th style=\"padding-left: 1em; padding-right: 1em; text-align: center\">14</th>\n",
       "        <th style=\"padding-left: 1em; padding-right: 1em; text-align: center\">15</th>\n",
       "        <th style=\"padding-left: 1em; padding-right: 1em; text-align: center\">16</th>\n",
       "        <th style=\"padding-left: 1em; padding-right: 1em; text-align: center\">17</th>\n",
       "    </tr>\n",
       "    <tr>\n",
       "        <td style=\"padding-left: 1em; padding-right: 1em; text-align: center; vertical-align: top\">-0.00216838837266</td>\n",
       "        <td style=\"padding-left: 1em; padding-right: 1em; text-align: center; vertical-align: top\">0.0446833921981</td>\n",
       "        <td style=\"padding-left: 1em; padding-right: 1em; text-align: center; vertical-align: top\">-0.401951150747</td>\n",
       "        <td style=\"padding-left: 1em; padding-right: 1em; text-align: center; vertical-align: top\">0.216980762698</td>\n",
       "        <td style=\"padding-left: 1em; padding-right: 1em; text-align: center; vertical-align: top\">0.128882950118</td>\n",
       "        <td style=\"padding-left: 1em; padding-right: 1em; text-align: center; vertical-align: top\">0.151749566923</td>\n",
       "    </tr>\n",
       "    <tr>\n",
       "        <td style=\"padding-left: 1em; padding-right: 1em; text-align: center; vertical-align: top\">0.503138533393</td>\n",
       "        <td style=\"padding-left: 1em; padding-right: 1em; text-align: center; vertical-align: top\">0.0677467195294</td>\n",
       "        <td style=\"padding-left: 1em; padding-right: 1em; text-align: center; vertical-align: top\">-0.75633896928</td>\n",
       "        <td style=\"padding-left: 1em; padding-right: 1em; text-align: center; vertical-align: top\">0.511799748443</td>\n",
       "        <td style=\"padding-left: 1em; padding-right: 1em; text-align: center; vertical-align: top\">-0.0245750901184</td>\n",
       "        <td style=\"padding-left: 1em; padding-right: 1em; text-align: center; vertical-align: top\">0.4564098086</td>\n",
       "    </tr>\n",
       "    <tr>\n",
       "        <td style=\"padding-left: 1em; padding-right: 1em; text-align: center; vertical-align: top\">0.548265960156</td>\n",
       "        <td style=\"padding-left: 1em; padding-right: 1em; text-align: center; vertical-align: top\">0.142363962238</td>\n",
       "        <td style=\"padding-left: 1em; padding-right: 1em; text-align: center; vertical-align: top\">-0.444105763722</td>\n",
       "        <td style=\"padding-left: 1em; padding-right: 1em; text-align: center; vertical-align: top\">0.356930340178</td>\n",
       "        <td style=\"padding-left: 1em; padding-right: 1em; text-align: center; vertical-align: top\">0.0467443764983</td>\n",
       "        <td style=\"padding-left: 1em; padding-right: 1em; text-align: center; vertical-align: top\">0.309645818656</td>\n",
       "    </tr>\n",
       "    <tr>\n",
       "        <td style=\"padding-left: 1em; padding-right: 1em; text-align: center; vertical-align: top\">0.0576720749633</td>\n",
       "        <td style=\"padding-left: 1em; padding-right: 1em; text-align: center; vertical-align: top\">0.0845024538574</td>\n",
       "        <td style=\"padding-left: 1em; padding-right: 1em; text-align: center; vertical-align: top\">-0.0862953033632</td>\n",
       "        <td style=\"padding-left: 1em; padding-right: 1em; text-align: center; vertical-align: top\">0.0208716175197</td>\n",
       "        <td style=\"padding-left: 1em; padding-right: 1em; text-align: center; vertical-align: top\">0.0417035738853</td>\n",
       "        <td style=\"padding-left: 1em; padding-right: 1em; text-align: center; vertical-align: top\">-0.108350570995</td>\n",
       "    </tr>\n",
       "    <tr>\n",
       "        <td style=\"padding-left: 1em; padding-right: 1em; text-align: center; vertical-align: top\">0.0321594449629</td>\n",
       "        <td style=\"padding-left: 1em; padding-right: 1em; text-align: center; vertical-align: top\">0.00935590981244</td>\n",
       "        <td style=\"padding-left: 1em; padding-right: 1em; text-align: center; vertical-align: top\">-0.1619858133</td>\n",
       "        <td style=\"padding-left: 1em; padding-right: 1em; text-align: center; vertical-align: top\">-0.0239875982811</td>\n",
       "        <td style=\"padding-left: 1em; padding-right: 1em; text-align: center; vertical-align: top\">0.0997257378271</td>\n",
       "        <td style=\"padding-left: 1em; padding-right: 1em; text-align: center; vertical-align: top\">-0.0556150633618</td>\n",
       "    </tr>\n",
       "    <tr>\n",
       "        <td style=\"padding-left: 1em; padding-right: 1em; text-align: center; vertical-align: top\">0.0725897497936</td>\n",
       "        <td style=\"padding-left: 1em; padding-right: 1em; text-align: center; vertical-align: top\">-0.36361098572</td>\n",
       "        <td style=\"padding-left: 1em; padding-right: 1em; text-align: center; vertical-align: top\">0.122108339716</td>\n",
       "        <td style=\"padding-left: 1em; padding-right: 1em; text-align: center; vertical-align: top\">0.480498558087</td>\n",
       "        <td style=\"padding-left: 1em; padding-right: 1em; text-align: center; vertical-align: top\">0.186150986462</td>\n",
       "        <td style=\"padding-left: 1em; padding-right: 1em; text-align: center; vertical-align: top\">-0.322190807526</td>\n",
       "    </tr>\n",
       "    <tr>\n",
       "        <td style=\"padding-left: 1em; padding-right: 1em; text-align: center; vertical-align: top\">-0.277528949761</td>\n",
       "        <td style=\"padding-left: 1em; padding-right: 1em; text-align: center; vertical-align: top\">-0.591182658049</td>\n",
       "        <td style=\"padding-left: 1em; padding-right: 1em; text-align: center; vertical-align: top\">0.349520233688</td>\n",
       "        <td style=\"padding-left: 1em; padding-right: 1em; text-align: center; vertical-align: top\">-0.232478166247</td>\n",
       "        <td style=\"padding-left: 1em; padding-right: 1em; text-align: center; vertical-align: top\">0.0803057343883</td>\n",
       "        <td style=\"padding-left: 1em; padding-right: 1em; text-align: center; vertical-align: top\">0.223095783716</td>\n",
       "    </tr>\n",
       "    <tr>\n",
       "        <td style=\"padding-left: 1em; padding-right: 1em; text-align: center; vertical-align: top\">0.0432075756734</td>\n",
       "        <td style=\"padding-left: 1em; padding-right: 1em; text-align: center; vertical-align: top\">0.0363322952427</td>\n",
       "        <td style=\"padding-left: 1em; padding-right: 1em; text-align: center; vertical-align: top\">-0.0465655482102</td>\n",
       "        <td style=\"padding-left: 1em; padding-right: 1em; text-align: center; vertical-align: top\">0.013876894675</td>\n",
       "        <td style=\"padding-left: 1em; padding-right: 1em; text-align: center; vertical-align: top\">0.0698843370734</td>\n",
       "        <td style=\"padding-left: 1em; padding-right: 1em; text-align: center; vertical-align: top\">-0.0779608007237</td>\n",
       "    </tr>\n",
       "    <tr>\n",
       "        <td style=\"padding-left: 1em; padding-right: 1em; text-align: center; vertical-align: top\">0.206536947498</td>\n",
       "        <td style=\"padding-left: 1em; padding-right: 1em; text-align: center; vertical-align: top\">-0.280140840759</td>\n",
       "        <td style=\"padding-left: 1em; padding-right: 1em; text-align: center; vertical-align: top\">0.0841623136555</td>\n",
       "        <td style=\"padding-left: 1em; padding-right: 1em; text-align: center; vertical-align: top\">0.188877172433</td>\n",
       "        <td style=\"padding-left: 1em; padding-right: 1em; text-align: center; vertical-align: top\">0.0156165008911</td>\n",
       "        <td style=\"padding-left: 1em; padding-right: 1em; text-align: center; vertical-align: top\">-0.0266881132235</td>\n",
       "    </tr>\n",
       "    <tr>\n",
       "        <td style=\"padding-left: 1em; padding-right: 1em; text-align: center; vertical-align: top\">0.0725897497936</td>\n",
       "        <td style=\"padding-left: 1em; padding-right: 1em; text-align: center; vertical-align: top\">-0.36361098572</td>\n",
       "        <td style=\"padding-left: 1em; padding-right: 1em; text-align: center; vertical-align: top\">0.122108339716</td>\n",
       "        <td style=\"padding-left: 1em; padding-right: 1em; text-align: center; vertical-align: top\">0.480498558087</td>\n",
       "        <td style=\"padding-left: 1em; padding-right: 1em; text-align: center; vertical-align: top\">0.186150986462</td>\n",
       "        <td style=\"padding-left: 1em; padding-right: 1em; text-align: center; vertical-align: top\">-0.322190807526</td>\n",
       "    </tr>\n",
       "</table>\n",
       "<table frame=\"box\" rules=\"cols\">\n",
       "    <tr>\n",
       "        <th style=\"padding-left: 1em; padding-right: 1em; text-align: center\">18</th>\n",
       "        <th style=\"padding-left: 1em; padding-right: 1em; text-align: center\">19</th>\n",
       "        <th style=\"padding-left: 1em; padding-right: 1em; text-align: center\">20</th>\n",
       "        <th style=\"padding-left: 1em; padding-right: 1em; text-align: center\">21</th>\n",
       "        <th style=\"padding-left: 1em; padding-right: 1em; text-align: center\">22</th>\n",
       "        <th style=\"padding-left: 1em; padding-right: 1em; text-align: center\">23</th>\n",
       "    </tr>\n",
       "    <tr>\n",
       "        <td style=\"padding-left: 1em; padding-right: 1em; text-align: center; vertical-align: top\">-0.0829744688138</td>\n",
       "        <td style=\"padding-left: 1em; padding-right: 1em; text-align: center; vertical-align: top\">0.0102253671985</td>\n",
       "        <td style=\"padding-left: 1em; padding-right: 1em; text-align: center; vertical-align: top\">-0.212285694355</td>\n",
       "        <td style=\"padding-left: 1em; padding-right: 1em; text-align: center; vertical-align: top\">0.209334965923</td>\n",
       "        <td style=\"padding-left: 1em; padding-right: 1em; text-align: center; vertical-align: top\">-0.119045493718</td>\n",
       "        <td style=\"padding-left: 1em; padding-right: 1em; text-align: center; vertical-align: top\">-0.0385276908365</td>\n",
       "    </tr>\n",
       "    <tr>\n",
       "        <td style=\"padding-left: 1em; padding-right: 1em; text-align: center; vertical-align: top\">-0.651076256241</td>\n",
       "        <td style=\"padding-left: 1em; padding-right: 1em; text-align: center; vertical-align: top\">-0.195967021259</td>\n",
       "        <td style=\"padding-left: 1em; padding-right: 1em; text-align: center; vertical-align: top\">0.0026871402629</td>\n",
       "        <td style=\"padding-left: 1em; padding-right: 1em; text-align: center; vertical-align: top\">0.0671166110742</td>\n",
       "        <td style=\"padding-left: 1em; padding-right: 1em; text-align: center; vertical-align: top\">-0.178508180332</td>\n",
       "        <td style=\"padding-left: 1em; padding-right: 1em; text-align: center; vertical-align: top\">-0.0937794230486</td>\n",
       "    </tr>\n",
       "    <tr>\n",
       "        <td style=\"padding-left: 1em; padding-right: 1em; text-align: center; vertical-align: top\">-0.475596665926</td>\n",
       "        <td style=\"padding-left: 1em; padding-right: 1em; text-align: center; vertical-align: top\">-0.207193300518</td>\n",
       "        <td style=\"padding-left: 1em; padding-right: 1em; text-align: center; vertical-align: top\">-0.0676388938461</td>\n",
       "        <td style=\"padding-left: 1em; padding-right: 1em; text-align: center; vertical-align: top\">-0.109455880235</td>\n",
       "        <td style=\"padding-left: 1em; padding-right: 1em; text-align: center; vertical-align: top\">-0.121866977282</td>\n",
       "        <td style=\"padding-left: 1em; padding-right: 1em; text-align: center; vertical-align: top\">0.0593065947007</td>\n",
       "    </tr>\n",
       "    <tr>\n",
       "        <td style=\"padding-left: 1em; padding-right: 1em; text-align: center; vertical-align: top\">0.12855193401</td>\n",
       "        <td style=\"padding-left: 1em; padding-right: 1em; text-align: center; vertical-align: top\">0.0415838959498</td>\n",
       "        <td style=\"padding-left: 1em; padding-right: 1em; text-align: center; vertical-align: top\">-0.112344661246</td>\n",
       "        <td style=\"padding-left: 1em; padding-right: 1em; text-align: center; vertical-align: top\">0.165883231359</td>\n",
       "        <td style=\"padding-left: 1em; padding-right: 1em; text-align: center; vertical-align: top\">-0.0125608908492</td>\n",
       "        <td style=\"padding-left: 1em; padding-right: 1em; text-align: center; vertical-align: top\">0.0884635223386</td>\n",
       "    </tr>\n",
       "    <tr>\n",
       "        <td style=\"padding-left: 1em; padding-right: 1em; text-align: center; vertical-align: top\">0.11359436639</td>\n",
       "        <td style=\"padding-left: 1em; padding-right: 1em; text-align: center; vertical-align: top\">0.0370058871751</td>\n",
       "        <td style=\"padding-left: 1em; padding-right: 1em; text-align: center; vertical-align: top\">-0.128155778165</td>\n",
       "        <td style=\"padding-left: 1em; padding-right: 1em; text-align: center; vertical-align: top\">0.129141281109</td>\n",
       "        <td style=\"padding-left: 1em; padding-right: 1em; text-align: center; vertical-align: top\">-0.0265101070148</td>\n",
       "        <td style=\"padding-left: 1em; padding-right: 1em; text-align: center; vertical-align: top\">0.0131172717921</td>\n",
       "    </tr>\n",
       "    <tr>\n",
       "        <td style=\"padding-left: 1em; padding-right: 1em; text-align: center; vertical-align: top\">0.0865366179574</td>\n",
       "        <td style=\"padding-left: 1em; padding-right: 1em; text-align: center; vertical-align: top\">-0.0594247894713</td>\n",
       "        <td style=\"padding-left: 1em; padding-right: 1em; text-align: center; vertical-align: top\">0.0203450194517</td>\n",
       "        <td style=\"padding-left: 1em; padding-right: 1em; text-align: center; vertical-align: top\">-0.0161970693339</td>\n",
       "        <td style=\"padding-left: 1em; padding-right: 1em; text-align: center; vertical-align: top\">-0.0068397141402</td>\n",
       "        <td style=\"padding-left: 1em; padding-right: 1em; text-align: center; vertical-align: top\">-0.123668096465</td>\n",
       "    </tr>\n",
       "    <tr>\n",
       "        <td style=\"padding-left: 1em; padding-right: 1em; text-align: center; vertical-align: top\">0.0723709939909</td>\n",
       "        <td style=\"padding-left: 1em; padding-right: 1em; text-align: center; vertical-align: top\">0.00401404061867</td>\n",
       "        <td style=\"padding-left: 1em; padding-right: 1em; text-align: center; vertical-align: top\">0.00707894678146</td>\n",
       "        <td style=\"padding-left: 1em; padding-right: 1em; text-align: center; vertical-align: top\">-0.11647736486</td>\n",
       "        <td style=\"padding-left: 1em; padding-right: 1em; text-align: center; vertical-align: top\">-0.0190030342356</td>\n",
       "        <td style=\"padding-left: 1em; padding-right: 1em; text-align: center; vertical-align: top\">-0.0551524334581</td>\n",
       "    </tr>\n",
       "    <tr>\n",
       "        <td style=\"padding-left: 1em; padding-right: 1em; text-align: center; vertical-align: top\">0.0999815857164</td>\n",
       "        <td style=\"padding-left: 1em; padding-right: 1em; text-align: center; vertical-align: top\">0.0148615224519</td>\n",
       "        <td style=\"padding-left: 1em; padding-right: 1em; text-align: center; vertical-align: top\">-0.23054137908</td>\n",
       "        <td style=\"padding-left: 1em; padding-right: 1em; text-align: center; vertical-align: top\">0.16091047396</td>\n",
       "        <td style=\"padding-left: 1em; padding-right: 1em; text-align: center; vertical-align: top\">-0.0127381025157</td>\n",
       "        <td style=\"padding-left: 1em; padding-right: 1em; text-align: center; vertical-align: top\">0.0261259558514</td>\n",
       "    </tr>\n",
       "    <tr>\n",
       "        <td style=\"padding-left: 1em; padding-right: 1em; text-align: center; vertical-align: top\">-0.0194648596573</td>\n",
       "        <td style=\"padding-left: 1em; padding-right: 1em; text-align: center; vertical-align: top\">-0.0665323291296</td>\n",
       "        <td style=\"padding-left: 1em; padding-right: 1em; text-align: center; vertical-align: top\">0.0313633921576</td>\n",
       "        <td style=\"padding-left: 1em; padding-right: 1em; text-align: center; vertical-align: top\">0.0288681979955</td>\n",
       "        <td style=\"padding-left: 1em; padding-right: 1em; text-align: center; vertical-align: top\">-0.0209828188725</td>\n",
       "        <td style=\"padding-left: 1em; padding-right: 1em; text-align: center; vertical-align: top\">-0.0295212056008</td>\n",
       "    </tr>\n",
       "    <tr>\n",
       "        <td style=\"padding-left: 1em; padding-right: 1em; text-align: center; vertical-align: top\">0.0865366179574</td>\n",
       "        <td style=\"padding-left: 1em; padding-right: 1em; text-align: center; vertical-align: top\">-0.0594247894713</td>\n",
       "        <td style=\"padding-left: 1em; padding-right: 1em; text-align: center; vertical-align: top\">0.0203450194517</td>\n",
       "        <td style=\"padding-left: 1em; padding-right: 1em; text-align: center; vertical-align: top\">-0.0161970693339</td>\n",
       "        <td style=\"padding-left: 1em; padding-right: 1em; text-align: center; vertical-align: top\">-0.0068397141402</td>\n",
       "        <td style=\"padding-left: 1em; padding-right: 1em; text-align: center; vertical-align: top\">-0.123668096465</td>\n",
       "    </tr>\n",
       "</table>\n",
       "<table frame=\"box\" rules=\"cols\">\n",
       "    <tr>\n",
       "        <th style=\"padding-left: 1em; padding-right: 1em; text-align: center\">24</th>\n",
       "        <th style=\"padding-left: 1em; padding-right: 1em; text-align: center\">25</th>\n",
       "        <th style=\"padding-left: 1em; padding-right: 1em; text-align: center\">26</th>\n",
       "        <th style=\"padding-left: 1em; padding-right: 1em; text-align: center\">27</th>\n",
       "        <th style=\"padding-left: 1em; padding-right: 1em; text-align: center\">28</th>\n",
       "        <th style=\"padding-left: 1em; padding-right: 1em; text-align: center\">29</th>\n",
       "    </tr>\n",
       "    <tr>\n",
       "        <td style=\"padding-left: 1em; padding-right: 1em; text-align: center; vertical-align: top\">-0.0111221099679</td>\n",
       "        <td style=\"padding-left: 1em; padding-right: 1em; text-align: center; vertical-align: top\">0.0433427881556</td>\n",
       "        <td style=\"padding-left: 1em; padding-right: 1em; text-align: center; vertical-align: top\">-0.156052981732</td>\n",
       "        <td style=\"padding-left: 1em; padding-right: 1em; text-align: center; vertical-align: top\">0.660780902665</td>\n",
       "        <td style=\"padding-left: 1em; padding-right: 1em; text-align: center; vertical-align: top\">0.251938615073</td>\n",
       "        <td style=\"padding-left: 1em; padding-right: 1em; text-align: center; vertical-align: top\">-0.133339877675</td>\n",
       "    </tr>\n",
       "    <tr>\n",
       "        <td style=\"padding-left: 1em; padding-right: 1em; text-align: center; vertical-align: top\">-0.0992996677064</td>\n",
       "        <td style=\"padding-left: 1em; padding-right: 1em; text-align: center; vertical-align: top\">0.205853544965</td>\n",
       "        <td style=\"padding-left: 1em; padding-right: 1em; text-align: center; vertical-align: top\">0.0473936783367</td>\n",
       "        <td style=\"padding-left: 1em; padding-right: 1em; text-align: center; vertical-align: top\">0.573377065641</td>\n",
       "        <td style=\"padding-left: 1em; padding-right: 1em; text-align: center; vertical-align: top\">0.220465654099</td>\n",
       "        <td style=\"padding-left: 1em; padding-right: 1em; text-align: center; vertical-align: top\">0.114554176181</td>\n",
       "    </tr>\n",
       "    <tr>\n",
       "        <td style=\"padding-left: 1em; padding-right: 1em; text-align: center; vertical-align: top\">0.0507175636758</td>\n",
       "        <td style=\"padding-left: 1em; padding-right: 1em; text-align: center; vertical-align: top\">-0.00818762365115</td>\n",
       "        <td style=\"padding-left: 1em; padding-right: 1em; text-align: center; vertical-align: top\">0.0205001604619</td>\n",
       "        <td style=\"padding-left: 1em; padding-right: 1em; text-align: center; vertical-align: top\">-0.28269199918</td>\n",
       "        <td style=\"padding-left: 1em; padding-right: 1em; text-align: center; vertical-align: top\">-0.0803788146051</td>\n",
       "        <td style=\"padding-left: 1em; padding-right: 1em; text-align: center; vertical-align: top\">0.0801620269282</td>\n",
       "    </tr>\n",
       "    <tr>\n",
       "        <td style=\"padding-left: 1em; padding-right: 1em; text-align: center; vertical-align: top\">0.0753904879015</td>\n",
       "        <td style=\"padding-left: 1em; padding-right: 1em; text-align: center; vertical-align: top\">0.0807841440372</td>\n",
       "        <td style=\"padding-left: 1em; padding-right: 1em; text-align: center; vertical-align: top\">-0.0709609285475</td>\n",
       "        <td style=\"padding-left: 1em; padding-right: 1em; text-align: center; vertical-align: top\">-0.0191939953826</td>\n",
       "        <td style=\"padding-left: 1em; padding-right: 1em; text-align: center; vertical-align: top\">0.0279422877635</td>\n",
       "        <td style=\"padding-left: 1em; padding-right: 1em; text-align: center; vertical-align: top\">-0.113922226028</td>\n",
       "    </tr>\n",
       "    <tr>\n",
       "        <td style=\"padding-left: 1em; padding-right: 1em; text-align: center; vertical-align: top\">0.00626054054715</td>\n",
       "        <td style=\"padding-left: 1em; padding-right: 1em; text-align: center; vertical-align: top\">0.0292648157291</td>\n",
       "        <td style=\"padding-left: 1em; padding-right: 1em; text-align: center; vertical-align: top\">-0.0273211496443</td>\n",
       "        <td style=\"padding-left: 1em; padding-right: 1em; text-align: center; vertical-align: top\">-0.00288823233334</td>\n",
       "        <td style=\"padding-left: 1em; padding-right: 1em; text-align: center; vertical-align: top\">0.00418714024943</td>\n",
       "        <td style=\"padding-left: 1em; padding-right: 1em; text-align: center; vertical-align: top\">-0.0878885083415</td>\n",
       "    </tr>\n",
       "    <tr>\n",
       "        <td style=\"padding-left: 1em; padding-right: 1em; text-align: center; vertical-align: top\">0.0100284470273</td>\n",
       "        <td style=\"padding-left: 1em; padding-right: 1em; text-align: center; vertical-align: top\">0.0607272631097</td>\n",
       "        <td style=\"padding-left: 1em; padding-right: 1em; text-align: center; vertical-align: top\">-0.0352451690022</td>\n",
       "        <td style=\"padding-left: 1em; padding-right: 1em; text-align: center; vertical-align: top\">0.00986033106654</td>\n",
       "        <td style=\"padding-left: 1em; padding-right: 1em; text-align: center; vertical-align: top\">-0.0646881524048</td>\n",
       "        <td style=\"padding-left: 1em; padding-right: 1em; text-align: center; vertical-align: top\">-0.0400325818924</td>\n",
       "    </tr>\n",
       "    <tr>\n",
       "        <td style=\"padding-left: 1em; padding-right: 1em; text-align: center; vertical-align: top\">0.074962122371</td>\n",
       "        <td style=\"padding-left: 1em; padding-right: 1em; text-align: center; vertical-align: top\">0.0428086553309</td>\n",
       "        <td style=\"padding-left: 1em; padding-right: 1em; text-align: center; vertical-align: top\">-0.187387973114</td>\n",
       "        <td style=\"padding-left: 1em; padding-right: 1em; text-align: center; vertical-align: top\">-0.0484834397172</td>\n",
       "        <td style=\"padding-left: 1em; padding-right: 1em; text-align: center; vertical-align: top\">0.0498769388964</td>\n",
       "        <td style=\"padding-left: 1em; padding-right: 1em; text-align: center; vertical-align: top\">0.0146422681608</td>\n",
       "    </tr>\n",
       "    <tr>\n",
       "        <td style=\"padding-left: 1em; padding-right: 1em; text-align: center; vertical-align: top\">0.00389076123158</td>\n",
       "        <td style=\"padding-left: 1em; padding-right: 1em; text-align: center; vertical-align: top\">-0.0330550678345</td>\n",
       "        <td style=\"padding-left: 1em; padding-right: 1em; text-align: center; vertical-align: top\">0.112777239226</td>\n",
       "        <td style=\"padding-left: 1em; padding-right: 1em; text-align: center; vertical-align: top\">0.0364465370093</td>\n",
       "        <td style=\"padding-left: 1em; padding-right: 1em; text-align: center; vertical-align: top\">-0.0381830099843</td>\n",
       "        <td style=\"padding-left: 1em; padding-right: 1em; text-align: center; vertical-align: top\">-0.0509266740089</td>\n",
       "    </tr>\n",
       "    <tr>\n",
       "        <td style=\"padding-left: 1em; padding-right: 1em; text-align: center; vertical-align: top\">0.0159112780996</td>\n",
       "        <td style=\"padding-left: 1em; padding-right: 1em; text-align: center; vertical-align: top\">0.0410237278145</td>\n",
       "        <td style=\"padding-left: 1em; padding-right: 1em; text-align: center; vertical-align: top\">-0.0171472170082</td>\n",
       "        <td style=\"padding-left: 1em; padding-right: 1em; text-align: center; vertical-align: top\">0.00843426531454</td>\n",
       "        <td style=\"padding-left: 1em; padding-right: 1em; text-align: center; vertical-align: top\">-0.0781174624312</td>\n",
       "        <td style=\"padding-left: 1em; padding-right: 1em; text-align: center; vertical-align: top\">-0.0164846611259</td>\n",
       "    </tr>\n",
       "    <tr>\n",
       "        <td style=\"padding-left: 1em; padding-right: 1em; text-align: center; vertical-align: top\">0.0100284470273</td>\n",
       "        <td style=\"padding-left: 1em; padding-right: 1em; text-align: center; vertical-align: top\">0.0607272631097</td>\n",
       "        <td style=\"padding-left: 1em; padding-right: 1em; text-align: center; vertical-align: top\">-0.0352451690022</td>\n",
       "        <td style=\"padding-left: 1em; padding-right: 1em; text-align: center; vertical-align: top\">0.00986033106654</td>\n",
       "        <td style=\"padding-left: 1em; padding-right: 1em; text-align: center; vertical-align: top\">-0.0646881524048</td>\n",
       "        <td style=\"padding-left: 1em; padding-right: 1em; text-align: center; vertical-align: top\">-0.0400325818924</td>\n",
       "    </tr>\n",
       "</table>\n",
       "<table frame=\"box\" rules=\"cols\">\n",
       "    <tr>\n",
       "        <th style=\"padding-left: 1em; padding-right: 1em; text-align: center\">30</th>\n",
       "        <th style=\"padding-left: 1em; padding-right: 1em; text-align: center\">31</th>\n",
       "        <th style=\"padding-left: 1em; padding-right: 1em; text-align: center\">32</th>\n",
       "        <th style=\"padding-left: 1em; padding-right: 1em; text-align: center\">33</th>\n",
       "        <th style=\"padding-left: 1em; padding-right: 1em; text-align: center\">...</th>\n",
       "    </tr>\n",
       "    <tr>\n",
       "        <td style=\"padding-left: 1em; padding-right: 1em; text-align: center; vertical-align: top\">-0.0262307370987</td>\n",
       "        <td style=\"padding-left: 1em; padding-right: 1em; text-align: center; vertical-align: top\">0.0112661598937</td>\n",
       "        <td style=\"padding-left: 1em; padding-right: 1em; text-align: center; vertical-align: top\">0.0275930320903</td>\n",
       "        <td style=\"padding-left: 1em; padding-right: 1em; text-align: center; vertical-align: top\">-0.169388612369</td>\n",
       "        <td style=\"padding-left: 1em; padding-right: 1em; text-align: center; vertical-align: top\">...</td>\n",
       "    </tr>\n",
       "    <tr>\n",
       "        <td style=\"padding-left: 1em; padding-right: 1em; text-align: center; vertical-align: top\">-0.18410318633</td>\n",
       "        <td style=\"padding-left: 1em; padding-right: 1em; text-align: center; vertical-align: top\">0.214357786794</td>\n",
       "        <td style=\"padding-left: 1em; padding-right: 1em; text-align: center; vertical-align: top\">-0.0714777838866</td>\n",
       "        <td style=\"padding-left: 1em; padding-right: 1em; text-align: center; vertical-align: top\">0.112904295754</td>\n",
       "        <td style=\"padding-left: 1em; padding-right: 1em; text-align: center; vertical-align: top\">...</td>\n",
       "    </tr>\n",
       "    <tr>\n",
       "        <td style=\"padding-left: 1em; padding-right: 1em; text-align: center; vertical-align: top\">0.0303240604111</td>\n",
       "        <td style=\"padding-left: 1em; padding-right: 1em; text-align: center; vertical-align: top\">0.161824989525</td>\n",
       "        <td style=\"padding-left: 1em; padding-right: 1em; text-align: center; vertical-align: top\">0.0791418963279</td>\n",
       "        <td style=\"padding-left: 1em; padding-right: 1em; text-align: center; vertical-align: top\">0.0928005995055</td>\n",
       "        <td style=\"padding-left: 1em; padding-right: 1em; text-align: center; vertical-align: top\">...</td>\n",
       "    </tr>\n",
       "    <tr>\n",
       "        <td style=\"padding-left: 1em; padding-right: 1em; text-align: center; vertical-align: top\">0.276182578067</td>\n",
       "        <td style=\"padding-left: 1em; padding-right: 1em; text-align: center; vertical-align: top\">-0.0779345738996</td>\n",
       "        <td style=\"padding-left: 1em; padding-right: 1em; text-align: center; vertical-align: top\">0.105114298586</td>\n",
       "        <td style=\"padding-left: 1em; padding-right: 1em; text-align: center; vertical-align: top\">-0.102688112533</td>\n",
       "        <td style=\"padding-left: 1em; padding-right: 1em; text-align: center; vertical-align: top\">...</td>\n",
       "    </tr>\n",
       "    <tr>\n",
       "        <td style=\"padding-left: 1em; padding-right: 1em; text-align: center; vertical-align: top\">0.155931042938</td>\n",
       "        <td style=\"padding-left: 1em; padding-right: 1em; text-align: center; vertical-align: top\">-0.057651024475</td>\n",
       "        <td style=\"padding-left: 1em; padding-right: 1em; text-align: center; vertical-align: top\">0.0400447136194</td>\n",
       "        <td style=\"padding-left: 1em; padding-right: 1em; text-align: center; vertical-align: top\">-0.0495496869274</td>\n",
       "        <td style=\"padding-left: 1em; padding-right: 1em; text-align: center; vertical-align: top\">...</td>\n",
       "    </tr>\n",
       "    <tr>\n",
       "        <td style=\"padding-left: 1em; padding-right: 1em; text-align: center; vertical-align: top\">0.0651522084694</td>\n",
       "        <td style=\"padding-left: 1em; padding-right: 1em; text-align: center; vertical-align: top\">-0.00107532423422</td>\n",
       "        <td style=\"padding-left: 1em; padding-right: 1em; text-align: center; vertical-align: top\">0.0249200307195</td>\n",
       "        <td style=\"padding-left: 1em; padding-right: 1em; text-align: center; vertical-align: top\">0.0255334042297</td>\n",
       "        <td style=\"padding-left: 1em; padding-right: 1em; text-align: center; vertical-align: top\">...</td>\n",
       "    </tr>\n",
       "    <tr>\n",
       "        <td style=\"padding-left: 1em; padding-right: 1em; text-align: center; vertical-align: top\">-0.0121544388126</td>\n",
       "        <td style=\"padding-left: 1em; padding-right: 1em; text-align: center; vertical-align: top\">0.0446082751296</td>\n",
       "        <td style=\"padding-left: 1em; padding-right: 1em; text-align: center; vertical-align: top\">-0.00394530660241</td>\n",
       "        <td style=\"padding-left: 1em; padding-right: 1em; text-align: center; vertical-align: top\">-0.0389387745058</td>\n",
       "        <td style=\"padding-left: 1em; padding-right: 1em; text-align: center; vertical-align: top\">...</td>\n",
       "    </tr>\n",
       "    <tr>\n",
       "        <td style=\"padding-left: 1em; padding-right: 1em; text-align: center; vertical-align: top\">0.0591423343141</td>\n",
       "        <td style=\"padding-left: 1em; padding-right: 1em; text-align: center; vertical-align: top\">-0.0832305041109</td>\n",
       "        <td style=\"padding-left: 1em; padding-right: 1em; text-align: center; vertical-align: top\">0.0508939026519</td>\n",
       "        <td style=\"padding-left: 1em; padding-right: 1em; text-align: center; vertical-align: top\">0.0112410741299</td>\n",
       "        <td style=\"padding-left: 1em; padding-right: 1em; text-align: center; vertical-align: top\">...</td>\n",
       "    </tr>\n",
       "    <tr>\n",
       "        <td style=\"padding-left: 1em; padding-right: 1em; text-align: center; vertical-align: top\">0.0359847136173</td>\n",
       "        <td style=\"padding-left: 1em; padding-right: 1em; text-align: center; vertical-align: top\">-0.00305434419688</td>\n",
       "        <td style=\"padding-left: 1em; padding-right: 1em; text-align: center; vertical-align: top\">0.00410579589509</td>\n",
       "        <td style=\"padding-left: 1em; padding-right: 1em; text-align: center; vertical-align: top\">0.0135861931474</td>\n",
       "        <td style=\"padding-left: 1em; padding-right: 1em; text-align: center; vertical-align: top\">...</td>\n",
       "    </tr>\n",
       "    <tr>\n",
       "        <td style=\"padding-left: 1em; padding-right: 1em; text-align: center; vertical-align: top\">0.0651522084694</td>\n",
       "        <td style=\"padding-left: 1em; padding-right: 1em; text-align: center; vertical-align: top\">-0.00107532423422</td>\n",
       "        <td style=\"padding-left: 1em; padding-right: 1em; text-align: center; vertical-align: top\">0.0249200307195</td>\n",
       "        <td style=\"padding-left: 1em; padding-right: 1em; text-align: center; vertical-align: top\">0.0255334042297</td>\n",
       "        <td style=\"padding-left: 1em; padding-right: 1em; text-align: center; vertical-align: top\">...</td>\n",
       "    </tr>\n",
       "</table>\n",
       "[10 rows x 206 columns]<br/>\n",
       "</div>"
      ],
      "text/plain": [
       "Columns:\n",
       "\tbusiness_id\tstr\n",
       "\tavg_stars\tfloat\n",
       "\tcool\tfloat\n",
       "\tfunny\tfloat\n",
       "\tstars\tfloat\n",
       "\tuseful\tfloat\n",
       "\t0\tfloat\n",
       "\t1\tfloat\n",
       "\t2\tfloat\n",
       "\t3\tfloat\n",
       "\t4\tfloat\n",
       "\t5\tfloat\n",
       "\t6\tfloat\n",
       "\t7\tfloat\n",
       "\t8\tfloat\n",
       "\t9\tfloat\n",
       "\t10\tfloat\n",
       "\t11\tfloat\n",
       "\t12\tfloat\n",
       "\t13\tfloat\n",
       "\t14\tfloat\n",
       "\t15\tfloat\n",
       "\t16\tfloat\n",
       "\t17\tfloat\n",
       "\t18\tfloat\n",
       "\t19\tfloat\n",
       "\t20\tfloat\n",
       "\t21\tfloat\n",
       "\t22\tfloat\n",
       "\t23\tfloat\n",
       "\t24\tfloat\n",
       "\t25\tfloat\n",
       "\t26\tfloat\n",
       "\t27\tfloat\n",
       "\t28\tfloat\n",
       "\t29\tfloat\n",
       "\t30\tfloat\n",
       "\t31\tfloat\n",
       "\t32\tfloat\n",
       "\t33\tfloat\n",
       "\t34\tfloat\n",
       "\t35\tfloat\n",
       "\t36\tfloat\n",
       "\t37\tfloat\n",
       "\t38\tfloat\n",
       "\t39\tfloat\n",
       "\t40\tfloat\n",
       "\t41\tfloat\n",
       "\t42\tfloat\n",
       "\t43\tfloat\n",
       "\t44\tfloat\n",
       "\t45\tfloat\n",
       "\t46\tfloat\n",
       "\t47\tfloat\n",
       "\t48\tfloat\n",
       "\t49\tfloat\n",
       "\t50\tfloat\n",
       "\t51\tfloat\n",
       "\t52\tfloat\n",
       "\t53\tfloat\n",
       "\t54\tfloat\n",
       "\t55\tfloat\n",
       "\t56\tfloat\n",
       "\t57\tfloat\n",
       "\t58\tfloat\n",
       "\t59\tfloat\n",
       "\t60\tfloat\n",
       "\t61\tfloat\n",
       "\t62\tfloat\n",
       "\t63\tfloat\n",
       "\t64\tfloat\n",
       "\t65\tfloat\n",
       "\t66\tfloat\n",
       "\t67\tfloat\n",
       "\t68\tfloat\n",
       "\t69\tfloat\n",
       "\t70\tfloat\n",
       "\t71\tfloat\n",
       "\t72\tfloat\n",
       "\t73\tfloat\n",
       "\t74\tfloat\n",
       "\t75\tfloat\n",
       "\t76\tfloat\n",
       "\t77\tfloat\n",
       "\t78\tfloat\n",
       "\t79\tfloat\n",
       "\t80\tfloat\n",
       "\t81\tfloat\n",
       "\t82\tfloat\n",
       "\t83\tfloat\n",
       "\t84\tfloat\n",
       "\t85\tfloat\n",
       "\t86\tfloat\n",
       "\t87\tfloat\n",
       "\t88\tfloat\n",
       "\t89\tfloat\n",
       "\t90\tfloat\n",
       "\t91\tfloat\n",
       "\t92\tfloat\n",
       "\t93\tfloat\n",
       "\t94\tfloat\n",
       "\t95\tfloat\n",
       "\t96\tfloat\n",
       "\t97\tfloat\n",
       "\t98\tfloat\n",
       "\t99\tfloat\n",
       "\t100\tfloat\n",
       "\t101\tfloat\n",
       "\t102\tfloat\n",
       "\t103\tfloat\n",
       "\t104\tfloat\n",
       "\t105\tfloat\n",
       "\t106\tfloat\n",
       "\t107\tfloat\n",
       "\t108\tfloat\n",
       "\t109\tfloat\n",
       "\t110\tfloat\n",
       "\t111\tfloat\n",
       "\t112\tfloat\n",
       "\t113\tfloat\n",
       "\t114\tfloat\n",
       "\t115\tfloat\n",
       "\t116\tfloat\n",
       "\t117\tfloat\n",
       "\t118\tfloat\n",
       "\t119\tfloat\n",
       "\t120\tfloat\n",
       "\t121\tfloat\n",
       "\t122\tfloat\n",
       "\t123\tfloat\n",
       "\t124\tfloat\n",
       "\t125\tfloat\n",
       "\t126\tfloat\n",
       "\t127\tfloat\n",
       "\t128\tfloat\n",
       "\t129\tfloat\n",
       "\t130\tfloat\n",
       "\t131\tfloat\n",
       "\t132\tfloat\n",
       "\t133\tfloat\n",
       "\t134\tfloat\n",
       "\t135\tfloat\n",
       "\t136\tfloat\n",
       "\t137\tfloat\n",
       "\t138\tfloat\n",
       "\t139\tfloat\n",
       "\t140\tfloat\n",
       "\t141\tfloat\n",
       "\t142\tfloat\n",
       "\t143\tfloat\n",
       "\t144\tfloat\n",
       "\t145\tfloat\n",
       "\t146\tfloat\n",
       "\t147\tfloat\n",
       "\t148\tfloat\n",
       "\t149\tfloat\n",
       "\t150\tfloat\n",
       "\t151\tfloat\n",
       "\t152\tfloat\n",
       "\t153\tfloat\n",
       "\t154\tfloat\n",
       "\t155\tfloat\n",
       "\t156\tfloat\n",
       "\t157\tfloat\n",
       "\t158\tfloat\n",
       "\t159\tfloat\n",
       "\t160\tfloat\n",
       "\t161\tfloat\n",
       "\t162\tfloat\n",
       "\t163\tfloat\n",
       "\t164\tfloat\n",
       "\t165\tfloat\n",
       "\t166\tfloat\n",
       "\t167\tfloat\n",
       "\t168\tfloat\n",
       "\t169\tfloat\n",
       "\t170\tfloat\n",
       "\t171\tfloat\n",
       "\t172\tfloat\n",
       "\t173\tfloat\n",
       "\t174\tfloat\n",
       "\t175\tfloat\n",
       "\t176\tfloat\n",
       "\t177\tfloat\n",
       "\t178\tfloat\n",
       "\t179\tfloat\n",
       "\t180\tfloat\n",
       "\t181\tfloat\n",
       "\t182\tfloat\n",
       "\t183\tfloat\n",
       "\t184\tfloat\n",
       "\t185\tfloat\n",
       "\t186\tfloat\n",
       "\t187\tfloat\n",
       "\t188\tfloat\n",
       "\t189\tfloat\n",
       "\t190\tfloat\n",
       "\t191\tfloat\n",
       "\t192\tfloat\n",
       "\t193\tfloat\n",
       "\t194\tfloat\n",
       "\t195\tfloat\n",
       "\t196\tfloat\n",
       "\t197\tfloat\n",
       "\t198\tfloat\n",
       "\t199\tfloat\n",
       "\n",
       "Rows: 10\n",
       "\n",
       "Data:\n",
       "+------------------------+-----------+----------------+-----------------+\n",
       "|      business_id       | avg_stars |      cool      |      funny      |\n",
       "+------------------------+-----------+----------------+-----------------+\n",
       "| --9e1ONYQuAa-CB_Rrw7Tw |    4.0    | 0.613138686131 |  0.401459854015 |\n",
       "| -1m9o3vGRA8IBPNvNqKLmA |    4.5    |      1.0       |  0.631578947368 |\n",
       "| -3zffZUHoY8bQjGfPSoBKQ |    4.0    | 0.395833333333 |      0.3125     |\n",
       "| -8R_-EkGpUhBk55K9Dd4mg |    3.5    | 1.11111111111  |  0.925925925926 |\n",
       "| -9YyInW1wapzdNZrhQJ9dg |    2.5    | 0.242424242424 |  0.121212121212 |\n",
       "| -AD5PiuJHgdUcAK-Vxao2A |    3.5    | 0.277777777778 | 0.0555555555556 |\n",
       "| -ADtl9bLp8wNqYX1k3KuxA |    4.0    | 0.333333333333 |  0.121212121212 |\n",
       "| -AGdGGCeTS-njB_8GkUmjQ |    4.0    |      2.0       |       2.0       |\n",
       "| -Bf8BQ3yMk8U2f45r2DRKw |    4.0    | 0.666666666667 |  0.606060606061 |\n",
       "| -Bv-HHUs8aHzDrdWcZHn8w |    3.0    | 0.321428571429 |  0.214285714286 |\n",
       "+------------------------+-----------+----------------+-----------------+\n",
       "+---------------+----------------+----------------+-------------------+\n",
       "|     stars     |     useful     |       0        |         1         |\n",
       "+---------------+----------------+----------------+-------------------+\n",
       "| 4.12408759124 | 0.788321167883 | 0.727719914811 |  0.0259805873653  |\n",
       "| 4.73684210526 | 1.31578947368  | 1.85730296782  |   1.99256579828   |\n",
       "| 4.20833333333 |     0.9375     | 1.50999753279  |   1.33884361173   |\n",
       "| 3.96296296296 | 1.25925925926  | 0.701672384145 |  -0.013322089252  |\n",
       "| 2.93939393939 | 0.848484848485 | 0.69988166844  | -0.00305522030528 |\n",
       "| 3.94444444444 | 0.166666666667 | 0.772191017214 |  -0.0422744174686 |\n",
       "| 4.14545454545 | 0.642424242424 | 1.11941617783  |   0.642164300222  |\n",
       "|      1.0      |      3.0       | 0.697406159516 | -0.00762761122546 |\n",
       "| 3.48484848485 | 0.757575757576 | 1.40423921878  |   -0.84630656044  |\n",
       "| 3.07142857143 | 0.428571428571 | 0.772191017214 |  -0.0422744174686 |\n",
       "+---------------+----------------+----------------+-------------------+\n",
       "+-------------------+------------------+------------------+-------------------+\n",
       "|         2         |        3         |        4         |         5         |\n",
       "+-------------------+------------------+------------------+-------------------+\n",
       "|  -0.436490705052  |  -0.44700238296  | 0.0210923992529  | -0.00184653680866 |\n",
       "|   0.56664888495   | -0.0093595249493 | -0.116075460456  |   -0.18044951264  |\n",
       "|  -0.0201651804608 |  0.153495657788  | -0.0424447899259 |  -0.211873091458  |\n",
       "|  -0.428212961183  | -0.468335884732  |  0.009372443075  |  0.0408144826114  |\n",
       "|  -0.439044430856  | -0.458892009091  | 0.0089206570129  |  0.0357137972814  |\n",
       "|   -0.47492677879  | -0.378180516922  | -0.144685201124  |  -0.160550062837  |\n",
       "|   0.214325270758  | -0.993733288651  | -0.122292676694  |   0.316292919534  |\n",
       "|   -0.42478731544  | -0.465093575987  | 0.00543422788838 |  0.0312166000623  |\n",
       "| -0.00303974436216 | -0.0512841397339 |  -0.4562513552   |   -0.50018052594  |\n",
       "|   -0.47492677879  | -0.378180516922  | -0.144685201124  |  -0.160550062837  |\n",
       "+-------------------+------------------+------------------+-------------------+\n",
       "+------------------+-----------------+------------------+-----------------+\n",
       "|        6         |        7        |        8         |        9        |\n",
       "+------------------+-----------------+------------------+-----------------+\n",
       "| -0.0346233622853 |  0.124480951181 |  -0.03506121911  | 0.0346592184836 |\n",
       "|  -0.14353993614  |  0.165172922994 |  0.12982210791   |  0.457680382149 |\n",
       "| -0.140856846729  |  0.264023983798 |  0.144032656104  |  0.449828291191 |\n",
       "| -0.0299197485714 |  0.120198306604 | -0.0572896441148 |  0.032088100312 |\n",
       "| -0.0240951364842 | 0.0894132089777 | -0.0385985892952 |  0.017694493249 |\n",
       "| 0.0319316429159  |  -0.19652197056 |  -0.30591040197  | -0.131954470702 |\n",
       "|  -0.31136981379  |  0.81967444367  |  -1.01068341689  | -0.126703441761 |\n",
       "| -0.0304596798828 |  0.111387317001 | -0.0621140736346 | 0.0258560959824 |\n",
       "| -0.0275330970336 |  -0.46415168928 | -0.485965253521  | -0.233921039122 |\n",
       "| 0.0319316429159  |  -0.19652197056 |  -0.30591040197  | -0.131954470702 |\n",
       "+------------------+-----------------+------------------+-----------------+\n",
       "+------------------+-----------------+-------------------+------------------+-----+\n",
       "|        10        |        11       |         12        |        13        | ... |\n",
       "+------------------+-----------------+-------------------+------------------+-----+\n",
       "| -0.206106065596  | 0.0618818094527 | -0.00216838837266 | 0.0446833921981  | ... |\n",
       "| 0.0311001570289  | -0.279527843534 |   0.503138533393  | 0.0677467195294  | ... |\n",
       "| -0.0260193717903 | -0.235696296001 |   0.548265960156  |  0.142363962238  | ... |\n",
       "| -0.194312465681  | 0.0773109071434 |  0.0576720749633  | 0.0845024538574  | ... |\n",
       "|  -0.17011306026  | 0.0673594888989 |  0.0321594449629  | 0.00935590981244 | ... |\n",
       "| -0.449311956413  | -0.196525606339 |  0.0725897497936  |  -0.36361098572  | ... |\n",
       "|  0.826770909304  | -0.230890314259 |  -0.277528949761  | -0.591182658049  | ... |\n",
       "| -0.144218584859  | 0.0637274372173 |  0.0432075756734  | 0.0363322952427  | ... |\n",
       "| -0.323372706473  | -0.223338483875 |   0.206536947498  | -0.280140840759  | ... |\n",
       "| -0.449311956413  | -0.196525606339 |  0.0725897497936  |  -0.36361098572  | ... |\n",
       "+------------------+-----------------+-------------------+------------------+-----+\n",
       "[10 rows x 206 columns]"
      ]
     },
     "execution_count": 39,
     "metadata": {},
     "output_type": "execute_result"
    }
   ],
   "source": [
    "# prepare data\n",
    "data_sf = graphlab.SFrame(df_business_join.reset_index())\n",
    "data_sf.head()"
   ]
  },
  {
   "cell_type": "code",
   "execution_count": 40,
   "metadata": {
    "collapsed": false
   },
   "outputs": [
    {
     "name": "stdout",
     "output_type": "stream",
     "text": [
      "WARNING: The ItemContentRecommender model is still in beta.\n",
      "WARNING: This feature transformer is still in beta, and some interpretation rules may change in the future.\n",
      "('Applying transform:\\n', Class             : AutoVectorizer\n",
      "\n",
      "Model Fields\n",
      "------------\n",
      "Features          : ['avg_stars', 'cool', 'funny', 'stars', 'useful', '0', '1', '2', '3', '4', '5', '6', '7', '8', '9', '10', '11', '12', '13', '14', '15', '16', '17', '18', '19', '20', '21', '22', '23', '24', '25', '26', '27', '28', '29', '30', '31', '32', '33', '34', '35', '36', '37', '38', '39', '40', '41', '42', '43', '44', '45', '46', '47', '48', '49', '50', '51', '52', '53', '54', '55', '56', '57', '58', '59', '60', '61', '62', '63', '64', '65', '66', '67', '68', '69', '70', '71', '72', '73', '74', '75', '76', '77', '78', '79', '80', '81', '82', '83', '84', '85', '86', '87', '88', '89', '90', '91', '92', '93', '94', '95', '96', '97', '98', '99', '100', '101', '102', '103', '104', '105', '106', '107', '108', '109', '110', '111', '112', '113', '114', '115', '116', '117', '118', '119', '120', '121', '122', '123', '124', '125', '126', '127', '128', '129', '130', '131', '132', '133', '134', '135', '136', '137', '138', '139', '140', '141', '142', '143', '144', '145', '146', '147', '148', '149', '150', '151', '152', '153', '154', '155', '156', '157', '158', '159', '160', '161', '162', '163', '164', '165', '166', '167', '168', '169', '170', '171', '172', '173', '174', '175', '176', '177', '178', '179', '180', '181', '182', '183', '184', '185', '186', '187', '188', '189', '190', '191', '192', '193', '194', '195', '196', '197', '198', '199']\n",
      "Excluded Features : ['business_id']\n",
      "\n",
      "Column     Type   Interpretation  Transforms  Output Type\n",
      "---------  -----  --------------  ----------  -----------\n",
      "avg_stars  float  numerical       None        float      \n",
      "cool       float  numerical       None        float      \n",
      "funny      float  numerical       None        float      \n",
      "stars      float  numerical       None        float      \n",
      "useful     float  numerical       None        float      \n",
      "0          float  numerical       None        float      \n",
      "1          float  numerical       None        float      \n",
      "2          float  numerical       None        float      \n",
      "3          float  numerical       None        float      \n",
      "4          float  numerical       None        float      \n",
      "5          float  numerical       None        float      \n",
      "6          float  numerical       None        float      \n",
      "7          float  numerical       None        float      \n",
      "8          float  numerical       None        float      \n",
      "9          float  numerical       None        float      \n",
      "10         float  numerical       None        float      \n",
      "11         float  numerical       None        float      \n",
      "12         float  numerical       None        float      \n",
      "13         float  numerical       None        float      \n",
      "14         float  numerical       None        float      \n",
      "15         float  numerical       None        float      \n",
      "16         float  numerical       None        float      \n",
      "17         float  numerical       None        float      \n",
      "18         float  numerical       None        float      \n",
      "19         float  numerical       None        float      \n",
      "20         float  numerical       None        float      \n",
      "21         float  numerical       None        float      \n",
      "22         float  numerical       None        float      \n",
      "23         float  numerical       None        float      \n",
      "24         float  numerical       None        float      \n",
      "25         float  numerical       None        float      \n",
      "26         float  numerical       None        float      \n",
      "27         float  numerical       None        float      \n",
      "28         float  numerical       None        float      \n",
      "29         float  numerical       None        float      \n",
      "30         float  numerical       None        float      \n",
      "31         float  numerical       None        float      \n",
      "32         float  numerical       None        float      \n",
      "33         float  numerical       None        float      \n",
      "34         float  numerical       None        float      \n",
      "35         float  numerical       None        float      \n",
      "36         float  numerical       None        float      \n",
      "37         float  numerical       None        float      \n",
      "38         float  numerical       None        float      \n",
      "39         float  numerical       None        float      \n",
      "40         float  numerical       None        float      \n",
      "41         float  numerical       None        float      \n",
      "42         float  numerical       None        float      \n",
      "43         float  numerical       None        float      \n",
      "44         float  numerical       None        float      \n",
      "45         float  numerical       None        float      \n",
      "46         float  numerical       None        float      \n",
      "47         float  numerical       None        float      \n",
      "48         float  numerical       None        float      \n",
      "49         float  numerical       None        float      \n",
      "50         float  numerical       None        float      \n",
      "51         float  numerical       None        float      \n",
      "52         float  numerical       None        float      \n",
      "53         float  numerical       None        float      \n",
      "54         float  numerical       None        float      \n",
      "55         float  numerical       None        float      \n",
      "56         float  numerical       None        float      \n",
      "57         float  numerical       None        float      \n",
      "58         float  numerical       None        float      \n",
      "59         float  numerical       None        float      \n",
      "60         float  numerical       None        float      \n",
      "61         float  numerical       None        float      \n",
      "62         float  numerical       None        float      \n",
      "63         float  numerical       None        float      \n",
      "64         float  numerical       None        float      \n",
      "65         float  numerical       None        float      \n",
      "66         float  numerical       None        float      \n",
      "67         float  numerical       None        float      \n",
      "68         float  numerical       None        float      \n",
      "69         float  numerical       None        float      \n",
      "70         float  numerical       None        float      \n",
      "71         float  numerical       None        float      \n",
      "72         float  numerical       None        float      \n",
      "73         float  numerical       None        float      \n",
      "74         float  numerical       None        float      \n",
      "75         float  numerical       None        float      \n",
      "76         float  numerical       None        float      \n",
      "77         float  numerical       None        float      \n",
      "78         float  numerical       None        float      \n",
      "79         float  numerical       None        float      \n",
      "80         float  numerical       None        float      \n",
      "81         float  numerical       None        float      \n",
      "82         float  numerical       None        float      \n",
      "83         float  numerical       None        float      \n",
      "84         float  numerical       None        float      \n",
      "85         float  numerical       None        float      \n",
      "86         float  numerical       None        float      \n",
      "87         float  numerical       None        float      \n",
      "88         float  numerical       None        float      \n",
      "89         float  numerical       None        float      \n",
      "90         float  numerical       None        float      \n",
      "91         float  numerical       None        float      \n",
      "92         float  numerical       None        float      \n",
      "93         float  numerical       None        float      \n",
      "94         float  numerical       None        float      \n",
      "95         float  numerical       None        float      \n",
      "96         float  numerical       None        float      \n",
      "97         float  numerical       None        float      \n",
      "98         float  numerical       None        float      \n",
      "99         float  numerical       None        float      \n",
      "100        float  numerical       None        float      \n",
      "101        float  numerical       None        float      \n",
      "102        float  numerical       None        float      \n",
      "103        float  numerical       None        float      \n",
      "104        float  numerical       None        float      \n",
      "105        float  numerical       None        float      \n",
      "106        float  numerical       None        float      \n",
      "107        float  numerical       None        float      \n",
      "108        float  numerical       None        float      \n",
      "109        float  numerical       None        float      \n",
      "110        float  numerical       None        float      \n",
      "111        float  numerical       None        float      \n",
      "112        float  numerical       None        float      \n",
      "113        float  numerical       None        float      \n",
      "114        float  numerical       None        float      \n",
      "115        float  numerical       None        float      \n",
      "116        float  numerical       None        float      \n",
      "117        float  numerical       None        float      \n",
      "118        float  numerical       None        float      \n",
      "119        float  numerical       None        float      \n",
      "120        float  numerical       None        float      \n",
      "121        float  numerical       None        float      \n",
      "122        float  numerical       None        float      \n",
      "123        float  numerical       None        float      \n",
      "124        float  numerical       None        float      \n",
      "125        float  numerical       None        float      \n",
      "126        float  numerical       None        float      \n",
      "127        float  numerical       None        float      \n",
      "128        float  numerical       None        float      \n",
      "129        float  numerical       None        float      \n",
      "130        float  numerical       None        float      \n",
      "131        float  numerical       None        float      \n",
      "132        float  numerical       None        float      \n",
      "133        float  numerical       None        float      \n",
      "134        float  numerical       None        float      \n",
      "135        float  numerical       None        float      \n",
      "136        float  numerical       None        float      \n",
      "137        float  numerical       None        float      \n",
      "138        float  numerical       None        float      \n",
      "139        float  numerical       None        float      \n",
      "140        float  numerical       None        float      \n",
      "141        float  numerical       None        float      \n",
      "142        float  numerical       None        float      \n",
      "143        float  numerical       None        float      \n",
      "144        float  numerical       None        float      \n",
      "145        float  numerical       None        float      \n",
      "146        float  numerical       None        float      \n",
      "147        float  numerical       None        float      \n",
      "148        float  numerical       None        float      \n",
      "149        float  numerical       None        float      \n",
      "150        float  numerical       None        float      \n",
      "151        float  numerical       None        float      \n",
      "152        float  numerical       None        float      \n",
      "153        float  numerical       None        float      \n",
      "154        float  numerical       None        float      \n",
      "155        float  numerical       None        float      \n",
      "156        float  numerical       None        float      \n",
      "157        float  numerical       None        float      \n",
      "158        float  numerical       None        float      \n",
      "159        float  numerical       None        float      \n",
      "160        float  numerical       None        float      \n",
      "161        float  numerical       None        float      \n",
      "162        float  numerical       None        float      \n",
      "163        float  numerical       None        float      \n",
      "164        float  numerical       None        float      \n",
      "165        float  numerical       None        float      \n",
      "166        float  numerical       None        float      \n",
      "167        float  numerical       None        float      \n",
      "168        float  numerical       None        float      \n",
      "169        float  numerical       None        float      \n",
      "170        float  numerical       None        float      \n",
      "171        float  numerical       None        float      \n",
      "172        float  numerical       None        float      \n",
      "173        float  numerical       None        float      \n",
      "174        float  numerical       None        float      \n",
      "175        float  numerical       None        float      \n",
      "176        float  numerical       None        float      \n",
      "177        float  numerical       None        float      \n",
      "178        float  numerical       None        float      \n",
      "179        float  numerical       None        float      \n",
      "180        float  numerical       None        float      \n",
      "181        float  numerical       None        float      \n",
      "182        float  numerical       None        float      \n",
      "183        float  numerical       None        float      \n",
      "184        float  numerical       None        float      \n",
      "185        float  numerical       None        float      \n",
      "186        float  numerical       None        float      \n",
      "187        float  numerical       None        float      \n",
      "188        float  numerical       None        float      \n",
      "189        float  numerical       None        float      \n",
      "190        float  numerical       None        float      \n",
      "191        float  numerical       None        float      \n",
      "192        float  numerical       None        float      \n",
      "193        float  numerical       None        float      \n",
      "194        float  numerical       None        float      \n",
      "195        float  numerical       None        float      \n",
      "196        float  numerical       None        float      \n",
      "197        float  numerical       None        float      \n",
      "198        float  numerical       None        float      \n",
      "199        float  numerical       None        float      \n",
      "\n",
      ")\n"
     ]
    },
    {
     "data": {
      "text/html": [
       "<pre>Recsys training: model = item_content_recommender</pre>"
      ],
      "text/plain": [
       "Recsys training: model = item_content_recommender"
      ]
     },
     "metadata": {},
     "output_type": "display_data"
    },
    {
     "name": "stdout",
     "output_type": "stream",
     "text": [
      "Defaulting to brute force instead of ball tree because there are multiple distance components.\n"
     ]
    },
    {
     "data": {
      "text/html": [
       "<pre>Starting brute force nearest neighbors model training.</pre>"
      ],
      "text/plain": [
       "Starting brute force nearest neighbors model training."
      ]
     },
     "metadata": {},
     "output_type": "display_data"
    },
    {
     "data": {
      "text/html": [
       "<pre>Starting pairwise querying.</pre>"
      ],
      "text/plain": [
       "Starting pairwise querying."
      ]
     },
     "metadata": {},
     "output_type": "display_data"
    },
    {
     "data": {
      "text/html": [
       "<pre>+--------------+---------+-------------+--------------+</pre>"
      ],
      "text/plain": [
       "+--------------+---------+-------------+--------------+"
      ]
     },
     "metadata": {},
     "output_type": "display_data"
    },
    {
     "data": {
      "text/html": [
       "<pre>| Query points | # Pairs | % Complete. | Elapsed Time |</pre>"
      ],
      "text/plain": [
       "| Query points | # Pairs | % Complete. | Elapsed Time |"
      ]
     },
     "metadata": {},
     "output_type": "display_data"
    },
    {
     "data": {
      "text/html": [
       "<pre>+--------------+---------+-------------+--------------+</pre>"
      ],
      "text/plain": [
       "+--------------+---------+-------------+--------------+"
      ]
     },
     "metadata": {},
     "output_type": "display_data"
    },
    {
     "data": {
      "text/html": [
       "<pre>| 1            | 4051    | 0.0246853   | 142.613ms    |</pre>"
      ],
      "text/plain": [
       "| 1            | 4051    | 0.0246853   | 142.613ms    |"
      ]
     },
     "metadata": {},
     "output_type": "display_data"
    },
    {
     "data": {
      "text/html": [
       "<pre>| 112          | 453712  | 2.76475     | 1.15s        |</pre>"
      ],
      "text/plain": [
       "| 112          | 453712  | 2.76475     | 1.15s        |"
      ]
     },
     "metadata": {},
     "output_type": "display_data"
    },
    {
     "data": {
      "text/html": [
       "<pre>| 229          | 927679  | 5.65293     | 2.14s        |</pre>"
      ],
      "text/plain": [
       "| 229          | 927679  | 5.65293     | 2.14s        |"
      ]
     },
     "metadata": {},
     "output_type": "display_data"
    },
    {
     "data": {
      "text/html": [
       "<pre>| 360          | 1458360 | 8.88669     | 3.15s        |</pre>"
      ],
      "text/plain": [
       "| 360          | 1458360 | 8.88669     | 3.15s        |"
      ]
     },
     "metadata": {},
     "output_type": "display_data"
    },
    {
     "data": {
      "text/html": [
       "<pre>| 505          | 2045755 | 12.4661     | 4.14s        |</pre>"
      ],
      "text/plain": [
       "| 505          | 2045755 | 12.4661     | 4.14s        |"
      ]
     },
     "metadata": {},
     "output_type": "display_data"
    },
    {
     "data": {
      "text/html": [
       "<pre>| 635          | 2572385 | 15.6751     | 5.14s        |</pre>"
      ],
      "text/plain": [
       "| 635          | 2572385 | 15.6751     | 5.14s        |"
      ]
     },
     "metadata": {},
     "output_type": "display_data"
    },
    {
     "data": {
      "text/html": [
       "<pre>| 770          | 3119270 | 19.0077     | 6.15s        |</pre>"
      ],
      "text/plain": [
       "| 770          | 3119270 | 19.0077     | 6.15s        |"
      ]
     },
     "metadata": {},
     "output_type": "display_data"
    },
    {
     "data": {
      "text/html": [
       "<pre>| 886          | 3589186 | 21.8711     | 7.14s        |</pre>"
      ],
      "text/plain": [
       "| 886          | 3589186 | 21.8711     | 7.14s        |"
      ]
     },
     "metadata": {},
     "output_type": "display_data"
    },
    {
     "data": {
      "text/html": [
       "<pre>| 1021         | 4136071 | 25.2037     | 8.16s        |</pre>"
      ],
      "text/plain": [
       "| 1021         | 4136071 | 25.2037     | 8.16s        |"
      ]
     },
     "metadata": {},
     "output_type": "display_data"
    },
    {
     "data": {
      "text/html": [
       "<pre>| 1189         | 4816639 | 29.3508     | 9.15s        |</pre>"
      ],
      "text/plain": [
       "| 1189         | 4816639 | 29.3508     | 9.15s        |"
      ]
     },
     "metadata": {},
     "output_type": "display_data"
    },
    {
     "data": {
      "text/html": [
       "<pre>| 1324         | 5363524 | 32.6833     | 10.15s       |</pre>"
      ],
      "text/plain": [
       "| 1324         | 5363524 | 32.6833     | 10.15s       |"
      ]
     },
     "metadata": {},
     "output_type": "display_data"
    },
    {
     "data": {
      "text/html": [
       "<pre>| 1467         | 5942817 | 36.2133     | 11.15s       |</pre>"
      ],
      "text/plain": [
       "| 1467         | 5942817 | 36.2133     | 11.15s       |"
      ]
     },
     "metadata": {},
     "output_type": "display_data"
    },
    {
     "data": {
      "text/html": [
       "<pre>| 1619         | 6558569 | 39.9654     | 12.15s       |</pre>"
      ],
      "text/plain": [
       "| 1619         | 6558569 | 39.9654     | 12.15s       |"
      ]
     },
     "metadata": {},
     "output_type": "display_data"
    },
    {
     "data": {
      "text/html": [
       "<pre>| 1742         | 7056842 | 43.0017     | 13.15s       |</pre>"
      ],
      "text/plain": [
       "| 1742         | 7056842 | 43.0017     | 13.15s       |"
      ]
     },
     "metadata": {},
     "output_type": "display_data"
    },
    {
     "data": {
      "text/html": [
       "<pre>| 1852         | 7502452 | 45.7171     | 14.15s       |</pre>"
      ],
      "text/plain": [
       "| 1852         | 7502452 | 45.7171     | 14.15s       |"
      ]
     },
     "metadata": {},
     "output_type": "display_data"
    },
    {
     "data": {
      "text/html": [
       "<pre>| 1959         | 7935909 | 48.3584     | 15.16s       |</pre>"
      ],
      "text/plain": [
       "| 1959         | 7935909 | 48.3584     | 15.16s       |"
      ]
     },
     "metadata": {},
     "output_type": "display_data"
    },
    {
     "data": {
      "text/html": [
       "<pre>| 2035         | 8243785 | 50.2345     | 16.16s       |</pre>"
      ],
      "text/plain": [
       "| 2035         | 8243785 | 50.2345     | 16.16s       |"
      ]
     },
     "metadata": {},
     "output_type": "display_data"
    },
    {
     "data": {
      "text/html": [
       "<pre>| 2140         | 8669140 | 52.8265     | 17.16s       |</pre>"
      ],
      "text/plain": [
       "| 2140         | 8669140 | 52.8265     | 17.16s       |"
      ]
     },
     "metadata": {},
     "output_type": "display_data"
    },
    {
     "data": {
      "text/html": [
       "<pre>| 2230         | 9033730 | 55.0481     | 18.17s       |</pre>"
      ],
      "text/plain": [
       "| 2230         | 9033730 | 55.0481     | 18.17s       |"
      ]
     },
     "metadata": {},
     "output_type": "display_data"
    },
    {
     "data": {
      "text/html": [
       "<pre>| 2375         | 9621125 | 58.6275     | 19.15s       |</pre>"
      ],
      "text/plain": [
       "| 2375         | 9621125 | 58.6275     | 19.15s       |"
      ]
     },
     "metadata": {},
     "output_type": "display_data"
    },
    {
     "data": {
      "text/html": [
       "<pre>| 2556         | 1e+07   | 63.0955     | 20.20s       |</pre>"
      ],
      "text/plain": [
       "| 2556         | 1e+07   | 63.0955     | 20.20s       |"
      ]
     },
     "metadata": {},
     "output_type": "display_data"
    },
    {
     "data": {
      "text/html": [
       "<pre>| 2692         | 1.1e+07 | 66.4527     | 21.16s       |</pre>"
      ],
      "text/plain": [
       "| 2692         | 1.1e+07 | 66.4527     | 21.16s       |"
      ]
     },
     "metadata": {},
     "output_type": "display_data"
    },
    {
     "data": {
      "text/html": [
       "<pre>| 2880         | 1.2e+07 | 71.0936     | 22.19s       |</pre>"
      ],
      "text/plain": [
       "| 2880         | 1.2e+07 | 71.0936     | 22.19s       |"
      ]
     },
     "metadata": {},
     "output_type": "display_data"
    },
    {
     "data": {
      "text/html": [
       "<pre>| 3017         | 1.2e+07 | 74.4754     | 23.16s       |</pre>"
      ],
      "text/plain": [
       "| 3017         | 1.2e+07 | 74.4754     | 23.16s       |"
      ]
     },
     "metadata": {},
     "output_type": "display_data"
    },
    {
     "data": {
      "text/html": [
       "<pre>| 3156         | 1.3e+07 | 77.9067     | 24.16s       |</pre>"
      ],
      "text/plain": [
       "| 3156         | 1.3e+07 | 77.9067     | 24.16s       |"
      ]
     },
     "metadata": {},
     "output_type": "display_data"
    },
    {
     "data": {
      "text/html": [
       "<pre>| 3286         | 1.3e+07 | 81.1158     | 25.16s       |</pre>"
      ],
      "text/plain": [
       "| 3286         | 1.3e+07 | 81.1158     | 25.16s       |"
      ]
     },
     "metadata": {},
     "output_type": "display_data"
    },
    {
     "data": {
      "text/html": [
       "<pre>| 3437         | 1.4e+07 | 84.8432     | 26.16s       |</pre>"
      ],
      "text/plain": [
       "| 3437         | 1.4e+07 | 84.8432     | 26.16s       |"
      ]
     },
     "metadata": {},
     "output_type": "display_data"
    },
    {
     "data": {
      "text/html": [
       "<pre>| 3569         | 1.4e+07 | 88.1017     | 27.16s       |</pre>"
      ],
      "text/plain": [
       "| 3569         | 1.4e+07 | 88.1017     | 27.16s       |"
      ]
     },
     "metadata": {},
     "output_type": "display_data"
    },
    {
     "data": {
      "text/html": [
       "<pre>| 3725         | 1.5e+07 | 91.9526     | 28.16s       |</pre>"
      ],
      "text/plain": [
       "| 3725         | 1.5e+07 | 91.9526     | 28.16s       |"
      ]
     },
     "metadata": {},
     "output_type": "display_data"
    },
    {
     "data": {
      "text/html": [
       "<pre>| 3843         | 1.6e+07 | 94.8655     | 29.16s       |</pre>"
      ],
      "text/plain": [
       "| 3843         | 1.6e+07 | 94.8655     | 29.16s       |"
      ]
     },
     "metadata": {},
     "output_type": "display_data"
    },
    {
     "data": {
      "text/html": [
       "<pre>| 4010         | 1.6e+07 | 98.9879     | 30.17s       |</pre>"
      ],
      "text/plain": [
       "| 4010         | 1.6e+07 | 98.9879     | 30.17s       |"
      ]
     },
     "metadata": {},
     "output_type": "display_data"
    },
    {
     "data": {
      "text/html": [
       "<pre>| Done         |         | 100         | 30.58s       |</pre>"
      ],
      "text/plain": [
       "| Done         |         | 100         | 30.58s       |"
      ]
     },
     "metadata": {},
     "output_type": "display_data"
    },
    {
     "data": {
      "text/html": [
       "<pre>+--------------+---------+-------------+--------------+</pre>"
      ],
      "text/plain": [
       "+--------------+---------+-------------+--------------+"
      ]
     },
     "metadata": {},
     "output_type": "display_data"
    },
    {
     "data": {
      "text/html": [
       "<pre>Preparing data set.</pre>"
      ],
      "text/plain": [
       "Preparing data set."
      ]
     },
     "metadata": {},
     "output_type": "display_data"
    },
    {
     "data": {
      "text/html": [
       "<pre>    Data has 0 observations with 0 users and 4051 items.</pre>"
      ],
      "text/plain": [
       "    Data has 0 observations with 0 users and 4051 items."
      ]
     },
     "metadata": {},
     "output_type": "display_data"
    },
    {
     "data": {
      "text/html": [
       "<pre>    Data prepared in: 0.583349s</pre>"
      ],
      "text/plain": [
       "    Data prepared in: 0.583349s"
      ]
     },
     "metadata": {},
     "output_type": "display_data"
    },
    {
     "data": {
      "text/html": [
       "<pre>Loading user-provided nearest items.</pre>"
      ],
      "text/plain": [
       "Loading user-provided nearest items."
      ]
     },
     "metadata": {},
     "output_type": "display_data"
    },
    {
     "data": {
      "text/html": [
       "<pre>Generating candidate set for working with new users.</pre>"
      ],
      "text/plain": [
       "Generating candidate set for working with new users."
      ]
     },
     "metadata": {},
     "output_type": "display_data"
    },
    {
     "data": {
      "text/html": [
       "<pre>Finished training in 0.016737s</pre>"
      ],
      "text/plain": [
       "Finished training in 0.016737s"
      ]
     },
     "metadata": {},
     "output_type": "display_data"
    }
   ],
   "source": [
    "content_rec = graphlab.recommender.item_content_recommender.create(data_sf, \"business_id\")"
   ]
  },
  {
   "cell_type": "code",
   "execution_count": 41,
   "metadata": {
    "collapsed": false
   },
   "outputs": [
    {
     "data": {
      "text/html": [
       "<div style=\"max-height:1000px;max-width:1500px;overflow:auto;\"><table frame=\"box\" rules=\"cols\">\n",
       "    <tr>\n",
       "        <th style=\"padding-left: 1em; padding-right: 1em; text-align: center\">business_id</th>\n",
       "        <th style=\"padding-left: 1em; padding-right: 1em; text-align: center\">score</th>\n",
       "        <th style=\"padding-left: 1em; padding-right: 1em; text-align: center\">rank</th>\n",
       "    </tr>\n",
       "    <tr>\n",
       "        <td style=\"padding-left: 1em; padding-right: 1em; text-align: center; vertical-align: top\">uWECX6-Uq9n8v5ipk9R29A</td>\n",
       "        <td style=\"padding-left: 1em; padding-right: 1em; text-align: center; vertical-align: top\">0.942015171051</td>\n",
       "        <td style=\"padding-left: 1em; padding-right: 1em; text-align: center; vertical-align: top\">1</td>\n",
       "    </tr>\n",
       "    <tr>\n",
       "        <td style=\"padding-left: 1em; padding-right: 1em; text-align: center; vertical-align: top\">TT658qQinO6MBHP9q7rJ8w</td>\n",
       "        <td style=\"padding-left: 1em; padding-right: 1em; text-align: center; vertical-align: top\">0.941025078297</td>\n",
       "        <td style=\"padding-left: 1em; padding-right: 1em; text-align: center; vertical-align: top\">2</td>\n",
       "    </tr>\n",
       "    <tr>\n",
       "        <td style=\"padding-left: 1em; padding-right: 1em; text-align: center; vertical-align: top\">p3YqOYELqXtLyHz9T49p_w</td>\n",
       "        <td style=\"padding-left: 1em; padding-right: 1em; text-align: center; vertical-align: top\">0.910501003265</td>\n",
       "        <td style=\"padding-left: 1em; padding-right: 1em; text-align: center; vertical-align: top\">3</td>\n",
       "    </tr>\n",
       "    <tr>\n",
       "        <td style=\"padding-left: 1em; padding-right: 1em; text-align: center; vertical-align: top\">zcScEL0WEdFkROcnz5379g</td>\n",
       "        <td style=\"padding-left: 1em; padding-right: 1em; text-align: center; vertical-align: top\">0.909703612328</td>\n",
       "        <td style=\"padding-left: 1em; padding-right: 1em; text-align: center; vertical-align: top\">4</td>\n",
       "    </tr>\n",
       "    <tr>\n",
       "        <td style=\"padding-left: 1em; padding-right: 1em; text-align: center; vertical-align: top\">L2W0QLXIIR5MEmhQwZk-iA</td>\n",
       "        <td style=\"padding-left: 1em; padding-right: 1em; text-align: center; vertical-align: top\">0.908503472805</td>\n",
       "        <td style=\"padding-left: 1em; padding-right: 1em; text-align: center; vertical-align: top\">5</td>\n",
       "    </tr>\n",
       "    <tr>\n",
       "        <td style=\"padding-left: 1em; padding-right: 1em; text-align: center; vertical-align: top\">5TY6bUT3bbl9aHItiIXXqw</td>\n",
       "        <td style=\"padding-left: 1em; padding-right: 1em; text-align: center; vertical-align: top\">0.905634880066</td>\n",
       "        <td style=\"padding-left: 1em; padding-right: 1em; text-align: center; vertical-align: top\">6</td>\n",
       "    </tr>\n",
       "    <tr>\n",
       "        <td style=\"padding-left: 1em; padding-right: 1em; text-align: center; vertical-align: top\">UNI1agsPX2k3eJSJVB91nw</td>\n",
       "        <td style=\"padding-left: 1em; padding-right: 1em; text-align: center; vertical-align: top\">0.885742247105</td>\n",
       "        <td style=\"padding-left: 1em; padding-right: 1em; text-align: center; vertical-align: top\">7</td>\n",
       "    </tr>\n",
       "    <tr>\n",
       "        <td style=\"padding-left: 1em; padding-right: 1em; text-align: center; vertical-align: top\">VPO8pBUwYz1u6GoG0d2U-Q</td>\n",
       "        <td style=\"padding-left: 1em; padding-right: 1em; text-align: center; vertical-align: top\">0.877820253372</td>\n",
       "        <td style=\"padding-left: 1em; padding-right: 1em; text-align: center; vertical-align: top\">8</td>\n",
       "    </tr>\n",
       "    <tr>\n",
       "        <td style=\"padding-left: 1em; padding-right: 1em; text-align: center; vertical-align: top\">6uV3KMOo8YQofuNUs4D9pA</td>\n",
       "        <td style=\"padding-left: 1em; padding-right: 1em; text-align: center; vertical-align: top\">0.864193558693</td>\n",
       "        <td style=\"padding-left: 1em; padding-right: 1em; text-align: center; vertical-align: top\">9</td>\n",
       "    </tr>\n",
       "    <tr>\n",
       "        <td style=\"padding-left: 1em; padding-right: 1em; text-align: center; vertical-align: top\">L_ZLtfHvfzfoNVQ0-okTXg</td>\n",
       "        <td style=\"padding-left: 1em; padding-right: 1em; text-align: center; vertical-align: top\">0.863706588745</td>\n",
       "        <td style=\"padding-left: 1em; padding-right: 1em; text-align: center; vertical-align: top\">10</td>\n",
       "    </tr>\n",
       "</table>\n",
       "[10 rows x 3 columns]<br/>\n",
       "</div>"
      ],
      "text/plain": [
       "Columns:\n",
       "\tbusiness_id\tstr\n",
       "\tscore\tfloat\n",
       "\trank\tint\n",
       "\n",
       "Rows: 10\n",
       "\n",
       "Data:\n",
       "+------------------------+----------------+------+\n",
       "|      business_id       |     score      | rank |\n",
       "+------------------------+----------------+------+\n",
       "| uWECX6-Uq9n8v5ipk9R29A | 0.942015171051 |  1   |\n",
       "| TT658qQinO6MBHP9q7rJ8w | 0.941025078297 |  2   |\n",
       "| p3YqOYELqXtLyHz9T49p_w | 0.910501003265 |  3   |\n",
       "| zcScEL0WEdFkROcnz5379g | 0.909703612328 |  4   |\n",
       "| L2W0QLXIIR5MEmhQwZk-iA | 0.908503472805 |  5   |\n",
       "| 5TY6bUT3bbl9aHItiIXXqw | 0.905634880066 |  6   |\n",
       "| UNI1agsPX2k3eJSJVB91nw | 0.885742247105 |  7   |\n",
       "| VPO8pBUwYz1u6GoG0d2U-Q | 0.877820253372 |  8   |\n",
       "| 6uV3KMOo8YQofuNUs4D9pA | 0.864193558693 |  9   |\n",
       "| L_ZLtfHvfzfoNVQ0-okTXg | 0.863706588745 |  10  |\n",
       "+------------------------+----------------+------+\n",
       "[10 rows x 3 columns]"
      ]
     },
     "execution_count": 41,
     "metadata": {},
     "output_type": "execute_result"
    }
   ],
   "source": [
    "# make recommendation for a single item\n",
    "sample_item = [df_rec.iloc[7].business_id]   # select the third business_id as the sample item\n",
    "content_rec.recommend_from_interactions(sample_item) # recommendation from single item"
   ]
  },
  {
   "cell_type": "code",
   "execution_count": 42,
   "metadata": {
    "collapsed": false
   },
   "outputs": [
    {
     "data": {
      "text/html": [
       "<div>\n",
       "<table border=\"1\" class=\"dataframe\">\n",
       "  <thead>\n",
       "    <tr style=\"text-align: right;\">\n",
       "      <th></th>\n",
       "      <th>business_id</th>\n",
       "      <th>similar</th>\n",
       "      <th>score</th>\n",
       "      <th>rank</th>\n",
       "    </tr>\n",
       "  </thead>\n",
       "  <tbody>\n",
       "    <tr>\n",
       "      <th>0</th>\n",
       "      <td>--9e1ONYQuAa-CB_Rrw7Tw</td>\n",
       "      <td>uWECX6-Uq9n8v5ipk9R29A</td>\n",
       "      <td>0.942015</td>\n",
       "      <td>1</td>\n",
       "    </tr>\n",
       "    <tr>\n",
       "      <th>1</th>\n",
       "      <td>--9e1ONYQuAa-CB_Rrw7Tw</td>\n",
       "      <td>TT658qQinO6MBHP9q7rJ8w</td>\n",
       "      <td>0.941025</td>\n",
       "      <td>2</td>\n",
       "    </tr>\n",
       "    <tr>\n",
       "      <th>2</th>\n",
       "      <td>--9e1ONYQuAa-CB_Rrw7Tw</td>\n",
       "      <td>p3YqOYELqXtLyHz9T49p_w</td>\n",
       "      <td>0.910501</td>\n",
       "      <td>3</td>\n",
       "    </tr>\n",
       "    <tr>\n",
       "      <th>3</th>\n",
       "      <td>--9e1ONYQuAa-CB_Rrw7Tw</td>\n",
       "      <td>zcScEL0WEdFkROcnz5379g</td>\n",
       "      <td>0.909704</td>\n",
       "      <td>4</td>\n",
       "    </tr>\n",
       "    <tr>\n",
       "      <th>4</th>\n",
       "      <td>--9e1ONYQuAa-CB_Rrw7Tw</td>\n",
       "      <td>L2W0QLXIIR5MEmhQwZk-iA</td>\n",
       "      <td>0.908503</td>\n",
       "      <td>5</td>\n",
       "    </tr>\n",
       "  </tbody>\n",
       "</table>\n",
       "</div>"
      ],
      "text/plain": [
       "              business_id                 similar     score  rank\n",
       "0  --9e1ONYQuAa-CB_Rrw7Tw  uWECX6-Uq9n8v5ipk9R29A  0.942015     1\n",
       "1  --9e1ONYQuAa-CB_Rrw7Tw  TT658qQinO6MBHP9q7rJ8w  0.941025     2\n",
       "2  --9e1ONYQuAa-CB_Rrw7Tw  p3YqOYELqXtLyHz9T49p_w  0.910501     3\n",
       "3  --9e1ONYQuAa-CB_Rrw7Tw  zcScEL0WEdFkROcnz5379g  0.909704     4\n",
       "4  --9e1ONYQuAa-CB_Rrw7Tw  L2W0QLXIIR5MEmhQwZk-iA  0.908503     5"
      ]
     },
     "execution_count": 42,
     "metadata": {},
     "output_type": "execute_result"
    }
   ],
   "source": [
    "# similar items per item (recommend top 10 for each)\n",
    "similar_items_df = content_rec.get_similar_items().to_dataframe()\n",
    "similar_items_df.head()"
   ]
  },
  {
   "cell_type": "code",
   "execution_count": null,
   "metadata": {
    "collapsed": true
   },
   "outputs": [],
   "source": []
  },
  {
   "cell_type": "code",
   "execution_count": null,
   "metadata": {
    "collapsed": true
   },
   "outputs": [],
   "source": []
  },
  {
   "cell_type": "code",
   "execution_count": 44,
   "metadata": {
    "collapsed": false
   },
   "outputs": [],
   "source": [
    "# make recommendation for a sample user\n",
    "df_favored = df_rec[df_rec.stars > 4] # select favored restuarants for a sample user, means he gives over 4 stars\n",
    "bid_favored = df_favored[df_favored.user_id == df_favored.user_id.iloc[0]] # select the favored restaurants for the first user_id"
   ]
  },
  {
   "cell_type": "code",
   "execution_count": 57,
   "metadata": {
    "collapsed": false
   },
   "outputs": [
    {
     "data": {
      "text/plain": [
       "27740    fZM-vnMe00UbFbbo03uSDQ\n",
       "27741    4oJeSkScjPxuDC_LeK3KiQ\n",
       "0        uWECX6-Uq9n8v5ipk9R29A\n",
       "1        TT658qQinO6MBHP9q7rJ8w\n",
       "27742    5QNXZcclknB2PkfeN7FJWQ\n",
       "Name: similar, dtype: object"
      ]
     },
     "execution_count": 57,
     "metadata": {},
     "output_type": "execute_result"
    }
   ],
   "source": [
    "# first select favored restaurants' similar items\n",
    "# second sort those restaurants, then got top 5\n",
    "similar_items_df[similar_items_df['business_id'].isin(bid_favored.business_id)].sort_values('score',ascending=False).similar[:5]"
   ]
  }
 ],
 "metadata": {
  "anaconda-cloud": {},
  "kernelspec": {
   "display_name": "Python 2",
   "language": "python",
   "name": "python2"
  },
  "language_info": {
   "codemirror_mode": {
    "name": "ipython",
    "version": 2
   },
   "file_extension": ".py",
   "mimetype": "text/x-python",
   "name": "python",
   "nbconvert_exporter": "python",
   "pygments_lexer": "ipython2",
   "version": "2.7.11"
  }
 },
 "nbformat": 4,
 "nbformat_minor": 1
}
