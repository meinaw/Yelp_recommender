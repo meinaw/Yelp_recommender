{
 "cells": [
  {
   "cell_type": "markdown",
   "metadata": {},
   "source": [
    "# Yelp Data Challenge - Clustering and PCA\n",
    "\n",
    "BitTiger DS501\n",
    "\n",
    "Nov 2017"
   ]
  },
  {
   "cell_type": "code",
   "execution_count": 20,
   "metadata": {},
   "outputs": [],
   "source": [
    "import pandas as pd\n",
    "import numpy as np\n",
    "import matplotlib.pyplot as plt\n",
    "% matplotlib inline\n",
    "plt.style.use(\"ggplot\")"
   ]
  },
  {
   "cell_type": "code",
   "execution_count": 21,
   "metadata": {},
   "outputs": [],
   "source": [
    "df = pd.read_csv('dataset/last_1_years_restaurant_reviews.csv')"
   ]
  },
  {
   "cell_type": "code",
   "execution_count": 22,
   "metadata": {},
   "outputs": [
    {
     "data": {
      "text/html": [
       "<div>\n",
       "<style scoped>\n",
       "    .dataframe tbody tr th:only-of-type {\n",
       "        vertical-align: middle;\n",
       "    }\n",
       "\n",
       "    .dataframe tbody tr th {\n",
       "        vertical-align: top;\n",
       "    }\n",
       "\n",
       "    .dataframe thead th {\n",
       "        text-align: right;\n",
       "    }\n",
       "</style>\n",
       "<table border=\"1\" class=\"dataframe\">\n",
       "  <thead>\n",
       "    <tr style=\"text-align: right;\">\n",
       "      <th></th>\n",
       "      <th>business_id</th>\n",
       "      <th>name</th>\n",
       "      <th>categories</th>\n",
       "      <th>avg_stars</th>\n",
       "      <th>cool</th>\n",
       "      <th>date</th>\n",
       "      <th>funny</th>\n",
       "      <th>review_id</th>\n",
       "      <th>stars</th>\n",
       "      <th>text</th>\n",
       "      <th>useful</th>\n",
       "      <th>user_id</th>\n",
       "    </tr>\n",
       "  </thead>\n",
       "  <tbody>\n",
       "    <tr>\n",
       "      <th>0</th>\n",
       "      <td>--9e1ONYQuAa-CB_Rrw7Tw</td>\n",
       "      <td>Delmonico Steakhouse</td>\n",
       "      <td>[Cajun/Creole, Steakhouses, Restaurants]</td>\n",
       "      <td>4.0</td>\n",
       "      <td>0</td>\n",
       "      <td>2017-02-14</td>\n",
       "      <td>0</td>\n",
       "      <td>Xp3ppynEvVu1KxDHQ3ae8w</td>\n",
       "      <td>5</td>\n",
       "      <td>Delmonico Steakhouse is a steakhouse owned by ...</td>\n",
       "      <td>0</td>\n",
       "      <td>KC8H7qTZVPIEnanw9fG43g</td>\n",
       "    </tr>\n",
       "    <tr>\n",
       "      <th>1</th>\n",
       "      <td>--9e1ONYQuAa-CB_Rrw7Tw</td>\n",
       "      <td>Delmonico Steakhouse</td>\n",
       "      <td>[Cajun/Creole, Steakhouses, Restaurants]</td>\n",
       "      <td>4.0</td>\n",
       "      <td>1</td>\n",
       "      <td>2017-05-28</td>\n",
       "      <td>0</td>\n",
       "      <td>LEzphAnz0vKE32PUCbjLgQ</td>\n",
       "      <td>4</td>\n",
       "      <td>One of the top steak places I've had in Vegas ...</td>\n",
       "      <td>2</td>\n",
       "      <td>3RTesI_MAwct13LWm4rhLw</td>\n",
       "    </tr>\n",
       "    <tr>\n",
       "      <th>2</th>\n",
       "      <td>--9e1ONYQuAa-CB_Rrw7Tw</td>\n",
       "      <td>Delmonico Steakhouse</td>\n",
       "      <td>[Cajun/Creole, Steakhouses, Restaurants]</td>\n",
       "      <td>4.0</td>\n",
       "      <td>0</td>\n",
       "      <td>2017-08-25</td>\n",
       "      <td>0</td>\n",
       "      <td>4e-cxYVdlIu2ZDxVJqUfOQ</td>\n",
       "      <td>5</td>\n",
       "      <td>This place is superb from the customer service...</td>\n",
       "      <td>0</td>\n",
       "      <td>EAOt1UQhJD0GG3l_jv7rWA</td>\n",
       "    </tr>\n",
       "    <tr>\n",
       "      <th>3</th>\n",
       "      <td>--9e1ONYQuAa-CB_Rrw7Tw</td>\n",
       "      <td>Delmonico Steakhouse</td>\n",
       "      <td>[Cajun/Creole, Steakhouses, Restaurants]</td>\n",
       "      <td>4.0</td>\n",
       "      <td>1</td>\n",
       "      <td>2017-02-12</td>\n",
       "      <td>1</td>\n",
       "      <td>heZd0W3HuPJxZBrCYD3wDw</td>\n",
       "      <td>2</td>\n",
       "      <td>Lousy steak. \\n\\nThe service was great - Todd,...</td>\n",
       "      <td>3</td>\n",
       "      <td>OtKA03ALQQ1CBhtaJod_Jw</td>\n",
       "    </tr>\n",
       "    <tr>\n",
       "      <th>4</th>\n",
       "      <td>--9e1ONYQuAa-CB_Rrw7Tw</td>\n",
       "      <td>Delmonico Steakhouse</td>\n",
       "      <td>[Cajun/Creole, Steakhouses, Restaurants]</td>\n",
       "      <td>4.0</td>\n",
       "      <td>0</td>\n",
       "      <td>2017-12-10</td>\n",
       "      <td>0</td>\n",
       "      <td>exzXjy7Y2ICX_BEVTDWpJA</td>\n",
       "      <td>5</td>\n",
       "      <td>I got the filet mignon with seared foigras and...</td>\n",
       "      <td>0</td>\n",
       "      <td>Ymtd4cQypep_QZJ-qJsHuA</td>\n",
       "    </tr>\n",
       "  </tbody>\n",
       "</table>\n",
       "</div>"
      ],
      "text/plain": [
       "              business_id                  name  \\\n",
       "0  --9e1ONYQuAa-CB_Rrw7Tw  Delmonico Steakhouse   \n",
       "1  --9e1ONYQuAa-CB_Rrw7Tw  Delmonico Steakhouse   \n",
       "2  --9e1ONYQuAa-CB_Rrw7Tw  Delmonico Steakhouse   \n",
       "3  --9e1ONYQuAa-CB_Rrw7Tw  Delmonico Steakhouse   \n",
       "4  --9e1ONYQuAa-CB_Rrw7Tw  Delmonico Steakhouse   \n",
       "\n",
       "                                 categories  avg_stars  cool        date  \\\n",
       "0  [Cajun/Creole, Steakhouses, Restaurants]        4.0     0  2017-02-14   \n",
       "1  [Cajun/Creole, Steakhouses, Restaurants]        4.0     1  2017-05-28   \n",
       "2  [Cajun/Creole, Steakhouses, Restaurants]        4.0     0  2017-08-25   \n",
       "3  [Cajun/Creole, Steakhouses, Restaurants]        4.0     1  2017-02-12   \n",
       "4  [Cajun/Creole, Steakhouses, Restaurants]        4.0     0  2017-12-10   \n",
       "\n",
       "   funny               review_id  stars  \\\n",
       "0      0  Xp3ppynEvVu1KxDHQ3ae8w      5   \n",
       "1      0  LEzphAnz0vKE32PUCbjLgQ      4   \n",
       "2      0  4e-cxYVdlIu2ZDxVJqUfOQ      5   \n",
       "3      1  heZd0W3HuPJxZBrCYD3wDw      2   \n",
       "4      0  exzXjy7Y2ICX_BEVTDWpJA      5   \n",
       "\n",
       "                                                text  useful  \\\n",
       "0  Delmonico Steakhouse is a steakhouse owned by ...       0   \n",
       "1  One of the top steak places I've had in Vegas ...       2   \n",
       "2  This place is superb from the customer service...       0   \n",
       "3  Lousy steak. \\n\\nThe service was great - Todd,...       3   \n",
       "4  I got the filet mignon with seared foigras and...       0   \n",
       "\n",
       "                  user_id  \n",
       "0  KC8H7qTZVPIEnanw9fG43g  \n",
       "1  3RTesI_MAwct13LWm4rhLw  \n",
       "2  EAOt1UQhJD0GG3l_jv7rWA  \n",
       "3  OtKA03ALQQ1CBhtaJod_Jw  \n",
       "4  Ymtd4cQypep_QZJ-qJsHuA  "
      ]
     },
     "execution_count": 22,
     "metadata": {},
     "output_type": "execute_result"
    }
   ],
   "source": [
    "df.head()"
   ]
  },
  {
   "cell_type": "markdown",
   "metadata": {},
   "source": [
    "## 1. Cluster the review text data for all the restaurants"
   ]
  },
  {
   "cell_type": "markdown",
   "metadata": {},
   "source": [
    "### Define your feature variables, here is the text of the review"
   ]
  },
  {
   "cell_type": "code",
   "execution_count": 23,
   "metadata": {},
   "outputs": [],
   "source": [
    "# Take the values of the column that contains review text data, save to a variable named \"documents\"\n",
    "documents = df['text'].values"
   ]
  },
  {
   "cell_type": "markdown",
   "metadata": {},
   "source": [
    "### Define your target variable (any categorical variable that may be meaningful)"
   ]
  },
  {
   "cell_type": "markdown",
   "metadata": {},
   "source": [
    "#### For example, I am interested in perfect (5 stars) and imperfect (1-4 stars) rating"
   ]
  },
  {
   "cell_type": "code",
   "execution_count": 24,
   "metadata": {},
   "outputs": [],
   "source": [
    "# Make a column and take the values, save to a variable named \"target\"\n",
    "df['favorable'] = (df['stars'] > 4)\n",
    "target = df['favorable'].values"
   ]
  },
  {
   "cell_type": "markdown",
   "metadata": {},
   "source": [
    "#### You may want to look at the statistic of the target variable"
   ]
  },
  {
   "cell_type": "code",
   "execution_count": 25,
   "metadata": {},
   "outputs": [
    {
     "data": {
      "text/plain": [
       "0.49041002371746206"
      ]
     },
     "execution_count": 25,
     "metadata": {},
     "output_type": "execute_result"
    }
   ],
   "source": [
    "# To be implemented\n",
    "target.mean()"
   ]
  },
  {
   "cell_type": "markdown",
   "metadata": {},
   "source": [
    "### Create training dataset and test dataset"
   ]
  },
  {
   "cell_type": "code",
   "execution_count": 26,
   "metadata": {},
   "outputs": [],
   "source": [
    "from sklearn.cross_validation import train_test_split"
   ]
  },
  {
   "cell_type": "code",
   "execution_count": 27,
   "metadata": {},
   "outputs": [],
   "source": [
    "# documents is your X, target is your y\n",
    "# Now split the data to training set and test set\n",
    "# You may want to start with a big \"test_size\", since large training set can easily crash your laptop.\n",
    "documents_train, documents_test, target_train, target_test = train_test_split(\n",
    "    documents,\n",
    "    target,\n",
    "    test_size = 0.4,\n",
    "    random_state = 7\n",
    ")"
   ]
  },
  {
   "cell_type": "markdown",
   "metadata": {},
   "source": [
    "### Get NLP representation of the documents\n",
    "\n",
    "#### Fit TfidfVectorizer with training data only, then tranform all the data to tf-idf"
   ]
  },
  {
   "cell_type": "code",
   "execution_count": 28,
   "metadata": {},
   "outputs": [],
   "source": [
    "from sklearn.feature_extraction.text import TfidfVectorizer"
   ]
  },
  {
   "cell_type": "code",
   "execution_count": 29,
   "metadata": {},
   "outputs": [],
   "source": [
    "# Create TfidfVectorizer, and name it vectorizer, choose a reasonable max_features, e.g. 1000\n",
    "vectorizer = TfidfVectorizer(stop_words='english', max_features=5000)"
   ]
  },
  {
   "cell_type": "code",
   "execution_count": 30,
   "metadata": {},
   "outputs": [],
   "source": [
    "# Train the model with your training data\n",
    "vectors_train = vectorizer.fit_transform(documents_train).toarray()"
   ]
  },
  {
   "cell_type": "code",
   "execution_count": 31,
   "metadata": {},
   "outputs": [],
   "source": [
    "# Get the vocab of your tfidf\n",
    "words = vectorizer.get_feature_names()"
   ]
  },
  {
   "cell_type": "code",
   "execution_count": 32,
   "metadata": {},
   "outputs": [],
   "source": [
    "# Use the trained model to transform all the reviews\n",
    "vectors_documents = vectorizer.transform(documents).toarray()"
   ]
  },
  {
   "cell_type": "markdown",
   "metadata": {},
   "source": [
    "### Cluster reviews with KMeans"
   ]
  },
  {
   "cell_type": "markdown",
   "metadata": {},
   "source": [
    "#### Fit k-means clustering with the training vectors and apply it on all the data"
   ]
  },
  {
   "cell_type": "code",
   "execution_count": 33,
   "metadata": {},
   "outputs": [
    {
     "data": {
      "text/plain": [
       "KMeans(algorithm='auto', copy_x=True, init='k-means++', max_iter=300,\n",
       "    n_clusters=8, n_init=10, n_jobs=1, precompute_distances='auto',\n",
       "    random_state=None, tol=0.0001, verbose=0)"
      ]
     },
     "execution_count": 33,
     "metadata": {},
     "output_type": "execute_result"
    }
   ],
   "source": [
    "# To be implemented\n",
    "from sklearn.cluster import KMeans\n",
    "kmeans = KMeans()\n",
    "kmeans.fit(vectors_train)"
   ]
  },
  {
   "cell_type": "markdown",
   "metadata": {},
   "source": [
    "#### Make predictions on all your data"
   ]
  },
  {
   "cell_type": "code",
   "execution_count": 34,
   "metadata": {},
   "outputs": [],
   "source": [
    "# To be implemented\n",
    "assigned_cluster = kmeans.predict(vectors_documents)"
   ]
  },
  {
   "cell_type": "code",
   "execution_count": 36,
   "metadata": {},
   "outputs": [
    {
     "name": "stdout",
     "output_type": "stream",
     "text": [
      "[4 4 6 ... 0 6 4]\n"
     ]
    }
   ],
   "source": [
    "print assigned_cluster"
   ]
  },
  {
   "cell_type": "markdown",
   "metadata": {},
   "source": [
    "#### Inspect the centroids\n",
    "To find out what \"topics\" Kmeans has discovered we must inspect the centroids. Print out the centroids of the Kmeans clustering.\n",
    "\n",
    "   These centroids are simply a bunch of vectors.  To make any sense of them we need to map these vectors back into our 'word space'.  Think of each feature/dimension of the centroid vector as representing the \"average\" review or the average occurances of words for that cluster."
   ]
  },
  {
   "cell_type": "code",
   "execution_count": 35,
   "metadata": {},
   "outputs": [
    {
     "name": "stdout",
     "output_type": "stream",
     "text": [
      "[[ 1.85716540e-03  9.22793628e-05  2.01704809e-04 ...  8.68565917e-04\n",
      "   2.36119689e-04  1.03269483e-03]\n",
      " [ 1.20026254e-03  4.29657360e-05  2.54741548e-04 ...  5.11664420e-04\n",
      "   4.63203560e-05  4.26470838e-04]\n",
      " [ 3.81910188e-03  1.55799943e-04  6.17079054e-04 ...  3.25583421e-03\n",
      "   1.31270226e-04  3.35319538e-04]\n",
      " ...\n",
      " [ 2.56579480e-03  3.56248369e-04  1.41219516e-04 ...  7.87062341e-04\n",
      "  -4.58075418e-18  2.27304700e-03]\n",
      " [ 5.18841438e-04  6.23602170e-05  9.21480365e-05 ...  2.23789680e-04\n",
      "   5.04020327e-05  3.02964531e-04]\n",
      " [ 1.96645902e-03 -5.01443505e-18  3.27325752e-04 ...  4.03628013e-04\n",
      "   5.40080371e-05  1.19364774e-04]]\n"
     ]
    }
   ],
   "source": [
    "# To be implemented\n",
    "print kmeans.cluster_centers_"
   ]
  },
  {
   "cell_type": "markdown",
   "metadata": {},
   "source": [
    "#### Find the top 10 features for each cluster.\n",
    "For topics we are only really interested in the most present words, i.e. features/dimensions with the greatest representation in the centroid.  Print out the top ten words for each centroid.\n",
    "\n",
    "* Sort each centroid vector to find the top 10 features\n",
    "* Go back to your vectorizer object to find out what words each of these features corresponds to.\n"
   ]
  },
  {
   "cell_type": "code",
   "execution_count": 37,
   "metadata": {},
   "outputs": [
    {
     "data": {
      "text/plain": [
       "array([ 1.25023142, -0.91470511,  1.41091291, -2.4033886 , -0.73543354,\n",
       "        0.94267213, -0.13778726,  0.61215979,  0.92328027,  0.3113292 ])"
      ]
     },
     "execution_count": 37,
     "metadata": {},
     "output_type": "execute_result"
    }
   ],
   "source": [
    "# To be implemented\n",
    "n = 10\n",
    "top_centroids = kmeans.cluster_centers_.argsort()[:,-1:-n:-1]\n",
    "\n",
    "a = np.random.randn(10)\n",
    "a"
   ]
  },
  {
   "cell_type": "code",
   "execution_count": 38,
   "metadata": {},
   "outputs": [
    {
     "name": "stdout",
     "output_type": "stream",
     "text": [
      "(0, u'chicken,fried,rice,food,good,thai,ordered,place,ramen')\n",
      "(1, u'good,food,really,place,service,nice,pretty,like,great')\n",
      "(2, u'order,food,minutes,time,just,service,came,didn,said')\n",
      "(3, u'pizza,crust,good,place,great,cheese,slice,order,best')\n",
      "(4, u'food,place,vegas,best,delicious,amazing,service,time,love')\n",
      "(5, u'burger,fries,burgers,good,place,cheese,great,food,shake')\n",
      "(6, u'great,food,service,place,amazing,friendly,definitely,awesome,love')\n",
      "(7, u'sushi,rolls,place,roll,ayce,great,good,fresh,fish')\n"
     ]
    }
   ],
   "source": [
    "for num, centroid in enumerate(top_centroids):\n",
    "    print (num,\",\".join(words[i] for i in centroid))"
   ]
  },
  {
   "cell_type": "markdown",
   "metadata": {},
   "source": [
    "#### Try different k\n",
    "If you set k == to a different number, how does the top features change?"
   ]
  },
  {
   "cell_type": "code",
   "execution_count": 39,
   "metadata": {},
   "outputs": [
    {
     "data": {
      "text/plain": [
       "KMeans(algorithm='auto', copy_x=True, init='k-means++', max_iter=300,\n",
       "    n_clusters=6, n_init=10, n_jobs=1, precompute_distances='auto',\n",
       "    random_state=None, tol=0.0001, verbose=0)"
      ]
     },
     "execution_count": 39,
     "metadata": {},
     "output_type": "execute_result"
    }
   ],
   "source": [
    "# To be implemented\n",
    "from sklearn.cluster import KMeans\n",
    "kmeans = KMeans(n_clusters=6)\n",
    "kmeans.fit(vectors_train)"
   ]
  },
  {
   "cell_type": "markdown",
   "metadata": {},
   "source": [
    "#### Print out the rating and review of a random sample of the reviews assigned to each cluster to get a sense of the cluster."
   ]
  },
  {
   "cell_type": "code",
   "execution_count": 40,
   "metadata": {},
   "outputs": [
    {
     "data": {
      "text/plain": [
       "array([0, 1, 2, 3, 4, 5, 6, 7], dtype=int32)"
      ]
     },
     "execution_count": 40,
     "metadata": {},
     "output_type": "execute_result"
    }
   ],
   "source": [
    "# To be implemented\n",
    "np.unique(assigned_cluster)"
   ]
  },
  {
   "cell_type": "code",
   "execution_count": 41,
   "metadata": {},
   "outputs": [
    {
     "name": "stdout",
     "output_type": "stream",
     "text": [
      "5 Back here again. This is truly the best fried chicken! The batter is just right with a touch of spice. Every bite is crispy on the outside and juicy in the inside. The fries are also well prepared. Freshly cooked food as you order. The different dipping sauces are a must. Try this place and I guarantee that you'll keep coming back. To top it all, Alex provides excellent service.\n",
      "1 One of the most nature friendly buffet I've ever been in to. Everything were made in the prehistoric age & put in the oven to reheat. If you think without being enraged for spending $20+ for dinner buffet, you can see, they're actually helping the nature by not wasting any food. Food from the breakfast or even leftover food from yesterday. You'll find fossils of fried shrimp, fried chicken or anything fried. The demand is so high that you should consider yourself lucky for getting half boiled rice. I was surprised to see that they got seawater in the middle of the desert to make most of their soups or other items. They finally figured out how to use perfect amount of food color to look rubber to look like beef at the curving station. I wish, they'd find a way to taste that just a bit close to beef. Most amazing is the dessert section! They already know, you won't be able to taste anything after eating those msg & salt infested, bland, dry, hard, chewy & flavorless food, that's why they have the tiniest, most unappealing & unattractive selection of pies & cakes.\n",
      "\n",
      "The only thing that we could eat was pasta from their pasta section (shout out to their pasta lady working on Wednesday night 07/05/17) & ice cream.\n",
      "\n",
      "Management stop giving damn about this place or never gave it anyway. They know already people staying here most like are gonna come anyway. So from management to employees or cook, they all just make sure they have something on the tray which I refuse to call food\n",
      "\n",
      "5 Every time we come here it feels like s small town cafe. The food has a home made feel n taste n is always good. The staff are the nicest n very polite. The prices are good n seldom crowded. A hidden family gem.\n",
      "2 I don't know what the fuss is all about. Service is slllooooooowwwwwww. Waitress was alright. Food wasn't good. I ordered the french dip. But you can use your coupons.\n",
      "\n",
      "2 Mezzo you let me down tonight. I love this place been coming here for over a year ! Took forever to get water then the waiter took our order and we never saw him again. I had the salmon , totally over cooked,  we didn't have any salt or pepper on the table and I could not get anyone's attention to get some.  Also really needed some lemon for my dry salmon but never saw our waiter again.  In all honesty it wasn't the waiters fault he was so busy. Seemed like they were totally under staffed.  Bummer for me !  Was really looking forward to a wonderful meal and a couple of glasses of wine on this Friday night !\n",
      "1 Horrible horrible management here. We were told that our convention bombarded them and their staff. When 6/8 people got their food and the other two had to wait 20 min before they realized they \"forgot\" our food and then having be told we bombarded them. Sorry do you not like money? Do you not want your business to thrive?? I wish I can give negative 5 star review. Will never come back again!!!!\n",
      "\n",
      "4 Their broasted chicken is yumm!! My husband loves fried chicken but I always find it to be too greasy. This is our compromise. I love Pizza, and this place sells it. Ive eaten here once and the customer service is good. Ive carried out the rest of the times and service varies. One time they forgot to make my order and I had to wait for that, that was not a good day. Their pizza is okay. Their cannoli are crazy sweet. Too sweet for me and I like me a good cannoli. I recommend this place. Ive always have the chicken and pizza meal. I enjoy it, my kids enjoy it, and my husband enjoys it. Good family place. Its never too busy so I enjoy jay too.\n",
      "4 This is a build your own pizza place located inside SLS Hotel. It's a bit upscale, so prices are a bit higher than most casual pizza joints.\n",
      "\n",
      "They make personal pizzas based on your order. Instead of pizza, I opted for a salad and breadsticks. Their standard breadsticks are covered in cheese and I asked if they could be made  without them. The chef asked what I wanted and made it right there. He was friendly and willing to work with me.\n",
      "\n",
      "5 If you're looking for big flavored, spicy steak along with a Vegas water show, this would be your place. It's a 5-star experience because it was immensely satisfying and unique.\n",
      "\n",
      "We had the 42oz chili rubbed ribeye. It was unbelievably flavorful, be sure to get it cooked medium as medium rare would be too raw for a steak of this size. It was basically too much for 2 people, three would be the right number. I've never had a steak like this, and it's worth the trip. So juicy, so spicy, properly seared - just amazing. Six stars. If you're not into strong, spicy flavors then stay away from this one.\n",
      "\n",
      "Roasted bone marrow appetizer - not bad at all, nicely caramelized on top, not normally my thing but it's good here. 4 stars.\n",
      "\n",
      "Sides - we opted for fries, creamed corn, and mushrooms. All were good, the creamed corn was very rich and rather sweet (it was summer and therefore sweet corn season). You can't go wrong with any of these, but please, don't order all of the above for two people as it was too much food. 4 stars apiece.\n",
      "\n",
      "We also had a couple of glasses of red wine - the house wine ($17) was okay, and the Rioja ($20) was zesty and just right for a strongly seasoned piece of meat - I recommend it. The rest of the wine list was moderately impressive in quality and frankly outrageously expensive, even by stratopheric Vegas standards. However, the above by the glass options were reasonable for Vegas so all is well. 4 stars here, too.\n",
      "\n",
      "We were seated outside by the lake and waterfall, every half hour there was a music and automated prop show in the water. This was a lot of fun and a unique environment for a steak place. Service was typical high-end Vegas, attentive and prompt. 5 stars for the show and service.\n",
      "\n",
      "Price - $270 for the above. Not cheap, but I actually expected worse and overall I am happy with the experience and my choice of SW Steakhouse for a nice night out.\n",
      "3 First the good.  Service was exceptional.  Extremely friendly, and ultra attentive.  Atmosphere was also quite nice.   The disappointing part of the evening came with the food.  Started with the yellow tail and sea bass appetizers.  Not spectacular, but certainly very good.   The high point of the meal was the watercress salad - it was truly exceptional.  Most of the main courses were very tasteless, highlighted by the miso cod.  It had virtually no flavor on its own, and with the sauce it was only slightly better.  We didn't even feel the need to finish it, something I never remember doing with any miso cod.  A mushroom side was also suggested, that was so salty, there was no trace of mushroom taste.  We ended with a roll, and very limited flavor, and what flavor was there, was not the greatest.\n",
      "\n",
      "Also not thrilled at all with the drinks.  Had two martinis - very small pours, and very little alcohol.  Tasted like I was drinking only juice.\n",
      "\n",
      "We had looked very forward to Zuma opening, as loved Blue Ribbon at Cosmo, and was looking for another choice that rivaled, Nobu, Sushisamba, etc.  Sorry to say Zuma did not even hold a candle to these.  We will not be returning.\n",
      "\n",
      "5 Most places with veg options = side salad, fries, &/or veggie burger....but not this place!\n",
      "\n",
      "You have the options of 4 diff veggie hot dogs, burgers, bacon, and chili. I love being able to grab American classics on the go. Normally I would have to make these at home but Brewhouse allows the comfort of convenience with their array of veggie friendly options.\n",
      "4 Really fresh burgers and fries. As far as fast food restaurants go, the burger ranks above the others. Too bad we don't have any near us. Good stuff, worth it for a quick bite to eat. I will say this location was packed but moved through the line quick, getting orders out quick too! Always a bonus!\n",
      "\n"
     ]
    },
    {
     "name": "stderr",
     "output_type": "stream",
     "text": [
      "/Users/meinawang/anaconda2/lib/python2.7/site-packages/ipykernel_launcher.py:5: DeprecationWarning: \n",
      ".ix is deprecated. Please use\n",
      ".loc for label based indexing or\n",
      ".iloc for positional indexing\n",
      "\n",
      "See the documentation here:\n",
      "http://pandas.pydata.org/pandas-docs/stable/indexing.html#ix-indexer-is-deprecated\n",
      "  \"\"\"\n"
     ]
    }
   ],
   "source": [
    "for i in range(kmeans.n_clusters):\n",
    "    cluster = np.arange(0, vectors_documents.shape[0])[assigned_cluster==i]\n",
    "    sample_reviews = np.random.choice(cluster, 2, replace=False)\n",
    "    for review_index in sample_reviews:\n",
    "        print df.ix[review_index]['stars'],\n",
    "        print df.ix[review_index]['text']\n",
    "    print"
   ]
  },
  {
   "cell_type": "markdown",
   "metadata": {},
   "source": [
    "## 2. Cluster all the reviews of the most reviewed restaurant\n",
    "Let's find the most reviewed restaurant and analyze its reviews"
   ]
  },
  {
   "cell_type": "code",
   "execution_count": null,
   "metadata": {},
   "outputs": [],
   "source": [
    "# Find the business who got most reviews, get your filtered df, name it df_top_restaurant\n",
    "df_unique = df.business_id.value_counts()\n",
    "df_unique\n",
    "df_top_restaurant = df[df['business_id'] == \"RESDUcs7fIiihp38-d6_6g\"]"
   ]
  },
  {
   "cell_type": "markdown",
   "metadata": {},
   "source": [
    "We can also load restaurant profile information from the business dataset (optional)"
   ]
  },
  {
   "cell_type": "code",
   "execution_count": null,
   "metadata": {},
   "outputs": [],
   "source": [
    "# Load business dataset (optional)\n",
    "# Take a look at the most reviewed restaurant's profile (optional)\n",
    "pass"
   ]
  },
  {
   "cell_type": "markdown",
   "metadata": {},
   "source": [
    "### Vectorize the text feature"
   ]
  },
  {
   "cell_type": "code",
   "execution_count": null,
   "metadata": {},
   "outputs": [],
   "source": [
    "# Take the values of the column that contains review text data, save to a variable named \"documents_top_restaurant\"\n",
    "documents_top_restaurant = df_top_restaurant['text'].values\n",
    "documents_top_restaurant.shape\n"
   ]
  },
  {
   "cell_type": "markdown",
   "metadata": {},
   "source": [
    "### Define your target variable (for later classification use)"
   ]
  },
  {
   "cell_type": "markdown",
   "metadata": {},
   "source": [
    "#### Again, we look at perfect (5 stars) and imperfect (1-4 stars) rating"
   ]
  },
  {
   "cell_type": "code",
   "execution_count": null,
   "metadata": {},
   "outputs": [],
   "source": [
    "# To be implemented\n",
    "target_top_restaurant = (df_top_restaurant['stars'] > 4).astype(int).values\n",
    "target_top_restaurant.shape"
   ]
  },
  {
   "cell_type": "markdown",
   "metadata": {},
   "source": [
    "#### Check the statistic of the target variable"
   ]
  },
  {
   "cell_type": "code",
   "execution_count": null,
   "metadata": {},
   "outputs": [],
   "source": [
    "# To be implemented\n",
    "print('statistics of the target variable')\n",
    "print('median value: %f' % (np.median(target_top_restaurant)))\n",
    "print('mean value: %f' % (np.mean(target_top_restaurant)))\n",
    "print('standard deviation value: %f' % (np.std(target_top_restaurant)))"
   ]
  },
  {
   "cell_type": "markdown",
   "metadata": {},
   "source": [
    "### Create training dataset and test dataset"
   ]
  },
  {
   "cell_type": "code",
   "execution_count": null,
   "metadata": {},
   "outputs": [],
   "source": [
    "from sklearn.cross_validation import train_test_split"
   ]
  },
  {
   "cell_type": "code",
   "execution_count": null,
   "metadata": {},
   "outputs": [],
   "source": [
    "# documents_top_restaurant is your X, target_top_restaurant is your y\n",
    "# Now split the data to training set and test set\n",
    "# Now your data is smaller, you can use a typical \"test_size\", e.g. 0.3-0.7\n",
    "x_train, x_test, y_train, y_test = train_test_split(documents_top_restaurant, target_top_restaurant, test_size=0.3, random_state=7)"
   ]
  },
  {
   "cell_type": "markdown",
   "metadata": {},
   "source": [
    "### Get NLP representation of the documents"
   ]
  },
  {
   "cell_type": "code",
   "execution_count": null,
   "metadata": {},
   "outputs": [],
   "source": [
    "from sklearn.feature_extraction.text import TfidfVectorizer"
   ]
  },
  {
   "cell_type": "code",
   "execution_count": null,
   "metadata": {},
   "outputs": [],
   "source": [
    "# Create TfidfVectorizer, and name it vectorizer\n",
    "vectorizer_top = TfidfVectorizer(stop_words = 'english', max_features = 3000)"
   ]
  },
  {
   "cell_type": "code",
   "execution_count": null,
   "metadata": {},
   "outputs": [],
   "source": [
    "# Train the model with your training data\n",
    "train_vector_top = vectorizer_top.fit_transform(x_train).toarray()"
   ]
  },
  {
   "cell_type": "code",
   "execution_count": null,
   "metadata": {},
   "outputs": [],
   "source": [
    "# Get the vocab of your tfidf\n",
    "vocab_top = vectorizer_top.get_feature_names()"
   ]
  },
  {
   "cell_type": "code",
   "execution_count": null,
   "metadata": {},
   "outputs": [],
   "source": [
    "# Use the trained model to transform the test data\n",
    "test_vector_top = vectorizer_top.fit_transform(x_test).toarray()"
   ]
  },
  {
   "cell_type": "code",
   "execution_count": null,
   "metadata": {},
   "outputs": [],
   "source": [
    "# Use the trained model to transform all the data\n",
    "doc_vector_top = vectorizer_top.transform(documents_top_restaurant).toarray()"
   ]
  },
  {
   "cell_type": "code",
   "execution_count": null,
   "metadata": {},
   "outputs": [],
   "source": [
    "doc_vector_top.shape"
   ]
  },
  {
   "cell_type": "markdown",
   "metadata": {},
   "source": [
    "### Cluster reviews with KMeans"
   ]
  },
  {
   "cell_type": "markdown",
   "metadata": {},
   "source": [
    "#### Fit k-means clustering on the training vectors and make predictions on all data"
   ]
  },
  {
   "cell_type": "code",
   "execution_count": null,
   "metadata": {},
   "outputs": [],
   "source": [
    "# To be implemented\n",
    "\n",
    "kmeans = KMeans(random_state=42)\n",
    "kmeans.fit(train_vector_top)"
   ]
  },
  {
   "cell_type": "markdown",
   "metadata": {},
   "source": [
    "#### Make predictions on all your data"
   ]
  },
  {
   "cell_type": "code",
   "execution_count": null,
   "metadata": {},
   "outputs": [],
   "source": [
    "# To be implemented\n",
    "target_labels = kmeans.predict(doc_vector_top)"
   ]
  },
  {
   "cell_type": "markdown",
   "metadata": {},
   "source": [
    "#### Inspect the centroids"
   ]
  },
  {
   "cell_type": "code",
   "execution_count": null,
   "metadata": {},
   "outputs": [],
   "source": [
    "# To be implemented\n",
    "\n",
    "print kmeans.cluster_centers_"
   ]
  },
  {
   "cell_type": "markdown",
   "metadata": {},
   "source": [
    "#### Find the top 10 features for each cluster."
   ]
  },
  {
   "cell_type": "code",
   "execution_count": null,
   "metadata": {},
   "outputs": [],
   "source": [
    "# To be implemented\n",
    "n = 10\n",
    "top_centroids = kmeans.cluster_centers_.argsort()[:,-1:-n:-1]\n",
    "\n",
    "a = np.random.randn(10)\n",
    "a"
   ]
  },
  {
   "cell_type": "code",
   "execution_count": null,
   "metadata": {},
   "outputs": [],
   "source": [
    "for num, centroid in enumerate(top_centroids):\n",
    "    print (num,\",\".join(words[i] for i in centroid))"
   ]
  },
  {
   "cell_type": "markdown",
   "metadata": {},
   "source": [
    "#### Print out the rating and review of a random sample of the reviews assigned to each cluster to get a sense of the cluster."
   ]
  },
  {
   "cell_type": "code",
   "execution_count": null,
   "metadata": {},
   "outputs": [],
   "source": [
    "# To be implemented\n",
    "for i in range(kmeans.n_clusters):\n",
    "    cluster = np.arange(0, vectors_documents.shape[0])[assigned_cluster==i]\n",
    "    sample_reviews = np.random.choice(cluster, 2, replace=False)\n",
    "    for review_index in sample_reviews:\n",
    "        print df.ix[review_index]['stars'],\n",
    "        print df.ix[review_index]['text']\n",
    "    print"
   ]
  },
  {
   "cell_type": "markdown",
   "metadata": {},
   "source": [
    "## 3. Use PCA to reduce dimensionality"
   ]
  },
  {
   "cell_type": "markdown",
   "metadata": {},
   "source": [
    "### Stardardize features\n",
    "Your X_train and X_test"
   ]
  },
  {
   "cell_type": "code",
   "execution_count": 48,
   "metadata": {
    "collapsed": true
   },
   "outputs": [],
   "source": [
    "from sklearn.preprocessing import StandardScaler\n",
    "\n",
    "# To be implemented\n",
    "ss = StandardScaler()\n",
    "doc_ss = ss.fit_transform(doc_vector_top)\n",
    "x_train_scale, x_test_scale, y_train, y_test = train_test_split(doc_ss, target_top_restaurant, test_size = 0.3, \n",
    "                                                                random_state = 42)\n"
   ]
  },
  {
   "cell_type": "markdown",
   "metadata": {},
   "source": [
    "### Use PCA to transform data (train and test) and get princial components"
   ]
  },
  {
   "cell_type": "code",
   "execution_count": 49,
   "metadata": {},
   "outputs": [
    {
     "name": "stdout",
     "output_type": "stream",
     "text": [
      "(50, 50)\n"
     ]
    }
   ],
   "source": [
    "from sklearn.decomposition import PCA\n",
    "\n",
    "# Let's pick a n_components\n",
    "n_components = 50\n",
    "\n",
    "# To be implemented\n",
    "pca = PCA(n_components=n_components)\n",
    "train_components = pca.fit_transform(x_train_scale)\n",
    "test_components = pca.transform(x_test_scale)\n",
    "explained_variance = np.sum(train_components.T.dot(train_components))\n",
    "print explained_variance\n",
    "#(train_components.T.dot(train_components).shape)\n"
   ]
  },
  {
   "cell_type": "markdown",
   "metadata": {},
   "source": [
    "### See how much (and how much percentage of) variance the principal components explain"
   ]
  },
  {
   "cell_type": "code",
   "execution_count": 50,
   "metadata": {},
   "outputs": [
    {
     "name": "stdout",
     "output_type": "stream",
     "text": [
      "[ 28.32172053  28.22278384  21.57801673  20.0753514   19.20636374\n",
      "  19.171516    17.91174146  16.8330347   16.05805784  15.27252625]\n"
     ]
    }
   ],
   "source": [
    "# To be implemented\n",
    "\n",
    "print pca.explained_variance_[:10]"
   ]
  },
  {
   "cell_type": "code",
   "execution_count": 51,
   "metadata": {},
   "outputs": [
    {
     "name": "stdout",
     "output_type": "stream",
     "text": [
      "[ 0.00961856  0.00958496  0.00732828  0.00681794  0.00652282  0.00651099\n",
      "  0.00608314  0.0057168   0.0054536   0.00518682]\n"
     ]
    }
   ],
   "source": [
    "# To be implemented\n",
    "print pca.explained_variance_ratio_[:10]"
   ]
  },
  {
   "cell_type": "markdown",
   "metadata": {},
   "source": [
    "### Viz: plot proportion of variance explained with top principal components\n",
    "\n",
    "For clear display, you may start with plotting <=20 principal components"
   ]
  },
  {
   "cell_type": "code",
   "execution_count": 52,
   "metadata": {},
   "outputs": [
    {
     "data": {
      "image/png": "[encoded data removed]",
      "text/plain": [
       "<matplotlib.figure.Figure at 0x11ce2b790>"
      ]
     },
     "metadata": {},
     "output_type": "display_data"
    }
   ],
   "source": [
    "# To be implemented\n",
    "n_col_to_display = 20\n",
    "\n",
    "pca_range = np.arange(n_col_to_display) + 1\n",
    "pca_names = ['PCA_%s' % i for i in pca_range]\n",
    "\n",
    "plt.figure(figsize=(10, 10))\n",
    "plt.bar(pca_range,\n",
    "        pca.explained_variance_[:n_col_to_display],\n",
    "        align='center')\n",
    "xticks = plt.xticks(pca_range,\n",
    "                    pca_names,\n",
    "                    rotation=90)\n",
    "plt.ylabel('Variance Explained')\n",
    "plt.show()"
   ]
  },
  {
   "cell_type": "markdown",
   "metadata": {},
   "source": [
    "## Classifying positive/negative review with PCA preprocessing"
   ]
  },
  {
   "cell_type": "markdown",
   "metadata": {},
   "source": [
    "### Logistic Regression Classifier\n",
    "#### Use standardized tf-idf vectors as features"
   ]
  },
  {
   "cell_type": "code",
   "execution_count": 53,
   "metadata": {},
   "outputs": [
    {
     "data": {
      "text/plain": [
       "LogisticRegression(C=1.0, class_weight=None, dual=False, fit_intercept=True,\n",
       "          intercept_scaling=1, max_iter=100, multi_class='ovr', n_jobs=1,\n",
       "          penalty='l2', random_state=None, solver='liblinear', tol=0.0001,\n",
       "          verbose=0, warm_start=False)"
      ]
     },
     "execution_count": 53,
     "metadata": {},
     "output_type": "execute_result"
    }
   ],
   "source": [
    "# Build a Logistic Regression Classifier, train with standardized tf-idf vectors\n",
    "\n",
    "from sklearn.linear_model import LogisticRegression\n",
    "\n",
    "# To be implemented\n",
    "\n",
    "model_lrc = LogisticRegression()\n",
    "\n",
    "model_lrc.fit(x_train_scale, y_train)"
   ]
  },
  {
   "cell_type": "code",
   "execution_count": 54,
   "metadata": {},
   "outputs": [
    {
     "data": {
      "text/plain": [
       "1.0"
      ]
     },
     "execution_count": 54,
     "metadata": {},
     "output_type": "execute_result"
    }
   ],
   "source": [
    "# Get score for training set\n",
    "model_lrc.score(x_train_scale, y_train)"
   ]
  },
  {
   "cell_type": "code",
   "execution_count": 55,
   "metadata": {
    "scrolled": true
   },
   "outputs": [
    {
     "data": {
      "text/plain": [
       "0.71649484536082475"
      ]
     },
     "execution_count": 55,
     "metadata": {},
     "output_type": "execute_result"
    }
   ],
   "source": [
    "# Get score for test set\n",
    "\n",
    "model_lrc.score(x_test_scale, y_test)"
   ]
  },
  {
   "cell_type": "markdown",
   "metadata": {},
   "source": [
    "Very overfitting!"
   ]
  },
  {
   "cell_type": "markdown",
   "metadata": {},
   "source": [
    "#### Use (Stardardized + PCA) tf-idf vectors as features"
   ]
  },
  {
   "cell_type": "code",
   "execution_count": 56,
   "metadata": {},
   "outputs": [
    {
     "data": {
      "text/plain": [
       "LogisticRegression(C=1.0, class_weight=None, dual=False, fit_intercept=True,\n",
       "          intercept_scaling=1, max_iter=100, multi_class='ovr', n_jobs=1,\n",
       "          penalty='l2', random_state=None, solver='liblinear', tol=0.0001,\n",
       "          verbose=0, warm_start=False)"
      ]
     },
     "execution_count": 56,
     "metadata": {},
     "output_type": "execute_result"
    }
   ],
   "source": [
    "# Build a Logistic Regression Classifier, train with PCA tranformed X\n",
    "\n",
    "from sklearn.linear_model import LogisticRegression\n",
    "\n",
    "# To be implemented\n",
    "\n",
    "model_lrc_pca = LogisticRegression()\n",
    "\n",
    "model_lrc_pca.fit(train_components, y_train)"
   ]
  },
  {
   "cell_type": "code",
   "execution_count": 57,
   "metadata": {},
   "outputs": [
    {
     "data": {
      "text/plain": [
       "0.75911602209944751"
      ]
     },
     "execution_count": 57,
     "metadata": {},
     "output_type": "execute_result"
    }
   ],
   "source": [
    "# Get score for training set\n",
    "model_lrc_pca.score(train_components, y_train)"
   ]
  },
  {
   "cell_type": "code",
   "execution_count": 58,
   "metadata": {},
   "outputs": [
    {
     "data": {
      "text/plain": [
       "0.71907216494845361"
      ]
     },
     "execution_count": 58,
     "metadata": {},
     "output_type": "execute_result"
    }
   ],
   "source": [
    "# Get score for test set, REMEMBER to use PCA-transformed X!\n",
    "\n",
    "model_lrc_pca.score(test_components, y_test)"
   ]
  },
  {
   "cell_type": "markdown",
   "metadata": {},
   "source": [
    "#### Q: What do you see from the training score and the test score? How do you compare the results from PCA and non-PCA preprocessing?"
   ]
  },
  {
   "cell_type": "markdown",
   "metadata": {},
   "source": [
    "A: By comparing the results from PCA and non-PCA, we can see that the Stardardized + PCA has much reduced the overfitting probelm."
   ]
  },
  {
   "cell_type": "markdown",
   "metadata": {},
   "source": [
    "#### You can plot the coefficients against principal components\n"
   ]
  },
  {
   "cell_type": "code",
   "execution_count": 59,
   "metadata": {},
   "outputs": [
    {
     "data": {
      "image/png": "[encoded data removed]",
      "text/plain": [
       "<matplotlib.figure.Figure at 0x11dee6bd0>"
      ]
     },
     "metadata": {},
     "output_type": "display_data"
    }
   ],
   "source": [
    "# To be implemented\n",
    "pca_range = np.arange(pca.n_components_) + 1\n",
    "pca_names = ['PC_%s' % i for i in pca_range]\n",
    "\n",
    "df_coeffs = pd.DataFrame(list(zip(pca_names, abs(model_lrc_pca.coef_.flatten())))).sort_values(by=[1], ascending=False)\n",
    "df_coeffs.columns = ['PCs', 'coeff']\n",
    "\n",
    "ax = df_coeffs.plot.barh(figsize=(10, 10))\n",
    "t = np.arange(pca.n_components_)\n",
    "ax.set_yticks(t)\n",
    "ax.set_yticklabels(df_coeffs['PCs'])\n",
    "plt.show()"
   ]
  },
  {
   "cell_type": "markdown",
   "metadata": {},
   "source": [
    "### Random Forest Classifier\n",
    "#### Use standardized tf-idf vectors as features"
   ]
  },
  {
   "cell_type": "code",
   "execution_count": 60,
   "metadata": {},
   "outputs": [
    {
     "data": {
      "text/plain": [
       "RandomForestClassifier(bootstrap=True, class_weight=None, criterion='gini',\n",
       "            max_depth=None, max_features='auto', max_leaf_nodes=None,\n",
       "            min_samples_leaf=1, min_samples_split=2,\n",
       "            min_weight_fraction_leaf=0.0, n_estimators=10, n_jobs=1,\n",
       "            oob_score=False, random_state=None, verbose=0,\n",
       "            warm_start=False)"
      ]
     },
     "execution_count": 60,
     "metadata": {},
     "output_type": "execute_result"
    }
   ],
   "source": [
    "# Build a Random Forest Classifier\n",
    "\n",
    "from sklearn.ensemble import RandomForestClassifier\n",
    "\n",
    "# To be implemented\n",
    "model_rf = RandomForestClassifier()\n",
    "\n",
    "model_rf.fit(x_train_scale, y_train)"
   ]
  },
  {
   "cell_type": "code",
   "execution_count": 61,
   "metadata": {},
   "outputs": [
    {
     "data": {
      "text/plain": [
       "0.98342541436464093"
      ]
     },
     "execution_count": 61,
     "metadata": {},
     "output_type": "execute_result"
    }
   ],
   "source": [
    "# Get score for training set\n",
    "model_rf.score(x_train_scale, y_train)"
   ]
  },
  {
   "cell_type": "code",
   "execution_count": 62,
   "metadata": {
    "scrolled": true
   },
   "outputs": [
    {
     "data": {
      "text/plain": [
       "0.70618556701030932"
      ]
     },
     "execution_count": 62,
     "metadata": {},
     "output_type": "execute_result"
    }
   ],
   "source": [
    "# Get score for test set\n",
    "model_rf.score(x_test_scale, y_test)"
   ]
  },
  {
   "cell_type": "markdown",
   "metadata": {},
   "source": [
    "Also overfitting!"
   ]
  },
  {
   "cell_type": "markdown",
   "metadata": {},
   "source": [
    "#### Use (Stardardized + PCA) tf-idf vectors as features"
   ]
  },
  {
   "cell_type": "code",
   "execution_count": 63,
   "metadata": {},
   "outputs": [
    {
     "data": {
      "text/plain": [
       "RandomForestClassifier(bootstrap=True, class_weight=None, criterion='gini',\n",
       "            max_depth=None, max_features='auto', max_leaf_nodes=None,\n",
       "            min_samples_leaf=1, min_samples_split=2,\n",
       "            min_weight_fraction_leaf=0.0, n_estimators=10, n_jobs=1,\n",
       "            oob_score=False, random_state=None, verbose=0,\n",
       "            warm_start=False)"
      ]
     },
     "execution_count": 63,
     "metadata": {},
     "output_type": "execute_result"
    }
   ],
   "source": [
    "# Build a Random Forest Classifier\n",
    "\n",
    "from sklearn.ensemble import RandomForestClassifier\n",
    "\n",
    "# To be implemented\n",
    "model_rf_pca = RandomForestClassifier()\n",
    "\n",
    "model_rf_pca.fit(train_components, y_train)"
   ]
  },
  {
   "cell_type": "code",
   "execution_count": 64,
   "metadata": {},
   "outputs": [
    {
     "data": {
      "text/plain": [
       "0.9823204419889503"
      ]
     },
     "execution_count": 64,
     "metadata": {},
     "output_type": "execute_result"
    }
   ],
   "source": [
    "# Get score for training set\n",
    "model_rf_pca.score(train_components, y_train)"
   ]
  },
  {
   "cell_type": "code",
   "execution_count": 65,
   "metadata": {},
   "outputs": [
    {
     "data": {
      "text/plain": [
       "0.67268041237113407"
      ]
     },
     "execution_count": 65,
     "metadata": {},
     "output_type": "execute_result"
    }
   ],
   "source": [
    "# Get score for test set, REMEMBER to use PCA-transformed X!\n",
    "model_rf_pca.score(test_components, y_test)"
   ]
  },
  {
   "cell_type": "markdown",
   "metadata": {},
   "source": [
    "#### Q: What do you see from the training result and the test result?"
   ]
  },
  {
   "cell_type": "markdown",
   "metadata": {},
   "source": [
    "A: With the random forest model, applying PCA didn't help the overfitting problem."
   ]
  },
  {
   "cell_type": "markdown",
   "metadata": {},
   "source": [
    "#### You can plot the feature importances against principal components\n"
   ]
  },
  {
   "cell_type": "code",
   "execution_count": 66,
   "metadata": {},
   "outputs": [
    {
     "data": {
      "image/png": "[encoded data removed]",
      "text/plain": [
       "<matplotlib.figure.Figure at 0x11fbbdfd0>"
      ]
     },
     "metadata": {},
     "output_type": "display_data"
    }
   ],
   "source": [
    "# To be implemented\n",
    "pca_range = np.arange(pca.n_components_) + 1\n",
    "pca_names = ['PC_%s' % i for i in pca_range]\n",
    "\n",
    "df_coeffs = pd.DataFrame(list(zip(pca_names, abs(model_rf_pca.feature_importances_)))).sort_values(by=[1], ascending=False)\n",
    "df_coeffs.columns = ['PCs', 'coeff']\n",
    "\n",
    "ax = df_coeffs.plot.barh(figsize=(10, 10))\n",
    "t = np.arange(pca.n_components_)\n",
    "ax.set_yticks(t)\n",
    "ax.set_yticklabels(df_coeffs['PCs'])\n",
    "plt.show()"
   ]
  },
  {
   "cell_type": "markdown",
   "metadata": {},
   "source": [
    "## Extra Credit #1: Can you cluster restaurants from their category information?\n",
    "Hint: a business may have mutiple categories, e.g. a restaurant can have both \"Restaurants\" and \"Korean\""
   ]
  },
  {
   "cell_type": "code",
   "execution_count": 67,
   "metadata": {},
   "outputs": [
    {
     "data": {
      "text/plain": [
       "array(['[Cajun/Creole, Steakhouses, Restaurants]',\n",
       "       '[Cajun/Creole, Steakhouses, Restaurants]',\n",
       "       '[Cajun/Creole, Steakhouses, Restaurants]', ...,\n",
       "       '[Vegetarian, Restaurants, Mexican]',\n",
       "       '[Vegetarian, Restaurants, Mexican]',\n",
       "       '[Vegetarian, Restaurants, Mexican]'], dtype=object)"
      ]
     },
     "execution_count": 67,
     "metadata": {},
     "output_type": "execute_result"
    }
   ],
   "source": [
    "# To be implemented\n",
    "category = df['categories'].values\n",
    "category"
   ]
  },
  {
   "cell_type": "code",
   "execution_count": 68,
   "metadata": {
    "collapsed": true
   },
   "outputs": [],
   "source": [
    "df['favorable'] = df['stars']>4\n",
    "target = df['favorable'].values"
   ]
  },
  {
   "cell_type": "code",
   "execution_count": 69,
   "metadata": {
    "collapsed": true
   },
   "outputs": [],
   "source": [
    "from sklearn.cross_validation import train_test_split\n",
    "cate_train, cate_test, y_train, y_test = train_test_split(category, target, test_size=0.3, random_state=42)"
   ]
  },
  {
   "cell_type": "code",
   "execution_count": 70,
   "metadata": {
    "collapsed": true
   },
   "outputs": [],
   "source": [
    "from sklearn.feature_extraction.text import TfidfVectorizer\n",
    "\n",
    "vectorizer = TfidfVectorizer(stop_words = 'english', max_features = 3000)\n",
    "vectors_train_category = vectorizer.fit_transform(cate_train).toarray()\n",
    "words_category = vectorizer.get_feature_names()\n",
    "vectors_category = vectorizer.transform(category).toarray()"
   ]
  },
  {
   "cell_type": "code",
   "execution_count": 71,
   "metadata": {},
   "outputs": [
    {
     "data": {
      "text/plain": [
       "KMeans(copy_x=True, init='k-means++', max_iter=300, n_clusters=8, n_init=10,\n",
       "    n_jobs=1, precompute_distances='auto', random_state=42, tol=0.0001,\n",
       "    verbose=0)"
      ]
     },
     "execution_count": 71,
     "metadata": {},
     "output_type": "execute_result"
    }
   ],
   "source": [
    "from sklearn.cluster import KMeans\n",
    "kmeans = KMeans(random_state=42)\n",
    "kmeans.fit(vectors_train_category)"
   ]
  },
  {
   "cell_type": "code",
   "execution_count": 72,
   "metadata": {
    "collapsed": true
   },
   "outputs": [],
   "source": [
    "target_labels = kmeans.predict(vectors_category)"
   ]
  },
  {
   "cell_type": "code",
   "execution_count": 73,
   "metadata": {},
   "outputs": [
    {
     "name": "stdout",
     "output_type": "stream",
     "text": [
      "[[ -2.37440276e-17   7.40471211e-03   8.18333989e-03 ...,   1.00119294e-18\n",
      "    1.33401708e-02  -3.94215910e-16]\n",
      " [  1.48535698e-16   9.28077060e-17  -5.52943108e-17 ...,   1.64154985e-18\n",
      "    3.80121282e-16   1.39645240e-16]\n",
      " [  2.59883261e-16  -5.16947596e-16  -6.26668856e-17 ...,  -3.56600871e-18\n",
      "    5.54027310e-16   4.54063870e-16]\n",
      " ..., \n",
      " [  2.31910845e-16   1.53312201e-03  -6.09321621e-17 ...,  -2.15823995e-18\n",
      "    2.07937240e-03   3.74700271e-16]\n",
      " [  2.88289358e-16   8.82546405e-03  -6.46184495e-17 ...,  -4.99241219e-18\n",
      "    3.39572120e-16   5.33861150e-16]\n",
      " [  7.42678488e-17   9.15066634e-17  -5.03069808e-17 ...,   1.44503821e-18\n",
      "    2.64328490e-16  -7.02563008e-17]]\n"
     ]
    }
   ],
   "source": [
    "print kmeans.cluster_centers_"
   ]
  },
  {
   "cell_type": "code",
   "execution_count": 74,
   "metadata": {},
   "outputs": [
    {
     "data": {
      "text/plain": [
       "array([ 0.20231625, -0.02692704, -0.96572502, -1.76942099, -1.77597561,\n",
       "        1.36803138, -2.07970511,  0.99877004, -0.06498306, -1.65802386])"
      ]
     },
     "execution_count": 74,
     "metadata": {},
     "output_type": "execute_result"
    }
   ],
   "source": [
    "n = 10\n",
    "top_centroids = kmeans.cluster_centers_.argsort()[:,-1:-n:-1]\n",
    "\n",
    "a = np.random.randn(10)\n",
    "a"
   ]
  },
  {
   "cell_type": "code",
   "execution_count": 75,
   "metadata": {},
   "outputs": [
    {
     "name": "stdout",
     "output_type": "stream",
     "text": [
      "(0, u'advantage,asian,aware,65,bazaar,bagel,america,agree,attentiveness')\n",
      "(1, u'banana,anniversary,27,attentiveness,aioli,2016,asking,avocados,aloha')\n",
      "(2, u'36,3pm,13,attentiveness,available,bartender,agree,3x,added')\n",
      "(3, u'attentiveness,asia,animal,8pm,bardot,avocados,26,bakery,anticipated')\n",
      "(4, u'agree,advice,attentiveness,bao,400,ad,absolute,baguette,available')\n",
      "(5, u'13,arcade,bartender,400,attentiveness,bakery,avocados,bag,available')\n",
      "(6, u'27,areas,13,bed,able,attentiveness,arcade,baja,bartender')\n",
      "(7, u'appointment,attentiveness,bang,advice,areas,27,agree,apples,barbecue')\n"
     ]
    }
   ],
   "source": [
    "for num, centroid in enumerate(top_centroids):\n",
    "    print (num,\",\".join(words[i] for i in centroid))"
   ]
  },
  {
   "cell_type": "code",
   "execution_count": 76,
   "metadata": {},
   "outputs": [
    {
     "name": "stdout",
     "output_type": "stream",
     "text": [
      "2 Maybe our expectations were higher than they should have been  .. the Tuna pizza was tasty. \n",
      "The large $200 chefs choice Sushi was presented well but for that much money it was lack luster at best. The sauce they put on the whole fried fish was disgusting! And trying to get a chicken dish for my mother-in-law with out being all curry sauced up proved to cause us to be served a mediocre chicken and potatoes dish. The medallion potatoes were dry and flavorless. We didn't eat them, nor did we eat much of the chicken. Oh and the specialty cocktail tasted horrible, we didn't drink it either. \n",
      "For such an upscale restaurant you'd think they would notice what we didn't eat or drink... nope!\n",
      "5 This is my favorite dining restaurant.\n",
      "I really like the decorations \n",
      "Spicy chicken wing is a must!!!!\n",
      "All staff is so nice and gentle.\n",
      "I surely visit again and again.\n",
      "\n",
      "1 Horrible pizza. They only give you 1 little pack of  parmesan cheese and hot peppers.  How cheap is that.  Pizza is dry as a bone too.  Very cheap.\n",
      "1 Poor customer service.   My pizza never showed. When I called, I was schooled on their policy of calling to confirm orders like I was an idiot for not knowing.  Then they made it sound like it wounded bed a major effort to remake there pizza.  No problem.  Keeo it.\n",
      "\n",
      "1 For a place that prides itself on service, it's pretty embarrassing how bad theirs is.  Not worth the $ - would rather have a Somalian pirate than their captain.\n",
      "5 Yummy Ramen, great service, and the Topped halibut California roll was the BOMB!!! Def going back to this place again, oh and our whole dinner including drinks and tip only $60! Total steal!\n",
      "\n",
      "4 The Bar is trendy, they have fairly good drinks.  Happy hour is always good, pizza is good, wings are good, Martinis are good. Im more of a night owl so I come in for the midnight happy hour.  The big boy burger is outrageous!\n",
      "Plenty of space for large partys and the staff is friendly most of the time.\n",
      "4 Lunch Buffett...its ok but service is lacking..not enough coverage, so hard to get beverages..food is ok...meat are good though (spicy links sausage is good)\n",
      "\n",
      "2 First timer. Environment was ok but the reason for the rating is my burger was dry and not much flavor for $10. Wait staff was nice\n",
      "4 Top notch experience!\n",
      "\n",
      "We came by around 8:45 on a Sunday night and ended up waiting around 10 minutes for a table for 2. \n",
      "\n",
      "I opted for the Hells Kitchen burger and my husband had the Hog burger. When the food came, we got our Parmesan truffle fries (delicious!) and my HK burger, but they brought a Backyard Burger instead of the Hog. We have no idea if they sent it to the wrong table... but expecting no less from a Ramsay restaurant, they had to fire a new one, which finally came when I was almost done with my burger and we had already finished the fries. Our waiter apologized and let us know that they were taking the burger off the bill. The manager then came over to also express his apologies and explained the situation. He also offered us a free drink since our waiter had not offered one during the wait, so we opted for the caramel pecan milkshake (highly recommend). Management handled the situation extremely well and we would definitely come back.\n",
      "\n",
      "My only improvements would be a greeting once you get to the front of the line..and our server could've been friendlier... but that's it!\n",
      "\n",
      "*a photographer comes around taking your picture and will try to sell it in a cardboard frame for $10 FYI\n",
      "\n",
      "5 Not only was the food absolutely fantastic, the buffalo octopus was one of the best dishes I've ever had, but our server Michael provided us with quick, great service! If you're ever around aria and have the time, eat here!\n",
      "5 This place has great service with great food! One of the best breakfast places that I have been to in Vegas for a while. One of the pancakes was a little bit burnt but they offered us a new one and took the old one off our receipt. Manager and servers were all super friendly and very good and serving us. Thanks for a great experience! Will definitely be back!\n",
      "\n",
      "4 I remember when Sushi Koma was Brian's Beach back in the early 2000's. When I learned there was a new sushi joint in town that had the best uni w/ a tasty quail egg on top, I had to check this place out. \n",
      "\n",
      "Koma is located on the corner of Durango and Flamingo inside the plaza where Jack in the Box is. When you first walk in, you'll notice it's pretty small (40 people max). We came here on a Wednesday night around 6pm and it was already starting to get packed. There was only one table open for two!! You can choose to sit at the sushi bar or one of the tables. If you want to come here with a big group, I suggest calling ahead to see how busy they are, but they won't guarantee a table and they do not take reservations. \n",
      "\n",
      "FOOD: My husband & I got the AYCE dinner. The fish was always fresh. We tried the following: \n",
      "\n",
      "1. Salmon & Salmon Belly (Unlimited salmon belly here--- SAY WHAT!!!!) \n",
      "2. Tuna \n",
      "3. Yellowtail (This was my favorite) \n",
      "4. Uni with a raw quail egg on top (Best and freshest uni in town and the quail egg really compliments the uni flavor) \n",
      "5. Eel \n",
      "6. Mackeral (My least favorite) \n",
      "7. Alaska handroll (basically a California roll w/ salmon in it. It was really good here because they added sesame seeds to it) \n",
      "8. Calamari & Shrimp Tempura (crispy!!!) \n",
      "9. Baked Mussel (Some were cooked perfectly and others were overcooked and chewy) \n",
      "10. Dragon Roll (Basic and the same as any other place) \n",
      "11. Plum wine dessert (MUST TRY) \n",
      "\n",
      "The sushi chefs were super nice to us and they decided to give us a special toro plate that was AMAZING! It was melt in your mouth good. Seriously, I give the tuna toro a 5. :-) \n",
      "\n",
      "SERVICE: The night we came it was really busy so the staff was not on their game. It took a good 25 minutes before we got any of the food we ordered. Half of it came, then it took another 20 minutes for the rest of the order to come. They also forgot to bring us water and the kitchen items we ordered. We actually received our shrimp tempura and calamari after we had put in our dessert order, which was lame. All the servers were sweet and apologetic about it. \n",
      "\n",
      "PRICE: Typical AYCE dinner price of $25.95. It's a great deal for the quality of the fish and the fish to rice ratio. \n",
      "\n",
      "Overall, my husband and I enjoyed Sushi Koma. I wouldn't say it is the best in town, but some dishes were definitely above average. If you enjoy a reasonable fish to rice ratio then this is your place, but don't expect Sakana or Sushi Neko level where the pieces of fish are double the length of the rice. You'll still get your money's worth at the end of the meal. \n",
      "\n",
      "Happy Dinings, \n",
      "J Tran\n",
      "1 I have been a long-time customer and have eaten with Neko for years since the opening of their sister restaurant, Sakana. I've brought many family and friends here for AYCE sushi fix since the food is good. Lately, I have noticed that the service has gone downhill. I'm not sure if it's a change in management or what... Today I encountered a server named Hallie who was very stubborn. I was ordering dessert and normally the ice cream is unlimited and you get to choose one dessert from below (I have a picture as proof). Hallie was saying that if I got the ice cream I wouldn't be able to select an additional dessert.  The menu clearly states otherwise. Even if they decided to change their policy, they should update their menu to reflect those changes.\n",
      "\n",
      "Next time, I will pick to come to Sushi Neko on a day where Joy is working because we always receive excellent service from her.\n",
      "\n",
      "1 Considering we are in Vegas and so far away from the Ocean, I wanted to see where they get their fish (sashimi) shipped from. So, I asked our waitress, and she literally had no clue. First of all it took me a good 5 minutes to ask her the question, because she couldn't understand what I was asking.  Had to rephrase my questions multiple times, trying to dumb down the words for her to understand and when she finally did, she still didn't know. #1 mistake! She obviously didn't know how to speak proper English, which was upper annoying. So for that reason I didn't order their sashimi. So, I went with Calamari, came out alright... I've had much better though. but there was absolutely no dipping sauce. I asked her for the sauce, (which also took her a while to understand), and all she offered me for the tempura sauce.. .all wrong! In my experience, I usually get the aioli sauce. Then I figured okay.. they can't mess up miso soup, that's pretty fool proof right!? WRONG! Got is completely watered down, and it had no seaweed in it! a pretty important ingredient to miso soup! Overall a terrible experience, will never come back here again. Some words of advice to the owners: get english speaking staff who are able to answer simple  questions, and also put some damn seaweed into your miso soup! Oh also, they're not JUST Chinese, they're also Japanese (serve sushi), and hawaiian bbq! Maybe the restaurant should focus on one thing at a time and perfect it first before expanding! Terrible...\n",
      "1 Please skip this place ,terrible service and my whole family got food poison, 2 servers during lunch and busy restaurant? Where is the management????? I waited 40 for my check ?really? The waiters never refill our drinks but yeah wenever she dropped the check she was like\" is $40 dollars the. I have a 50 bill and she was like \" I don't think you need change right\"\"\"\"\" unreal! No worth it!\n",
      "\n"
     ]
    }
   ],
   "source": [
    "for i in range(kmeans.n_clusters):\n",
    "    cluster = np.arange(0, vectors_documents.shape[0])[assigned_cluster==i]\n",
    "    sample_reviews = np.random.choice(cluster, 2, replace=False)\n",
    "    for review_index in sample_reviews:\n",
    "        print df.ix[review_index]['stars'],\n",
    "        print df.ix[review_index]['text']\n",
    "    print"
   ]
  },
  {
   "cell_type": "markdown",
   "metadata": {},
   "source": [
    "## Extra Credit #2: Can you try different distance/similarity metrics for clusterings, e.g. Pearson correlation, Jaccard distance, etc. \n",
    "\n",
    "Hint: You can take a look at [scipy](http://docs.scipy.org/doc/scipy/reference/generated/scipy.spatial.distance.pdist.html#scipy.spatial.distance.pdist) documentations to use other distances\n",
    "\n",
    "#### Q: How do you compare with Cosine distance or Euclidean distance?"
   ]
  },
  {
   "cell_type": "code",
   "execution_count": 77,
   "metadata": {
    "collapsed": true
   },
   "outputs": [],
   "source": [
    "# To be implemented\n",
    "#kmeans = KMeans(random_state=42, )\n",
    "\n",
    "#kmeans.fit(vectors_train)"
   ]
  },
  {
   "cell_type": "code",
   "execution_count": 78,
   "metadata": {
    "collapsed": true
   },
   "outputs": [],
   "source": [
    "import nltk\n",
    "from scipy.spatial.distance import cdist\n",
    "from nltk.cluster.kmeans import KMeansClusterer"
   ]
  },
  {
   "cell_type": "code",
   "execution_count": 80,
   "metadata": {},
   "outputs": [],
   "source": [
    "NUM_CLUSTERS = 5\n",
    "data = doc_vector_top\n",
    "\n",
    "# clustering using cosine_distance\n",
    "kclusterer_cos = KMeansClusterer(NUM_CLUSTERS, distance=nltk.cluster.util.cosine_distance, repeats=10)\n",
    "assigned_clusters_cos = kclusterer_cos.cluster(data, assign_clusters=True)"
   ]
  },
  {
   "cell_type": "code",
   "execution_count": null,
   "metadata": {
    "collapsed": true
   },
   "outputs": [],
   "source": []
  },
  {
   "cell_type": "code",
   "execution_count": null,
   "metadata": {
    "collapsed": true
   },
   "outputs": [],
   "source": []
  },
  {
   "cell_type": "code",
   "execution_count": null,
   "metadata": {
    "collapsed": true
   },
   "outputs": [],
   "source": []
  },
  {
   "cell_type": "markdown",
   "metadata": {},
   "source": [
    "## Extra Credit #3: Can you cluster categories from business entities? What does it mean by a cluster?\n",
    "Hint: Think the example where words can be clustered from the transposed tf-idf matrix."
   ]
  },
  {
   "cell_type": "markdown",
   "metadata": {},
   "source": [
    "What is the difference between \"business entities\" and the \"category\" of a business?  Are they the same thing? <br>\n",
    "I assume they are not, otherwise this question would be the same as Extra Credit #1.<br>\n",
    "Here, from looking at the df, the columns that representing business are \"bueiness_id\", \"name\", and \"category\".  <br>\n",
    "So, the below cluster will base on the info from \"bueiness_id\", \"name\", and \"category\" columns, representing \"business entities\".<br>"
   ]
  },
  {
   "cell_type": "code",
   "execution_count": 81,
   "metadata": {
    "collapsed": true
   },
   "outputs": [],
   "source": [
    "# To be implemented\n",
    "entities = df[['business_id', 'name', 'categories']]\n",
    "entities = entities.drop_duplicates()\n",
    "category = entities['categories'].values"
   ]
  },
  {
   "cell_type": "code",
   "execution_count": 82,
   "metadata": {
    "collapsed": true
   },
   "outputs": [],
   "source": [
    "vectorizer_top = TfidfVectorizer(stop_words = 'english', max_features = 5000)"
   ]
  },
  {
   "cell_type": "code",
   "execution_count": 83,
   "metadata": {
    "collapsed": true
   },
   "outputs": [],
   "source": [
    "train_vector_top = vectorizer_top.fit_transform(category).toarray()"
   ]
  },
  {
   "cell_type": "code",
   "execution_count": 84,
   "metadata": {
    "collapsed": true
   },
   "outputs": [],
   "source": [
    "category_vector = vectorizer.transform(category).toarray()"
   ]
  },
  {
   "cell_type": "code",
   "execution_count": 85,
   "metadata": {},
   "outputs": [
    {
     "data": {
      "text/plain": [
       "array([[ 0.,  0.,  0., ...,  0.,  0.,  0.],\n",
       "       [ 0.,  0.,  0., ...,  0.,  0.,  0.],\n",
       "       [ 0.,  0.,  0., ...,  0.,  0.,  0.],\n",
       "       ..., \n",
       "       [ 0.,  0.,  0., ...,  0.,  0.,  0.],\n",
       "       [ 0.,  0.,  0., ...,  0.,  0.,  0.],\n",
       "       [ 0.,  0.,  0., ...,  0.,  0.,  0.]])"
      ]
     },
     "execution_count": 85,
     "metadata": {},
     "output_type": "execute_result"
    }
   ],
   "source": [
    "category_vector"
   ]
  },
  {
   "cell_type": "code",
   "execution_count": 86,
   "metadata": {
    "collapsed": true
   },
   "outputs": [],
   "source": [
    "vocab_top = vectorizer_top.get_feature_names()"
   ]
  },
  {
   "cell_type": "code",
   "execution_count": 87,
   "metadata": {},
   "outputs": [
    {
     "data": {
      "text/plain": [
       "array([[ 0.,  0.,  0., ...,  0.,  0.,  0.],\n",
       "       [ 0.,  0.,  0., ...,  0.,  0.,  0.],\n",
       "       [ 0.,  0.,  0., ...,  0.,  0.,  0.],\n",
       "       ..., \n",
       "       [ 0.,  0.,  0., ...,  0.,  0.,  0.],\n",
       "       [ 0.,  0.,  0., ...,  0.,  0.,  0.],\n",
       "       [ 0.,  0.,  0., ...,  0.,  0.,  0.]])"
      ]
     },
     "execution_count": 87,
     "metadata": {},
     "output_type": "execute_result"
    }
   ],
   "source": [
    "train_vector_top"
   ]
  },
  {
   "cell_type": "code",
   "execution_count": 88,
   "metadata": {
    "collapsed": true
   },
   "outputs": [],
   "source": [
    "kmeans = KMeans(n_clusters=5, random_state=42)\n",
    "kmeans_cluster = kmeans.fit(train_vector_top)\n"
   ]
  },
  {
   "cell_type": "code",
   "execution_count": 89,
   "metadata": {},
   "outputs": [
    {
     "name": "stdout",
     "output_type": "stream",
     "text": [
      "[[  4.77048956e-18   4.33680869e-18   1.35525272e-18 ...,  -2.43945489e-19\n",
      "    2.60208521e-18   3.94432752e-03]\n",
      " [  3.79470760e-18  -3.68628739e-18   1.24683250e-18 ...,   6.77626358e-19\n",
      "    1.69135539e-17   3.55618313e-17]\n",
      " [  1.88121503e-03   2.94737738e-03   4.02791495e-04 ...,   3.01788490e-04\n",
      "    4.15251660e-03   8.95745367e-03]\n",
      " [ -1.35525272e-17   9.52881047e-04  -1.89735380e-18 ...,  -1.97866896e-18\n",
      "    1.43871107e-03  -5.72458747e-17]\n",
      " [  2.92734587e-18  -1.12757026e-17   1.19262239e-18 ...,   3.25260652e-19\n",
      "    1.12757026e-17   3.20923843e-17]]\n"
     ]
    }
   ],
   "source": [
    "print kmeans.cluster_centers_"
   ]
  },
  {
   "cell_type": "code",
   "execution_count": 90,
   "metadata": {
    "collapsed": true
   },
   "outputs": [],
   "source": [
    "import numpy as np\n",
    "\n",
    "# We will need these helper methods pretty soon\n",
    "\n",
    "def get_top_values(lst, n, labels):\n",
    "    '''\n",
    "    INPUT: LIST, INTEGER, LIST\n",
    "    OUTPUT: LIST\n",
    "\n",
    "    Given a list of values, find the indices with the highest n values.\n",
    "    Return the labels for each of these indices.\n",
    "\n",
    "    e.g.\n",
    "    lst = [7, 3, 2, 4, 1]\n",
    "    n = 2\n",
    "    labels = [\"cat\", \"dog\", \"mouse\", \"pig\", \"rabbit\"]\n",
    "    output: [\"cat\", \"pig\"]\n",
    "    '''\n",
    "    return [labels[i] for i in np.argsort(lst)[::-1][:n]]  # np.argsort by default sorts values in ascending order\n",
    "\n",
    "def get_bottom_values(lst, n, labels):\n",
    "    '''\n",
    "    INPUT: LIST, INTEGER, LIST\n",
    "    OUTPUT: LIST\n",
    "\n",
    "    Given a list of values, find the indices with the lowest n values.\n",
    "    Return the labels for each of these indices.\n",
    "\n",
    "    e.g.\n",
    "    lst = [7, 3, 2, 4, 1]\n",
    "    n = 2\n",
    "    labels = [\"cat\", \"dog\", \"mouse\", \"pig\", \"rabbit\"]\n",
    "    output: [\"mouse\", \"rabbit\"]\n",
    "    '''\n",
    "    pass  # To be implemented\n",
    "\n"
   ]
  },
  {
   "cell_type": "code",
   "execution_count": 91,
   "metadata": {},
   "outputs": [
    {
     "data": {
      "text/plain": [
       "array([ 0.54230895,  0.2082081 , -0.73081438,  0.0727607 , -0.55991212,\n",
       "       -0.44756505,  0.06370506,  0.20935079,  2.27106035, -1.29210237])"
      ]
     },
     "execution_count": 91,
     "metadata": {},
     "output_type": "execute_result"
    }
   ],
   "source": [
    "n = 10\n",
    "top_centroids = kmeans.cluster_centers_.argsort()[:,-1:-n:-1]\n",
    "\n",
    "a = np.random.randn(10)\n",
    "a"
   ]
  },
  {
   "cell_type": "code",
   "execution_count": 92,
   "metadata": {},
   "outputs": [
    {
     "name": "stdout",
     "output_type": "stream",
     "text": [
      "0 center has the top prominent words:\n",
      "[u'advice', u'agree', u'400', u'attitude', u'average', u'8pm', u'8am', u'beers', u'13', u'bartenders', u'acting', u'addition', u'ambience', u'af', u'asian', u'authenticity', u'area', u'basil', u'24', u'avoid']\n",
      "1 center has the top prominent words:\n",
      "[u'appreciate', u'attitude', u'advice', u'agree', u'bardot', u'appointment', u'banh', u'avoid', u'aren', u'3pm', u'36', u'27', u'anytime', u'basil', u'13', u'ad', u'baked', u'bathrooms', u'bathroom', u'400']\n",
      "2 center has the top prominent words:\n",
      "[u'attitude', u'asian', u'agree', u'average', u'8pm', u'animal', u'8am', u'beers', u'avoid', u'acting', u'away', u'authenticity', u'49', u'26', u'bare', u'bar', u'advantage', u'36', u'3pm', u'absolute']\n",
      "3 center has the top prominent words:\n",
      "[u'13', u'27', u'bartenders', u'aren', u'area', u'attitude', u'36', u'3pm', u'bake', u'atleast', u'400', u'baklava', u'beef', u'added', u'avoid', u'agree', u'average', u'able', u'app', u'admittedly']\n",
      "4 center has the top prominent words:\n",
      "[u'anniversary', u'bananas', u'2016', u'aioli', u'27', u'attitude', u'8pm', u'aloha', u'atop', u'agree', u'anticipated', u'avoid', u'arena', u'bare', u'3x', u'asks', u'aren', u'26', u'bao', u'baklava']\n"
     ]
    }
   ],
   "source": [
    "for index, point in enumerate(kmeans_cluster.cluster_centers_):\n",
    "    print('%d center has the top prominent words:' % (index))\n",
    "    print(get_top_values(point, 20, words))"
   ]
  },
  {
   "cell_type": "code",
   "execution_count": null,
   "metadata": {
    "collapsed": true
   },
   "outputs": [],
   "source": []
  },
  {
   "cell_type": "code",
   "execution_count": null,
   "metadata": {
    "collapsed": true
   },
   "outputs": [],
   "source": []
  },
  {
   "cell_type": "markdown",
   "metadata": {},
   "source": [
    "## Extra Credit #4: What are the characteristics of each of the clustered  ? For each cluster, which restaurant can best represent (\"define\") its cluster?\n",
    "Hint: how to interpret \"best\"?"
   ]
  },
  {
   "cell_type": "markdown",
   "metadata": {},
   "source": [
    "Here I define the \"best\" representation of a cluster as the value point that is closest to its cluster center, i.e. the distance between the point and the cluster center is the smallest.  That point is defined as the most representative of its cluster."
   ]
  },
  {
   "cell_type": "code",
   "execution_count": 235,
   "metadata": {},
   "outputs": [
    {
     "name": "stdout",
     "output_type": "stream",
     "text": [
      "Cluster 0: Best represent Restaurant Delmonico Steakhouse\n",
      "Cluster 1: Best represent Restaurant Bavette's Steakhouse & Bar\n",
      "Cluster 2: Best represent Restaurant Michael Mina\n",
      "Cluster 3: Best represent Restaurant Sin City Thai Restaurant\n",
      "Cluster 4: Best represent Restaurant Fresh Buffet\n"
     ]
    }
   ],
   "source": [
    "# To be implemented\n",
    "restaurant = df.name.unique()\n",
    "best_rep = kmeans.cluster_centers_.argsort()[:, -1] \n",
    "# argsort orders from small to big, -1 is used to select the one with highest weight in the centroid vector..\n",
    "for i, rep in enumerate(best_rep):\n",
    "    print \"Cluster %i: Best represent Restaurant %s\" % (i, restaurant[i] )"
   ]
  },
  {
   "cell_type": "markdown",
   "metadata": {},
   "source": [
    "## Extra Credit #5: Can you think of other use cases that clustering can be used? \n",
    "Hint: of course you can make use of other yelp dataset. You can try anything you want as long as you can explain it."
   ]
  },
  {
   "cell_type": "markdown",
   "metadata": {
    "collapsed": true
   },
   "source": [
    "This clustering + TF-IDF technique can also be used for book/ artical recommendation.  <br>\n",
    "Clustering along can also be used to find pattern in data.  For example, subset user data into subgroups."
   ]
  }
 ],
 "metadata": {
  "anaconda-cloud": {},
  "kernelspec": {
   "display_name": "Python 2",
   "language": "python",
   "name": "python2"
  },
  "language_info": {
   "codemirror_mode": {
    "name": "ipython",
    "version": 2
   },
   "file_extension": ".py",
   "mimetype": "text/x-python",
   "name": "python",
   "nbconvert_exporter": "python",
   "pygments_lexer": "ipython2",
   "version": "2.7.14"
  }
 },
 "nbformat": 4,
 "nbformat_minor": 1
}
